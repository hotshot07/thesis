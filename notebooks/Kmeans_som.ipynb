{
 "cells": [
  {
   "cell_type": "code",
   "execution_count": 84,
   "id": "f135f6da",
   "metadata": {},
   "outputs": [],
   "source": [
    "import pandas as pd\n",
    "import numpy as np\n",
    "import random\n",
    "from preprocess_df import process_df\n",
    "from sklearn.cluster import KMeans\n",
    "import matplotlib.pyplot as plt"
   ]
  },
  {
   "cell_type": "code",
   "execution_count": 3,
   "id": "184580cd",
   "metadata": {},
   "outputs": [],
   "source": [
    "#normal_data\n",
    "normal_df = pd.read_csv('data/normal1.csv')\n",
    "processed_normal = process_df(normal_df)\n",
    "\n",
    "# attack_data\n",
    "attack_df = pd.read_csv('data/attack1.csv')\n",
    "processed_attack = process_df(attack_df)\n"
   ]
  },
  {
   "cell_type": "code",
   "execution_count": 4,
   "id": "e3b80598",
   "metadata": {},
   "outputs": [
    {
     "data": {
      "text/html": [
       "<div>\n",
       "<style scoped>\n",
       "    .dataframe tbody tr th:only-of-type {\n",
       "        vertical-align: middle;\n",
       "    }\n",
       "\n",
       "    .dataframe tbody tr th {\n",
       "        vertical-align: top;\n",
       "    }\n",
       "\n",
       "    .dataframe thead th {\n",
       "        text-align: right;\n",
       "    }\n",
       "</style>\n",
       "<table border=\"1\" class=\"dataframe\">\n",
       "  <thead>\n",
       "    <tr style=\"text-align: right;\">\n",
       "      <th></th>\n",
       "      <th>octet_1_eth_dst</th>\n",
       "      <th>octet_2_eth_dst</th>\n",
       "      <th>octet_3_eth_dst</th>\n",
       "      <th>octet_4_eth_dst</th>\n",
       "      <th>octet_5_eth_dst</th>\n",
       "      <th>octet_6_eth_dst</th>\n",
       "      <th>octet_1_eth_src</th>\n",
       "      <th>octet_2_eth_src</th>\n",
       "      <th>octet_3_eth_src</th>\n",
       "      <th>octet_4_eth_src</th>\n",
       "      <th>...</th>\n",
       "      <th>load_14</th>\n",
       "      <th>load_15</th>\n",
       "      <th>load_16</th>\n",
       "      <th>load_17</th>\n",
       "      <th>load_18</th>\n",
       "      <th>load_19</th>\n",
       "      <th>protocol.sport</th>\n",
       "      <th>protocol.dport</th>\n",
       "      <th>TCP</th>\n",
       "      <th>UDP</th>\n",
       "    </tr>\n",
       "  </thead>\n",
       "  <tbody>\n",
       "    <tr>\n",
       "      <th>0</th>\n",
       "      <td>0.999558</td>\n",
       "      <td>-0.798079</td>\n",
       "      <td>0.085577</td>\n",
       "      <td>0.396893</td>\n",
       "      <td>-1.027218</td>\n",
       "      <td>1.371663</td>\n",
       "      <td>-0.752915</td>\n",
       "      <td>-0.288377</td>\n",
       "      <td>1.992587</td>\n",
       "      <td>1.069766</td>\n",
       "      <td>...</td>\n",
       "      <td>0.667342</td>\n",
       "      <td>2.005733</td>\n",
       "      <td>0.618697</td>\n",
       "      <td>0.791433</td>\n",
       "      <td>0.664259</td>\n",
       "      <td>0.313269</td>\n",
       "      <td>1.026406</td>\n",
       "      <td>-0.972130</td>\n",
       "      <td>1</td>\n",
       "      <td>0</td>\n",
       "    </tr>\n",
       "    <tr>\n",
       "      <th>1</th>\n",
       "      <td>0.999558</td>\n",
       "      <td>-0.798079</td>\n",
       "      <td>0.085577</td>\n",
       "      <td>0.396893</td>\n",
       "      <td>-1.027218</td>\n",
       "      <td>1.371663</td>\n",
       "      <td>0.553287</td>\n",
       "      <td>0.945509</td>\n",
       "      <td>-0.263293</td>\n",
       "      <td>-1.085399</td>\n",
       "      <td>...</td>\n",
       "      <td>0.667342</td>\n",
       "      <td>2.005733</td>\n",
       "      <td>0.618697</td>\n",
       "      <td>0.791433</td>\n",
       "      <td>0.664259</td>\n",
       "      <td>0.313269</td>\n",
       "      <td>1.026406</td>\n",
       "      <td>-0.972130</td>\n",
       "      <td>1</td>\n",
       "      <td>0</td>\n",
       "    </tr>\n",
       "    <tr>\n",
       "      <th>2</th>\n",
       "      <td>-0.581271</td>\n",
       "      <td>-0.090221</td>\n",
       "      <td>1.483294</td>\n",
       "      <td>0.847824</td>\n",
       "      <td>0.285020</td>\n",
       "      <td>0.594669</td>\n",
       "      <td>0.879837</td>\n",
       "      <td>-0.959987</td>\n",
       "      <td>0.294863</td>\n",
       "      <td>0.635392</td>\n",
       "      <td>...</td>\n",
       "      <td>-0.512638</td>\n",
       "      <td>-0.565434</td>\n",
       "      <td>-0.524846</td>\n",
       "      <td>-0.565851</td>\n",
       "      <td>-0.515196</td>\n",
       "      <td>-0.538543</td>\n",
       "      <td>-1.080588</td>\n",
       "      <td>1.112464</td>\n",
       "      <td>1</td>\n",
       "      <td>0</td>\n",
       "    </tr>\n",
       "    <tr>\n",
       "      <th>3</th>\n",
       "      <td>-0.581271</td>\n",
       "      <td>-0.090221</td>\n",
       "      <td>1.483294</td>\n",
       "      <td>0.847824</td>\n",
       "      <td>0.285020</td>\n",
       "      <td>0.594669</td>\n",
       "      <td>0.879837</td>\n",
       "      <td>-0.959987</td>\n",
       "      <td>0.294863</td>\n",
       "      <td>0.635392</td>\n",
       "      <td>...</td>\n",
       "      <td>-0.512638</td>\n",
       "      <td>-0.565434</td>\n",
       "      <td>-0.524846</td>\n",
       "      <td>-0.565851</td>\n",
       "      <td>-0.515196</td>\n",
       "      <td>-0.538543</td>\n",
       "      <td>-1.080588</td>\n",
       "      <td>1.112464</td>\n",
       "      <td>1</td>\n",
       "      <td>0</td>\n",
       "    </tr>\n",
       "    <tr>\n",
       "      <th>4</th>\n",
       "      <td>-0.581271</td>\n",
       "      <td>-0.090221</td>\n",
       "      <td>1.483294</td>\n",
       "      <td>0.847824</td>\n",
       "      <td>0.285020</td>\n",
       "      <td>0.594669</td>\n",
       "      <td>0.879837</td>\n",
       "      <td>-0.959987</td>\n",
       "      <td>0.294863</td>\n",
       "      <td>0.635392</td>\n",
       "      <td>...</td>\n",
       "      <td>-0.512638</td>\n",
       "      <td>-0.565434</td>\n",
       "      <td>-0.524846</td>\n",
       "      <td>-0.022937</td>\n",
       "      <td>-0.515196</td>\n",
       "      <td>0.313269</td>\n",
       "      <td>-1.080588</td>\n",
       "      <td>1.112464</td>\n",
       "      <td>1</td>\n",
       "      <td>0</td>\n",
       "    </tr>\n",
       "    <tr>\n",
       "      <th>...</th>\n",
       "      <td>...</td>\n",
       "      <td>...</td>\n",
       "      <td>...</td>\n",
       "      <td>...</td>\n",
       "      <td>...</td>\n",
       "      <td>...</td>\n",
       "      <td>...</td>\n",
       "      <td>...</td>\n",
       "      <td>...</td>\n",
       "      <td>...</td>\n",
       "      <td>...</td>\n",
       "      <td>...</td>\n",
       "      <td>...</td>\n",
       "      <td>...</td>\n",
       "      <td>...</td>\n",
       "      <td>...</td>\n",
       "      <td>...</td>\n",
       "      <td>...</td>\n",
       "      <td>...</td>\n",
       "      <td>...</td>\n",
       "      <td>...</td>\n",
       "    </tr>\n",
       "    <tr>\n",
       "      <th>140533</th>\n",
       "      <td>0.683392</td>\n",
       "      <td>1.210262</td>\n",
       "      <td>-0.373946</td>\n",
       "      <td>-1.389487</td>\n",
       "      <td>-0.467903</td>\n",
       "      <td>-0.727583</td>\n",
       "      <td>-1.536636</td>\n",
       "      <td>1.351599</td>\n",
       "      <td>-1.588913</td>\n",
       "      <td>0.551858</td>\n",
       "      <td>...</td>\n",
       "      <td>0.372347</td>\n",
       "      <td>-0.351170</td>\n",
       "      <td>0.046925</td>\n",
       "      <td>-0.565851</td>\n",
       "      <td>0.369395</td>\n",
       "      <td>0.029332</td>\n",
       "      <td>-0.877626</td>\n",
       "      <td>1.009160</td>\n",
       "      <td>1</td>\n",
       "      <td>0</td>\n",
       "    </tr>\n",
       "    <tr>\n",
       "      <th>140534</th>\n",
       "      <td>-1.340069</td>\n",
       "      <td>1.638269</td>\n",
       "      <td>-1.465314</td>\n",
       "      <td>0.310175</td>\n",
       "      <td>1.833891</td>\n",
       "      <td>-1.981678</td>\n",
       "      <td>0.553287</td>\n",
       "      <td>0.945509</td>\n",
       "      <td>-0.263293</td>\n",
       "      <td>-1.085399</td>\n",
       "      <td>...</td>\n",
       "      <td>-0.512638</td>\n",
       "      <td>-0.565434</td>\n",
       "      <td>-0.524846</td>\n",
       "      <td>-0.565851</td>\n",
       "      <td>-0.515196</td>\n",
       "      <td>-0.538543</td>\n",
       "      <td>0.921991</td>\n",
       "      <td>-0.771326</td>\n",
       "      <td>1</td>\n",
       "      <td>0</td>\n",
       "    </tr>\n",
       "    <tr>\n",
       "      <th>140535</th>\n",
       "      <td>0.683392</td>\n",
       "      <td>1.210262</td>\n",
       "      <td>-0.373946</td>\n",
       "      <td>-1.389487</td>\n",
       "      <td>-0.467903</td>\n",
       "      <td>-0.727583</td>\n",
       "      <td>-1.536636</td>\n",
       "      <td>1.351599</td>\n",
       "      <td>-1.588913</td>\n",
       "      <td>0.551858</td>\n",
       "      <td>...</td>\n",
       "      <td>-0.512638</td>\n",
       "      <td>-0.565434</td>\n",
       "      <td>-0.524846</td>\n",
       "      <td>-0.565851</td>\n",
       "      <td>-0.515196</td>\n",
       "      <td>-0.538543</td>\n",
       "      <td>-0.877626</td>\n",
       "      <td>1.009160</td>\n",
       "      <td>1</td>\n",
       "      <td>0</td>\n",
       "    </tr>\n",
       "    <tr>\n",
       "      <th>140536</th>\n",
       "      <td>-1.340069</td>\n",
       "      <td>1.638269</td>\n",
       "      <td>-1.465314</td>\n",
       "      <td>0.310175</td>\n",
       "      <td>1.833891</td>\n",
       "      <td>-1.981678</td>\n",
       "      <td>0.553287</td>\n",
       "      <td>0.945509</td>\n",
       "      <td>-0.263293</td>\n",
       "      <td>-1.085399</td>\n",
       "      <td>...</td>\n",
       "      <td>-0.512638</td>\n",
       "      <td>-0.565434</td>\n",
       "      <td>-0.524846</td>\n",
       "      <td>-0.565851</td>\n",
       "      <td>-0.515196</td>\n",
       "      <td>-0.538543</td>\n",
       "      <td>0.921991</td>\n",
       "      <td>-0.771326</td>\n",
       "      <td>1</td>\n",
       "      <td>0</td>\n",
       "    </tr>\n",
       "    <tr>\n",
       "      <th>140537</th>\n",
       "      <td>0.683392</td>\n",
       "      <td>1.210262</td>\n",
       "      <td>-0.373946</td>\n",
       "      <td>-1.389487</td>\n",
       "      <td>-0.467903</td>\n",
       "      <td>-0.727583</td>\n",
       "      <td>-1.536636</td>\n",
       "      <td>1.351599</td>\n",
       "      <td>-1.588913</td>\n",
       "      <td>0.551858</td>\n",
       "      <td>...</td>\n",
       "      <td>-0.512638</td>\n",
       "      <td>-0.565434</td>\n",
       "      <td>-0.524846</td>\n",
       "      <td>-0.565851</td>\n",
       "      <td>-0.515196</td>\n",
       "      <td>-0.538543</td>\n",
       "      <td>-0.877626</td>\n",
       "      <td>1.009160</td>\n",
       "      <td>1</td>\n",
       "      <td>0</td>\n",
       "    </tr>\n",
       "  </tbody>\n",
       "</table>\n",
       "<p>140538 rows × 72 columns</p>\n",
       "</div>"
      ],
      "text/plain": [
       "        octet_1_eth_dst  octet_2_eth_dst  octet_3_eth_dst  octet_4_eth_dst  \\\n",
       "0              0.999558        -0.798079         0.085577         0.396893   \n",
       "1              0.999558        -0.798079         0.085577         0.396893   \n",
       "2             -0.581271        -0.090221         1.483294         0.847824   \n",
       "3             -0.581271        -0.090221         1.483294         0.847824   \n",
       "4             -0.581271        -0.090221         1.483294         0.847824   \n",
       "...                 ...              ...              ...              ...   \n",
       "140533         0.683392         1.210262        -0.373946        -1.389487   \n",
       "140534        -1.340069         1.638269        -1.465314         0.310175   \n",
       "140535         0.683392         1.210262        -0.373946        -1.389487   \n",
       "140536        -1.340069         1.638269        -1.465314         0.310175   \n",
       "140537         0.683392         1.210262        -0.373946        -1.389487   \n",
       "\n",
       "        octet_5_eth_dst  octet_6_eth_dst  octet_1_eth_src  octet_2_eth_src  \\\n",
       "0             -1.027218         1.371663        -0.752915        -0.288377   \n",
       "1             -1.027218         1.371663         0.553287         0.945509   \n",
       "2              0.285020         0.594669         0.879837        -0.959987   \n",
       "3              0.285020         0.594669         0.879837        -0.959987   \n",
       "4              0.285020         0.594669         0.879837        -0.959987   \n",
       "...                 ...              ...              ...              ...   \n",
       "140533        -0.467903        -0.727583        -1.536636         1.351599   \n",
       "140534         1.833891        -1.981678         0.553287         0.945509   \n",
       "140535        -0.467903        -0.727583        -1.536636         1.351599   \n",
       "140536         1.833891        -1.981678         0.553287         0.945509   \n",
       "140537        -0.467903        -0.727583        -1.536636         1.351599   \n",
       "\n",
       "        octet_3_eth_src  octet_4_eth_src  ...   load_14   load_15   load_16  \\\n",
       "0              1.992587         1.069766  ...  0.667342  2.005733  0.618697   \n",
       "1             -0.263293        -1.085399  ...  0.667342  2.005733  0.618697   \n",
       "2              0.294863         0.635392  ... -0.512638 -0.565434 -0.524846   \n",
       "3              0.294863         0.635392  ... -0.512638 -0.565434 -0.524846   \n",
       "4              0.294863         0.635392  ... -0.512638 -0.565434 -0.524846   \n",
       "...                 ...              ...  ...       ...       ...       ...   \n",
       "140533        -1.588913         0.551858  ...  0.372347 -0.351170  0.046925   \n",
       "140534        -0.263293        -1.085399  ... -0.512638 -0.565434 -0.524846   \n",
       "140535        -1.588913         0.551858  ... -0.512638 -0.565434 -0.524846   \n",
       "140536        -0.263293        -1.085399  ... -0.512638 -0.565434 -0.524846   \n",
       "140537        -1.588913         0.551858  ... -0.512638 -0.565434 -0.524846   \n",
       "\n",
       "         load_17   load_18   load_19  protocol.sport  protocol.dport  TCP  UDP  \n",
       "0       0.791433  0.664259  0.313269        1.026406       -0.972130    1    0  \n",
       "1       0.791433  0.664259  0.313269        1.026406       -0.972130    1    0  \n",
       "2      -0.565851 -0.515196 -0.538543       -1.080588        1.112464    1    0  \n",
       "3      -0.565851 -0.515196 -0.538543       -1.080588        1.112464    1    0  \n",
       "4      -0.022937 -0.515196  0.313269       -1.080588        1.112464    1    0  \n",
       "...          ...       ...       ...             ...             ...  ...  ...  \n",
       "140533 -0.565851  0.369395  0.029332       -0.877626        1.009160    1    0  \n",
       "140534 -0.565851 -0.515196 -0.538543        0.921991       -0.771326    1    0  \n",
       "140535 -0.565851 -0.515196 -0.538543       -0.877626        1.009160    1    0  \n",
       "140536 -0.565851 -0.515196 -0.538543        0.921991       -0.771326    1    0  \n",
       "140537 -0.565851 -0.515196 -0.538543       -0.877626        1.009160    1    0  \n",
       "\n",
       "[140538 rows x 72 columns]"
      ]
     },
     "execution_count": 4,
     "metadata": {},
     "output_type": "execute_result"
    }
   ],
   "source": [
    "processed_normal"
   ]
  },
  {
   "cell_type": "code",
   "execution_count": 19,
   "id": "d6d1c0ea",
   "metadata": {},
   "outputs": [],
   "source": [
    "kmeans = KMeans(n_clusters=8).fit(processed_normal)"
   ]
  },
  {
   "cell_type": "code",
   "execution_count": 20,
   "id": "41a4c46d",
   "metadata": {},
   "outputs": [],
   "source": [
    "pred = kmeans.predict(processed_attack)"
   ]
  },
  {
   "cell_type": "code",
   "execution_count": 21,
   "id": "565cb79c",
   "metadata": {},
   "outputs": [],
   "source": [
    "attack_df['pred'] = list(pred)"
   ]
  },
  {
   "cell_type": "code",
   "execution_count": 22,
   "id": "e4a8fa28",
   "metadata": {},
   "outputs": [
    {
     "data": {
      "text/plain": [
       "3    348479\n",
       "0    308483\n",
       "5    215288\n",
       "7     82591\n",
       "2     48722\n",
       "1     39356\n",
       "6     18350\n",
       "4      9285\n",
       "Name: pred, dtype: int64"
      ]
     },
     "execution_count": 22,
     "metadata": {},
     "output_type": "execute_result"
    }
   ],
   "source": [
    "attack_df['pred'].value_counts()"
   ]
  },
  {
   "cell_type": "code",
   "execution_count": 23,
   "id": "5fd1047f",
   "metadata": {},
   "outputs": [],
   "source": [
    "nmap_df = attack_df[attack_df[\"ip.dst\"] == '89.100.107.148']"
   ]
  },
  {
   "cell_type": "code",
   "execution_count": 25,
   "id": "f716d416",
   "metadata": {},
   "outputs": [
    {
     "data": {
      "text/plain": [
       "<AxesSubplot:>"
      ]
     },
     "execution_count": 25,
     "metadata": {},
     "output_type": "execute_result"
    },
    {
     "data": {
      "image/png": "[encoded data removed]",
      "text/plain": [
       "<Figure size 432x288 with 1 Axes>"
      ]
     },
     "metadata": {
      "needs_background": "light"
     },
     "output_type": "display_data"
    }
   ],
   "source": [
    "nmap_df['pred'].hist(bins=8)"
   ]
  },
  {
   "cell_type": "code",
   "execution_count": 27,
   "id": "aecf5afa",
   "metadata": {},
   "outputs": [
    {
     "data": {
      "text/plain": [
       "<AxesSubplot:>"
      ]
     },
     "execution_count": 27,
     "metadata": {},
     "output_type": "execute_result"
    },
    {
     "data": {
      "image/png": "[encoded data removed]",
      "text/plain": [
       "<Figure size 432x288 with 1 Axes>"
      ]
     },
     "metadata": {
      "needs_background": "light"
     },
     "output_type": "display_data"
    }
   ],
   "source": [
    "attack_df['pred'].hist(bins = 8)"
   ]
  },
  {
   "cell_type": "code",
   "execution_count": 28,
   "id": "ef382755",
   "metadata": {},
   "outputs": [
    {
     "data": {
      "text/plain": [
       "2    32939\n",
       "6     8885\n",
       "Name: pred, dtype: int64"
      ]
     },
     "execution_count": 28,
     "metadata": {},
     "output_type": "execute_result"
    }
   ],
   "source": [
    "nmap_df['pred'].value_counts()"
   ]
  },
  {
   "cell_type": "code",
   "execution_count": 47,
   "id": "73664832",
   "metadata": {},
   "outputs": [],
   "source": [
    "# Singluar value decomposition\n",
    "from sklearn.decomposition import TruncatedSVD\n",
    "svd = TruncatedSVD(n_components=20, n_iter=5)"
   ]
  },
  {
   "cell_type": "code",
   "execution_count": 48,
   "id": "8c71c33e",
   "metadata": {},
   "outputs": [],
   "source": [
    "processed_normal_values = processed_normal.values\n",
    "svd_normal = svd.fit_transform(processed_normal_values)"
   ]
  },
  {
   "cell_type": "code",
   "execution_count": 49,
   "id": "ef45fd4c",
   "metadata": {},
   "outputs": [
    {
     "data": {
      "text/plain": [
       "array([[ 1.45146131e+00, -4.15088193e-01, -4.44055410e+00, ...,\n",
       "         2.59156325e-01, -3.91159104e-01,  8.00292207e-02],\n",
       "       [ 1.55940594e+00,  4.50819651e-01, -3.38813331e+00, ...,\n",
       "         1.76940992e-01, -3.18450016e-01,  3.35860040e-02],\n",
       "       [-2.61184945e+00,  1.35937361e+00, -1.94147311e+00, ...,\n",
       "         1.44851579e-01, -7.61096723e-02,  2.34367515e-01],\n",
       "       ...,\n",
       "       [-1.82277365e+00, -1.13910672e+00,  1.21354094e+00, ...,\n",
       "        -1.42070869e+00, -7.43005967e-03, -2.08673868e-01],\n",
       "       [-1.99533629e+00,  4.08198110e-01,  1.18036969e+00, ...,\n",
       "         1.52685098e+00, -1.63839035e+00,  2.65859542e-01],\n",
       "       [-1.81751073e+00, -1.13778174e+00,  1.21141819e+00, ...,\n",
       "        -1.43009295e+00,  3.30228265e-03, -2.16117846e-01]])"
      ]
     },
     "execution_count": 49,
     "metadata": {},
     "output_type": "execute_result"
    }
   ],
   "source": [
    "svd_normal"
   ]
  },
  {
   "cell_type": "code",
   "execution_count": 52,
   "id": "5c1d481b",
   "metadata": {},
   "outputs": [],
   "source": [
    "from sklearn.model_selection import train_test_split\n",
    "\n",
    "x_normal_train, x_normal_test = train_test_split(\n",
    "    svd_normal, test_size=0.2, random_state=42)"
   ]
  },
  {
   "cell_type": "code",
   "execution_count": 54,
   "id": "4f82005d",
   "metadata": {},
   "outputs": [
    {
     "name": "stdout",
     "output_type": "stream",
     "text": [
      "Epoch 1/50\n"
     ]
    },
    {
     "name": "stderr",
     "output_type": "stream",
     "text": [
      "2022-03-18 16:48:58.838368: W tensorflow/core/platform/profile_utils/cpu_utils.cc:128] Failed to get CPU frequency: 0 Hz\n",
      "2022-03-18 16:48:58.960227: I tensorflow/core/grappler/optimizers/custom_graph_optimizer_registry.cc:113] Plugin optimizer for device_type GPU is enabled.\n"
     ]
    },
    {
     "name": "stdout",
     "output_type": "stream",
     "text": [
      "3514/3514 [==============================] - 16s 4ms/step - loss: 0.6589\n",
      "Epoch 2/50\n",
      "3514/3514 [==============================] - 14s 4ms/step - loss: 0.4099\n",
      "Epoch 3/50\n",
      "3514/3514 [==============================] - 14s 4ms/step - loss: 0.3673\n",
      "Epoch 4/50\n",
      "3514/3514 [==============================] - 14s 4ms/step - loss: 0.3427\n",
      "Epoch 5/50\n",
      "3514/3514 [==============================] - 14s 4ms/step - loss: 0.3169\n",
      "Epoch 6/50\n",
      "3514/3514 [==============================] - 14s 4ms/step - loss: 0.2961\n",
      "Epoch 7/50\n",
      "3514/3514 [==============================] - 14s 4ms/step - loss: 0.2774\n",
      "Epoch 8/50\n",
      "3514/3514 [==============================] - 14s 4ms/step - loss: 0.2647\n",
      "Epoch 9/50\n",
      "3514/3514 [==============================] - 14s 4ms/step - loss: 0.2551\n",
      "Epoch 10/50\n",
      "3514/3514 [==============================] - 14s 4ms/step - loss: 0.2470\n",
      "Epoch 11/50\n",
      "3514/3514 [==============================] - 14s 4ms/step - loss: 0.2399\n",
      "Epoch 12/50\n",
      "3514/3514 [==============================] - 14s 4ms/step - loss: 0.2344\n",
      "Epoch 13/50\n",
      "3514/3514 [==============================] - 14s 4ms/step - loss: 0.2296\n",
      "Epoch 14/50\n",
      "3514/3514 [==============================] - 14s 4ms/step - loss: 0.2250\n",
      "Epoch 15/50\n",
      "3514/3514 [==============================] - 14s 4ms/step - loss: 0.2221\n",
      "Epoch 16/50\n",
      "3514/3514 [==============================] - 14s 4ms/step - loss: 0.2190\n",
      "Epoch 17/50\n",
      "3514/3514 [==============================] - 14s 4ms/step - loss: 0.2162\n",
      "Epoch 18/50\n",
      "3514/3514 [==============================] - 14s 4ms/step - loss: 0.2120\n",
      "Epoch 19/50\n",
      "3514/3514 [==============================] - 14s 4ms/step - loss: 0.2096\n",
      "Epoch 20/50\n",
      "3514/3514 [==============================] - 14s 4ms/step - loss: 0.2073\n",
      "Epoch 21/50\n",
      "3514/3514 [==============================] - 15s 4ms/step - loss: 0.2054\n",
      "Epoch 22/50\n",
      "3514/3514 [==============================] - 14s 4ms/step - loss: 0.2038\n",
      "Epoch 23/50\n",
      "3514/3514 [==============================] - 15s 4ms/step - loss: 0.2024\n",
      "Epoch 24/50\n",
      "3514/3514 [==============================] - 14s 4ms/step - loss: 0.2006\n",
      "Epoch 25/50\n",
      "3514/3514 [==============================] - 14s 4ms/step - loss: 0.1998\n",
      "Epoch 26/50\n",
      "3514/3514 [==============================] - 14s 4ms/step - loss: 0.1984\n",
      "Epoch 27/50\n",
      "3514/3514 [==============================] - 14s 4ms/step - loss: 0.1973\n",
      "Epoch 28/50\n",
      "3514/3514 [==============================] - 14s 4ms/step - loss: 0.1969\n",
      "Epoch 29/50\n",
      "3514/3514 [==============================] - 14s 4ms/step - loss: 0.1956\n",
      "Epoch 30/50\n",
      "3514/3514 [==============================] - 13s 4ms/step - loss: 0.1944\n",
      "Epoch 31/50\n",
      "3514/3514 [==============================] - 13s 4ms/step - loss: 0.1935\n",
      "Epoch 32/50\n",
      "3514/3514 [==============================] - 13s 4ms/step - loss: 0.1930\n",
      "Epoch 33/50\n",
      "3514/3514 [==============================] - 13s 4ms/step - loss: 0.1922\n",
      "Epoch 34/50\n",
      "3514/3514 [==============================] - 13s 4ms/step - loss: 0.1913\n",
      "Epoch 35/50\n",
      "3514/3514 [==============================] - 13s 4ms/step - loss: 0.1904\n",
      "Epoch 36/50\n",
      "3514/3514 [==============================] - 14s 4ms/step - loss: 0.1901\n",
      "Epoch 37/50\n",
      "3514/3514 [==============================] - 14s 4ms/step - loss: 0.1892\n",
      "Epoch 38/50\n",
      "3514/3514 [==============================] - 14s 4ms/step - loss: 0.1892\n",
      "Epoch 39/50\n",
      "3514/3514 [==============================] - 14s 4ms/step - loss: 0.1883\n",
      "Epoch 40/50\n",
      "3514/3514 [==============================] - 14s 4ms/step - loss: 0.1880\n",
      "Epoch 41/50\n",
      "3514/3514 [==============================] - 14s 4ms/step - loss: 0.1875\n",
      "Epoch 42/50\n",
      "3514/3514 [==============================] - 14s 4ms/step - loss: 0.1868\n",
      "Epoch 43/50\n",
      "3514/3514 [==============================] - 14s 4ms/step - loss: 0.1864\n",
      "Epoch 44/50\n",
      "3514/3514 [==============================] - 14s 4ms/step - loss: 0.1861\n",
      "Epoch 45/50\n",
      "3514/3514 [==============================] - 14s 4ms/step - loss: 0.1856\n",
      "Epoch 46/50\n",
      "3514/3514 [==============================] - 14s 4ms/step - loss: 0.1855\n",
      "Epoch 47/50\n",
      "3514/3514 [==============================] - 14s 4ms/step - loss: 0.1852\n",
      "Epoch 48/50\n",
      "3514/3514 [==============================] - 14s 4ms/step - loss: 0.1844\n",
      "Epoch 49/50\n",
      "3514/3514 [==============================] - 14s 4ms/step - loss: 0.1845\n",
      "Epoch 50/50\n",
      "3514/3514 [==============================] - 14s 4ms/step - loss: 0.1842\n"
     ]
    },
    {
     "data": {
      "text/plain": [
       "<keras.callbacks.History at 0x175c19460>"
      ]
     },
     "execution_count": 54,
     "metadata": {},
     "output_type": "execute_result"
    }
   ],
   "source": [
    "from tensorflow.keras.models import Sequential\n",
    "from tensorflow.keras.layers import Dense, Activation\n",
    "\n",
    "model = Sequential()\n",
    "model.add(Dense(30, input_dim=svd_normal.shape[1], activation='relu'))\n",
    "model.add(Dense(3, activation='relu')) # size to compress to\n",
    "model.add(Dense(30, activation='relu'))\n",
    "model.add(Dense(svd_normal.shape[1])) # Multiple output neurons\n",
    "model.compile(loss='mean_squared_error', optimizer='adam')\n",
    "model.fit(x_normal_train,x_normal_train,verbose=1,epochs=50)"
   ]
  },
  {
   "cell_type": "code",
   "execution_count": 55,
   "id": "5cd1b7b3",
   "metadata": {},
   "outputs": [
    {
     "name": "stdout",
     "output_type": "stream",
     "text": [
      "INFO:tensorflow:Assets written to: auto_with_svd/assets\n"
     ]
    },
    {
     "name": "stderr",
     "output_type": "stream",
     "text": [
      "2022-03-18 17:00:54.212522: W tensorflow/python/util/util.cc:368] Sets are not currently considered sequences, but this may change in the future, so consider avoiding using them.\n"
     ]
    }
   ],
   "source": [
    "model.save(\"auto_with_svd\")"
   ]
  },
  {
   "cell_type": "code",
   "execution_count": 56,
   "id": "5068dcf0",
   "metadata": {},
   "outputs": [],
   "source": [
    "svd_attack = svd.fit_transform(processed_attack.values)"
   ]
  },
  {
   "cell_type": "code",
   "execution_count": 60,
   "id": "75b58379",
   "metadata": {},
   "outputs": [],
   "source": [
    "pred = model.predict(svd_attack)"
   ]
  },
  {
   "cell_type": "code",
   "execution_count": 61,
   "id": "a92ca746",
   "metadata": {},
   "outputs": [],
   "source": [
    "from sklearn import metrics\n",
    "score_list = []\n",
    "for index, x in enumerate(pred):\n",
    "    score_list.append(np.sqrt(metrics.mean_squared_error(pred[index],svd_attack[index])))\n",
    "\n",
    "attack_df['score'] = score_list"
   ]
  },
  {
   "cell_type": "code",
   "execution_count": 63,
   "id": "68374d0e",
   "metadata": {},
   "outputs": [
    {
     "data": {
      "text/plain": [
       "<AxesSubplot:>"
      ]
     },
     "execution_count": 63,
     "metadata": {},
     "output_type": "execute_result"
    },
    {
     "data": {
      "image/png": "[encoded data removed]",
      "text/plain": [
       "<Figure size 432x288 with 1 Axes>"
      ]
     },
     "metadata": {
      "needs_background": "light"
     },
     "output_type": "display_data"
    }
   ],
   "source": [
    "nmap_df = attack_df[attack_df[\"ip.dst\"] == '89.100.107.148']\n",
    "nmap_df[\"score\"].hist(bins=100)"
   ]
  },
  {
   "cell_type": "code",
   "execution_count": 64,
   "id": "ff0afb74",
   "metadata": {},
   "outputs": [
    {
     "data": {
      "text/plain": [
       "<AxesSubplot:>"
      ]
     },
     "execution_count": 64,
     "metadata": {},
     "output_type": "execute_result"
    },
    {
     "data": {
      "image/png": "[encoded data removed]",
      "text/plain": [
       "<Figure size 432x288 with 1 Axes>"
      ]
     },
     "metadata": {
      "needs_background": "light"
     },
     "output_type": "display_data"
    }
   ],
   "source": [
    "hello = attack_df[attack_df[\"ip.dst\"] == '89.100.107.147']\n",
    "hello[\"score\"].hist(bins=100)"
   ]
  },
  {
   "cell_type": "code",
   "execution_count": 65,
   "id": "5bb0e2e6",
   "metadata": {},
   "outputs": [],
   "source": [
    "pred_normal = model.predict(x_normal_test)"
   ]
  },
  {
   "cell_type": "code",
   "execution_count": 67,
   "id": "96e54d19",
   "metadata": {},
   "outputs": [],
   "source": [
    "hi = np.sqrt(metrics.mean_squared_error(pred_normal,x_normal_test))"
   ]
  },
  {
   "cell_type": "code",
   "execution_count": 68,
   "id": "912c5be6",
   "metadata": {},
   "outputs": [
    {
     "data": {
      "text/plain": [
       "0.42842259380922065"
      ]
     },
     "execution_count": 68,
     "metadata": {},
     "output_type": "execute_result"
    }
   ],
   "source": [
    "hi"
   ]
  },
  {
   "cell_type": "code",
   "execution_count": 69,
   "id": "ab060052",
   "metadata": {},
   "outputs": [],
   "source": [
    "hi2 = np.sqrt(metrics.mean_squared_error(model.predict(x_normal_train),x_normal_train))"
   ]
  },
  {
   "cell_type": "code",
   "execution_count": 70,
   "id": "5556f716",
   "metadata": {},
   "outputs": [
    {
     "data": {
      "text/plain": [
       "0.42647637500592156"
      ]
     },
     "execution_count": 70,
     "metadata": {},
     "output_type": "execute_result"
    }
   ],
   "source": [
    "hi2"
   ]
  },
  {
   "cell_type": "code",
   "execution_count": 71,
   "id": "4fab5617",
   "metadata": {},
   "outputs": [],
   "source": [
    "synthetic = pd.read_csv('data/synthetic_data.csv')"
   ]
  },
  {
   "cell_type": "code",
   "execution_count": 80,
   "id": "7893106c",
   "metadata": {},
   "outputs": [],
   "source": [
    "process_synthetic = process_df(synthetic)\n",
    "svd_synthetic = svd.fit_transform(process_synthetic.values)\n",
    "pred_syn = model.predict(svd_synthetic)\n",
    "score_syn = []\n",
    "\n",
    "for index, x in enumerate(pred_syn):\n",
    "    score_syn.append(np.sqrt(metrics.mean_squared_error(pred_syn[index],svd_synthetic[index])))\n"
   ]
  },
  {
   "cell_type": "code",
   "execution_count": 88,
   "id": "613205e2",
   "metadata": {},
   "outputs": [
    {
     "data": {
      "text/plain": [
       "(array([  1.,   0.,   0.,   0.,   0.,   0.,   0.,   1.,   0.,   0.,   4.,\n",
       "          7.,   5.,   9.,  19.,  33.,  31.,  43.,  58.,  74.,  98., 133.,\n",
       "        154., 188., 225., 269., 338., 437., 447., 495., 562., 614., 724.,\n",
       "        718., 761., 810., 806., 850., 811., 892., 833., 776., 788., 703.,\n",
       "        682., 624., 566., 563., 473., 444., 410., 352., 291., 269., 226.,\n",
       "        204., 168., 162., 127., 106.,  76.,  99.,  66.,  45.,  50.,  36.,\n",
       "         34.,  29.,  22.,  26.,  15.,  20.,  19.,  10.,  15.,  11.,   5.,\n",
       "          5.,   5.,   4.,   2.,   3.,   3.,   1.,   5.,   2.,   1.,   0.,\n",
       "          1.,   1.,   1.,   1.,   0.,   0.,   0.,   1.,   0.,   0.,   1.,\n",
       "          1.]),\n",
       " array([0.43421265, 0.45656052, 0.47890839, 0.50125626, 0.52360413,\n",
       "        0.54595199, 0.56829986, 0.59064773, 0.6129956 , 0.63534347,\n",
       "        0.65769133, 0.6800392 , 0.70238707, 0.72473494, 0.7470828 ,\n",
       "        0.76943067, 0.79177854, 0.81412641, 0.83647428, 0.85882214,\n",
       "        0.88117001, 0.90351788, 0.92586575, 0.94821362, 0.97056148,\n",
       "        0.99290935, 1.01525722, 1.03760509, 1.05995296, 1.08230082,\n",
       "        1.10464869, 1.12699656, 1.14934443, 1.17169229, 1.19404016,\n",
       "        1.21638803, 1.2387359 , 1.26108377, 1.28343163, 1.3057795 ,\n",
       "        1.32812737, 1.35047524, 1.37282311, 1.39517097, 1.41751884,\n",
       "        1.43986671, 1.46221458, 1.48456244, 1.50691031, 1.52925818,\n",
       "        1.55160605, 1.57395392, 1.59630178, 1.61864965, 1.64099752,\n",
       "        1.66334539, 1.68569326, 1.70804112, 1.73038899, 1.75273686,\n",
       "        1.77508473, 1.79743259, 1.81978046, 1.84212833, 1.8644762 ,\n",
       "        1.88682407, 1.90917193, 1.9315198 , 1.95386767, 1.97621554,\n",
       "        1.99856341, 2.02091127, 2.04325914, 2.06560701, 2.08795488,\n",
       "        2.11030274, 2.13265061, 2.15499848, 2.17734635, 2.19969422,\n",
       "        2.22204208, 2.24438995, 2.26673782, 2.28908569, 2.31143356,\n",
       "        2.33378142, 2.35612929, 2.37847716, 2.40082503, 2.42317289,\n",
       "        2.44552076, 2.46786863, 2.4902165 , 2.51256437, 2.53491223,\n",
       "        2.5572601 , 2.57960797, 2.60195584, 2.62430371, 2.64665157,\n",
       "        2.66899944]),\n",
       " <BarContainer object of 100 artists>)"
      ]
     },
     "execution_count": 88,
     "metadata": {},
     "output_type": "execute_result"
    },
    {
     "data": {
      "image/png": "[encoded data removed]",
      "text/plain": [
       "<Figure size 432x288 with 1 Axes>"
      ]
     },
     "metadata": {
      "needs_background": "light"
     },
     "output_type": "display_data"
    }
   ],
   "source": [
    "plt.hist(score_syn, bins=100, alpha=0.5)"
   ]
  },
  {
   "cell_type": "code",
   "execution_count": 89,
   "id": "2edf38a0",
   "metadata": {},
   "outputs": [
    {
     "data": {
      "text/plain": [
       "<AxesSubplot:>"
      ]
     },
     "execution_count": 89,
     "metadata": {},
     "output_type": "execute_result"
    },
    {
     "data": {
      "image/png": "[encoded data removed]",
      "text/plain": [
       "<Figure size 432x288 with 1 Axes>"
      ]
     },
     "metadata": {
      "needs_background": "light"
     },
     "output_type": "display_data"
    }
   ],
   "source": [
    "attack_df['score'].hist(bins = 100)"
   ]
  },
  {
   "cell_type": "code",
   "execution_count": null,
   "id": "762ecb4b",
   "metadata": {},
   "outputs": [],
   "source": []
  }
 ],
 "metadata": {
  "kernelspec": {
   "display_name": "Python 3 (ipykernel)",
   "language": "python",
   "name": "python3"
  },
  "language_info": {
   "codemirror_mode": {
    "name": "ipython",
    "version": 3
   },
   "file_extension": ".py",
   "mimetype": "text/x-python",
   "name": "python",
   "nbconvert_exporter": "python",
   "pygments_lexer": "ipython3",
   "version": "3.9.10"
  }
 },
 "nbformat": 4,
 "nbformat_minor": 5
}

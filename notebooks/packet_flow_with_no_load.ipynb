{
 "cells": [
  {
   "cell_type": "code",
   "execution_count": 2,
   "id": "cb5b371a",
   "metadata": {},
   "outputs": [],
   "source": [
    "import pandas as pd\n",
    "import numpy as np\n",
    "import random\n",
    "from preprocess_with_packet_flow_no_load import process_df\n",
    "import matplotlib.pyplot as plt\n",
    "from sklearn.model_selection import train_test_split\n",
    "\n",
    "\n",
    "\n",
    "normal_df = pd.read_csv('data/normal1.csv')\n",
    "processed_normal = process_df(normal_df)\n",
    "\n",
    "attack_df = pd.read_csv('data/attack1.csv')\n",
    "processed_attack = process_df(attack_df)"
   ]
  },
  {
   "cell_type": "code",
   "execution_count": null,
   "id": "9b257d5b",
   "metadata": {},
   "outputs": [],
   "source": []
  },
  {
   "cell_type": "code",
   "execution_count": 3,
   "id": "0f8520d1",
   "metadata": {},
   "outputs": [],
   "source": [
    "from sklearn.decomposition import TruncatedSVD\n",
    "svd = TruncatedSVD(n_components=30, n_iter=5)\n",
    "svd_normal = svd.fit_transform(processed_normal.values)\n",
    "svd_attack = svd.fit_transform(processed_attack.values)\n",
    "\n",
    "\n",
    "# In[4]:\n",
    "\n",
    "\n",
    "from sklearn.model_selection import train_test_split\n",
    "\n",
    "x_normal_train, x_normal_test = train_test_split(\n",
    "    svd_normal, test_size=0.2, random_state=42)"
   ]
  },
  {
   "cell_type": "code",
   "execution_count": 4,
   "id": "41c1b61e",
   "metadata": {},
   "outputs": [
    {
     "name": "stdout",
     "output_type": "stream",
     "text": [
      "Epoch 1/50\n"
     ]
    },
    {
     "name": "stderr",
     "output_type": "stream",
     "text": [
      "2022-03-19 19:19:26.268509: W tensorflow/core/platform/profile_utils/cpu_utils.cc:128] Failed to get CPU frequency: 0 Hz\n",
      "2022-03-19 19:19:26.376662: I tensorflow/core/grappler/optimizers/custom_graph_optimizer_registry.cc:113] Plugin optimizer for device_type GPU is enabled.\n"
     ]
    },
    {
     "name": "stdout",
     "output_type": "stream",
     "text": [
      "3514/3514 [==============================] - 13s 4ms/step - loss: 0.0416\n",
      "Epoch 2/50\n",
      "3514/3514 [==============================] - 13s 4ms/step - loss: 0.0214\n",
      "Epoch 3/50\n",
      "3514/3514 [==============================] - 14s 4ms/step - loss: 0.0181\n",
      "Epoch 4/50\n",
      "3514/3514 [==============================] - 16s 5ms/step - loss: 0.0160\n",
      "Epoch 5/50\n",
      "3514/3514 [==============================] - 14s 4ms/step - loss: 0.0151\n",
      "Epoch 6/50\n",
      "3514/3514 [==============================] - 13s 4ms/step - loss: 0.0146\n",
      "Epoch 7/50\n",
      "3514/3514 [==============================] - 13s 4ms/step - loss: 0.0143\n",
      "Epoch 8/50\n",
      "3514/3514 [==============================] - 13s 4ms/step - loss: 0.0140\n",
      "Epoch 9/50\n",
      "3514/3514 [==============================] - 13s 4ms/step - loss: 0.0137\n",
      "Epoch 10/50\n",
      "3514/3514 [==============================] - 12s 4ms/step - loss: 0.0134\n",
      "Epoch 11/50\n",
      "3514/3514 [==============================] - 13s 4ms/step - loss: 0.0132\n",
      "Epoch 12/50\n",
      "3514/3514 [==============================] - 13s 4ms/step - loss: 0.0131\n",
      "Epoch 13/50\n",
      "3514/3514 [==============================] - 13s 4ms/step - loss: 0.0129\n",
      "Epoch 14/50\n",
      "3514/3514 [==============================] - 13s 4ms/step - loss: 0.0128\n",
      "Epoch 15/50\n",
      "3514/3514 [==============================] - 13s 4ms/step - loss: 0.0126\n",
      "Epoch 16/50\n",
      "3514/3514 [==============================] - 13s 4ms/step - loss: 0.0125\n",
      "Epoch 17/50\n",
      "3514/3514 [==============================] - 13s 4ms/step - loss: 0.0123\n",
      "Epoch 18/50\n",
      "3514/3514 [==============================] - 13s 4ms/step - loss: 0.0121\n",
      "Epoch 19/50\n",
      "3514/3514 [==============================] - 13s 4ms/step - loss: 0.0120\n",
      "Epoch 20/50\n",
      "3514/3514 [==============================] - 13s 4ms/step - loss: 0.0118\n",
      "Epoch 21/50\n",
      "3514/3514 [==============================] - 13s 4ms/step - loss: 0.0118\n",
      "Epoch 22/50\n",
      "3514/3514 [==============================] - 13s 4ms/step - loss: 0.0117\n",
      "Epoch 23/50\n",
      "3514/3514 [==============================] - 13s 4ms/step - loss: 0.0116\n",
      "Epoch 24/50\n",
      "3514/3514 [==============================] - 13s 4ms/step - loss: 0.0115\n",
      "Epoch 25/50\n",
      "3514/3514 [==============================] - 13s 4ms/step - loss: 0.0114\n",
      "Epoch 26/50\n",
      "3514/3514 [==============================] - 13s 4ms/step - loss: 0.0113\n",
      "Epoch 27/50\n",
      "3514/3514 [==============================] - 13s 4ms/step - loss: 0.0113\n",
      "Epoch 28/50\n",
      "3514/3514 [==============================] - 14s 4ms/step - loss: 0.0112\n",
      "Epoch 29/50\n",
      "3514/3514 [==============================] - 13s 4ms/step - loss: 0.0112\n",
      "Epoch 30/50\n",
      "3514/3514 [==============================] - 13s 4ms/step - loss: 0.0111\n",
      "Epoch 31/50\n",
      "3514/3514 [==============================] - 13s 4ms/step - loss: 0.0110\n",
      "Epoch 32/50\n",
      "3514/3514 [==============================] - 13s 4ms/step - loss: 0.0110\n",
      "Epoch 33/50\n",
      "3514/3514 [==============================] - 13s 4ms/step - loss: 0.0109\n",
      "Epoch 34/50\n",
      "3514/3514 [==============================] - 14s 4ms/step - loss: 0.0109\n",
      "Epoch 35/50\n",
      "3514/3514 [==============================] - 13s 4ms/step - loss: 0.0108\n",
      "Epoch 36/50\n",
      "3514/3514 [==============================] - 14s 4ms/step - loss: 0.0108\n",
      "Epoch 37/50\n",
      "3514/3514 [==============================] - 16s 4ms/step - loss: 0.0107\n",
      "Epoch 38/50\n",
      "3514/3514 [==============================] - 13s 4ms/step - loss: 0.0107\n",
      "Epoch 39/50\n",
      "3514/3514 [==============================] - 13s 4ms/step - loss: 0.0106\n",
      "Epoch 40/50\n",
      "3514/3514 [==============================] - 13s 4ms/step - loss: 0.0106\n",
      "Epoch 41/50\n",
      "3514/3514 [==============================] - 13s 4ms/step - loss: 0.0106\n",
      "Epoch 42/50\n",
      "3514/3514 [==============================] - 14s 4ms/step - loss: 0.0105\n",
      "Epoch 43/50\n",
      "3514/3514 [==============================] - 15s 4ms/step - loss: 0.0105\n",
      "Epoch 44/50\n",
      "3514/3514 [==============================] - 15s 4ms/step - loss: 0.0104\n",
      "Epoch 45/50\n",
      "3514/3514 [==============================] - 12s 3ms/step - loss: 0.0104\n",
      "Epoch 46/50\n",
      "3514/3514 [==============================] - 13s 4ms/step - loss: 0.0103\n",
      "Epoch 47/50\n",
      "3514/3514 [==============================] - 13s 4ms/step - loss: 0.0103\n",
      "Epoch 48/50\n",
      "3514/3514 [==============================] - 13s 4ms/step - loss: 0.0103\n",
      "Epoch 49/50\n",
      "3514/3514 [==============================] - 13s 4ms/step - loss: 0.0102\n",
      "Epoch 50/50\n",
      "3514/3514 [==============================] - 12s 4ms/step - loss: 0.0102\n"
     ]
    },
    {
     "name": "stderr",
     "output_type": "stream",
     "text": [
      "2022-03-19 19:30:25.854183: W tensorflow/python/util/util.cc:368] Sets are not currently considered sequences, but this may change in the future, so consider avoiding using them.\n",
      "WARNING:absl:Found untraced functions such as leaky_re_lu_layer_call_fn, leaky_re_lu_layer_call_and_return_conditional_losses, leaky_re_lu_1_layer_call_fn, leaky_re_lu_1_layer_call_and_return_conditional_losses, leaky_re_lu_2_layer_call_fn while saving (showing 5 of 6). These functions will not be directly callable after loading.\n"
     ]
    },
    {
     "name": "stdout",
     "output_type": "stream",
     "text": [
      "INFO:tensorflow:Assets written to: svd_auto_packet_flow/assets\n"
     ]
    },
    {
     "name": "stderr",
     "output_type": "stream",
     "text": [
      "INFO:tensorflow:Assets written to: svd_auto_packet_flow/assets\n"
     ]
    }
   ],
   "source": [
    "from tensorflow.keras.models import Sequential\n",
    "from tensorflow.keras.layers import Dense, Activation\n",
    "\n",
    "model = Sequential()\n",
    "model.add(Dense(25, input_dim=svd_normal.shape[1], activation='LeakyReLU'))\n",
    "model.add(Dense(3, activation='LeakyReLU')) # size to compress to\n",
    "model.add(Dense(25, activation='LeakyReLU'))\n",
    "model.add(Dense(svd_normal.shape[1])) # Multiple output neurons\n",
    "model.compile(loss='mean_squared_error', optimizer='adam')\n",
    "model.fit(x_normal_train,x_normal_train,verbose=1,epochs=50)\n",
    "model.save(\"svd_auto_packet_flow\")"
   ]
  },
  {
   "cell_type": "code",
   "execution_count": 5,
   "id": "df815560",
   "metadata": {},
   "outputs": [
    {
     "name": "stderr",
     "output_type": "stream",
     "text": [
      "2022-03-19 19:30:26.054952: I tensorflow/core/grappler/optimizers/custom_graph_optimizer_registry.cc:113] Plugin optimizer for device_type GPU is enabled.\n"
     ]
    },
    {
     "name": "stdout",
     "output_type": "stream",
     "text": [
      "0.10058354036739472\n",
      "0.10008320271712416\n"
     ]
    },
    {
     "data": {
      "text/plain": [
       "<AxesSubplot:>"
      ]
     },
     "execution_count": 5,
     "metadata": {},
     "output_type": "execute_result"
    },
    {
     "data": {
      "image/png": "[encoded data removed]",
      "text/plain": [
       "<Figure size 432x288 with 1 Axes>"
      ]
     },
     "metadata": {
      "needs_background": "light"
     },
     "output_type": "display_data"
    }
   ],
   "source": [
    "from sklearn import metrics\n",
    "pred_normal_train = model.predict(x_normal_train)\n",
    "print(np.sqrt(metrics.mean_squared_error(pred_normal_train,x_normal_train)))\n",
    "\n",
    "\n",
    "# In[10]:\n",
    "\n",
    "\n",
    "pred_normal_test = model.predict(x_normal_test)\n",
    "print(np.sqrt(metrics.mean_squared_error(pred_normal_test,x_normal_test)))\n",
    "\n",
    "\n",
    "# In[12]:\n",
    "\n",
    "\n",
    "pred_attack = model.predict(svd_attack)\n",
    "\n",
    "score_list = []\n",
    "for index, x in enumerate(pred_attack):\n",
    "    score_list.append(np.sqrt(metrics.mean_squared_error(pred_attack[index],svd_attack[index])))\n",
    "\n",
    "attack_df['score'] = score_list\n",
    "\n",
    "\n",
    "# In[13]:\n",
    "\n",
    "\n",
    "attack_df['score'].hist(bins = 100)"
   ]
  },
  {
   "cell_type": "code",
   "execution_count": 10,
   "id": "b637a8d7",
   "metadata": {},
   "outputs": [
    {
     "data": {
      "text/plain": [
       "0.4700147835799279"
      ]
     },
     "execution_count": 10,
     "metadata": {},
     "output_type": "execute_result"
    },
    {
     "data": {
      "image/png": "[encoded data removed]",
      "text/plain": [
       "<Figure size 432x288 with 1 Axes>"
      ]
     },
     "metadata": {
      "needs_background": "light"
     },
     "output_type": "display_data"
    }
   ],
   "source": [
    "nmap_df = attack_df[attack_df[\"ip.dst\"] == '89.100.107.148']\n",
    "\n",
    "\n",
    "# In[15]:\n",
    "\n",
    "\n",
    "nmap_df['score'].hist(bins = 100)\n",
    "\n",
    "\n",
    "# In[20]:\n",
    "\n",
    "\n",
    "nmap_df['score'].median()"
   ]
  },
  {
   "cell_type": "code",
   "execution_count": 7,
   "id": "044529cc",
   "metadata": {},
   "outputs": [
    {
     "data": {
      "text/plain": [
       "<AxesSubplot:>"
      ]
     },
     "execution_count": 7,
     "metadata": {},
     "output_type": "execute_result"
    },
    {
     "data": {
      "image/png": "[encoded data removed]",
      "text/plain": [
       "<Figure size 432x288 with 1 Axes>"
      ]
     },
     "metadata": {
      "needs_background": "light"
     },
     "output_type": "display_data"
    }
   ],
   "source": [
    "normal_wordpress = attack_df[attack_df[\"ip.dst\"] == '89.100.107.147']\n",
    "normal_wordpress['score'].hist(bins=100)"
   ]
  },
  {
   "cell_type": "code",
   "execution_count": 8,
   "id": "c5a940c1",
   "metadata": {},
   "outputs": [
    {
     "data": {
      "text/plain": [
       "0.2594641855402455"
      ]
     },
     "execution_count": 8,
     "metadata": {},
     "output_type": "execute_result"
    }
   ],
   "source": [
    "attack_df['score'].median()"
   ]
  },
  {
   "cell_type": "code",
   "execution_count": 9,
   "id": "09e40e2d",
   "metadata": {},
   "outputs": [
    {
     "data": {
      "text/plain": [
       "0.282726    225\n",
       "0.391242    169\n",
       "0.246720    152\n",
       "0.307834    152\n",
       "0.235313    104\n",
       "           ... \n",
       "0.206250      1\n",
       "0.437298      1\n",
       "0.341553      1\n",
       "0.205607      1\n",
       "0.418421      1\n",
       "Name: score, Length: 501470, dtype: int64"
      ]
     },
     "execution_count": 9,
     "metadata": {},
     "output_type": "execute_result"
    }
   ],
   "source": [
    "attack_df['score'].value_counts()"
   ]
  },
  {
   "cell_type": "code",
   "execution_count": 12,
   "id": "c60abc4f",
   "metadata": {},
   "outputs": [
    {
     "data": {
      "text/plain": [
       "0.2594641855402455"
      ]
     },
     "execution_count": 12,
     "metadata": {},
     "output_type": "execute_result"
    }
   ],
   "source": [
    "attack_df['score'].median()"
   ]
  },
  {
   "cell_type": "code",
   "execution_count": 13,
   "id": "30671329",
   "metadata": {},
   "outputs": [],
   "source": [
    "synthetic_data = pd.read_csv('data/synthetic_data.csv')\n",
    "processed_syn = process_df(synthetic_data)"
   ]
  },
  {
   "cell_type": "code",
   "execution_count": 14,
   "id": "376e54dc",
   "metadata": {},
   "outputs": [],
   "source": [
    "syn_svd = svd.fit_transform(processed_syn.values)"
   ]
  },
  {
   "cell_type": "code",
   "execution_count": 18,
   "id": "24edfe1b",
   "metadata": {},
   "outputs": [],
   "source": [
    "pred_attack = model.predict(syn_svd)\n",
    "\n",
    "score_list = []\n",
    "for index, x in enumerate(pred_attack):\n",
    "    score_list.append(metrics.mean_squared_error(pred_attack[index],syn_svd[index]))\n",
    "\n",
    "synthetic_data['score'] = score_list"
   ]
  },
  {
   "cell_type": "code",
   "execution_count": 19,
   "id": "35f2291e",
   "metadata": {
    "scrolled": true
   },
   "outputs": [
    {
     "data": {
      "text/plain": [
       "<AxesSubplot:>"
      ]
     },
     "execution_count": 19,
     "metadata": {},
     "output_type": "execute_result"
    },
    {
     "data": {
      "image/png": "[encoded data removed]",
      "text/plain": [
       "<Figure size 432x288 with 1 Axes>"
      ]
     },
     "metadata": {
      "needs_background": "light"
     },
     "output_type": "display_data"
    }
   ],
   "source": [
    "synthetic_data['score'].hist(bins = 100)"
   ]
  },
  {
   "cell_type": "code",
   "execution_count": null,
   "id": "25549a80",
   "metadata": {},
   "outputs": [],
   "source": []
  }
 ],
 "metadata": {
  "kernelspec": {
   "display_name": "Python 3 (ipykernel)",
   "language": "python",
   "name": "python3"
  },
  "language_info": {
   "codemirror_mode": {
    "name": "ipython",
    "version": 3
   },
   "file_extension": ".py",
   "mimetype": "text/x-python",
   "name": "python",
   "nbconvert_exporter": "python",
   "pygments_lexer": "ipython3",
   "version": "3.9.10"
  }
 },
 "nbformat": 4,
 "nbformat_minor": 5
}

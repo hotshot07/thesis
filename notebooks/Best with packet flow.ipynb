{
 "cells": [
  {
   "cell_type": "code",
   "execution_count": 1,
   "id": "270c5887",
   "metadata": {},
   "outputs": [],
   "source": [
    "import pandas as pd\n",
    "import numpy as np\n",
    "import random\n",
    "from preprocess_no_eth_with_flow import process_df\n",
    "import matplotlib.pyplot as plt\n",
    "from sklearn.model_selection import train_test_split\n",
    "\n",
    "\n",
    "\n",
    "normal_df = pd.read_csv('data/normal1.csv')\n",
    "processed_normal = process_df(normal_df)\n",
    "\n",
    "attack_df = pd.read_csv('data/attack1.csv')\n",
    "processed_attack = process_df(attack_df)"
   ]
  },
  {
   "cell_type": "code",
   "execution_count": 2,
   "id": "99aa3aaa",
   "metadata": {},
   "outputs": [],
   "source": [
    "x_normal_train, x_normal_test = train_test_split(processed_normal.values, test_size=0.2, random_state=42)"
   ]
  },
  {
   "cell_type": "code",
   "execution_count": 5,
   "id": "c74f771d",
   "metadata": {},
   "outputs": [
    {
     "name": "stdout",
     "output_type": "stream",
     "text": [
      "Metal device set to: Apple M1 Pro\n",
      "Epoch 1/20\n"
     ]
    },
    {
     "name": "stderr",
     "output_type": "stream",
     "text": [
      "2022-03-20 22:43:12.058846: I tensorflow/core/common_runtime/pluggable_device/pluggable_device_factory.cc:305] Could not identify NUMA node of platform GPU ID 0, defaulting to 0. Your kernel may not have been built with NUMA support.\n",
      "2022-03-20 22:43:12.058960: I tensorflow/core/common_runtime/pluggable_device/pluggable_device_factory.cc:271] Created TensorFlow device (/job:localhost/replica:0/task:0/device:GPU:0 with 0 MB memory) -> physical PluggableDevice (device: 0, name: METAL, pci bus id: <undefined>)\n",
      "2022-03-20 22:43:12.134560: W tensorflow/core/platform/profile_utils/cpu_utils.cc:128] Failed to get CPU frequency: 0 Hz\n",
      "2022-03-20 22:43:12.244390: I tensorflow/core/grappler/optimizers/custom_graph_optimizer_registry.cc:113] Plugin optimizer for device_type GPU is enabled.\n"
     ]
    },
    {
     "name": "stdout",
     "output_type": "stream",
     "text": [
      "3514/3514 [==============================] - 14s 4ms/step - loss: 0.0214\n",
      "Epoch 2/20\n",
      "3514/3514 [==============================] - 13s 4ms/step - loss: 0.0043\n",
      "Epoch 3/20\n",
      "3514/3514 [==============================] - 13s 4ms/step - loss: 0.0038\n",
      "Epoch 4/20\n",
      "3514/3514 [==============================] - 13s 4ms/step - loss: 0.0036\n",
      "Epoch 5/20\n",
      "3514/3514 [==============================] - 13s 4ms/step - loss: 0.0034\n",
      "Epoch 6/20\n",
      "3514/3514 [==============================] - 13s 4ms/step - loss: 0.0032\n",
      "Epoch 7/20\n",
      "3514/3514 [==============================] - 13s 4ms/step - loss: 0.0029\n",
      "Epoch 8/20\n",
      "3514/3514 [==============================] - 13s 4ms/step - loss: 0.0025\n",
      "Epoch 9/20\n",
      "3514/3514 [==============================] - 14s 4ms/step - loss: 0.0023\n",
      "Epoch 10/20\n",
      "3514/3514 [==============================] - 13s 4ms/step - loss: 0.0020\n",
      "Epoch 11/20\n",
      "3514/3514 [==============================] - 13s 4ms/step - loss: 0.0019\n",
      "Epoch 12/20\n",
      "3514/3514 [==============================] - 13s 4ms/step - loss: 0.0017\n",
      "Epoch 13/20\n",
      "3514/3514 [==============================] - 13s 4ms/step - loss: 0.0016\n",
      "Epoch 14/20\n",
      "3514/3514 [==============================] - 13s 4ms/step - loss: 0.0015\n",
      "Epoch 15/20\n",
      "3514/3514 [==============================] - 13s 4ms/step - loss: 0.0015\n",
      "Epoch 16/20\n",
      "3514/3514 [==============================] - 15s 4ms/step - loss: 0.0014\n",
      "Epoch 17/20\n",
      "3514/3514 [==============================] - 16s 4ms/step - loss: 0.0014\n",
      "Epoch 18/20\n",
      "3514/3514 [==============================] - 16s 5ms/step - loss: 0.0014\n",
      "Epoch 19/20\n",
      "3514/3514 [==============================] - 15s 4ms/step - loss: 0.0013\n",
      "Epoch 20/20\n",
      "3514/3514 [==============================] - 16s 5ms/step - loss: 0.0013\n"
     ]
    },
    {
     "name": "stderr",
     "output_type": "stream",
     "text": [
      "2022-03-20 22:47:46.445400: W tensorflow/python/util/util.cc:368] Sets are not currently considered sequences, but this may change in the future, so consider avoiding using them.\n",
      "WARNING:absl:Found untraced functions such as leaky_re_lu_layer_call_fn, leaky_re_lu_layer_call_and_return_conditional_losses, leaky_re_lu_1_layer_call_fn, leaky_re_lu_1_layer_call_and_return_conditional_losses, leaky_re_lu_2_layer_call_fn while saving (showing 5 of 6). These functions will not be directly callable after loading.\n"
     ]
    },
    {
     "name": "stdout",
     "output_type": "stream",
     "text": [
      "INFO:tensorflow:Assets written to: really_basic_model_v2/assets\n"
     ]
    },
    {
     "name": "stderr",
     "output_type": "stream",
     "text": [
      "INFO:tensorflow:Assets written to: really_basic_model_v2/assets\n"
     ]
    }
   ],
   "source": [
    "from tensorflow.keras.models import Sequential\n",
    "from tensorflow.keras.layers import Dense, Activation\n",
    "\n",
    "model = Sequential()\n",
    "model.add(Dense(10, input_dim=processed_normal.values.shape[1], activation='LeakyReLU'))\n",
    "model.add(Dense(3, activation='LeakyReLU')) # size to compress to\n",
    "model.add(Dense(10, activation='LeakyReLU'))\n",
    "model.add(Dense(processed_normal.values.shape[1])) # Multiple output neurons\n",
    "model.compile(loss='mean_squared_error', optimizer='adam')\n",
    "model.fit(x_normal_train,x_normal_train,verbose=1,epochs=20)\n",
    "model.save(\"really_basic_model_v2\")"
   ]
  },
  {
   "cell_type": "code",
   "execution_count": 6,
   "id": "ee7a3575",
   "metadata": {},
   "outputs": [
    {
     "name": "stderr",
     "output_type": "stream",
     "text": [
      "2022-03-20 22:47:46.703568: I tensorflow/core/grappler/optimizers/custom_graph_optimizer_registry.cc:113] Plugin optimizer for device_type GPU is enabled.\n"
     ]
    },
    {
     "name": "stdout",
     "output_type": "stream",
     "text": [
      "0.03630142441765131\n",
      "0.03648013469466691\n"
     ]
    }
   ],
   "source": [
    "from sklearn import metrics\n",
    "pred_normal_train = model.predict(x_normal_train)\n",
    "print(np.sqrt(metrics.mean_squared_error(pred_normal_train,x_normal_train)))\n",
    "\n",
    "pred_normal_test = model.predict(x_normal_test)\n",
    "print(np.sqrt(metrics.mean_squared_error(pred_normal_test,x_normal_test)))"
   ]
  },
  {
   "cell_type": "code",
   "execution_count": 7,
   "id": "0fd3eb34",
   "metadata": {},
   "outputs": [],
   "source": [
    "pro_values = processed_attack.values\n",
    "pred_attack = model.predict(pro_values)"
   ]
  },
  {
   "cell_type": "code",
   "execution_count": 8,
   "id": "a5cc4ea7",
   "metadata": {},
   "outputs": [
    {
     "data": {
      "text/plain": [
       "<AxesSubplot:>"
      ]
     },
     "execution_count": 8,
     "metadata": {},
     "output_type": "execute_result"
    },
    {
     "data": {
      "image/png": "[encoded data removed]",
      "text/plain": [
       "<Figure size 432x288 with 1 Axes>"
      ]
     },
     "metadata": {
      "needs_background": "light"
     },
     "output_type": "display_data"
    }
   ],
   "source": [
    "score_list = []\n",
    "for index, x in enumerate(pred_attack):\n",
    "    score_list.append(np.sqrt(metrics.mean_squared_error(pred_attack[index],pro_values[index])))\n",
    "\n",
    "attack_df['score'] = score_list\n",
    "attack_df['score'].hist(bins = 100)"
   ]
  },
  {
   "cell_type": "code",
   "execution_count": 9,
   "id": "08aa2b33",
   "metadata": {},
   "outputs": [
    {
     "data": {
      "text/plain": [
       "0.0663657109001582"
      ]
     },
     "execution_count": 9,
     "metadata": {},
     "output_type": "execute_result"
    },
    {
     "data": {
      "image/png": "[encoded data removed]",
      "text/plain": [
       "<Figure size 432x288 with 1 Axes>"
      ]
     },
     "metadata": {
      "needs_background": "light"
     },
     "output_type": "display_data"
    }
   ],
   "source": [
    "nmap_df = attack_df[attack_df[\"ip.dst\"] == '89.100.107.148']\n",
    "\n",
    "\n",
    "# In[15]:\n",
    "\n",
    "\n",
    "nmap_df['score'].hist(bins = 100)\n",
    "\n",
    "\n",
    "# In[20]:\n",
    "\n",
    "\n",
    "nmap_df['score'].median()"
   ]
  },
  {
   "cell_type": "code",
   "execution_count": 11,
   "id": "c136697b",
   "metadata": {},
   "outputs": [
    {
     "data": {
      "text/plain": [
       "count    1070554.000000\n",
       "mean           0.027703\n",
       "std            0.019773\n",
       "min            0.008580\n",
       "25%            0.015772\n",
       "50%            0.022706\n",
       "75%            0.030520\n",
       "max            0.375144\n",
       "Name: score, dtype: object"
      ]
     },
     "execution_count": 11,
     "metadata": {},
     "output_type": "execute_result"
    }
   ],
   "source": [
    "attack_df['score'].describe().apply(lambda x: format(x, 'f'))"
   ]
  },
  {
   "cell_type": "code",
   "execution_count": 12,
   "id": "5ceae86e",
   "metadata": {},
   "outputs": [
    {
     "data": {
      "text/plain": [
       "count    41824.000000\n",
       "mean         0.066699\n",
       "std          0.007557\n",
       "min          0.046533\n",
       "25%          0.064898\n",
       "50%          0.066366\n",
       "75%          0.068778\n",
       "max          0.150119\n",
       "Name: score, dtype: object"
      ]
     },
     "execution_count": 12,
     "metadata": {},
     "output_type": "execute_result"
    }
   ],
   "source": [
    "nmap_df['score'].describe().apply(lambda x: format(x, 'f'))"
   ]
  },
  {
   "cell_type": "code",
   "execution_count": 16,
   "id": "d7855efc",
   "metadata": {},
   "outputs": [
    {
     "data": {
      "text/plain": [
       "0.06602165455534072"
      ]
     },
     "execution_count": 16,
     "metadata": {},
     "output_type": "execute_result"
    }
   ],
   "source": [
    "attack_df['score'].quantile(0.95)"
   ]
  },
  {
   "cell_type": "code",
   "execution_count": null,
   "id": "58e19e6b",
   "metadata": {},
   "outputs": [],
   "source": []
  }
 ],
 "metadata": {
  "kernelspec": {
   "display_name": "Python 3 (ipykernel)",
   "language": "python",
   "name": "python3"
  },
  "language_info": {
   "codemirror_mode": {
    "name": "ipython",
    "version": 3
   },
   "file_extension": ".py",
   "mimetype": "text/x-python",
   "name": "python",
   "nbconvert_exporter": "python",
   "pygments_lexer": "ipython3",
   "version": "3.9.10"
  }
 },
 "nbformat": 4,
 "nbformat_minor": 5
}

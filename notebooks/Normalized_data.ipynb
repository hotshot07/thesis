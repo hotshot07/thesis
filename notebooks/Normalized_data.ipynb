{
 "cells": [
  {
   "cell_type": "code",
   "execution_count": 1,
   "id": "8480e88a",
   "metadata": {},
   "outputs": [],
   "source": [
    "import pandas as pd\n",
    "import numpy as np\n",
    "import random\n",
    "from pre_normalize import process_df\n",
    "import matplotlib.pyplot as plt\n",
    "from sklearn.model_selection import train_test_split\n",
    "\n",
    "\n",
    "# In[2]:\n",
    "\n",
    "\n",
    "#normal_data\n",
    "normal_df = pd.read_csv('data/normal1.csv')\n",
    "processed_normal = process_df(normal_df)\n",
    "\n",
    "# # attack_data\n",
    "# attack_df = pd.read_csv('data/attack1.csv')\n",
    "# processed_attack = process_df(attack_df)"
   ]
  },
  {
   "cell_type": "code",
   "execution_count": 6,
   "id": "741ba8e3",
   "metadata": {},
   "outputs": [],
   "source": [
    "# # attack_data\n",
    "attack_df = pd.read_csv('data/attack1.csv')\n",
    "processed_attack = process_df(attack_df)"
   ]
  },
  {
   "cell_type": "code",
   "execution_count": 7,
   "id": "6b5be3ad",
   "metadata": {},
   "outputs": [],
   "source": [
    "from sklearn.decomposition import TruncatedSVD\n",
    "svd = TruncatedSVD(n_components=25, n_iter=5)\n",
    "svd_normal = svd.fit_transform(processed_normal.values)\n",
    "svd_attack = svd.fit_transform(processed_attack.values)\n",
    "\n",
    "\n",
    "# In[4]:\n",
    "\n",
    "\n",
    "from sklearn.model_selection import train_test_split\n",
    "\n",
    "x_normal_train, x_normal_test = train_test_split(\n",
    "    svd_normal, test_size=0.2, random_state=42)"
   ]
  },
  {
   "cell_type": "code",
   "execution_count": 8,
   "id": "7cf56adb",
   "metadata": {},
   "outputs": [
    {
     "name": "stderr",
     "output_type": "stream",
     "text": [
      "2022-03-18 21:19:48.433603: I tensorflow/core/common_runtime/pluggable_device/pluggable_device_factory.cc:305] Could not identify NUMA node of platform GPU ID 0, defaulting to 0. Your kernel may not have been built with NUMA support.\n",
      "2022-03-18 21:19:48.433701: I tensorflow/core/common_runtime/pluggable_device/pluggable_device_factory.cc:271] Created TensorFlow device (/job:localhost/replica:0/task:0/device:GPU:0 with 0 MB memory) -> physical PluggableDevice (device: 0, name: METAL, pci bus id: <undefined>)\n"
     ]
    },
    {
     "name": "stdout",
     "output_type": "stream",
     "text": [
      "Metal device set to: Apple M1 Pro\n",
      "Epoch 1/20\n"
     ]
    },
    {
     "name": "stderr",
     "output_type": "stream",
     "text": [
      "2022-03-18 21:19:48.819738: W tensorflow/core/platform/profile_utils/cpu_utils.cc:128] Failed to get CPU frequency: 0 Hz\n",
      "2022-03-18 21:19:48.940361: I tensorflow/core/grappler/optimizers/custom_graph_optimizer_registry.cc:113] Plugin optimizer for device_type GPU is enabled.\n"
     ]
    },
    {
     "name": "stdout",
     "output_type": "stream",
     "text": [
      "3514/3514 [==============================] - 16s 4ms/step - loss: 0.0753\n",
      "Epoch 2/20\n",
      "3514/3514 [==============================] - 14s 4ms/step - loss: 0.0399\n",
      "Epoch 3/20\n",
      "3514/3514 [==============================] - 14s 4ms/step - loss: 0.0368\n",
      "Epoch 4/20\n",
      "3514/3514 [==============================] - 14s 4ms/step - loss: 0.0354\n",
      "Epoch 5/20\n",
      "3514/3514 [==============================] - 13s 4ms/step - loss: 0.0340\n",
      "Epoch 6/20\n",
      "3514/3514 [==============================] - 13s 4ms/step - loss: 0.0330\n",
      "Epoch 7/20\n",
      "3514/3514 [==============================] - 13s 4ms/step - loss: 0.0323\n",
      "Epoch 8/20\n",
      "3514/3514 [==============================] - 13s 4ms/step - loss: 0.0317\n",
      "Epoch 9/20\n",
      "3514/3514 [==============================] - 13s 4ms/step - loss: 0.0311\n",
      "Epoch 10/20\n",
      "3514/3514 [==============================] - 13s 4ms/step - loss: 0.0306\n",
      "Epoch 11/20\n",
      "3514/3514 [==============================] - 13s 4ms/step - loss: 0.0301\n",
      "Epoch 12/20\n",
      "3514/3514 [==============================] - 14s 4ms/step - loss: 0.0298\n",
      "Epoch 13/20\n",
      "3514/3514 [==============================] - 13s 4ms/step - loss: 0.0295\n",
      "Epoch 14/20\n",
      "3514/3514 [==============================] - 13s 4ms/step - loss: 0.0293\n",
      "Epoch 15/20\n",
      "3514/3514 [==============================] - 13s 4ms/step - loss: 0.0291\n",
      "Epoch 16/20\n",
      "3514/3514 [==============================] - 13s 4ms/step - loss: 0.0289\n",
      "Epoch 17/20\n",
      "3514/3514 [==============================] - 13s 4ms/step - loss: 0.0287\n",
      "Epoch 18/20\n",
      "3514/3514 [==============================] - 13s 4ms/step - loss: 0.0285\n",
      "Epoch 19/20\n",
      "3514/3514 [==============================] - 13s 4ms/step - loss: 0.0283\n",
      "Epoch 20/20\n",
      "3514/3514 [==============================] - 13s 4ms/step - loss: 0.0281\n",
      "INFO:tensorflow:Assets written to: svd_normalized_5/assets\n"
     ]
    },
    {
     "name": "stderr",
     "output_type": "stream",
     "text": [
      "2022-03-18 21:24:19.851657: W tensorflow/python/util/util.cc:368] Sets are not currently considered sequences, but this may change in the future, so consider avoiding using them.\n"
     ]
    }
   ],
   "source": [
    "from tensorflow.keras.models import Sequential\n",
    "from tensorflow.keras.layers import Dense, Activation\n",
    "\n",
    "model = Sequential()\n",
    "model.add(Dense(20, input_dim=svd_normal.shape[1], activation='relu'))\n",
    "model.add(Dense(3, activation='relu')) # size to compress to\n",
    "model.add(Dense(20, activation='relu'))\n",
    "model.add(Dense(svd_normal.shape[1])) # Multiple output neurons\n",
    "model.compile(loss='mean_squared_error', optimizer='adam')\n",
    "model.fit(x_normal_train,x_normal_train,verbose=1,epochs=20)\n",
    "model.save(\"svd_normalized_5\")"
   ]
  },
  {
   "cell_type": "code",
   "execution_count": 9,
   "id": "a703a086",
   "metadata": {},
   "outputs": [
    {
     "name": "stderr",
     "output_type": "stream",
     "text": [
      "2022-03-18 21:26:45.434225: I tensorflow/core/grappler/optimizers/custom_graph_optimizer_registry.cc:113] Plugin optimizer for device_type GPU is enabled.\n"
     ]
    },
    {
     "name": "stdout",
     "output_type": "stream",
     "text": [
      "0.16718400120156296\n",
      "0.16737766153312866\n"
     ]
    },
    {
     "data": {
      "text/plain": [
       "<AxesSubplot:>"
      ]
     },
     "execution_count": 9,
     "metadata": {},
     "output_type": "execute_result"
    },
    {
     "data": {
      "image/png": "[encoded data removed]",
      "text/plain": [
       "<Figure size 432x288 with 1 Axes>"
      ]
     },
     "metadata": {
      "needs_background": "light"
     },
     "output_type": "display_data"
    }
   ],
   "source": [
    "from sklearn import metrics\n",
    "pred_normal_train = model.predict(x_normal_train)\n",
    "print(np.sqrt(metrics.mean_squared_error(pred_normal_train,x_normal_train)))\n",
    "\n",
    "\n",
    "# In[10]:\n",
    "\n",
    "\n",
    "pred_normal_test = model.predict(x_normal_test)\n",
    "print(np.sqrt(metrics.mean_squared_error(pred_normal_test,x_normal_test)))\n",
    "\n",
    "\n",
    "# In[12]:\n",
    "\n",
    "\n",
    "pred_attack = model.predict(svd_attack)\n",
    "\n",
    "score_list = []\n",
    "for index, x in enumerate(pred_attack):\n",
    "    score_list.append(np.sqrt(metrics.mean_squared_error(pred_attack[index],svd_attack[index])))\n",
    "\n",
    "attack_df['score'] = score_list\n",
    "\n",
    "\n",
    "# In[13]:\n",
    "\n",
    "\n",
    "attack_df['score'].hist(bins = 100)"
   ]
  },
  {
   "cell_type": "code",
   "execution_count": 10,
   "id": "5463b9fe",
   "metadata": {},
   "outputs": [
    {
     "data": {
      "text/plain": [
       "0.3644051152562114"
      ]
     },
     "execution_count": 10,
     "metadata": {},
     "output_type": "execute_result"
    },
    {
     "data": {
      "image/png": "[encoded data removed]",
      "text/plain": [
       "<Figure size 432x288 with 1 Axes>"
      ]
     },
     "metadata": {
      "needs_background": "light"
     },
     "output_type": "display_data"
    }
   ],
   "source": [
    "nmap_df = attack_df[attack_df[\"ip.dst\"] == '89.100.107.148']\n",
    "\n",
    "\n",
    "# In[15]:\n",
    "\n",
    "\n",
    "nmap_df['score'].hist(bins = 100)\n",
    "\n",
    "\n",
    "# In[20]:\n",
    "\n",
    "\n",
    "nmap_df['score'].min()"
   ]
  },
  {
   "cell_type": "code",
   "execution_count": 11,
   "id": "651c3f96",
   "metadata": {},
   "outputs": [
    {
     "data": {
      "text/plain": [
       "<AxesSubplot:>"
      ]
     },
     "execution_count": 11,
     "metadata": {},
     "output_type": "execute_result"
    },
    {
     "data": {
      "image/png": "[encoded data removed]",
      "text/plain": [
       "<Figure size 432x288 with 1 Axes>"
      ]
     },
     "metadata": {
      "needs_background": "light"
     },
     "output_type": "display_data"
    }
   ],
   "source": [
    "\n",
    "# In[21]:\n",
    "\n",
    "\n",
    "normal_wordpress = attack_df[attack_df[\"ip.dst\"] == '89.100.107.147']\n",
    "\n",
    "\n",
    "# In[23]:\n",
    "\n",
    "\n",
    "normal_wordpress['score'].hist(bins=100)"
   ]
  },
  {
   "cell_type": "code",
   "execution_count": 15,
   "id": "230164ce",
   "metadata": {},
   "outputs": [
    {
     "data": {
      "text/plain": [
       "89.100.107.148    41824\n",
       "Name: ip.dst, dtype: int64"
      ]
     },
     "execution_count": 15,
     "metadata": {},
     "output_type": "execute_result"
    }
   ],
   "source": [
    "nmap_df['ip.dst'].value_counts()"
   ]
  },
  {
   "cell_type": "code",
   "execution_count": 52,
   "id": "2dbc3223",
   "metadata": {},
   "outputs": [],
   "source": [
    "new_idea = normal_df.copy(deep = True)\n",
    "new_idea = normal_df[['timestamp','ip.src', 'ip.dst']]"
   ]
  },
  {
   "cell_type": "code",
   "execution_count": 53,
   "id": "5a2cbd8f",
   "metadata": {},
   "outputs": [
    {
     "name": "stderr",
     "output_type": "stream",
     "text": [
      "/var/folders/x4/thfll6l51jv22hkn1948hhgh0000gn/T/ipykernel_12029/3685194978.py:1: SettingWithCopyWarning: \n",
      "A value is trying to be set on a copy of a slice from a DataFrame.\n",
      "Try using .loc[row_indexer,col_indexer] = value instead\n",
      "\n",
      "See the caveats in the documentation: https://pandas.pydata.org/pandas-docs/stable/user_guide/indexing.html#returning-a-view-versus-a-copy\n",
      "  new_idea['packet'] = 1\n"
     ]
    }
   ],
   "source": [
    "new_idea['packet'] = 1"
   ]
  },
  {
   "cell_type": "code",
   "execution_count": 54,
   "id": "e0c6f250",
   "metadata": {},
   "outputs": [
    {
     "data": {
      "text/html": [
       "<div>\n",
       "<style scoped>\n",
       "    .dataframe tbody tr th:only-of-type {\n",
       "        vertical-align: middle;\n",
       "    }\n",
       "\n",
       "    .dataframe tbody tr th {\n",
       "        vertical-align: top;\n",
       "    }\n",
       "\n",
       "    .dataframe thead th {\n",
       "        text-align: right;\n",
       "    }\n",
       "</style>\n",
       "<table border=\"1\" class=\"dataframe\">\n",
       "  <thead>\n",
       "    <tr style=\"text-align: right;\">\n",
       "      <th></th>\n",
       "      <th>timestamp</th>\n",
       "      <th>ip.src</th>\n",
       "      <th>ip.dst</th>\n",
       "      <th>packet</th>\n",
       "    </tr>\n",
       "  </thead>\n",
       "  <tbody>\n",
       "    <tr>\n",
       "      <th>0</th>\n",
       "      <td>1.647531e+09</td>\n",
       "      <td>10.244.0.15</td>\n",
       "      <td>10.244.0.14</td>\n",
       "      <td>1</td>\n",
       "    </tr>\n",
       "    <tr>\n",
       "      <th>1</th>\n",
       "      <td>1.647531e+09</td>\n",
       "      <td>10.244.0.15</td>\n",
       "      <td>10.244.0.14</td>\n",
       "      <td>1</td>\n",
       "    </tr>\n",
       "    <tr>\n",
       "      <th>2</th>\n",
       "      <td>1.647531e+09</td>\n",
       "      <td>10.244.0.14</td>\n",
       "      <td>10.244.0.15</td>\n",
       "      <td>1</td>\n",
       "    </tr>\n",
       "    <tr>\n",
       "      <th>3</th>\n",
       "      <td>1.647531e+09</td>\n",
       "      <td>10.244.0.14</td>\n",
       "      <td>10.244.0.15</td>\n",
       "      <td>1</td>\n",
       "    </tr>\n",
       "    <tr>\n",
       "      <th>4</th>\n",
       "      <td>1.647531e+09</td>\n",
       "      <td>10.244.0.14</td>\n",
       "      <td>10.244.0.15</td>\n",
       "      <td>1</td>\n",
       "    </tr>\n",
       "    <tr>\n",
       "      <th>...</th>\n",
       "      <td>...</td>\n",
       "      <td>...</td>\n",
       "      <td>...</td>\n",
       "      <td>...</td>\n",
       "    </tr>\n",
       "    <tr>\n",
       "      <th>140533</th>\n",
       "      <td>1.647532e+09</td>\n",
       "      <td>10.244.0.9</td>\n",
       "      <td>10.244.0.1</td>\n",
       "      <td>1</td>\n",
       "    </tr>\n",
       "    <tr>\n",
       "      <th>140534</th>\n",
       "      <td>1.647532e+09</td>\n",
       "      <td>10.244.0.1</td>\n",
       "      <td>10.244.0.9</td>\n",
       "      <td>1</td>\n",
       "    </tr>\n",
       "    <tr>\n",
       "      <th>140535</th>\n",
       "      <td>1.647532e+09</td>\n",
       "      <td>10.244.0.9</td>\n",
       "      <td>10.244.0.1</td>\n",
       "      <td>1</td>\n",
       "    </tr>\n",
       "    <tr>\n",
       "      <th>140536</th>\n",
       "      <td>1.647532e+09</td>\n",
       "      <td>10.244.0.1</td>\n",
       "      <td>10.244.0.9</td>\n",
       "      <td>1</td>\n",
       "    </tr>\n",
       "    <tr>\n",
       "      <th>140537</th>\n",
       "      <td>1.647532e+09</td>\n",
       "      <td>10.244.0.9</td>\n",
       "      <td>10.244.0.1</td>\n",
       "      <td>1</td>\n",
       "    </tr>\n",
       "  </tbody>\n",
       "</table>\n",
       "<p>140538 rows × 4 columns</p>\n",
       "</div>"
      ],
      "text/plain": [
       "           timestamp       ip.src       ip.dst  packet\n",
       "0       1.647531e+09  10.244.0.15  10.244.0.14       1\n",
       "1       1.647531e+09  10.244.0.15  10.244.0.14       1\n",
       "2       1.647531e+09  10.244.0.14  10.244.0.15       1\n",
       "3       1.647531e+09  10.244.0.14  10.244.0.15       1\n",
       "4       1.647531e+09  10.244.0.14  10.244.0.15       1\n",
       "...              ...          ...          ...     ...\n",
       "140533  1.647532e+09   10.244.0.9   10.244.0.1       1\n",
       "140534  1.647532e+09   10.244.0.1   10.244.0.9       1\n",
       "140535  1.647532e+09   10.244.0.9   10.244.0.1       1\n",
       "140536  1.647532e+09   10.244.0.1   10.244.0.9       1\n",
       "140537  1.647532e+09   10.244.0.9   10.244.0.1       1\n",
       "\n",
       "[140538 rows x 4 columns]"
      ]
     },
     "execution_count": 54,
     "metadata": {},
     "output_type": "execute_result"
    }
   ],
   "source": [
    "new_idea"
   ]
  },
  {
   "cell_type": "code",
   "execution_count": 55,
   "id": "236c008f",
   "metadata": {},
   "outputs": [
    {
     "name": "stderr",
     "output_type": "stream",
     "text": [
      "/var/folders/x4/thfll6l51jv22hkn1948hhgh0000gn/T/ipykernel_12029/1890510397.py:2: SettingWithCopyWarning: \n",
      "A value is trying to be set on a copy of a slice from a DataFrame.\n",
      "Try using .loc[row_indexer,col_indexer] = value instead\n",
      "\n",
      "See the caveats in the documentation: https://pandas.pydata.org/pandas-docs/stable/user_guide/indexing.html#returning-a-view-versus-a-copy\n",
      "  new_idea['timestamp'] = new_idea['timestamp'].apply(lambda x:datetime.fromtimestamp(x))\n"
     ]
    }
   ],
   "source": [
    "from datetime import datetime\n",
    "new_idea['timestamp'] = new_idea['timestamp'].apply(lambda x:datetime.fromtimestamp(x))\n",
    "new_idea = new_idea.set_index('timestamp')"
   ]
  },
  {
   "cell_type": "code",
   "execution_count": 58,
   "id": "59edd690",
   "metadata": {},
   "outputs": [],
   "source": [
    "new_idea = new_idea.resample('1S').sum()"
   ]
  },
  {
   "cell_type": "code",
   "execution_count": 59,
   "id": "da26c957",
   "metadata": {},
   "outputs": [
    {
     "data": {
      "text/plain": [
       "76     11\n",
       "86      9\n",
       "75      8\n",
       "35      7\n",
       "109     7\n",
       "       ..\n",
       "778     1\n",
       "796     1\n",
       "818     1\n",
       "137     1\n",
       "936     1\n",
       "Name: packet, Length: 280, dtype: int64"
      ]
     },
     "execution_count": 59,
     "metadata": {},
     "output_type": "execute_result"
    }
   ],
   "source": [
    "new_idea['packet'].value_counts()"
   ]
  },
  {
   "cell_type": "code",
   "execution_count": 65,
   "id": "afd7c3f3",
   "metadata": {},
   "outputs": [],
   "source": [
    "new_idea['timestamp_utc'] = new_idea.index"
   ]
  },
  {
   "cell_type": "code",
   "execution_count": 67,
   "id": "9acc0cf2",
   "metadata": {},
   "outputs": [],
   "source": [
    "new_idea['timestamp_utc'] = new_idea['timestamp_utc'].apply(lambda x: datetime.timestamp(x)) "
   ]
  },
  {
   "cell_type": "code",
   "execution_count": 69,
   "id": "07d92ad3",
   "metadata": {},
   "outputs": [
    {
     "data": {
      "text/html": [
       "<div>\n",
       "<style scoped>\n",
       "    .dataframe tbody tr th:only-of-type {\n",
       "        vertical-align: middle;\n",
       "    }\n",
       "\n",
       "    .dataframe tbody tr th {\n",
       "        vertical-align: top;\n",
       "    }\n",
       "\n",
       "    .dataframe thead th {\n",
       "        text-align: right;\n",
       "    }\n",
       "</style>\n",
       "<table border=\"1\" class=\"dataframe\">\n",
       "  <thead>\n",
       "    <tr style=\"text-align: right;\">\n",
       "      <th></th>\n",
       "      <th>packet</th>\n",
       "      <th>timestamp_utc</th>\n",
       "    </tr>\n",
       "    <tr>\n",
       "      <th>timestamp</th>\n",
       "      <th></th>\n",
       "      <th></th>\n",
       "    </tr>\n",
       "  </thead>\n",
       "  <tbody>\n",
       "    <tr>\n",
       "      <th>2022-03-17 15:37:42</th>\n",
       "      <td>209</td>\n",
       "      <td>1.647531e+09</td>\n",
       "    </tr>\n",
       "    <tr>\n",
       "      <th>2022-03-17 15:37:43</th>\n",
       "      <td>72</td>\n",
       "      <td>1.647531e+09</td>\n",
       "    </tr>\n",
       "    <tr>\n",
       "      <th>2022-03-17 15:37:44</th>\n",
       "      <td>644</td>\n",
       "      <td>1.647531e+09</td>\n",
       "    </tr>\n",
       "    <tr>\n",
       "      <th>2022-03-17 15:37:45</th>\n",
       "      <td>86</td>\n",
       "      <td>1.647531e+09</td>\n",
       "    </tr>\n",
       "    <tr>\n",
       "      <th>2022-03-17 15:37:46</th>\n",
       "      <td>560</td>\n",
       "      <td>1.647531e+09</td>\n",
       "    </tr>\n",
       "    <tr>\n",
       "      <th>...</th>\n",
       "      <td>...</td>\n",
       "      <td>...</td>\n",
       "    </tr>\n",
       "    <tr>\n",
       "      <th>2022-03-17 15:47:36</th>\n",
       "      <td>182</td>\n",
       "      <td>1.647532e+09</td>\n",
       "    </tr>\n",
       "    <tr>\n",
       "      <th>2022-03-17 15:47:37</th>\n",
       "      <td>936</td>\n",
       "      <td>1.647532e+09</td>\n",
       "    </tr>\n",
       "    <tr>\n",
       "      <th>2022-03-17 15:47:38</th>\n",
       "      <td>92</td>\n",
       "      <td>1.647532e+09</td>\n",
       "    </tr>\n",
       "    <tr>\n",
       "      <th>2022-03-17 15:47:39</th>\n",
       "      <td>126</td>\n",
       "      <td>1.647532e+09</td>\n",
       "    </tr>\n",
       "    <tr>\n",
       "      <th>2022-03-17 15:47:40</th>\n",
       "      <td>73</td>\n",
       "      <td>1.647532e+09</td>\n",
       "    </tr>\n",
       "  </tbody>\n",
       "</table>\n",
       "<p>599 rows × 2 columns</p>\n",
       "</div>"
      ],
      "text/plain": [
       "                     packet  timestamp_utc\n",
       "timestamp                                 \n",
       "2022-03-17 15:37:42     209   1.647531e+09\n",
       "2022-03-17 15:37:43      72   1.647531e+09\n",
       "2022-03-17 15:37:44     644   1.647531e+09\n",
       "2022-03-17 15:37:45      86   1.647531e+09\n",
       "2022-03-17 15:37:46     560   1.647531e+09\n",
       "...                     ...            ...\n",
       "2022-03-17 15:47:36     182   1.647532e+09\n",
       "2022-03-17 15:47:37     936   1.647532e+09\n",
       "2022-03-17 15:47:38      92   1.647532e+09\n",
       "2022-03-17 15:47:39     126   1.647532e+09\n",
       "2022-03-17 15:47:40      73   1.647532e+09\n",
       "\n",
       "[599 rows x 2 columns]"
      ]
     },
     "execution_count": 69,
     "metadata": {},
     "output_type": "execute_result"
    }
   ],
   "source": [
    "new_idea"
   ]
  },
  {
   "cell_type": "code",
   "execution_count": 88,
   "id": "287d04ae",
   "metadata": {},
   "outputs": [],
   "source": [
    "time_list = []\n",
    "packet_list = list(new_idea['packet'])\n",
    "big_time_list = list(map(int, list(normal_df['timestamp'])))\n",
    "utc_list = list(new_idea['timestamp_utc'])"
   ]
  },
  {
   "cell_type": "code",
   "execution_count": 95,
   "id": "b426aadf",
   "metadata": {},
   "outputs": [],
   "source": [
    "big_packet_list = []\n",
    "for x in packet_list:\n",
    "    big_packet_list += [x]*x"
   ]
  },
  {
   "cell_type": "code",
   "execution_count": 96,
   "id": "b8cf460e",
   "metadata": {},
   "outputs": [
    {
     "data": {
      "text/plain": [
       "140538"
      ]
     },
     "execution_count": 96,
     "metadata": {},
     "output_type": "execute_result"
    }
   ],
   "source": [
    "len(big_packet_list)"
   ]
  },
  {
   "cell_type": "code",
   "execution_count": null,
   "id": "99ff2844",
   "metadata": {},
   "outputs": [],
   "source": [
    "\n",
    "    "
   ]
  },
  {
   "cell_type": "code",
   "execution_count": null,
   "id": "6d3fd279",
   "metadata": {},
   "outputs": [],
   "source": []
  },
  {
   "cell_type": "code",
   "execution_count": null,
   "id": "3d3937bf",
   "metadata": {},
   "outputs": [],
   "source": []
  },
  {
   "cell_type": "code",
   "execution_count": null,
   "id": "b4837d36",
   "metadata": {},
   "outputs": [],
   "source": []
  }
 ],
 "metadata": {
  "kernelspec": {
   "display_name": "Python 3 (ipykernel)",
   "language": "python",
   "name": "python3"
  },
  "language_info": {
   "codemirror_mode": {
    "name": "ipython",
    "version": 3
   },
   "file_extension": ".py",
   "mimetype": "text/x-python",
   "name": "python",
   "nbconvert_exporter": "python",
   "pygments_lexer": "ipython3",
   "version": "3.9.10"
  }
 },
 "nbformat": 4,
 "nbformat_minor": 5
}

{
 "cells": [
  {
   "cell_type": "code",
   "execution_count": 1,
   "id": "dbbdd871",
   "metadata": {},
   "outputs": [],
   "source": [
    "import pandas as pd\n",
    "import numpy as np\n",
    "import random\n",
    "from preprocess_with_packet_flow_no_load import process_df\n",
    "import matplotlib.pyplot as plt\n",
    "from sklearn.model_selection import train_test_split\n",
    "\n",
    "\n",
    "normal_df = pd.read_csv('data/normal1.csv')\n",
    "attack_df = pd.read_csv('data/attack1.csv')\n",
    "nmap_df = attack_df[attack_df[\"ip.dst\"] == '89.100.107.148']"
   ]
  },
  {
   "cell_type": "code",
   "execution_count": 2,
   "id": "faa99f8e",
   "metadata": {},
   "outputs": [
    {
     "name": "stderr",
     "output_type": "stream",
     "text": [
      "/var/folders/x4/thfll6l51jv22hkn1948hhgh0000gn/T/ipykernel_21751/1077430313.py:2: SettingWithCopyWarning: \n",
      "A value is trying to be set on a copy of a slice from a DataFrame.\n",
      "Try using .loc[row_indexer,col_indexer] = value instead\n",
      "\n",
      "See the caveats in the documentation: https://pandas.pydata.org/pandas-docs/stable/user_guide/indexing.html#returning-a-view-versus-a-copy\n",
      "  nmap_df['class'] = 1\n"
     ]
    }
   ],
   "source": [
    "normal_df['class'] = 0\n",
    "nmap_df['class'] = 1\n",
    "supervised_df = pd.concat([normal_df,nmap_df], axis = 0, ignore_index=True)"
   ]
  },
  {
   "cell_type": "code",
   "execution_count": 3,
   "id": "83ceea3b",
   "metadata": {},
   "outputs": [
    {
     "data": {
      "text/html": [
       "<div>\n",
       "<style scoped>\n",
       "    .dataframe tbody tr th:only-of-type {\n",
       "        vertical-align: middle;\n",
       "    }\n",
       "\n",
       "    .dataframe tbody tr th {\n",
       "        vertical-align: top;\n",
       "    }\n",
       "\n",
       "    .dataframe thead th {\n",
       "        text-align: right;\n",
       "    }\n",
       "</style>\n",
       "<table border=\"1\" class=\"dataframe\">\n",
       "  <thead>\n",
       "    <tr style=\"text-align: right;\">\n",
       "      <th></th>\n",
       "      <th>length</th>\n",
       "      <th>timestamp</th>\n",
       "      <th>eth.src</th>\n",
       "      <th>eth.dst</th>\n",
       "      <th>eth.type</th>\n",
       "      <th>ip.src</th>\n",
       "      <th>ip.dst</th>\n",
       "      <th>ip.version</th>\n",
       "      <th>ip.proto</th>\n",
       "      <th>ip.len</th>\n",
       "      <th>...</th>\n",
       "      <th>load_14</th>\n",
       "      <th>load_15</th>\n",
       "      <th>load_16</th>\n",
       "      <th>load_17</th>\n",
       "      <th>load_18</th>\n",
       "      <th>load_19</th>\n",
       "      <th>protocol</th>\n",
       "      <th>protocol.sport</th>\n",
       "      <th>protocol.dport</th>\n",
       "      <th>class</th>\n",
       "    </tr>\n",
       "  </thead>\n",
       "  <tbody>\n",
       "    <tr>\n",
       "      <th>0</th>\n",
       "      <td>144</td>\n",
       "      <td>1.647531e+09</td>\n",
       "      <td>6a:77:c0:85:72:c3</td>\n",
       "      <td>ce:4c:77:6b:35:fc</td>\n",
       "      <td>2048</td>\n",
       "      <td>10.244.0.15</td>\n",
       "      <td>10.244.0.14</td>\n",
       "      <td>4</td>\n",
       "      <td>6</td>\n",
       "      <td>130</td>\n",
       "      <td>...</td>\n",
       "      <td>4</td>\n",
       "      <td>12</td>\n",
       "      <td>4</td>\n",
       "      <td>5</td>\n",
       "      <td>4</td>\n",
       "      <td>3</td>\n",
       "      <td>TCP</td>\n",
       "      <td>52866</td>\n",
       "      <td>3306</td>\n",
       "      <td>0</td>\n",
       "    </tr>\n",
       "    <tr>\n",
       "      <th>1</th>\n",
       "      <td>144</td>\n",
       "      <td>1.647531e+09</td>\n",
       "      <td>ba:c6:5f:04:4f:62</td>\n",
       "      <td>ce:4c:77:6b:35:fc</td>\n",
       "      <td>2048</td>\n",
       "      <td>10.244.0.15</td>\n",
       "      <td>10.244.0.14</td>\n",
       "      <td>4</td>\n",
       "      <td>6</td>\n",
       "      <td>130</td>\n",
       "      <td>...</td>\n",
       "      <td>4</td>\n",
       "      <td>12</td>\n",
       "      <td>4</td>\n",
       "      <td>5</td>\n",
       "      <td>4</td>\n",
       "      <td>3</td>\n",
       "      <td>TCP</td>\n",
       "      <td>52866</td>\n",
       "      <td>3306</td>\n",
       "      <td>0</td>\n",
       "    </tr>\n",
       "    <tr>\n",
       "      <th>2</th>\n",
       "      <td>66</td>\n",
       "      <td>1.647531e+09</td>\n",
       "      <td>ce:4c:77:6b:35:fc</td>\n",
       "      <td>6a:77:c0:85:72:c3</td>\n",
       "      <td>2048</td>\n",
       "      <td>10.244.0.14</td>\n",
       "      <td>10.244.0.15</td>\n",
       "      <td>4</td>\n",
       "      <td>6</td>\n",
       "      <td>52</td>\n",
       "      <td>...</td>\n",
       "      <td>0</td>\n",
       "      <td>0</td>\n",
       "      <td>0</td>\n",
       "      <td>0</td>\n",
       "      <td>0</td>\n",
       "      <td>0</td>\n",
       "      <td>TCP</td>\n",
       "      <td>3306</td>\n",
       "      <td>52866</td>\n",
       "      <td>0</td>\n",
       "    </tr>\n",
       "    <tr>\n",
       "      <th>3</th>\n",
       "      <td>78</td>\n",
       "      <td>1.647531e+09</td>\n",
       "      <td>ce:4c:77:6b:35:fc</td>\n",
       "      <td>6a:77:c0:85:72:c3</td>\n",
       "      <td>2048</td>\n",
       "      <td>10.244.0.14</td>\n",
       "      <td>10.244.0.15</td>\n",
       "      <td>4</td>\n",
       "      <td>6</td>\n",
       "      <td>64</td>\n",
       "      <td>...</td>\n",
       "      <td>0</td>\n",
       "      <td>0</td>\n",
       "      <td>0</td>\n",
       "      <td>0</td>\n",
       "      <td>0</td>\n",
       "      <td>0</td>\n",
       "      <td>TCP</td>\n",
       "      <td>3306</td>\n",
       "      <td>52866</td>\n",
       "      <td>0</td>\n",
       "    </tr>\n",
       "    <tr>\n",
       "      <th>4</th>\n",
       "      <td>186</td>\n",
       "      <td>1.647531e+09</td>\n",
       "      <td>ce:4c:77:6b:35:fc</td>\n",
       "      <td>6a:77:c0:85:72:c3</td>\n",
       "      <td>2048</td>\n",
       "      <td>10.244.0.14</td>\n",
       "      <td>10.244.0.15</td>\n",
       "      <td>4</td>\n",
       "      <td>6</td>\n",
       "      <td>172</td>\n",
       "      <td>...</td>\n",
       "      <td>0</td>\n",
       "      <td>0</td>\n",
       "      <td>0</td>\n",
       "      <td>2</td>\n",
       "      <td>0</td>\n",
       "      <td>3</td>\n",
       "      <td>TCP</td>\n",
       "      <td>3306</td>\n",
       "      <td>52866</td>\n",
       "      <td>0</td>\n",
       "    </tr>\n",
       "    <tr>\n",
       "      <th>...</th>\n",
       "      <td>...</td>\n",
       "      <td>...</td>\n",
       "      <td>...</td>\n",
       "      <td>...</td>\n",
       "      <td>...</td>\n",
       "      <td>...</td>\n",
       "      <td>...</td>\n",
       "      <td>...</td>\n",
       "      <td>...</td>\n",
       "      <td>...</td>\n",
       "      <td>...</td>\n",
       "      <td>...</td>\n",
       "      <td>...</td>\n",
       "      <td>...</td>\n",
       "      <td>...</td>\n",
       "      <td>...</td>\n",
       "      <td>...</td>\n",
       "      <td>...</td>\n",
       "      <td>...</td>\n",
       "      <td>...</td>\n",
       "      <td>...</td>\n",
       "    </tr>\n",
       "    <tr>\n",
       "      <th>182357</th>\n",
       "      <td>66</td>\n",
       "      <td>1.647534e+09</td>\n",
       "      <td>6a:77:c0:85:72:c3</td>\n",
       "      <td>ba:c6:5f:04:4f:62</td>\n",
       "      <td>2048</td>\n",
       "      <td>10.244.0.15</td>\n",
       "      <td>89.100.107.148</td>\n",
       "      <td>4</td>\n",
       "      <td>6</td>\n",
       "      <td>52</td>\n",
       "      <td>...</td>\n",
       "      <td>0</td>\n",
       "      <td>0</td>\n",
       "      <td>0</td>\n",
       "      <td>0</td>\n",
       "      <td>0</td>\n",
       "      <td>0</td>\n",
       "      <td>TCP</td>\n",
       "      <td>8080</td>\n",
       "      <td>42152</td>\n",
       "      <td>1</td>\n",
       "    </tr>\n",
       "    <tr>\n",
       "      <th>182358</th>\n",
       "      <td>581</td>\n",
       "      <td>1.647534e+09</td>\n",
       "      <td>6a:77:c0:85:72:c3</td>\n",
       "      <td>ba:c6:5f:04:4f:62</td>\n",
       "      <td>2048</td>\n",
       "      <td>10.244.0.15</td>\n",
       "      <td>89.100.107.148</td>\n",
       "      <td>4</td>\n",
       "      <td>6</td>\n",
       "      <td>567</td>\n",
       "      <td>...</td>\n",
       "      <td>3</td>\n",
       "      <td>1</td>\n",
       "      <td>2</td>\n",
       "      <td>0</td>\n",
       "      <td>3</td>\n",
       "      <td>2</td>\n",
       "      <td>TCP</td>\n",
       "      <td>8080</td>\n",
       "      <td>42248</td>\n",
       "      <td>1</td>\n",
       "    </tr>\n",
       "    <tr>\n",
       "      <th>182359</th>\n",
       "      <td>66</td>\n",
       "      <td>1.647534e+09</td>\n",
       "      <td>6a:77:c0:85:72:c3</td>\n",
       "      <td>ba:c6:5f:04:4f:62</td>\n",
       "      <td>2048</td>\n",
       "      <td>10.244.0.15</td>\n",
       "      <td>89.100.107.148</td>\n",
       "      <td>4</td>\n",
       "      <td>6</td>\n",
       "      <td>52</td>\n",
       "      <td>...</td>\n",
       "      <td>0</td>\n",
       "      <td>0</td>\n",
       "      <td>0</td>\n",
       "      <td>0</td>\n",
       "      <td>0</td>\n",
       "      <td>0</td>\n",
       "      <td>TCP</td>\n",
       "      <td>8080</td>\n",
       "      <td>42248</td>\n",
       "      <td>1</td>\n",
       "    </tr>\n",
       "    <tr>\n",
       "      <th>182360</th>\n",
       "      <td>581</td>\n",
       "      <td>1.647534e+09</td>\n",
       "      <td>6a:77:c0:85:72:c3</td>\n",
       "      <td>ba:c6:5f:04:4f:62</td>\n",
       "      <td>2048</td>\n",
       "      <td>10.244.0.15</td>\n",
       "      <td>89.100.107.148</td>\n",
       "      <td>4</td>\n",
       "      <td>6</td>\n",
       "      <td>567</td>\n",
       "      <td>...</td>\n",
       "      <td>3</td>\n",
       "      <td>1</td>\n",
       "      <td>2</td>\n",
       "      <td>0</td>\n",
       "      <td>3</td>\n",
       "      <td>2</td>\n",
       "      <td>TCP</td>\n",
       "      <td>8080</td>\n",
       "      <td>42106</td>\n",
       "      <td>1</td>\n",
       "    </tr>\n",
       "    <tr>\n",
       "      <th>182361</th>\n",
       "      <td>66</td>\n",
       "      <td>1.647534e+09</td>\n",
       "      <td>6a:77:c0:85:72:c3</td>\n",
       "      <td>ba:c6:5f:04:4f:62</td>\n",
       "      <td>2048</td>\n",
       "      <td>10.244.0.15</td>\n",
       "      <td>89.100.107.148</td>\n",
       "      <td>4</td>\n",
       "      <td>6</td>\n",
       "      <td>52</td>\n",
       "      <td>...</td>\n",
       "      <td>0</td>\n",
       "      <td>0</td>\n",
       "      <td>0</td>\n",
       "      <td>0</td>\n",
       "      <td>0</td>\n",
       "      <td>0</td>\n",
       "      <td>TCP</td>\n",
       "      <td>8080</td>\n",
       "      <td>42106</td>\n",
       "      <td>1</td>\n",
       "    </tr>\n",
       "  </tbody>\n",
       "</table>\n",
       "<p>182362 rows × 57 columns</p>\n",
       "</div>"
      ],
      "text/plain": [
       "        length     timestamp            eth.src            eth.dst  eth.type  \\\n",
       "0          144  1.647531e+09  6a:77:c0:85:72:c3  ce:4c:77:6b:35:fc      2048   \n",
       "1          144  1.647531e+09  ba:c6:5f:04:4f:62  ce:4c:77:6b:35:fc      2048   \n",
       "2           66  1.647531e+09  ce:4c:77:6b:35:fc  6a:77:c0:85:72:c3      2048   \n",
       "3           78  1.647531e+09  ce:4c:77:6b:35:fc  6a:77:c0:85:72:c3      2048   \n",
       "4          186  1.647531e+09  ce:4c:77:6b:35:fc  6a:77:c0:85:72:c3      2048   \n",
       "...        ...           ...                ...                ...       ...   \n",
       "182357      66  1.647534e+09  6a:77:c0:85:72:c3  ba:c6:5f:04:4f:62      2048   \n",
       "182358     581  1.647534e+09  6a:77:c0:85:72:c3  ba:c6:5f:04:4f:62      2048   \n",
       "182359      66  1.647534e+09  6a:77:c0:85:72:c3  ba:c6:5f:04:4f:62      2048   \n",
       "182360     581  1.647534e+09  6a:77:c0:85:72:c3  ba:c6:5f:04:4f:62      2048   \n",
       "182361      66  1.647534e+09  6a:77:c0:85:72:c3  ba:c6:5f:04:4f:62      2048   \n",
       "\n",
       "             ip.src          ip.dst  ip.version  ip.proto  ip.len  ...  \\\n",
       "0       10.244.0.15     10.244.0.14           4         6     130  ...   \n",
       "1       10.244.0.15     10.244.0.14           4         6     130  ...   \n",
       "2       10.244.0.14     10.244.0.15           4         6      52  ...   \n",
       "3       10.244.0.14     10.244.0.15           4         6      64  ...   \n",
       "4       10.244.0.14     10.244.0.15           4         6     172  ...   \n",
       "...             ...             ...         ...       ...     ...  ...   \n",
       "182357  10.244.0.15  89.100.107.148           4         6      52  ...   \n",
       "182358  10.244.0.15  89.100.107.148           4         6     567  ...   \n",
       "182359  10.244.0.15  89.100.107.148           4         6      52  ...   \n",
       "182360  10.244.0.15  89.100.107.148           4         6     567  ...   \n",
       "182361  10.244.0.15  89.100.107.148           4         6      52  ...   \n",
       "\n",
       "        load_14  load_15  load_16  load_17  load_18  load_19  protocol  \\\n",
       "0             4       12        4        5        4        3       TCP   \n",
       "1             4       12        4        5        4        3       TCP   \n",
       "2             0        0        0        0        0        0       TCP   \n",
       "3             0        0        0        0        0        0       TCP   \n",
       "4             0        0        0        2        0        3       TCP   \n",
       "...         ...      ...      ...      ...      ...      ...       ...   \n",
       "182357        0        0        0        0        0        0       TCP   \n",
       "182358        3        1        2        0        3        2       TCP   \n",
       "182359        0        0        0        0        0        0       TCP   \n",
       "182360        3        1        2        0        3        2       TCP   \n",
       "182361        0        0        0        0        0        0       TCP   \n",
       "\n",
       "        protocol.sport  protocol.dport  class  \n",
       "0                52866            3306      0  \n",
       "1                52866            3306      0  \n",
       "2                 3306           52866      0  \n",
       "3                 3306           52866      0  \n",
       "4                 3306           52866      0  \n",
       "...                ...             ...    ...  \n",
       "182357            8080           42152      1  \n",
       "182358            8080           42248      1  \n",
       "182359            8080           42248      1  \n",
       "182360            8080           42106      1  \n",
       "182361            8080           42106      1  \n",
       "\n",
       "[182362 rows x 57 columns]"
      ]
     },
     "execution_count": 3,
     "metadata": {},
     "output_type": "execute_result"
    }
   ],
   "source": [
    "supervised_df"
   ]
  },
  {
   "cell_type": "code",
   "execution_count": 4,
   "id": "561a1f28",
   "metadata": {},
   "outputs": [],
   "source": [
    "processed_supervised = process_df(supervised_df)"
   ]
  },
  {
   "cell_type": "code",
   "execution_count": 5,
   "id": "29515e02",
   "metadata": {},
   "outputs": [],
   "source": [
    "processed_supervised['class'] = list(supervised_df['class'])"
   ]
  },
  {
   "cell_type": "code",
   "execution_count": 12,
   "id": "5f403350",
   "metadata": {},
   "outputs": [],
   "source": [
    "from sklearn.model_selection import StratifiedShuffleSplit\n",
    "split = StratifiedShuffleSplit(n_splits=1, test_size=0.2, random_state=42)\n",
    "for train_index, test_index in split.split(processed_supervised, processed_supervised[\"class\"]):\n",
    "        strat_train_set = processed_supervised.loc[train_index]\n",
    "        strat_test_set = processed_supervised.loc[test_index]"
   ]
  },
  {
   "cell_type": "code",
   "execution_count": 13,
   "id": "9cc9881f",
   "metadata": {},
   "outputs": [],
   "source": [
    "train_set = strat_train_set.drop(\"class\", axis=1)\n",
    "labels = strat_train_set['class'].copy()"
   ]
  },
  {
   "cell_type": "code",
   "execution_count": 20,
   "id": "e5a96db4",
   "metadata": {},
   "outputs": [
    {
     "name": "stdout",
     "output_type": "stream",
     "text": [
      "Epoch 1/10\n",
      "  22/2280 [..............................] - ETA: 11s - loss: 0.5506 - accuracy: 0.7351"
     ]
    },
    {
     "name": "stderr",
     "output_type": "stream",
     "text": [
      "2022-03-19 14:30:38.247110: I tensorflow/core/grappler/optimizers/custom_graph_optimizer_registry.cc:113] Plugin optimizer for device_type GPU is enabled.\n"
     ]
    },
    {
     "name": "stdout",
     "output_type": "stream",
     "text": [
      "2280/2280 [==============================] - 10s 4ms/step - loss: 0.0429 - accuracy: 0.9847\n",
      "Epoch 2/10\n",
      "2280/2280 [==============================] - 10s 4ms/step - loss: 0.0084 - accuracy: 0.9980\n",
      "Epoch 3/10\n",
      "2280/2280 [==============================] - 10s 4ms/step - loss: 0.0069 - accuracy: 0.9985\n",
      "Epoch 4/10\n",
      "2280/2280 [==============================] - 10s 5ms/step - loss: 0.0063 - accuracy: 0.9988\n",
      "Epoch 5/10\n",
      "2280/2280 [==============================] - 10s 4ms/step - loss: 0.0060 - accuracy: 0.9989\n",
      "Epoch 6/10\n",
      "2280/2280 [==============================] - 10s 5ms/step - loss: 0.0059 - accuracy: 0.9989\n",
      "Epoch 7/10\n",
      "2280/2280 [==============================] - 10s 5ms/step - loss: 0.0057 - accuracy: 0.9989\n",
      "Epoch 8/10\n",
      "2280/2280 [==============================] - 11s 5ms/step - loss: 0.0056 - accuracy: 0.9989\n",
      "Epoch 9/10\n",
      "2280/2280 [==============================] - 10s 5ms/step - loss: 0.0055 - accuracy: 0.9989\n",
      "Epoch 10/10\n",
      "2280/2280 [==============================] - 10s 4ms/step - loss: 0.0056 - accuracy: 0.9990\n"
     ]
    },
    {
     "data": {
      "text/plain": [
       "<keras.callbacks.History at 0x338591bb0>"
      ]
     },
     "execution_count": 20,
     "metadata": {},
     "output_type": "execute_result"
    }
   ],
   "source": [
    "from tensorflow.keras.models import Sequential\n",
    "from tensorflow.keras.layers import Dense, Activation\n",
    "\n",
    "model = Sequential()\n",
    "model.add(Dense(24, input_dim=train_set.shape[1], activation='relu'))\n",
    "model.add(Dense(10, activation='relu'))\n",
    "model.add(Dense(1, activation='sigmoid'))\n",
    "\n",
    "model.compile(loss='binary_crossentropy', optimizer='adam', metrics=['accuracy'])\n",
    "model.fit(train_set, labels, epochs=10, batch_size=64)"
   ]
  },
  {
   "cell_type": "code",
   "execution_count": 21,
   "id": "f7efeb5e",
   "metadata": {},
   "outputs": [
    {
     "name": "stdout",
     "output_type": "stream",
     "text": [
      "INFO:tensorflow:Assets written to: supervised_1/assets\n"
     ]
    },
    {
     "name": "stderr",
     "output_type": "stream",
     "text": [
      "2022-03-19 14:34:22.002054: W tensorflow/python/util/util.cc:368] Sets are not currently considered sequences, but this may change in the future, so consider avoiding using them.\n"
     ]
    }
   ],
   "source": [
    "model.save(\"supervised_1\")"
   ]
  },
  {
   "cell_type": "code",
   "execution_count": 22,
   "id": "149e13b9",
   "metadata": {},
   "outputs": [
    {
     "name": "stderr",
     "output_type": "stream",
     "text": [
      "2022-03-19 14:41:07.723238: I tensorflow/core/grappler/optimizers/custom_graph_optimizer_registry.cc:113] Plugin optimizer for device_type GPU is enabled.\n"
     ]
    }
   ],
   "source": [
    "test_set = strat_test_set.drop(\"class\", axis=1)\n",
    "labels_test = strat_test_set['class'].copy()\n",
    "\n"
   ]
  },
  {
   "cell_type": "code",
   "execution_count": 25,
   "id": "63485b0e",
   "metadata": {},
   "outputs": [],
   "source": [
    "# pred = (model.predict(test_set) > 0.5).astype(int)"
   ]
  },
  {
   "cell_type": "code",
   "execution_count": 30,
   "id": "b494e65e",
   "metadata": {},
   "outputs": [
    {
     "name": "stdout",
     "output_type": "stream",
     "text": [
      "1140/1140 [==============================] - 4s 3ms/step - loss: 0.0070 - accuracy: 0.9986\n",
      "test loss, test acc: [0.007030581124126911, 0.9986291527748108]\n"
     ]
    }
   ],
   "source": [
    "results = model.evaluate(test_set, labels_test)\n",
    "print(\"test loss, test acc:\", results)"
   ]
  },
  {
   "cell_type": "code",
   "execution_count": 31,
   "id": "6e127832",
   "metadata": {},
   "outputs": [],
   "source": [
    "processed_attack = process_df(attack_df)"
   ]
  },
  {
   "cell_type": "code",
   "execution_count": 33,
   "id": "565203da",
   "metadata": {},
   "outputs": [],
   "source": [
    "prediction = model.predict(processed_attack.values)"
   ]
  },
  {
   "cell_type": "code",
   "execution_count": 35,
   "id": "49fdd0ac",
   "metadata": {},
   "outputs": [],
   "source": [
    "attack_df['prediction'] = prediction"
   ]
  },
  {
   "cell_type": "code",
   "execution_count": 38,
   "id": "bfc4825f",
   "metadata": {},
   "outputs": [],
   "source": [
    "attack_df['predicted_class'] = attack_df['prediction'].apply(lambda x: 1 if (x > 0.5) else 0) "
   ]
  },
  {
   "cell_type": "code",
   "execution_count": 45,
   "id": "3200574d",
   "metadata": {},
   "outputs": [],
   "source": [
    "attack_df['actual_labels'] = attack_df[\"ip.dst\"].apply(lambda x : 1 if x=='89.100.107.148' else 0)"
   ]
  },
  {
   "cell_type": "code",
   "execution_count": 48,
   "id": "646dc58e",
   "metadata": {},
   "outputs": [
    {
     "name": "stdout",
     "output_type": "stream",
     "text": [
      "0.9604092834177445\n"
     ]
    }
   ],
   "source": [
    "from sklearn.metrics import accuracy_score\n",
    "print(accuracy_score(attack_df['actual_labels'], attack_df['predicted_class']))"
   ]
  },
  {
   "cell_type": "code",
   "execution_count": 49,
   "id": "9cdef024",
   "metadata": {},
   "outputs": [
    {
     "name": "stdout",
     "output_type": "stream",
     "text": [
      "0.11092465178721263\n"
     ]
    }
   ],
   "source": [
    "from sklearn.metrics import f1_score\n",
    "print(f1_score(attack_df['actual_labels'], attack_df['predicted_class']))"
   ]
  },
  {
   "cell_type": "code",
   "execution_count": null,
   "id": "287a8a7d",
   "metadata": {},
   "outputs": [],
   "source": [
    "# Evaluate model using standardized dataset. \n",
    "# estimators = []\n",
    "# estimators.append(('standardize', StandardScaler()))\n",
    "# estimators.append(('mlp', KerasClassifier(build_fn=create_baseline, epochs=100, batch_size=5, verbose=0)))\n",
    "# pipeline = Pipeline(estimators)\n",
    "# kfold = StratifiedKFold(n_splits=10, shuffle=True)\n",
    "# results = cross_val_score(pipeline, X, encoded_Y, cv=kfold)\n",
    "# print(\"Results: %.2f%% (%.2f%%)\" % (results.mean()*100, results.std()*100))"
   ]
  },
  {
   "cell_type": "code",
   "execution_count": 55,
   "id": "264f6ced",
   "metadata": {},
   "outputs": [
    {
     "data": {
      "image/png": "[encoded data removed]",
      "text/plain": [
       "<Figure size 1800x1440 with 2 Axes>"
      ]
     },
     "metadata": {
      "needs_background": "light"
     },
     "output_type": "display_data"
    }
   ],
   "source": [
    "processed_supervised = processed_supervised.drop('class', axis = 1)\n",
    "f = plt.figure(figsize=(25, 20))\n",
    "plt.matshow(processed_supervised.corr(), fignum=f.number)\n",
    "plt.xticks(range(processed_supervised.select_dtypes(['number']).shape[1]), processed_supervised.select_dtypes(['number']).columns, fontsize=12, rotation=90)\n",
    "plt.yticks(range(processed_supervised.select_dtypes(['number']).shape[1]), processed_supervised.select_dtypes(['number']).columns, fontsize=12)\n",
    "cb = plt.colorbar()\n",
    "cb.ax.tick_params(labelsize=14)\n",
    "plt.title('Correlation Matrix', fontsize=16);\n",
    "plt.savefig('correlation.png')"
   ]
  },
  {
   "cell_type": "code",
   "execution_count": 58,
   "id": "9663fe2d",
   "metadata": {},
   "outputs": [
    {
     "data": {
      "text/plain": [
       "{'10.240.0.4',\n",
       " '10.244.0.1',\n",
       " '10.244.0.10',\n",
       " '10.244.0.11',\n",
       " '10.244.0.14',\n",
       " '10.244.0.15',\n",
       " '10.244.0.2',\n",
       " '10.244.0.3',\n",
       " '10.244.0.4',\n",
       " '10.244.0.5',\n",
       " '10.244.0.6',\n",
       " '10.244.0.7',\n",
       " '10.244.0.9',\n",
       " '13.69.106.211',\n",
       " '13.69.106.212',\n",
       " '13.69.106.215',\n",
       " '13.69.106.88',\n",
       " '13.69.106.89',\n",
       " '13.69.114.0',\n",
       " '13.69.65.27',\n",
       " '13.69.65.29',\n",
       " '13.69.65.31',\n",
       " '13.69.67.61',\n",
       " '168.63.129.16',\n",
       " '172.104.131.24',\n",
       " '192.241.213.181',\n",
       " '198.143.164.251',\n",
       " '198.143.164.252',\n",
       " '198.143.164.254',\n",
       " '20.126.199.164',\n",
       " '20.50.65.82',\n",
       " '23.251.102.74',\n",
       " '40.113.176.128',\n",
       " '52.236.186.216',\n",
       " '52.236.186.217',\n",
       " '52.236.186.218',\n",
       " '66.240.205.34',\n",
       " '89.100.107.147',\n",
       " '89.100.107.148'}"
      ]
     },
     "execution_count": 58,
     "metadata": {},
     "output_type": "execute_result"
    }
   ],
   "source": [
    "set(normal_df['ip.dst'])"
   ]
  },
  {
   "cell_type": "code",
   "execution_count": null,
   "id": "026b0703",
   "metadata": {},
   "outputs": [],
   "source": []
  }
 ],
 "metadata": {
  "kernelspec": {
   "display_name": "Python 3 (ipykernel)",
   "language": "python",
   "name": "python3"
  },
  "language_info": {
   "codemirror_mode": {
    "name": "ipython",
    "version": 3
   },
   "file_extension": ".py",
   "mimetype": "text/x-python",
   "name": "python",
   "nbconvert_exporter": "python",
   "pygments_lexer": "ipython3",
   "version": "3.9.10"
  }
 },
 "nbformat": 4,
 "nbformat_minor": 5
}

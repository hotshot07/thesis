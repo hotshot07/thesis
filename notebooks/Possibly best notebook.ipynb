{
 "cells": [
  {
   "cell_type": "markdown",
   "id": "3d4f4255",
   "metadata": {},
   "source": [
    "# analysisng with just ip, port and protocol \n"
   ]
  },
  {
   "cell_type": "code",
   "execution_count": 1,
   "id": "ac0018ff",
   "metadata": {},
   "outputs": [],
   "source": [
    "import pandas as pd\n",
    "import numpy as np\n",
    "import random\n",
    "from preprocess_no_eth import process_df\n",
    "import matplotlib.pyplot as plt\n",
    "from sklearn.model_selection import train_test_split\n",
    "\n",
    "\n",
    "\n",
    "normal_df = pd.read_csv('data/normal1.csv')\n",
    "processed_normal = process_df(normal_df)\n",
    "\n",
    "attack_df = pd.read_csv('data/attack1.csv')\n",
    "processed_attack = process_df(attack_df)"
   ]
  },
  {
   "cell_type": "code",
   "execution_count": 2,
   "id": "7fa4ef9f",
   "metadata": {},
   "outputs": [],
   "source": [
    "x_normal_train, x_normal_test = train_test_split(processed_normal.values, test_size=0.2, random_state=42)"
   ]
  },
  {
   "cell_type": "code",
   "execution_count": 3,
   "id": "dcd9c979",
   "metadata": {},
   "outputs": [
    {
     "name": "stdout",
     "output_type": "stream",
     "text": [
      "Metal device set to: Apple M1 Pro\n",
      "Epoch 1/20\n"
     ]
    },
    {
     "name": "stderr",
     "output_type": "stream",
     "text": [
      "2022-03-20 21:25:31.944870: I tensorflow/core/common_runtime/pluggable_device/pluggable_device_factory.cc:305] Could not identify NUMA node of platform GPU ID 0, defaulting to 0. Your kernel may not have been built with NUMA support.\n",
      "2022-03-20 21:25:31.944987: I tensorflow/core/common_runtime/pluggable_device/pluggable_device_factory.cc:271] Created TensorFlow device (/job:localhost/replica:0/task:0/device:GPU:0 with 0 MB memory) -> physical PluggableDevice (device: 0, name: METAL, pci bus id: <undefined>)\n",
      "2022-03-20 21:25:32.018366: W tensorflow/core/platform/profile_utils/cpu_utils.cc:128] Failed to get CPU frequency: 0 Hz\n",
      "2022-03-20 21:25:32.127363: I tensorflow/core/grappler/optimizers/custom_graph_optimizer_registry.cc:113] Plugin optimizer for device_type GPU is enabled.\n"
     ]
    },
    {
     "name": "stdout",
     "output_type": "stream",
     "text": [
      "3514/3514 [==============================] - 13s 4ms/step - loss: 0.0155\n",
      "Epoch 2/20\n",
      "3514/3514 [==============================] - 13s 4ms/step - loss: 0.0027\n",
      "Epoch 3/20\n",
      "3514/3514 [==============================] - 13s 4ms/step - loss: 0.0020\n",
      "Epoch 4/20\n",
      "3514/3514 [==============================] - 13s 4ms/step - loss: 0.0017\n",
      "Epoch 5/20\n",
      "3514/3514 [==============================] - 13s 4ms/step - loss: 0.0014\n",
      "Epoch 6/20\n",
      "3514/3514 [==============================] - 13s 4ms/step - loss: 0.0013\n",
      "Epoch 7/20\n",
      "3514/3514 [==============================] - 13s 4ms/step - loss: 0.0012\n",
      "Epoch 8/20\n",
      "3514/3514 [==============================] - 13s 4ms/step - loss: 0.0011\n",
      "Epoch 9/20\n",
      "3514/3514 [==============================] - 13s 4ms/step - loss: 0.0011\n",
      "Epoch 10/20\n",
      "3514/3514 [==============================] - 13s 4ms/step - loss: 0.0011\n",
      "Epoch 11/20\n",
      "3514/3514 [==============================] - 13s 4ms/step - loss: 0.0010\n",
      "Epoch 12/20\n",
      "3514/3514 [==============================] - 13s 4ms/step - loss: 0.0010\n",
      "Epoch 13/20\n",
      "3514/3514 [==============================] - 13s 4ms/step - loss: 0.0010\n",
      "Epoch 14/20\n",
      "3514/3514 [==============================] - 13s 4ms/step - loss: 0.0010\n",
      "Epoch 15/20\n",
      "3514/3514 [==============================] - 13s 4ms/step - loss: 0.0010\n",
      "Epoch 16/20\n",
      "3514/3514 [==============================] - 13s 4ms/step - loss: 0.0010\n",
      "Epoch 17/20\n",
      "3514/3514 [==============================] - 13s 4ms/step - loss: 0.0010\n",
      "Epoch 18/20\n",
      "3514/3514 [==============================] - 13s 4ms/step - loss: 0.0010\n",
      "Epoch 19/20\n",
      "3514/3514 [==============================] - 13s 4ms/step - loss: 0.0010\n",
      "Epoch 20/20\n",
      "3514/3514 [==============================] - 13s 4ms/step - loss: 0.0010\n"
     ]
    },
    {
     "name": "stderr",
     "output_type": "stream",
     "text": [
      "2022-03-20 21:29:51.550018: W tensorflow/python/util/util.cc:368] Sets are not currently considered sequences, but this may change in the future, so consider avoiding using them.\n",
      "WARNING:absl:Found untraced functions such as leaky_re_lu_layer_call_fn, leaky_re_lu_layer_call_and_return_conditional_losses, leaky_re_lu_1_layer_call_fn, leaky_re_lu_1_layer_call_and_return_conditional_losses, leaky_re_lu_2_layer_call_fn while saving (showing 5 of 6). These functions will not be directly callable after loading.\n"
     ]
    },
    {
     "name": "stdout",
     "output_type": "stream",
     "text": [
      "INFO:tensorflow:Assets written to: really_basic_model/assets\n"
     ]
    },
    {
     "name": "stderr",
     "output_type": "stream",
     "text": [
      "INFO:tensorflow:Assets written to: really_basic_model/assets\n"
     ]
    }
   ],
   "source": [
    "from tensorflow.keras.models import Sequential\n",
    "from tensorflow.keras.layers import Dense, Activation\n",
    "\n",
    "model = Sequential()\n",
    "model.add(Dense(10, input_dim=processed_normal.values.shape[1], activation='LeakyReLU'))\n",
    "model.add(Dense(3, activation='LeakyReLU')) # size to compress to\n",
    "model.add(Dense(10, activation='LeakyReLU'))\n",
    "model.add(Dense(processed_normal.values.shape[1])) # Multiple output neurons\n",
    "model.compile(loss='mean_squared_error', optimizer='adam')\n",
    "model.fit(x_normal_train,x_normal_train,verbose=1,epochs=20)\n",
    "model.save(\"really_basic_model\")"
   ]
  },
  {
   "cell_type": "code",
   "execution_count": 4,
   "id": "e682e191",
   "metadata": {},
   "outputs": [
    {
     "name": "stderr",
     "output_type": "stream",
     "text": [
      "2022-03-20 21:29:51.808037: I tensorflow/core/grappler/optimizers/custom_graph_optimizer_registry.cc:113] Plugin optimizer for device_type GPU is enabled.\n"
     ]
    },
    {
     "name": "stdout",
     "output_type": "stream",
     "text": [
      "0.03162346458713993\n",
      "0.03129825181221973\n"
     ]
    }
   ],
   "source": [
    "from sklearn import metrics\n",
    "pred_normal_train = model.predict(x_normal_train)\n",
    "print(np.sqrt(metrics.mean_squared_error(pred_normal_train,x_normal_train)))\n",
    "\n",
    "pred_normal_test = model.predict(x_normal_test)\n",
    "print(np.sqrt(metrics.mean_squared_error(pred_normal_test,x_normal_test)))\n"
   ]
  },
  {
   "cell_type": "code",
   "execution_count": 24,
   "id": "1e58abbd",
   "metadata": {},
   "outputs": [],
   "source": [
    "pro_values = processed_attack.values\n",
    "pred_attack = model.predict(pro_values)"
   ]
  },
  {
   "cell_type": "code",
   "execution_count": 25,
   "id": "620630a6",
   "metadata": {},
   "outputs": [
    {
     "data": {
      "text/plain": [
       "<AxesSubplot:>"
      ]
     },
     "execution_count": 25,
     "metadata": {},
     "output_type": "execute_result"
    },
    {
     "data": {
      "image/png": "[encoded data removed]",
      "text/plain": [
       "<Figure size 432x288 with 1 Axes>"
      ]
     },
     "metadata": {
      "needs_background": "light"
     },
     "output_type": "display_data"
    }
   ],
   "source": [
    "score_list = []\n",
    "for index, x in enumerate(pred_attack):\n",
    "    score_list.append(np.sqrt(metrics.mean_squared_error(pred_attack[index],pro_values[index])))\n",
    "\n",
    "attack_df['score'] = score_list\n",
    "attack_df['score'].hist(bins = 100)"
   ]
  },
  {
   "cell_type": "code",
   "execution_count": 26,
   "id": "671e0094",
   "metadata": {},
   "outputs": [
    {
     "data": {
      "text/plain": [
       "0.05442013618454919"
      ]
     },
     "execution_count": 26,
     "metadata": {},
     "output_type": "execute_result"
    },
    {
     "data": {
      "image/png": "[encoded data removed]",
      "text/plain": [
       "<Figure size 432x288 with 1 Axes>"
      ]
     },
     "metadata": {
      "needs_background": "light"
     },
     "output_type": "display_data"
    }
   ],
   "source": [
    "nmap_df = attack_df[attack_df[\"ip.dst\"] == '89.100.107.148']\n",
    "\n",
    "\n",
    "# In[15]:\n",
    "\n",
    "\n",
    "nmap_df['score'].hist(bins = 100)\n",
    "\n",
    "\n",
    "# In[20]:\n",
    "\n",
    "\n",
    "nmap_df['score'].median()"
   ]
  },
  {
   "cell_type": "code",
   "execution_count": 27,
   "id": "9ec94535",
   "metadata": {},
   "outputs": [
    {
     "data": {
      "text/plain": [
       "<AxesSubplot:>"
      ]
     },
     "execution_count": 27,
     "metadata": {},
     "output_type": "execute_result"
    },
    {
     "data": {
      "image/png": "[encoded data removed]",
      "text/plain": [
       "<Figure size 432x288 with 1 Axes>"
      ]
     },
     "metadata": {
      "needs_background": "light"
     },
     "output_type": "display_data"
    }
   ],
   "source": [
    "normal_wordpress = attack_df[attack_df[\"ip.dst\"] == '89.100.107.147']\n",
    "normal_wordpress['score'].hist(bins=100)"
   ]
  },
  {
   "cell_type": "code",
   "execution_count": 33,
   "id": "b56a799b",
   "metadata": {},
   "outputs": [],
   "source": [
    "attack_df.to_csv(\"possible_good.csv\")"
   ]
  },
  {
   "cell_type": "code",
   "execution_count": null,
   "id": "8f48621f",
   "metadata": {},
   "outputs": [],
   "source": []
  },
  {
   "cell_type": "code",
   "execution_count": null,
   "id": "2625e5dd",
   "metadata": {},
   "outputs": [],
   "source": []
  },
  {
   "cell_type": "code",
   "execution_count": null,
   "id": "b56d2dfc",
   "metadata": {},
   "outputs": [],
   "source": []
  },
  {
   "cell_type": "code",
   "execution_count": null,
   "id": "6bb43ec0",
   "metadata": {},
   "outputs": [],
   "source": []
  },
  {
   "cell_type": "code",
   "execution_count": 31,
   "id": "8ce96278",
   "metadata": {},
   "outputs": [
    {
     "data": {
      "text/plain": [
       "(array([2.42935e+05, 4.37416e+05, 2.62636e+05, 3.36320e+04, 1.18130e+04,\n",
       "        5.64800e+03, 2.27400e+03, 1.12200e+03, 3.86900e+03, 1.78450e+04,\n",
       "        3.44300e+03, 6.26900e+03, 1.32280e+04, 1.66430e+04, 5.54000e+03,\n",
       "        7.14000e+02, 8.90000e+01, 1.73000e+02, 7.86000e+02, 4.26000e+02,\n",
       "        6.02000e+02, 2.78000e+02, 2.70000e+01, 7.40000e+01, 2.50000e+01,\n",
       "        3.60000e+01, 3.70000e+01, 2.90000e+01, 6.20000e+01, 1.25000e+02,\n",
       "        8.40000e+01, 3.90000e+01, 1.00000e+01, 1.80000e+02, 6.41000e+02,\n",
       "        7.60000e+01, 2.95000e+02, 6.33000e+02, 1.64000e+02, 5.60000e+01,\n",
       "        2.90000e+01, 2.00000e+00, 0.00000e+00, 1.30000e+01, 1.00000e+00,\n",
       "        9.00000e+00, 2.00000e+00, 0.00000e+00, 0.00000e+00, 0.00000e+00,\n",
       "        0.00000e+00, 3.40000e+01, 1.10000e+01, 1.00000e+02, 4.20000e+01,\n",
       "        3.50000e+01, 1.00000e+01, 3.70000e+01, 1.33000e+02, 5.50000e+01,\n",
       "        2.00000e+01, 0.00000e+00, 0.00000e+00, 1.10000e+01, 0.00000e+00,\n",
       "        0.00000e+00, 6.00000e+00, 8.00000e+00, 6.00000e+00, 0.00000e+00,\n",
       "        0.00000e+00, 7.00000e+00, 1.00000e+00, 0.00000e+00, 0.00000e+00,\n",
       "        0.00000e+00, 0.00000e+00, 0.00000e+00, 0.00000e+00, 0.00000e+00,\n",
       "        0.00000e+00, 0.00000e+00, 0.00000e+00, 0.00000e+00, 0.00000e+00,\n",
       "        0.00000e+00, 0.00000e+00, 0.00000e+00, 0.00000e+00, 0.00000e+00,\n",
       "        0.00000e+00, 0.00000e+00, 0.00000e+00, 0.00000e+00, 0.00000e+00,\n",
       "        0.00000e+00, 0.00000e+00, 0.00000e+00, 0.00000e+00, 8.00000e+00]),\n",
       " array([0.00724341, 0.01125904, 0.01527467, 0.01929029, 0.02330592,\n",
       "        0.02732155, 0.03133717, 0.0353528 , 0.03936843, 0.04338406,\n",
       "        0.04739968, 0.05141531, 0.05543094, 0.05944656, 0.06346219,\n",
       "        0.06747782, 0.07149345, 0.07550907, 0.0795247 , 0.08354033,\n",
       "        0.08755595, 0.09157158, 0.09558721, 0.09960283, 0.10361846,\n",
       "        0.10763409, 0.11164972, 0.11566534, 0.11968097, 0.1236966 ,\n",
       "        0.12771222, 0.13172785, 0.13574348, 0.13975911, 0.14377473,\n",
       "        0.14779036, 0.15180599, 0.15582161, 0.15983724, 0.16385287,\n",
       "        0.16786849, 0.17188412, 0.17589975, 0.17991538, 0.183931  ,\n",
       "        0.18794663, 0.19196226, 0.19597788, 0.19999351, 0.20400914,\n",
       "        0.20802477, 0.21204039, 0.21605602, 0.22007165, 0.22408727,\n",
       "        0.2281029 , 0.23211853, 0.23613416, 0.24014978, 0.24416541,\n",
       "        0.24818104, 0.25219666, 0.25621229, 0.26022792, 0.26424354,\n",
       "        0.26825917, 0.2722748 , 0.27629043, 0.28030605, 0.28432168,\n",
       "        0.28833731, 0.29235293, 0.29636856, 0.30038419, 0.30439982,\n",
       "        0.30841544, 0.31243107, 0.3164467 , 0.32046232, 0.32447795,\n",
       "        0.32849358, 0.3325092 , 0.33652483, 0.34054046, 0.34455609,\n",
       "        0.34857171, 0.35258734, 0.35660297, 0.36061859, 0.36463422,\n",
       "        0.36864985, 0.37266548, 0.3766811 , 0.38069673, 0.38471236,\n",
       "        0.38872798, 0.39274361, 0.39675924, 0.40077486, 0.40479049,\n",
       "        0.40880612]),\n",
       " <BarContainer object of 100 artists>)"
      ]
     },
     "execution_count": 31,
     "metadata": {},
     "output_type": "execute_result"
    },
    {
     "data": {
      "image/png": "[encoded data removed]",
      "text/plain": [
       "<Figure size 432x288 with 1 Axes>"
      ]
     },
     "metadata": {
      "needs_background": "light"
     },
     "output_type": "display_data"
    }
   ],
   "source": [
    "plt.hist(list(attack_df['score']), bins = 100)"
   ]
  },
  {
   "cell_type": "code",
   "execution_count": 35,
   "id": "7c1bbce4",
   "metadata": {},
   "outputs": [
    {
     "data": {
      "text/plain": [
       "count    1070554.000000\n",
       "mean           0.017102\n",
       "std            0.013802\n",
       "min            0.007243\n",
       "25%            0.011592\n",
       "50%            0.013879\n",
       "75%            0.016888\n",
       "max            0.408806\n",
       "Name: score, dtype: object"
      ]
     },
     "execution_count": 35,
     "metadata": {},
     "output_type": "execute_result"
    }
   ],
   "source": [
    "attack_df['score'].describe().apply(lambda x: format(x, 'f'))"
   ]
  },
  {
   "cell_type": "code",
   "execution_count": 36,
   "id": "1eccacef",
   "metadata": {},
   "outputs": [
    {
     "data": {
      "text/plain": [
       "count    41824.000000\n",
       "mean         0.051797\n",
       "std          0.006262\n",
       "min          0.041816\n",
       "25%          0.045312\n",
       "50%          0.054420\n",
       "75%          0.057556\n",
       "max          0.061013\n",
       "Name: score, dtype: object"
      ]
     },
     "execution_count": 36,
     "metadata": {},
     "output_type": "execute_result"
    }
   ],
   "source": [
    "nmap_df['score'].describe().apply(lambda x: format(x, 'f'))"
   ]
  },
  {
   "cell_type": "code",
   "execution_count": 39,
   "id": "df167605",
   "metadata": {},
   "outputs": [
    {
     "data": {
      "text/plain": [
       "0.04662901628694813"
      ]
     },
     "execution_count": 39,
     "metadata": {},
     "output_type": "execute_result"
    }
   ],
   "source": [
    "attack_df['score'].quantile(0.95)"
   ]
  },
  {
   "cell_type": "code",
   "execution_count": null,
   "id": "df3ec5e9",
   "metadata": {},
   "outputs": [],
   "source": []
  }
 ],
 "metadata": {
  "kernelspec": {
   "display_name": "Python 3 (ipykernel)",
   "language": "python",
   "name": "python3"
  },
  "language_info": {
   "codemirror_mode": {
    "name": "ipython",
    "version": 3
   },
   "file_extension": ".py",
   "mimetype": "text/x-python",
   "name": "python",
   "nbconvert_exporter": "python",
   "pygments_lexer": "ipython3",
   "version": "3.9.10"
  }
 },
 "nbformat": 4,
 "nbformat_minor": 5
}

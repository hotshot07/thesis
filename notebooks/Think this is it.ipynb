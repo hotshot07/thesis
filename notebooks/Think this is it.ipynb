{
 "cells": [
  {
   "cell_type": "code",
   "execution_count": 1,
   "id": "66751da0",
   "metadata": {},
   "outputs": [],
   "source": [
    "import pandas as pd\n",
    "import numpy as np\n",
    "import random\n",
    "from preprocess_no_eth_ip_classification import process_df\n",
    "import matplotlib.pyplot as plt\n",
    "from sklearn.model_selection import train_test_split\n",
    "\n",
    "\n",
    "normal_df = pd.read_csv('data/normal1.csv')\n",
    "processed_normal = process_df(normal_df)\n",
    "\n",
    "attack_df = pd.read_csv('data/attack1.csv')\n",
    "processed_attack = process_df(attack_df)"
   ]
  },
  {
   "cell_type": "code",
   "execution_count": 2,
   "id": "5a0a1bd9",
   "metadata": {},
   "outputs": [],
   "source": [
    "x_normal_train, x_normal_test = train_test_split(processed_normal.values, test_size=0.2, random_state=42)"
   ]
  },
  {
   "cell_type": "code",
   "execution_count": 3,
   "id": "a449c77a",
   "metadata": {},
   "outputs": [
    {
     "data": {
      "text/html": [
       "<div>\n",
       "<style scoped>\n",
       "    .dataframe tbody tr th:only-of-type {\n",
       "        vertical-align: middle;\n",
       "    }\n",
       "\n",
       "    .dataframe tbody tr th {\n",
       "        vertical-align: top;\n",
       "    }\n",
       "\n",
       "    .dataframe thead th {\n",
       "        text-align: right;\n",
       "    }\n",
       "</style>\n",
       "<table border=\"1\" class=\"dataframe\">\n",
       "  <thead>\n",
       "    <tr style=\"text-align: right;\">\n",
       "      <th></th>\n",
       "      <th>octet_1_ip_src</th>\n",
       "      <th>octet_2_ip_src</th>\n",
       "      <th>octet_3_ip_src</th>\n",
       "      <th>octet_4_ip_src</th>\n",
       "      <th>octet_1_ip_dst</th>\n",
       "      <th>octet_2_ip_dst</th>\n",
       "      <th>octet_3_ip_dst</th>\n",
       "      <th>octet_4_ip_dst</th>\n",
       "      <th>length</th>\n",
       "      <th>protocol.sport</th>\n",
       "      <th>protocol.dport</th>\n",
       "      <th>source_pod</th>\n",
       "      <th>source_external</th>\n",
       "      <th>destination_pod</th>\n",
       "      <th>destination_external</th>\n",
       "      <th>TCP</th>\n",
       "      <th>UDP</th>\n",
       "      <th>packet_flow</th>\n",
       "    </tr>\n",
       "  </thead>\n",
       "  <tbody>\n",
       "    <tr>\n",
       "      <th>0</th>\n",
       "      <td>-0.056227</td>\n",
       "      <td>-0.147327</td>\n",
       "      <td>-0.114570</td>\n",
       "      <td>-0.670627</td>\n",
       "      <td>-0.215435</td>\n",
       "      <td>0.247127</td>\n",
       "      <td>-0.236432</td>\n",
       "      <td>-0.456078</td>\n",
       "      <td>-0.122614</td>\n",
       "      <td>-0.711639</td>\n",
       "      <td>1.467484</td>\n",
       "      <td>0.0</td>\n",
       "      <td>1.0</td>\n",
       "      <td>1.0</td>\n",
       "      <td>0.0</td>\n",
       "      <td>1.0</td>\n",
       "      <td>0.0</td>\n",
       "      <td>-2.885447</td>\n",
       "    </tr>\n",
       "    <tr>\n",
       "      <th>1</th>\n",
       "      <td>-0.056227</td>\n",
       "      <td>0.116468</td>\n",
       "      <td>-0.114570</td>\n",
       "      <td>-0.487903</td>\n",
       "      <td>0.375614</td>\n",
       "      <td>-3.334647</td>\n",
       "      <td>6.111377</td>\n",
       "      <td>4.519372</td>\n",
       "      <td>-0.005414</td>\n",
       "      <td>0.570995</td>\n",
       "      <td>-0.634366</td>\n",
       "      <td>1.0</td>\n",
       "      <td>0.0</td>\n",
       "      <td>0.0</td>\n",
       "      <td>1.0</td>\n",
       "      <td>1.0</td>\n",
       "      <td>0.0</td>\n",
       "      <td>-2.885447</td>\n",
       "    </tr>\n",
       "    <tr>\n",
       "      <th>2</th>\n",
       "      <td>1.648743</td>\n",
       "      <td>-7.665477</td>\n",
       "      <td>9.166199</td>\n",
       "      <td>9.074635</td>\n",
       "      <td>-0.215435</td>\n",
       "      <td>0.247127</td>\n",
       "      <td>-0.236432</td>\n",
       "      <td>-0.456078</td>\n",
       "      <td>-0.106387</td>\n",
       "      <td>-0.771593</td>\n",
       "      <td>0.701942</td>\n",
       "      <td>0.0</td>\n",
       "      <td>1.0</td>\n",
       "      <td>1.0</td>\n",
       "      <td>0.0</td>\n",
       "      <td>1.0</td>\n",
       "      <td>0.0</td>\n",
       "      <td>-2.885447</td>\n",
       "    </tr>\n",
       "    <tr>\n",
       "      <th>3</th>\n",
       "      <td>-0.056227</td>\n",
       "      <td>0.116468</td>\n",
       "      <td>-0.114570</td>\n",
       "      <td>-0.487903</td>\n",
       "      <td>0.375614</td>\n",
       "      <td>-3.334647</td>\n",
       "      <td>6.111377</td>\n",
       "      <td>4.519372</td>\n",
       "      <td>-0.225390</td>\n",
       "      <td>0.570995</td>\n",
       "      <td>-0.634366</td>\n",
       "      <td>1.0</td>\n",
       "      <td>0.0</td>\n",
       "      <td>0.0</td>\n",
       "      <td>1.0</td>\n",
       "      <td>1.0</td>\n",
       "      <td>0.0</td>\n",
       "      <td>-2.885447</td>\n",
       "    </tr>\n",
       "    <tr>\n",
       "      <th>4</th>\n",
       "      <td>-0.056227</td>\n",
       "      <td>0.116468</td>\n",
       "      <td>-0.114570</td>\n",
       "      <td>-0.487903</td>\n",
       "      <td>-0.215435</td>\n",
       "      <td>0.125711</td>\n",
       "      <td>-0.236432</td>\n",
       "      <td>-0.551151</td>\n",
       "      <td>-0.225390</td>\n",
       "      <td>1.340134</td>\n",
       "      <td>-0.574692</td>\n",
       "      <td>1.0</td>\n",
       "      <td>0.0</td>\n",
       "      <td>0.0</td>\n",
       "      <td>1.0</td>\n",
       "      <td>1.0</td>\n",
       "      <td>0.0</td>\n",
       "      <td>-2.885447</td>\n",
       "    </tr>\n",
       "    <tr>\n",
       "      <th>...</th>\n",
       "      <td>...</td>\n",
       "      <td>...</td>\n",
       "      <td>...</td>\n",
       "      <td>...</td>\n",
       "      <td>...</td>\n",
       "      <td>...</td>\n",
       "      <td>...</td>\n",
       "      <td>...</td>\n",
       "      <td>...</td>\n",
       "      <td>...</td>\n",
       "      <td>...</td>\n",
       "      <td>...</td>\n",
       "      <td>...</td>\n",
       "      <td>...</td>\n",
       "      <td>...</td>\n",
       "      <td>...</td>\n",
       "      <td>...</td>\n",
       "      <td>...</td>\n",
       "    </tr>\n",
       "    <tr>\n",
       "      <th>1070549</th>\n",
       "      <td>26.882303</td>\n",
       "      <td>-11.820245</td>\n",
       "      <td>5.901607</td>\n",
       "      <td>0.060267</td>\n",
       "      <td>-0.215435</td>\n",
       "      <td>0.247127</td>\n",
       "      <td>-0.236432</td>\n",
       "      <td>-0.392697</td>\n",
       "      <td>-0.074833</td>\n",
       "      <td>-1.200721</td>\n",
       "      <td>1.605593</td>\n",
       "      <td>0.0</td>\n",
       "      <td>1.0</td>\n",
       "      <td>1.0</td>\n",
       "      <td>0.0</td>\n",
       "      <td>0.0</td>\n",
       "      <td>1.0</td>\n",
       "      <td>-2.998014</td>\n",
       "    </tr>\n",
       "    <tr>\n",
       "      <th>1070550</th>\n",
       "      <td>-0.056227</td>\n",
       "      <td>0.116468</td>\n",
       "      <td>-0.114570</td>\n",
       "      <td>-0.366088</td>\n",
       "      <td>-0.215435</td>\n",
       "      <td>0.247127</td>\n",
       "      <td>-0.236432</td>\n",
       "      <td>-0.329315</td>\n",
       "      <td>0.027041</td>\n",
       "      <td>-1.200721</td>\n",
       "      <td>1.315722</td>\n",
       "      <td>1.0</td>\n",
       "      <td>0.0</td>\n",
       "      <td>1.0</td>\n",
       "      <td>0.0</td>\n",
       "      <td>0.0</td>\n",
       "      <td>1.0</td>\n",
       "      <td>-2.998014</td>\n",
       "    </tr>\n",
       "    <tr>\n",
       "      <th>1070551</th>\n",
       "      <td>0.455264</td>\n",
       "      <td>-11.424553</td>\n",
       "      <td>3.010111</td>\n",
       "      <td>2.801122</td>\n",
       "      <td>-0.215435</td>\n",
       "      <td>0.247127</td>\n",
       "      <td>-0.236432</td>\n",
       "      <td>-0.329315</td>\n",
       "      <td>-0.225390</td>\n",
       "      <td>-1.182015</td>\n",
       "      <td>1.184583</td>\n",
       "      <td>0.0</td>\n",
       "      <td>1.0</td>\n",
       "      <td>1.0</td>\n",
       "      <td>0.0</td>\n",
       "      <td>1.0</td>\n",
       "      <td>0.0</td>\n",
       "      <td>-2.998014</td>\n",
       "    </tr>\n",
       "    <tr>\n",
       "      <th>1070552</th>\n",
       "      <td>-0.056227</td>\n",
       "      <td>0.116468</td>\n",
       "      <td>-0.114570</td>\n",
       "      <td>-0.244272</td>\n",
       "      <td>-0.038121</td>\n",
       "      <td>-5.064825</td>\n",
       "      <td>1.900770</td>\n",
       "      <td>1.255223</td>\n",
       "      <td>-0.236208</td>\n",
       "      <td>1.055904</td>\n",
       "      <td>-1.042868</td>\n",
       "      <td>1.0</td>\n",
       "      <td>0.0</td>\n",
       "      <td>0.0</td>\n",
       "      <td>1.0</td>\n",
       "      <td>1.0</td>\n",
       "      <td>0.0</td>\n",
       "      <td>-2.998014</td>\n",
       "    </tr>\n",
       "    <tr>\n",
       "      <th>1070553</th>\n",
       "      <td>-0.056227</td>\n",
       "      <td>0.116468</td>\n",
       "      <td>-0.114570</td>\n",
       "      <td>-0.244272</td>\n",
       "      <td>-0.038121</td>\n",
       "      <td>-5.064825</td>\n",
       "      <td>1.900770</td>\n",
       "      <td>1.255223</td>\n",
       "      <td>0.229888</td>\n",
       "      <td>1.055904</td>\n",
       "      <td>-1.042868</td>\n",
       "      <td>1.0</td>\n",
       "      <td>0.0</td>\n",
       "      <td>0.0</td>\n",
       "      <td>1.0</td>\n",
       "      <td>1.0</td>\n",
       "      <td>0.0</td>\n",
       "      <td>-2.998014</td>\n",
       "    </tr>\n",
       "  </tbody>\n",
       "</table>\n",
       "<p>1070554 rows × 18 columns</p>\n",
       "</div>"
      ],
      "text/plain": [
       "         octet_1_ip_src  octet_2_ip_src  octet_3_ip_src  octet_4_ip_src  \\\n",
       "0             -0.056227       -0.147327       -0.114570       -0.670627   \n",
       "1             -0.056227        0.116468       -0.114570       -0.487903   \n",
       "2              1.648743       -7.665477        9.166199        9.074635   \n",
       "3             -0.056227        0.116468       -0.114570       -0.487903   \n",
       "4             -0.056227        0.116468       -0.114570       -0.487903   \n",
       "...                 ...             ...             ...             ...   \n",
       "1070549       26.882303      -11.820245        5.901607        0.060267   \n",
       "1070550       -0.056227        0.116468       -0.114570       -0.366088   \n",
       "1070551        0.455264      -11.424553        3.010111        2.801122   \n",
       "1070552       -0.056227        0.116468       -0.114570       -0.244272   \n",
       "1070553       -0.056227        0.116468       -0.114570       -0.244272   \n",
       "\n",
       "         octet_1_ip_dst  octet_2_ip_dst  octet_3_ip_dst  octet_4_ip_dst  \\\n",
       "0             -0.215435        0.247127       -0.236432       -0.456078   \n",
       "1              0.375614       -3.334647        6.111377        4.519372   \n",
       "2             -0.215435        0.247127       -0.236432       -0.456078   \n",
       "3              0.375614       -3.334647        6.111377        4.519372   \n",
       "4             -0.215435        0.125711       -0.236432       -0.551151   \n",
       "...                 ...             ...             ...             ...   \n",
       "1070549       -0.215435        0.247127       -0.236432       -0.392697   \n",
       "1070550       -0.215435        0.247127       -0.236432       -0.329315   \n",
       "1070551       -0.215435        0.247127       -0.236432       -0.329315   \n",
       "1070552       -0.038121       -5.064825        1.900770        1.255223   \n",
       "1070553       -0.038121       -5.064825        1.900770        1.255223   \n",
       "\n",
       "           length  protocol.sport  protocol.dport  source_pod  \\\n",
       "0       -0.122614       -0.711639        1.467484         0.0   \n",
       "1       -0.005414        0.570995       -0.634366         1.0   \n",
       "2       -0.106387       -0.771593        0.701942         0.0   \n",
       "3       -0.225390        0.570995       -0.634366         1.0   \n",
       "4       -0.225390        1.340134       -0.574692         1.0   \n",
       "...           ...             ...             ...         ...   \n",
       "1070549 -0.074833       -1.200721        1.605593         0.0   \n",
       "1070550  0.027041       -1.200721        1.315722         1.0   \n",
       "1070551 -0.225390       -1.182015        1.184583         0.0   \n",
       "1070552 -0.236208        1.055904       -1.042868         1.0   \n",
       "1070553  0.229888        1.055904       -1.042868         1.0   \n",
       "\n",
       "         source_external  destination_pod  destination_external  TCP  UDP  \\\n",
       "0                    1.0              1.0                   0.0  1.0  0.0   \n",
       "1                    0.0              0.0                   1.0  1.0  0.0   \n",
       "2                    1.0              1.0                   0.0  1.0  0.0   \n",
       "3                    0.0              0.0                   1.0  1.0  0.0   \n",
       "4                    0.0              0.0                   1.0  1.0  0.0   \n",
       "...                  ...              ...                   ...  ...  ...   \n",
       "1070549              1.0              1.0                   0.0  0.0  1.0   \n",
       "1070550              0.0              1.0                   0.0  0.0  1.0   \n",
       "1070551              1.0              1.0                   0.0  1.0  0.0   \n",
       "1070552              0.0              0.0                   1.0  1.0  0.0   \n",
       "1070553              0.0              0.0                   1.0  1.0  0.0   \n",
       "\n",
       "         packet_flow  \n",
       "0          -2.885447  \n",
       "1          -2.885447  \n",
       "2          -2.885447  \n",
       "3          -2.885447  \n",
       "4          -2.885447  \n",
       "...              ...  \n",
       "1070549    -2.998014  \n",
       "1070550    -2.998014  \n",
       "1070551    -2.998014  \n",
       "1070552    -2.998014  \n",
       "1070553    -2.998014  \n",
       "\n",
       "[1070554 rows x 18 columns]"
      ]
     },
     "execution_count": 3,
     "metadata": {},
     "output_type": "execute_result"
    }
   ],
   "source": [
    "processed_attack"
   ]
  },
  {
   "cell_type": "code",
   "execution_count": 4,
   "id": "4ed54ac0",
   "metadata": {},
   "outputs": [
    {
     "name": "stdout",
     "output_type": "stream",
     "text": [
      "Metal device set to: Apple M1 Pro\n",
      "Epoch 1/20\n"
     ]
    },
    {
     "name": "stderr",
     "output_type": "stream",
     "text": [
      "2022-03-21 00:34:36.834992: I tensorflow/core/common_runtime/pluggable_device/pluggable_device_factory.cc:305] Could not identify NUMA node of platform GPU ID 0, defaulting to 0. Your kernel may not have been built with NUMA support.\n",
      "2022-03-21 00:34:36.835161: I tensorflow/core/common_runtime/pluggable_device/pluggable_device_factory.cc:271] Created TensorFlow device (/job:localhost/replica:0/task:0/device:GPU:0 with 0 MB memory) -> physical PluggableDevice (device: 0, name: METAL, pci bus id: <undefined>)\n",
      "2022-03-21 00:34:36.906999: W tensorflow/core/platform/profile_utils/cpu_utils.cc:128] Failed to get CPU frequency: 0 Hz\n",
      "2022-03-21 00:34:37.014777: I tensorflow/core/grappler/optimizers/custom_graph_optimizer_registry.cc:113] Plugin optimizer for device_type GPU is enabled.\n"
     ]
    },
    {
     "name": "stdout",
     "output_type": "stream",
     "text": [
      "3514/3514 [==============================] - 14s 4ms/step - loss: 0.2163\n",
      "Epoch 2/20\n",
      "3514/3514 [==============================] - 13s 4ms/step - loss: 0.0843\n",
      "Epoch 3/20\n",
      "3514/3514 [==============================] - 13s 4ms/step - loss: 0.0609\n",
      "Epoch 4/20\n",
      "3514/3514 [==============================] - 13s 4ms/step - loss: 0.0568\n",
      "Epoch 5/20\n",
      "3514/3514 [==============================] - 13s 4ms/step - loss: 0.0535\n",
      "Epoch 6/20\n",
      "3514/3514 [==============================] - 13s 4ms/step - loss: 0.0510\n",
      "Epoch 7/20\n",
      "3514/3514 [==============================] - 13s 4ms/step - loss: 0.0492\n",
      "Epoch 8/20\n",
      "3514/3514 [==============================] - 13s 4ms/step - loss: 0.0458\n",
      "Epoch 9/20\n",
      "3514/3514 [==============================] - 13s 4ms/step - loss: 0.0430\n",
      "Epoch 10/20\n",
      "3514/3514 [==============================] - 13s 4ms/step - loss: 0.0409\n",
      "Epoch 11/20\n",
      "3514/3514 [==============================] - 13s 4ms/step - loss: 0.0394\n",
      "Epoch 12/20\n",
      "3514/3514 [==============================] - 13s 4ms/step - loss: 0.0378\n",
      "Epoch 13/20\n",
      "3514/3514 [==============================] - 15s 4ms/step - loss: 0.0368\n",
      "Epoch 14/20\n",
      "3514/3514 [==============================] - 14s 4ms/step - loss: 0.0363\n",
      "Epoch 15/20\n",
      "3514/3514 [==============================] - 13s 4ms/step - loss: 0.0358\n",
      "Epoch 16/20\n",
      "3514/3514 [==============================] - 13s 4ms/step - loss: 0.0353\n",
      "Epoch 17/20\n",
      "3514/3514 [==============================] - 13s 4ms/step - loss: 0.0349\n",
      "Epoch 18/20\n",
      "3514/3514 [==============================] - 13s 4ms/step - loss: 0.0344\n",
      "Epoch 19/20\n",
      "3514/3514 [==============================] - 13s 4ms/step - loss: 0.0339\n",
      "Epoch 20/20\n",
      "3514/3514 [==============================] - 13s 4ms/step - loss: 0.0335\n"
     ]
    },
    {
     "name": "stderr",
     "output_type": "stream",
     "text": [
      "2022-03-21 00:38:59.305794: W tensorflow/python/util/util.cc:368] Sets are not currently considered sequences, but this may change in the future, so consider avoiding using them.\n",
      "WARNING:absl:Found untraced functions such as leaky_re_lu_layer_call_fn, leaky_re_lu_layer_call_and_return_conditional_losses, leaky_re_lu_1_layer_call_fn, leaky_re_lu_1_layer_call_and_return_conditional_losses, leaky_re_lu_2_layer_call_fn while saving (showing 5 of 6). These functions will not be directly callable after loading.\n"
     ]
    },
    {
     "name": "stdout",
     "output_type": "stream",
     "text": [
      "INFO:tensorflow:Assets written to: now_not_so_basic_model_v2/assets\n"
     ]
    },
    {
     "name": "stderr",
     "output_type": "stream",
     "text": [
      "INFO:tensorflow:Assets written to: now_not_so_basic_model_v2/assets\n"
     ]
    }
   ],
   "source": [
    "from tensorflow.keras.models import Sequential\n",
    "from tensorflow.keras.layers import Dense, Activation\n",
    "\n",
    "model = Sequential()\n",
    "model.add(Dense(10, input_dim=processed_normal.values.shape[1], activation='LeakyReLU'))\n",
    "model.add(Dense(3, activation='LeakyReLU')) # size to compress to\n",
    "model.add(Dense(10, activation='LeakyReLU'))\n",
    "model.add(Dense(processed_normal.values.shape[1])) # Multiple output neurons\n",
    "model.compile(loss='mean_squared_error', optimizer='adam')\n",
    "model.fit(x_normal_train,x_normal_train,verbose=1,epochs=20)\n",
    "model.save(\"now_not_so_basic_model_v2\")"
   ]
  },
  {
   "cell_type": "code",
   "execution_count": 5,
   "id": "6f1c1edd",
   "metadata": {},
   "outputs": [
    {
     "name": "stderr",
     "output_type": "stream",
     "text": [
      "2022-03-21 00:41:07.581872: I tensorflow/core/grappler/optimizers/custom_graph_optimizer_registry.cc:113] Plugin optimizer for device_type GPU is enabled.\n"
     ]
    },
    {
     "name": "stdout",
     "output_type": "stream",
     "text": [
      "0.1809087058156798\n",
      "0.18007366740210773\n"
     ]
    }
   ],
   "source": [
    "from sklearn import metrics\n",
    "pred_normal_train = model.predict(x_normal_train)\n",
    "print(np.sqrt(metrics.mean_squared_error(pred_normal_train,x_normal_train)))\n",
    "\n",
    "pred_normal_test = model.predict(x_normal_test)\n",
    "print(np.sqrt(metrics.mean_squared_error(pred_normal_test,x_normal_test)))"
   ]
  },
  {
   "cell_type": "code",
   "execution_count": 6,
   "id": "7e83d512",
   "metadata": {},
   "outputs": [],
   "source": [
    "pro_values = processed_attack.values\n",
    "pred_attack = model.predict(pro_values)"
   ]
  },
  {
   "cell_type": "code",
   "execution_count": 7,
   "id": "d356e84f",
   "metadata": {},
   "outputs": [
    {
     "data": {
      "text/plain": [
       "<AxesSubplot:>"
      ]
     },
     "execution_count": 7,
     "metadata": {},
     "output_type": "execute_result"
    },
    {
     "data": {
      "image/png": "[encoded data removed]",
      "text/plain": [
       "<Figure size 432x288 with 1 Axes>"
      ]
     },
     "metadata": {
      "needs_background": "light"
     },
     "output_type": "display_data"
    }
   ],
   "source": [
    "score_list = []\n",
    "for index, x in enumerate(pred_attack):\n",
    "    score_list.append(np.sqrt(metrics.mean_squared_error(pred_attack[index],pro_values[index])))\n",
    "\n",
    "attack_df['score'] = score_list\n",
    "attack_df['score'].hist(bins = 100)"
   ]
  },
  {
   "cell_type": "code",
   "execution_count": 8,
   "id": "9cf8dc50",
   "metadata": {},
   "outputs": [
    {
     "data": {
      "text/plain": [
       "1.36579963032951"
      ]
     },
     "execution_count": 8,
     "metadata": {},
     "output_type": "execute_result"
    },
    {
     "data": {
      "image/png": "[encoded data removed]",
      "text/plain": [
       "<Figure size 432x288 with 1 Axes>"
      ]
     },
     "metadata": {
      "needs_background": "light"
     },
     "output_type": "display_data"
    }
   ],
   "source": [
    "nmap_df = attack_df[attack_df[\"ip.dst\"] == '89.100.107.148']\n",
    "\n",
    "\n",
    "# In[15]:\n",
    "\n",
    "\n",
    "nmap_df['score'].hist(bins = 100)\n",
    "\n",
    "\n",
    "# In[20]:\n",
    "\n",
    "\n",
    "nmap_df['score'].median()"
   ]
  },
  {
   "cell_type": "code",
   "execution_count": 10,
   "id": "2cc52e7b",
   "metadata": {},
   "outputs": [
    {
     "data": {
      "text/plain": [
       "count    1070554.000000\n",
       "mean           0.488171\n",
       "std            0.230004\n",
       "min            0.274564\n",
       "25%            0.404716\n",
       "50%            0.426432\n",
       "75%            0.447615\n",
       "max            6.573879\n",
       "Name: score, dtype: object"
      ]
     },
     "execution_count": 10,
     "metadata": {},
     "output_type": "execute_result"
    }
   ],
   "source": [
    "attack_df['score'].describe().apply(lambda x: format(x, 'f'))"
   ]
  },
  {
   "cell_type": "code",
   "execution_count": 11,
   "id": "1143ab0a",
   "metadata": {},
   "outputs": [
    {
     "data": {
      "text/plain": [
       "count    41824.000000\n",
       "mean         1.380329\n",
       "std          0.053284\n",
       "min          1.176635\n",
       "25%          1.354040\n",
       "50%          1.365800\n",
       "75%          1.437380\n",
       "max          1.463493\n",
       "Name: score, dtype: object"
      ]
     },
     "execution_count": 11,
     "metadata": {},
     "output_type": "execute_result"
    }
   ],
   "source": [
    "nmap_df['score'].describe().apply(lambda x: format(x, 'f'))"
   ]
  },
  {
   "cell_type": "code",
   "execution_count": 18,
   "id": "d6bf9766",
   "metadata": {},
   "outputs": [
    {
     "data": {
      "text/plain": [
       "1.3551917937906417"
      ]
     },
     "execution_count": 18,
     "metadata": {},
     "output_type": "execute_result"
    }
   ],
   "source": [
    "attack_df['score'].quantile(0.97)"
   ]
  },
  {
   "cell_type": "code",
   "execution_count": 17,
   "id": "dc5719e9",
   "metadata": {},
   "outputs": [
    {
     "data": {
      "text/plain": [
       "0.03906762293167836"
      ]
     },
     "execution_count": 17,
     "metadata": {},
     "output_type": "execute_result"
    }
   ],
   "source": [
    "41824/1070554"
   ]
  },
  {
   "cell_type": "code",
   "execution_count": 19,
   "id": "658cc325",
   "metadata": {},
   "outputs": [],
   "source": [
    "anomalous_dict = attack_df[attack_df['score'] > 1.355]"
   ]
  },
  {
   "cell_type": "code",
   "execution_count": 21,
   "id": "eea8e90c",
   "metadata": {},
   "outputs": [
    {
     "data": {
      "text/plain": [
       "89.100.107.148     28977\n",
       "89.100.107.147       990\n",
       "10.244.0.2           777\n",
       "168.63.129.16        646\n",
       "10.244.0.11          600\n",
       "10.244.0.15          199\n",
       "142.250.179.138       57\n",
       "10.244.0.6            51\n",
       "66.249.81.204         45\n",
       "198.143.164.251       38\n",
       "20.126.199.164        29\n",
       "52.236.186.218        29\n",
       "198.143.164.243       24\n",
       "66.249.81.206         15\n",
       "169.254.169.254       12\n",
       "172.217.168.234        9\n",
       "216.58.214.14          8\n",
       "45.83.65.187           8\n",
       "142.250.179.142        6\n",
       "13.69.65.27            4\n",
       "40.113.176.128         3\n",
       "13.69.65.29            2\n",
       "13.69.65.31            2\n",
       "Name: ip.dst, dtype: int64"
      ]
     },
     "execution_count": 21,
     "metadata": {},
     "output_type": "execute_result"
    }
   ],
   "source": [
    "anomalous_dict['ip.dst'].value_counts()"
   ]
  },
  {
   "cell_type": "code",
   "execution_count": 22,
   "id": "4eb83506",
   "metadata": {},
   "outputs": [
    {
     "data": {
      "text/plain": [
       "0.6928318668706962"
      ]
     },
     "execution_count": 22,
     "metadata": {},
     "output_type": "execute_result"
    }
   ],
   "source": [
    "28977/41824"
   ]
  },
  {
   "cell_type": "code",
   "execution_count": 23,
   "id": "286c42df",
   "metadata": {},
   "outputs": [
    {
     "data": {
      "text/plain": [
       "32531"
      ]
     },
     "execution_count": 23,
     "metadata": {},
     "output_type": "execute_result"
    }
   ],
   "source": [
    "len(anomalous_dict)"
   ]
  },
  {
   "cell_type": "code",
   "execution_count": 24,
   "id": "bae7bfa7",
   "metadata": {},
   "outputs": [
    {
     "data": {
      "text/plain": [
       "<AxesSubplot:>"
      ]
     },
     "execution_count": 24,
     "metadata": {},
     "output_type": "execute_result"
    },
    {
     "data": {
      "image/png": "[encoded data removed]",
      "text/plain": [
       "<Figure size 432x288 with 1 Axes>"
      ]
     },
     "metadata": {
      "needs_background": "light"
     },
     "output_type": "display_data"
    }
   ],
   "source": [
    "anomalous_dict['score'].hist(bins = 100)"
   ]
  },
  {
   "cell_type": "code",
   "execution_count": null,
   "id": "eb8055b3",
   "metadata": {},
   "outputs": [],
   "source": []
  }
 ],
 "metadata": {
  "kernelspec": {
   "display_name": "Python 3 (ipykernel)",
   "language": "python",
   "name": "python3"
  },
  "language_info": {
   "codemirror_mode": {
    "name": "ipython",
    "version": 3
   },
   "file_extension": ".py",
   "mimetype": "text/x-python",
   "name": "python",
   "nbconvert_exporter": "python",
   "pygments_lexer": "ipython3",
   "version": "3.9.10"
  }
 },
 "nbformat": 4,
 "nbformat_minor": 5
}

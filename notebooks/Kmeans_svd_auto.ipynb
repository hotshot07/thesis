{
 "cells": [
  {
   "cell_type": "code",
   "execution_count": 1,
   "id": "9523e3a9",
   "metadata": {},
   "outputs": [],
   "source": [
    "import pandas as pd\n",
    "import numpy as np\n",
    "import random\n",
    "from preprocess_df import process_df\n",
    "from sklearn.cluster import KMeans\n",
    "import matplotlib.pyplot as plt"
   ]
  },
  {
   "cell_type": "code",
   "execution_count": 2,
   "id": "66d9124c",
   "metadata": {},
   "outputs": [],
   "source": [
    "#normal_data\n",
    "normal_df = pd.read_csv('data/normal1.csv')\n",
    "processed_normal = process_df(normal_df)\n",
    "\n",
    "# attack_data\n",
    "attack_df = pd.read_csv('data/attack1.csv')\n",
    "processed_attack = process_df(attack_df)\n"
   ]
  },
  {
   "cell_type": "code",
   "execution_count": 3,
   "id": "ca6d55ad",
   "metadata": {},
   "outputs": [
    {
     "data": {
      "text/html": [
       "<div>\n",
       "<style scoped>\n",
       "    .dataframe tbody tr th:only-of-type {\n",
       "        vertical-align: middle;\n",
       "    }\n",
       "\n",
       "    .dataframe tbody tr th {\n",
       "        vertical-align: top;\n",
       "    }\n",
       "\n",
       "    .dataframe thead th {\n",
       "        text-align: right;\n",
       "    }\n",
       "</style>\n",
       "<table border=\"1\" class=\"dataframe\">\n",
       "  <thead>\n",
       "    <tr style=\"text-align: right;\">\n",
       "      <th></th>\n",
       "      <th>octet_1_eth_dst</th>\n",
       "      <th>octet_2_eth_dst</th>\n",
       "      <th>octet_3_eth_dst</th>\n",
       "      <th>octet_4_eth_dst</th>\n",
       "      <th>octet_5_eth_dst</th>\n",
       "      <th>octet_6_eth_dst</th>\n",
       "      <th>octet_1_eth_src</th>\n",
       "      <th>octet_2_eth_src</th>\n",
       "      <th>octet_3_eth_src</th>\n",
       "      <th>octet_4_eth_src</th>\n",
       "      <th>...</th>\n",
       "      <th>load_14</th>\n",
       "      <th>load_15</th>\n",
       "      <th>load_16</th>\n",
       "      <th>load_17</th>\n",
       "      <th>load_18</th>\n",
       "      <th>load_19</th>\n",
       "      <th>protocol.sport</th>\n",
       "      <th>protocol.dport</th>\n",
       "      <th>TCP</th>\n",
       "      <th>UDP</th>\n",
       "    </tr>\n",
       "  </thead>\n",
       "  <tbody>\n",
       "    <tr>\n",
       "      <th>0</th>\n",
       "      <td>0.999558</td>\n",
       "      <td>-0.798079</td>\n",
       "      <td>0.085577</td>\n",
       "      <td>0.396893</td>\n",
       "      <td>-1.027218</td>\n",
       "      <td>1.371663</td>\n",
       "      <td>-0.752915</td>\n",
       "      <td>-0.288377</td>\n",
       "      <td>1.992587</td>\n",
       "      <td>1.069766</td>\n",
       "      <td>...</td>\n",
       "      <td>0.667342</td>\n",
       "      <td>2.005733</td>\n",
       "      <td>0.618697</td>\n",
       "      <td>0.791433</td>\n",
       "      <td>0.664259</td>\n",
       "      <td>0.313269</td>\n",
       "      <td>1.026406</td>\n",
       "      <td>-0.972130</td>\n",
       "      <td>1</td>\n",
       "      <td>0</td>\n",
       "    </tr>\n",
       "    <tr>\n",
       "      <th>1</th>\n",
       "      <td>0.999558</td>\n",
       "      <td>-0.798079</td>\n",
       "      <td>0.085577</td>\n",
       "      <td>0.396893</td>\n",
       "      <td>-1.027218</td>\n",
       "      <td>1.371663</td>\n",
       "      <td>0.553287</td>\n",
       "      <td>0.945509</td>\n",
       "      <td>-0.263293</td>\n",
       "      <td>-1.085399</td>\n",
       "      <td>...</td>\n",
       "      <td>0.667342</td>\n",
       "      <td>2.005733</td>\n",
       "      <td>0.618697</td>\n",
       "      <td>0.791433</td>\n",
       "      <td>0.664259</td>\n",
       "      <td>0.313269</td>\n",
       "      <td>1.026406</td>\n",
       "      <td>-0.972130</td>\n",
       "      <td>1</td>\n",
       "      <td>0</td>\n",
       "    </tr>\n",
       "    <tr>\n",
       "      <th>2</th>\n",
       "      <td>-0.581271</td>\n",
       "      <td>-0.090221</td>\n",
       "      <td>1.483294</td>\n",
       "      <td>0.847824</td>\n",
       "      <td>0.285020</td>\n",
       "      <td>0.594669</td>\n",
       "      <td>0.879837</td>\n",
       "      <td>-0.959987</td>\n",
       "      <td>0.294863</td>\n",
       "      <td>0.635392</td>\n",
       "      <td>...</td>\n",
       "      <td>-0.512638</td>\n",
       "      <td>-0.565434</td>\n",
       "      <td>-0.524846</td>\n",
       "      <td>-0.565851</td>\n",
       "      <td>-0.515196</td>\n",
       "      <td>-0.538543</td>\n",
       "      <td>-1.080588</td>\n",
       "      <td>1.112464</td>\n",
       "      <td>1</td>\n",
       "      <td>0</td>\n",
       "    </tr>\n",
       "    <tr>\n",
       "      <th>3</th>\n",
       "      <td>-0.581271</td>\n",
       "      <td>-0.090221</td>\n",
       "      <td>1.483294</td>\n",
       "      <td>0.847824</td>\n",
       "      <td>0.285020</td>\n",
       "      <td>0.594669</td>\n",
       "      <td>0.879837</td>\n",
       "      <td>-0.959987</td>\n",
       "      <td>0.294863</td>\n",
       "      <td>0.635392</td>\n",
       "      <td>...</td>\n",
       "      <td>-0.512638</td>\n",
       "      <td>-0.565434</td>\n",
       "      <td>-0.524846</td>\n",
       "      <td>-0.565851</td>\n",
       "      <td>-0.515196</td>\n",
       "      <td>-0.538543</td>\n",
       "      <td>-1.080588</td>\n",
       "      <td>1.112464</td>\n",
       "      <td>1</td>\n",
       "      <td>0</td>\n",
       "    </tr>\n",
       "    <tr>\n",
       "      <th>4</th>\n",
       "      <td>-0.581271</td>\n",
       "      <td>-0.090221</td>\n",
       "      <td>1.483294</td>\n",
       "      <td>0.847824</td>\n",
       "      <td>0.285020</td>\n",
       "      <td>0.594669</td>\n",
       "      <td>0.879837</td>\n",
       "      <td>-0.959987</td>\n",
       "      <td>0.294863</td>\n",
       "      <td>0.635392</td>\n",
       "      <td>...</td>\n",
       "      <td>-0.512638</td>\n",
       "      <td>-0.565434</td>\n",
       "      <td>-0.524846</td>\n",
       "      <td>-0.022937</td>\n",
       "      <td>-0.515196</td>\n",
       "      <td>0.313269</td>\n",
       "      <td>-1.080588</td>\n",
       "      <td>1.112464</td>\n",
       "      <td>1</td>\n",
       "      <td>0</td>\n",
       "    </tr>\n",
       "    <tr>\n",
       "      <th>...</th>\n",
       "      <td>...</td>\n",
       "      <td>...</td>\n",
       "      <td>...</td>\n",
       "      <td>...</td>\n",
       "      <td>...</td>\n",
       "      <td>...</td>\n",
       "      <td>...</td>\n",
       "      <td>...</td>\n",
       "      <td>...</td>\n",
       "      <td>...</td>\n",
       "      <td>...</td>\n",
       "      <td>...</td>\n",
       "      <td>...</td>\n",
       "      <td>...</td>\n",
       "      <td>...</td>\n",
       "      <td>...</td>\n",
       "      <td>...</td>\n",
       "      <td>...</td>\n",
       "      <td>...</td>\n",
       "      <td>...</td>\n",
       "      <td>...</td>\n",
       "    </tr>\n",
       "    <tr>\n",
       "      <th>140533</th>\n",
       "      <td>0.683392</td>\n",
       "      <td>1.210262</td>\n",
       "      <td>-0.373946</td>\n",
       "      <td>-1.389487</td>\n",
       "      <td>-0.467903</td>\n",
       "      <td>-0.727583</td>\n",
       "      <td>-1.536636</td>\n",
       "      <td>1.351599</td>\n",
       "      <td>-1.588913</td>\n",
       "      <td>0.551858</td>\n",
       "      <td>...</td>\n",
       "      <td>0.372347</td>\n",
       "      <td>-0.351170</td>\n",
       "      <td>0.046925</td>\n",
       "      <td>-0.565851</td>\n",
       "      <td>0.369395</td>\n",
       "      <td>0.029332</td>\n",
       "      <td>-0.877626</td>\n",
       "      <td>1.009160</td>\n",
       "      <td>1</td>\n",
       "      <td>0</td>\n",
       "    </tr>\n",
       "    <tr>\n",
       "      <th>140534</th>\n",
       "      <td>-1.340069</td>\n",
       "      <td>1.638269</td>\n",
       "      <td>-1.465314</td>\n",
       "      <td>0.310175</td>\n",
       "      <td>1.833891</td>\n",
       "      <td>-1.981678</td>\n",
       "      <td>0.553287</td>\n",
       "      <td>0.945509</td>\n",
       "      <td>-0.263293</td>\n",
       "      <td>-1.085399</td>\n",
       "      <td>...</td>\n",
       "      <td>-0.512638</td>\n",
       "      <td>-0.565434</td>\n",
       "      <td>-0.524846</td>\n",
       "      <td>-0.565851</td>\n",
       "      <td>-0.515196</td>\n",
       "      <td>-0.538543</td>\n",
       "      <td>0.921991</td>\n",
       "      <td>-0.771326</td>\n",
       "      <td>1</td>\n",
       "      <td>0</td>\n",
       "    </tr>\n",
       "    <tr>\n",
       "      <th>140535</th>\n",
       "      <td>0.683392</td>\n",
       "      <td>1.210262</td>\n",
       "      <td>-0.373946</td>\n",
       "      <td>-1.389487</td>\n",
       "      <td>-0.467903</td>\n",
       "      <td>-0.727583</td>\n",
       "      <td>-1.536636</td>\n",
       "      <td>1.351599</td>\n",
       "      <td>-1.588913</td>\n",
       "      <td>0.551858</td>\n",
       "      <td>...</td>\n",
       "      <td>-0.512638</td>\n",
       "      <td>-0.565434</td>\n",
       "      <td>-0.524846</td>\n",
       "      <td>-0.565851</td>\n",
       "      <td>-0.515196</td>\n",
       "      <td>-0.538543</td>\n",
       "      <td>-0.877626</td>\n",
       "      <td>1.009160</td>\n",
       "      <td>1</td>\n",
       "      <td>0</td>\n",
       "    </tr>\n",
       "    <tr>\n",
       "      <th>140536</th>\n",
       "      <td>-1.340069</td>\n",
       "      <td>1.638269</td>\n",
       "      <td>-1.465314</td>\n",
       "      <td>0.310175</td>\n",
       "      <td>1.833891</td>\n",
       "      <td>-1.981678</td>\n",
       "      <td>0.553287</td>\n",
       "      <td>0.945509</td>\n",
       "      <td>-0.263293</td>\n",
       "      <td>-1.085399</td>\n",
       "      <td>...</td>\n",
       "      <td>-0.512638</td>\n",
       "      <td>-0.565434</td>\n",
       "      <td>-0.524846</td>\n",
       "      <td>-0.565851</td>\n",
       "      <td>-0.515196</td>\n",
       "      <td>-0.538543</td>\n",
       "      <td>0.921991</td>\n",
       "      <td>-0.771326</td>\n",
       "      <td>1</td>\n",
       "      <td>0</td>\n",
       "    </tr>\n",
       "    <tr>\n",
       "      <th>140537</th>\n",
       "      <td>0.683392</td>\n",
       "      <td>1.210262</td>\n",
       "      <td>-0.373946</td>\n",
       "      <td>-1.389487</td>\n",
       "      <td>-0.467903</td>\n",
       "      <td>-0.727583</td>\n",
       "      <td>-1.536636</td>\n",
       "      <td>1.351599</td>\n",
       "      <td>-1.588913</td>\n",
       "      <td>0.551858</td>\n",
       "      <td>...</td>\n",
       "      <td>-0.512638</td>\n",
       "      <td>-0.565434</td>\n",
       "      <td>-0.524846</td>\n",
       "      <td>-0.565851</td>\n",
       "      <td>-0.515196</td>\n",
       "      <td>-0.538543</td>\n",
       "      <td>-0.877626</td>\n",
       "      <td>1.009160</td>\n",
       "      <td>1</td>\n",
       "      <td>0</td>\n",
       "    </tr>\n",
       "  </tbody>\n",
       "</table>\n",
       "<p>140538 rows × 72 columns</p>\n",
       "</div>"
      ],
      "text/plain": [
       "        octet_1_eth_dst  octet_2_eth_dst  octet_3_eth_dst  octet_4_eth_dst  \\\n",
       "0              0.999558        -0.798079         0.085577         0.396893   \n",
       "1              0.999558        -0.798079         0.085577         0.396893   \n",
       "2             -0.581271        -0.090221         1.483294         0.847824   \n",
       "3             -0.581271        -0.090221         1.483294         0.847824   \n",
       "4             -0.581271        -0.090221         1.483294         0.847824   \n",
       "...                 ...              ...              ...              ...   \n",
       "140533         0.683392         1.210262        -0.373946        -1.389487   \n",
       "140534        -1.340069         1.638269        -1.465314         0.310175   \n",
       "140535         0.683392         1.210262        -0.373946        -1.389487   \n",
       "140536        -1.340069         1.638269        -1.465314         0.310175   \n",
       "140537         0.683392         1.210262        -0.373946        -1.389487   \n",
       "\n",
       "        octet_5_eth_dst  octet_6_eth_dst  octet_1_eth_src  octet_2_eth_src  \\\n",
       "0             -1.027218         1.371663        -0.752915        -0.288377   \n",
       "1             -1.027218         1.371663         0.553287         0.945509   \n",
       "2              0.285020         0.594669         0.879837        -0.959987   \n",
       "3              0.285020         0.594669         0.879837        -0.959987   \n",
       "4              0.285020         0.594669         0.879837        -0.959987   \n",
       "...                 ...              ...              ...              ...   \n",
       "140533        -0.467903        -0.727583        -1.536636         1.351599   \n",
       "140534         1.833891        -1.981678         0.553287         0.945509   \n",
       "140535        -0.467903        -0.727583        -1.536636         1.351599   \n",
       "140536         1.833891        -1.981678         0.553287         0.945509   \n",
       "140537        -0.467903        -0.727583        -1.536636         1.351599   \n",
       "\n",
       "        octet_3_eth_src  octet_4_eth_src  ...   load_14   load_15   load_16  \\\n",
       "0              1.992587         1.069766  ...  0.667342  2.005733  0.618697   \n",
       "1             -0.263293        -1.085399  ...  0.667342  2.005733  0.618697   \n",
       "2              0.294863         0.635392  ... -0.512638 -0.565434 -0.524846   \n",
       "3              0.294863         0.635392  ... -0.512638 -0.565434 -0.524846   \n",
       "4              0.294863         0.635392  ... -0.512638 -0.565434 -0.524846   \n",
       "...                 ...              ...  ...       ...       ...       ...   \n",
       "140533        -1.588913         0.551858  ...  0.372347 -0.351170  0.046925   \n",
       "140534        -0.263293        -1.085399  ... -0.512638 -0.565434 -0.524846   \n",
       "140535        -1.588913         0.551858  ... -0.512638 -0.565434 -0.524846   \n",
       "140536        -0.263293        -1.085399  ... -0.512638 -0.565434 -0.524846   \n",
       "140537        -1.588913         0.551858  ... -0.512638 -0.565434 -0.524846   \n",
       "\n",
       "         load_17   load_18   load_19  protocol.sport  protocol.dport  TCP  UDP  \n",
       "0       0.791433  0.664259  0.313269        1.026406       -0.972130    1    0  \n",
       "1       0.791433  0.664259  0.313269        1.026406       -0.972130    1    0  \n",
       "2      -0.565851 -0.515196 -0.538543       -1.080588        1.112464    1    0  \n",
       "3      -0.565851 -0.515196 -0.538543       -1.080588        1.112464    1    0  \n",
       "4      -0.022937 -0.515196  0.313269       -1.080588        1.112464    1    0  \n",
       "...          ...       ...       ...             ...             ...  ...  ...  \n",
       "140533 -0.565851  0.369395  0.029332       -0.877626        1.009160    1    0  \n",
       "140534 -0.565851 -0.515196 -0.538543        0.921991       -0.771326    1    0  \n",
       "140535 -0.565851 -0.515196 -0.538543       -0.877626        1.009160    1    0  \n",
       "140536 -0.565851 -0.515196 -0.538543        0.921991       -0.771326    1    0  \n",
       "140537 -0.565851 -0.515196 -0.538543       -0.877626        1.009160    1    0  \n",
       "\n",
       "[140538 rows x 72 columns]"
      ]
     },
     "execution_count": 3,
     "metadata": {},
     "output_type": "execute_result"
    }
   ],
   "source": [
    "processed_normal"
   ]
  },
  {
   "cell_type": "code",
   "execution_count": 4,
   "id": "8f99f907",
   "metadata": {},
   "outputs": [],
   "source": [
    "# kmeans = KMeans(n_clusters=8).fit(processed_normal)"
   ]
  },
  {
   "cell_type": "code",
   "execution_count": 5,
   "id": "cf0d90fa",
   "metadata": {},
   "outputs": [],
   "source": [
    "# pred = kmeans.predict(processed_attack)"
   ]
  },
  {
   "cell_type": "code",
   "execution_count": 6,
   "id": "f7595fb4",
   "metadata": {},
   "outputs": [],
   "source": [
    "# attack_df['pred'] = list(pred)"
   ]
  },
  {
   "cell_type": "code",
   "execution_count": 7,
   "id": "ae337093",
   "metadata": {},
   "outputs": [],
   "source": [
    "# attack_df['pred'].value_counts()"
   ]
  },
  {
   "cell_type": "code",
   "execution_count": 8,
   "id": "b8914990",
   "metadata": {},
   "outputs": [],
   "source": [
    "# nmap_df = attack_df[attack_df[\"ip.dst\"] == '89.100.107.148']"
   ]
  },
  {
   "cell_type": "code",
   "execution_count": 9,
   "id": "929a41f5",
   "metadata": {},
   "outputs": [],
   "source": [
    "# nmap_df['pred'].hist(bins=8)"
   ]
  },
  {
   "cell_type": "code",
   "execution_count": 10,
   "id": "198d1430",
   "metadata": {},
   "outputs": [],
   "source": [
    "# attack_df['pred'].hist(bins = 8)"
   ]
  },
  {
   "cell_type": "code",
   "execution_count": 11,
   "id": "d770bbdb",
   "metadata": {},
   "outputs": [],
   "source": [
    "# nmap_df['pred'].value_counts()"
   ]
  },
  {
   "cell_type": "code",
   "execution_count": 37,
   "id": "09086551",
   "metadata": {},
   "outputs": [],
   "source": [
    "# Singluar value decomposition\n",
    "from sklearn.decomposition import TruncatedSVD\n",
    "svd = TruncatedSVD(n_components=30, n_iter=5)"
   ]
  },
  {
   "cell_type": "code",
   "execution_count": 38,
   "id": "6b4506e9",
   "metadata": {},
   "outputs": [],
   "source": [
    "processed_normal_values = processed_normal.values\n",
    "svd_normal = svd.fit_transform(processed_normal_values)"
   ]
  },
  {
   "cell_type": "code",
   "execution_count": 40,
   "id": "8593ba46",
   "metadata": {},
   "outputs": [
    {
     "data": {
      "text/plain": [
       "(140538, 30)"
      ]
     },
     "execution_count": 40,
     "metadata": {},
     "output_type": "execute_result"
    }
   ],
   "source": [
    "svd_normal.shape"
   ]
  },
  {
   "cell_type": "code",
   "execution_count": 41,
   "id": "3c599d51",
   "metadata": {},
   "outputs": [],
   "source": [
    "from sklearn.model_selection import train_test_split\n",
    "\n",
    "x_normal_train, x_normal_test = train_test_split(\n",
    "    svd_normal, test_size=0.2, random_state=42)"
   ]
  },
  {
   "cell_type": "code",
   "execution_count": 42,
   "id": "38ca7c05",
   "metadata": {},
   "outputs": [
    {
     "name": "stdout",
     "output_type": "stream",
     "text": [
      "Epoch 1/10\n"
     ]
    },
    {
     "name": "stderr",
     "output_type": "stream",
     "text": [
      "2022-03-18 18:16:42.589757: I tensorflow/core/grappler/optimizers/custom_graph_optimizer_registry.cc:113] Plugin optimizer for device_type GPU is enabled.\n"
     ]
    },
    {
     "name": "stdout",
     "output_type": "stream",
     "text": [
      "3514/3514 [==============================] - 16s 5ms/step - loss: 0.5704\n",
      "Epoch 2/10\n",
      "3514/3514 [==============================] - 16s 5ms/step - loss: 0.3516\n",
      "Epoch 3/10\n",
      "3514/3514 [==============================] - 16s 5ms/step - loss: 0.3153\n",
      "Epoch 4/10\n",
      "3514/3514 [==============================] - 16s 5ms/step - loss: 0.2927\n",
      "Epoch 5/10\n",
      "3514/3514 [==============================] - 16s 5ms/step - loss: 0.2775\n",
      "Epoch 6/10\n",
      "3514/3514 [==============================] - 16s 5ms/step - loss: 0.2682\n",
      "Epoch 7/10\n",
      "3514/3514 [==============================] - 16s 5ms/step - loss: 0.2624\n",
      "Epoch 8/10\n",
      "3514/3514 [==============================] - 16s 5ms/step - loss: 0.2575\n",
      "Epoch 9/10\n",
      "3514/3514 [==============================] - 16s 5ms/step - loss: 0.2537\n",
      "Epoch 10/10\n",
      "3514/3514 [==============================] - 16s 5ms/step - loss: 0.2506\n"
     ]
    },
    {
     "data": {
      "text/plain": [
       "<keras.callbacks.History at 0x28c668f40>"
      ]
     },
     "execution_count": 42,
     "metadata": {},
     "output_type": "execute_result"
    }
   ],
   "source": [
    "from tensorflow.keras.models import Sequential\n",
    "from tensorflow.keras.layers import Dense, Activation\n",
    "\n",
    "model = Sequential()\n",
    "model.add(Dense(25, input_dim=svd_normal.shape[1], activation='relu'))\n",
    "model.add(Dense(10, input_dim=svd_normal.shape[1], activation='relu'))\n",
    "model.add(Dense(3, activation='relu')) # size to compress to\n",
    "model.add(Dense(20, activation='relu'))\n",
    "model.add(Dense(25, activation='relu'))\n",
    "model.add(Dense(svd_normal.shape[1])) # Multiple output neurons\n",
    "model.compile(loss='mean_squared_error', optimizer='adam')\n",
    "model.fit(x_normal_train,x_normal_train,verbose=1,epochs=10)"
   ]
  },
  {
   "cell_type": "code",
   "execution_count": 43,
   "id": "33a0fb31",
   "metadata": {},
   "outputs": [
    {
     "name": "stdout",
     "output_type": "stream",
     "text": [
      "INFO:tensorflow:Assets written to: auto_with_svd3/assets\n"
     ]
    }
   ],
   "source": [
    "model.save(\"auto_with_svd3\")"
   ]
  },
  {
   "cell_type": "code",
   "execution_count": 44,
   "id": "45037f47",
   "metadata": {},
   "outputs": [],
   "source": [
    "svd_attack = svd.fit_transform(processed_attack.values)"
   ]
  },
  {
   "cell_type": "code",
   "execution_count": 45,
   "id": "383deb71",
   "metadata": {},
   "outputs": [
    {
     "name": "stderr",
     "output_type": "stream",
     "text": [
      "2022-03-18 18:23:17.687610: I tensorflow/core/grappler/optimizers/custom_graph_optimizer_registry.cc:113] Plugin optimizer for device_type GPU is enabled.\n"
     ]
    }
   ],
   "source": [
    "pred = model.predict(svd_attack)"
   ]
  },
  {
   "cell_type": "code",
   "execution_count": 46,
   "id": "d79c9303",
   "metadata": {},
   "outputs": [],
   "source": [
    "from sklearn import metrics\n",
    "score_list = []\n",
    "for index, x in enumerate(pred):\n",
    "    score_list.append(np.sqrt(metrics.mean_squared_error(pred[index],svd_attack[index])))\n",
    "\n",
    "attack_df['score'] = score_list"
   ]
  },
  {
   "cell_type": "code",
   "execution_count": 47,
   "id": "147e3c80",
   "metadata": {},
   "outputs": [
    {
     "data": {
      "text/plain": [
       "<AxesSubplot:>"
      ]
     },
     "execution_count": 47,
     "metadata": {},
     "output_type": "execute_result"
    },
    {
     "data": {
      "image/png": "[encoded data removed]",
      "text/plain": [
       "<Figure size 432x288 with 1 Axes>"
      ]
     },
     "metadata": {
      "needs_background": "light"
     },
     "output_type": "display_data"
    }
   ],
   "source": [
    "nmap_df = attack_df[attack_df[\"ip.dst\"] == '89.100.107.148']\n",
    "nmap_df[\"score\"].hist(bins=100)"
   ]
  },
  {
   "cell_type": "code",
   "execution_count": 48,
   "id": "6f2604ad",
   "metadata": {},
   "outputs": [
    {
     "data": {
      "text/plain": [
       "<AxesSubplot:>"
      ]
     },
     "execution_count": 48,
     "metadata": {},
     "output_type": "execute_result"
    },
    {
     "data": {
      "image/png": "[encoded data removed]",
      "text/plain": [
       "<Figure size 432x288 with 1 Axes>"
      ]
     },
     "metadata": {
      "needs_background": "light"
     },
     "output_type": "display_data"
    }
   ],
   "source": [
    "hello = attack_df[attack_df[\"ip.dst\"] == '89.100.107.147']\n",
    "hello[\"score\"].hist(bins=100)"
   ]
  },
  {
   "cell_type": "code",
   "execution_count": 49,
   "id": "7351a258",
   "metadata": {},
   "outputs": [],
   "source": [
    "pred_normal = model.predict(x_normal_test)"
   ]
  },
  {
   "cell_type": "code",
   "execution_count": 50,
   "id": "b1b45424",
   "metadata": {},
   "outputs": [],
   "source": [
    "hi = np.sqrt(metrics.mean_squared_error(pred_normal,x_normal_test))"
   ]
  },
  {
   "cell_type": "code",
   "execution_count": 51,
   "id": "8ee2a1e0",
   "metadata": {},
   "outputs": [
    {
     "data": {
      "text/plain": [
       "0.4980315996360362"
      ]
     },
     "execution_count": 51,
     "metadata": {},
     "output_type": "execute_result"
    }
   ],
   "source": [
    "hi"
   ]
  },
  {
   "cell_type": "code",
   "execution_count": 52,
   "id": "8ea54eb0",
   "metadata": {},
   "outputs": [],
   "source": [
    "hi2 = np.sqrt(metrics.mean_squared_error(model.predict(x_normal_train),x_normal_train))"
   ]
  },
  {
   "cell_type": "code",
   "execution_count": 53,
   "id": "6a5b72f2",
   "metadata": {},
   "outputs": [
    {
     "data": {
      "text/plain": [
       "0.4984677400272914"
      ]
     },
     "execution_count": 53,
     "metadata": {},
     "output_type": "execute_result"
    }
   ],
   "source": [
    "hi2"
   ]
  },
  {
   "cell_type": "code",
   "execution_count": 54,
   "id": "fead4f6f",
   "metadata": {},
   "outputs": [],
   "source": [
    "synthetic = pd.read_csv('data/synthetic_data.csv')"
   ]
  },
  {
   "cell_type": "code",
   "execution_count": 68,
   "id": "b49a817a",
   "metadata": {},
   "outputs": [],
   "source": [
    "# process_synthetic = process_df(synthetic)\n",
    "# svd_synthetic = svd.fit_transform(process_synthetic.values)\n",
    "# pred_syn = model.predict(svd_synthetic)\n",
    "# score_syn = []\n",
    "\n",
    "# for index, x in enumerate(pred_syn):\n",
    "#     score_syn.append(np.sqrt(metrics.mean_squared_error(pred_syn[index],svd_synthetic[index])))\n"
   ]
  },
  {
   "cell_type": "code",
   "execution_count": 69,
   "id": "1844dca4",
   "metadata": {},
   "outputs": [],
   "source": [
    "# plt.hist(score_syn, bins=100, alpha=0.5)"
   ]
  },
  {
   "cell_type": "code",
   "execution_count": 70,
   "id": "97f975b3",
   "metadata": {},
   "outputs": [
    {
     "data": {
      "text/plain": [
       "<AxesSubplot:>"
      ]
     },
     "execution_count": 70,
     "metadata": {},
     "output_type": "execute_result"
    },
    {
     "data": {
      "image/png": "[encoded data removed]",
      "text/plain": [
       "<Figure size 432x288 with 1 Axes>"
      ]
     },
     "metadata": {
      "needs_background": "light"
     },
     "output_type": "display_data"
    }
   ],
   "source": [
    "attack_df['score'].hist(bins = 100)"
   ]
  },
  {
   "cell_type": "code",
   "execution_count": 66,
   "id": "656cb49c",
   "metadata": {},
   "outputs": [],
   "source": [
    "unusually_high_score = attack_df[attack_df['score'] > 2.5]"
   ]
  },
  {
   "cell_type": "code",
   "execution_count": null,
   "id": "84f5681c",
   "metadata": {},
   "outputs": [],
   "source": []
  },
  {
   "cell_type": "code",
   "execution_count": 71,
   "id": "9444024e",
   "metadata": {},
   "outputs": [
    {
     "data": {
      "text/plain": [
       "2.4337509695256063"
      ]
     },
     "execution_count": 71,
     "metadata": {},
     "output_type": "execute_result"
    }
   ],
   "source": [
    "hello['score'].median()"
   ]
  },
  {
   "cell_type": "code",
   "execution_count": 61,
   "id": "f9856d9f",
   "metadata": {},
   "outputs": [],
   "source": [
    "ip_set = set(attack_df['ip.dst'])"
   ]
  },
  {
   "cell_type": "code",
   "execution_count": 63,
   "id": "ee7b3805",
   "metadata": {},
   "outputs": [
    {
     "name": "stdout",
     "output_type": "stream",
     "text": [
      "13.69.114.0\n",
      "mean 1.4110909891441343\n",
      "\n",
      "20.50.65.82\n",
      "mean 2.0936643357219147\n",
      "\n",
      "13.69.106.216\n",
      "mean 1.9697063133263426\n",
      "\n",
      "13.69.106.211\n",
      "mean 1.6973033188753577\n",
      "\n",
      "198.143.164.243\n",
      "mean 2.854863075258917\n",
      "\n",
      "10.244.0.6\n",
      "mean 3.0932717149585445\n",
      "\n",
      "172.217.168.234\n",
      "mean 2.398133191185201\n",
      "\n",
      "168.63.129.16\n",
      "mean 2.372527045580781\n",
      "\n",
      "10.244.0.5\n",
      "mean 1.6912626929959897\n",
      "\n",
      "99.84.11.57\n",
      "mean 2.0271864192539977\n",
      "\n",
      "13.69.106.217\n",
      "mean 2.03411796029534\n",
      "\n",
      "13.69.65.29\n",
      "mean 1.3679253460742176\n",
      "\n",
      "45.83.65.187\n",
      "mean 2.128595991372182\n",
      "\n",
      "10.244.0.10\n",
      "mean 2.899582877784345\n",
      "\n",
      "10.244.0.14\n",
      "mean 0.9322509394750039\n",
      "\n",
      "169.254.169.254\n",
      "mean 2.4611662754012276\n",
      "\n",
      "10.244.0.11\n",
      "mean 1.5693327487973763\n",
      "\n",
      "13.69.106.215\n",
      "mean 2.0762253776644113\n",
      "\n",
      "10.244.0.7\n",
      "mean 2.9109753449672584\n",
      "\n",
      "52.236.186.218\n",
      "mean 1.8555130229094845\n",
      "\n",
      "13.69.106.89\n",
      "mean 1.7312213995141483\n",
      "\n",
      "10.244.0.1\n",
      "mean 1.3629523557887735\n",
      "\n",
      "10.244.0.9\n",
      "mean 1.719180930298757\n",
      "\n",
      "10.244.0.2\n",
      "mean 1.3451389946149344\n",
      "\n",
      "142.251.36.42\n",
      "mean 1.9607260990526905\n",
      "\n",
      "142.250.179.138\n",
      "mean 2.112256515155002\n",
      "\n",
      "198.143.164.251\n",
      "mean 2.8784150432678812\n",
      "\n",
      "216.58.214.14\n",
      "mean 2.825522664049017\n",
      "\n",
      "66.249.81.204\n",
      "mean 2.2287470477130915\n",
      "\n",
      "89.100.107.147\n",
      "mean 2.4337509695256063\n",
      "\n",
      "89.100.107.148\n",
      "mean 2.3528561138506188\n",
      "\n",
      "13.69.67.61\n",
      "mean 1.4807012006955769\n",
      "\n",
      "151.139.128.11\n",
      "mean 2.309368177815199\n",
      "\n",
      "40.113.176.128\n",
      "mean 2.2446355602012247\n",
      "\n",
      "142.250.179.142\n",
      "mean 2.1121714586434788\n",
      "\n",
      "10.244.0.15\n",
      "mean 0.8625717557107777\n",
      "\n",
      "13.69.65.31\n",
      "mean 1.3625905206570152\n",
      "\n",
      "20.126.199.164\n",
      "mean 1.971768657941024\n",
      "\n",
      "66.249.83.16\n",
      "mean 1.9319515810972763\n",
      "\n",
      "66.249.81.206\n",
      "mean 2.003198191360991\n",
      "\n",
      "99.84.11.20\n",
      "mean 1.9713776013141036\n",
      "\n",
      "99.84.11.83\n",
      "mean 2.052156265499821\n",
      "\n",
      "13.69.65.27\n",
      "mean 1.3569358111914414\n",
      "\n",
      "10.240.0.4\n",
      "mean 1.153395102916398\n",
      "\n",
      "66.249.83.14\n",
      "mean 1.7186465499168055\n",
      "\n",
      "13.69.106.212\n",
      "mean 1.8887876498871738\n",
      "\n",
      "10.244.0.3\n",
      "mean 1.238146798055155\n",
      "\n",
      "10.244.0.4\n",
      "mean 1.5819545962890298\n",
      "\n",
      "66.249.83.12\n",
      "mean 2.045869667962754\n",
      "\n",
      "13.69.106.208\n",
      "mean 1.8722755020545732\n",
      "\n",
      "45.83.65.88\n",
      "mean 2.0458218009255082\n",
      "\n"
     ]
    }
   ],
   "source": [
    "for ip in ip_set:\n",
    "    print(ip)\n",
    "    ip_df= attack_df[attack_df[\"ip.dst\"] == ip]\n",
    "    print(\"mean\",ip_df['score'].median())\n",
    "    print()"
   ]
  },
  {
   "cell_type": "code",
   "execution_count": 80,
   "id": "9124f518",
   "metadata": {},
   "outputs": [],
   "source": [
    "internal = attack_df[attack_df['ip.dst'] == '45.83.65.187']"
   ]
  },
  {
   "cell_type": "code",
   "execution_count": 81,
   "id": "25d94bcf",
   "metadata": {},
   "outputs": [
    {
     "data": {
      "text/plain": [
       "<AxesSubplot:>"
      ]
     },
     "execution_count": 81,
     "metadata": {},
     "output_type": "execute_result"
    },
    {
     "data": {
      "image/png": "[encoded data removed]",
      "text/plain": [
       "<Figure size 432x288 with 1 Axes>"
      ]
     },
     "metadata": {
      "needs_background": "light"
     },
     "output_type": "display_data"
    }
   ],
   "source": [
    "internal['score'].hist(bins=100)"
   ]
  },
  {
   "cell_type": "code",
   "execution_count": null,
   "id": "a85b9a00",
   "metadata": {},
   "outputs": [],
   "source": []
  }
 ],
 "metadata": {
  "kernelspec": {
   "display_name": "Python 3 (ipykernel)",
   "language": "python",
   "name": "python3"
  },
  "language_info": {
   "codemirror_mode": {
    "name": "ipython",
    "version": 3
   },
   "file_extension": ".py",
   "mimetype": "text/x-python",
   "name": "python",
   "nbconvert_exporter": "python",
   "pygments_lexer": "ipython3",
   "version": "3.9.10"
  }
 },
 "nbformat": 4,
 "nbformat_minor": 5
}

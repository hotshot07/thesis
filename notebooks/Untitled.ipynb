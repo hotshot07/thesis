{
 "cells": [
  {
   "cell_type": "code",
   "execution_count": null,
   "id": "da0c0385",
   "metadata": {},
   "outputs": [],
   "source": [
    "import pandas as pd\n",
    "import numpy as np\n",
    "import random\n",
    "from preprocess_df import process_df\n",
    "import matplotlib.pyplot as plt\n",
    "from sklearn.model_selection import train_test_split\n",
    "from sklearn.manifold import LocallyLinearEmbedding\n",
    "\n",
    "\n",
    "# In[2]:\n",
    "\n",
    "\n",
    "#normal_data\n",
    "normal_df = pd.read_csv('data/normal1.csv')\n",
    "processed_normal = process_df(normal_df)\n",
    "\n",
    "# attack_data\n",
    "attack_df = pd.read_csv('data/attack1.csv')\n",
    "processed_attack = process_df(attack_df)"
   ]
  }
 ],
 "metadata": {
  "kernelspec": {
   "display_name": "Python 3 (ipykernel)",
   "language": "python",
   "name": "python3"
  },
  "language_info": {
   "codemirror_mode": {
    "name": "ipython",
    "version": 3
   },
   "file_extension": ".py",
   "mimetype": "text/x-python",
   "name": "python",
   "nbconvert_exporter": "python",
   "pygments_lexer": "ipython3",
   "version": "3.9.10"
  }
 },
 "nbformat": 4,
 "nbformat_minor": 5
}

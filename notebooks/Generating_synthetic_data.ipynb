{
 "cells": [
  {
   "cell_type": "code",
   "execution_count": 1,
   "id": "ffcda0e0",
   "metadata": {},
   "outputs": [],
   "source": [
    "import pandas as pd\n",
    "import numpy as np\n",
    "import random\n",
    "from preprocess_df import process_df\n",
    "\n",
    "random.seed(42)\n",
    "# for synthetic data\n",
    "VECTOR_LENGTH = 20000"
   ]
  },
  {
   "cell_type": "code",
   "execution_count": 2,
   "id": "f6b0369d",
   "metadata": {},
   "outputs": [],
   "source": [
    "normal_df = pd.read_csv('data/normal1.csv')"
   ]
  },
  {
   "cell_type": "code",
   "execution_count": 3,
   "id": "a85e7d24",
   "metadata": {},
   "outputs": [
    {
     "data": {
      "text/plain": [
       "Index(['length', 'timestamp', 'eth.src', 'eth.dst', 'eth.type', 'ip.src',\n",
       "       'ip.dst', 'ip.version', 'ip.proto', 'ip.len', 'ip.ihl', 'ip.tos',\n",
       "       'ip.ttl', 'load.count', 'FIN', 'SYN', 'RST', 'PSH', 'ACK', 'URG', 'ECE',\n",
       "       'CWR', 'UNK', 'source_docker_bridge', 'source_dns', 'source_service',\n",
       "       'source_pod', 'source_external', 'destination_docker_bridge',\n",
       "       'destination_dns', 'destination_service', 'destination_pod',\n",
       "       'destination_external', 'load_0', 'load_1', 'load_2', 'load_3',\n",
       "       'load_4', 'load_5', 'load_6', 'load_7', 'load_8', 'load_9', 'load_10',\n",
       "       'load_11', 'load_12', 'load_13', 'load_14', 'load_15', 'load_16',\n",
       "       'load_17', 'load_18', 'load_19', 'protocol', 'protocol.sport',\n",
       "       'protocol.dport'],\n",
       "      dtype='object')"
      ]
     },
     "execution_count": 3,
     "metadata": {},
     "output_type": "execute_result"
    }
   ],
   "source": [
    "normal_df.columns"
   ]
  },
  {
   "cell_type": "markdown",
   "id": "89886f28",
   "metadata": {},
   "source": [
    "### To generate synthetic data\n",
    "* length = int(0,1000000)\n",
    "* timestamp = random 9 digit int (not being used anywhere)\n",
    "* eth.src = 6a:77:c0:85:72:c3 \n",
    "..\n",
    "* eth.type =  2048\n",
    "* ip.src = 23.412.12.421\n",
    "* ip.dst = ..\n",
    "* ip.version = randint(0,10)\n",
    "* ip.proto = \n",
    "* ip.len =int(0,1000000)\n",
    "* ihs \n",
    "* tol \n",
    "* ttl\n",
    "* load.count = ..\n",
    "* 'FIN', 'SYN', 'RST', 'PSH', 'ACK', 'URG', 'ECE',\n",
    "       'CWR', 'UNK', 'source_docker_bridge', 'source_dns', 'source_service',\n",
    "       'source_pod', 'source_external', 'destination_docker_bridge',\n",
    "       'destination_dns', 'destination_service', 'destination_pod',\n",
    "       'destination_external' .. either 1 or 0\n",
    "* load_i = one to 16 any value\n",
    "* protocol = TCP/UDP\n",
    "* protocol.sport int (0 to 65,535)\n",
    "* dport ...\n",
    "\n"
   ]
  },
  {
   "cell_type": "code",
   "execution_count": 4,
   "id": "d6247d06",
   "metadata": {},
   "outputs": [],
   "source": [
    "synthetic_data = pd.DataFrame()"
   ]
  },
  {
   "cell_type": "code",
   "execution_count": 5,
   "id": "a3362cdc",
   "metadata": {},
   "outputs": [],
   "source": [
    "rand_func = lambda start,end,vec_length: [random.randint(start, end) for x in range(vec_length)]\n",
    "\n",
    "hex_list = [str(x) for x in range(10)] + ['a','b','c','d','e','f']\n",
    "\n",
    "def get_hex():\n",
    "    ret_str = ''\n",
    "    for i in range(1,18):\n",
    "        if i %3 == 0:\n",
    "            ret_str += ':'\n",
    "        else:\n",
    "            ret_str += random.choice(hex_list)\n",
    "    return ret_str\n",
    "\n",
    "def get_ip_num():\n",
    "    ret_str = ''\n",
    "    for i in range(1,8):\n",
    "        if i %2 == 0:\n",
    "            ret_str += '.'\n",
    "        else:\n",
    "            ret_str += str(int(random.uniform(0,255)))\n",
    "    return ret_str\n",
    "\n",
    "get_eth = lambda vec_length:[get_hex() for _ in range(vec_length)] \n",
    "get_ip = lambda vec_length:[get_ip_num() for _ in range(vec_length)] "
   ]
  },
  {
   "cell_type": "code",
   "execution_count": 6,
   "id": "589c1fd3",
   "metadata": {},
   "outputs": [],
   "source": [
    "synthetic_data['length'] = rand_func(0,500000,VECTOR_LENGTH)"
   ]
  },
  {
   "cell_type": "code",
   "execution_count": 7,
   "id": "a5511d38",
   "metadata": {},
   "outputs": [],
   "source": [
    "synthetic_data['timestamp'] = rand_func(100000,10000000, VECTOR_LENGTH)"
   ]
  },
  {
   "cell_type": "code",
   "execution_count": 8,
   "id": "4773f9c5",
   "metadata": {},
   "outputs": [],
   "source": [
    "#ETHERNET_DATA\n",
    "synthetic_data['eth.src'] = get_eth(VECTOR_LENGTH)\n",
    "synthetic_data['eth.dst'] = get_eth(VECTOR_LENGTH)\n",
    "synthetic_data['eth.type'] = [2048]*VECTOR_LENGTH"
   ]
  },
  {
   "cell_type": "code",
   "execution_count": 9,
   "id": "13c2a2f5",
   "metadata": {},
   "outputs": [],
   "source": [
    "#IP_DATA\n",
    "synthetic_data['ip.src'] = get_ip(VECTOR_LENGTH)\n",
    "synthetic_data['ip.dst'] = get_ip(VECTOR_LENGTH)\n",
    "synthetic_data['ip.version'] = rand_func(1,10,VECTOR_LENGTH)\n",
    "synthetic_data['ip.proto'] = rand_func(1,10,VECTOR_LENGTH)\n",
    "synthetic_data['ip.len'] = rand_func(1,100000,VECTOR_LENGTH)\n",
    "synthetic_data['ip.ihl'] = rand_func(1,10,VECTOR_LENGTH)\n",
    "synthetic_data['ip.tos'] = rand_func(1,10,VECTOR_LENGTH)\n",
    "synthetic_data['ip.ttl'] = rand_func(1,1000,VECTOR_LENGTH)"
   ]
  },
  {
   "cell_type": "code",
   "execution_count": 10,
   "id": "e22f8d74",
   "metadata": {},
   "outputs": [],
   "source": [
    "#Load.count \n",
    "synthetic_data['load.count'] = rand_func(1,10000,VECTOR_LENGTH)"
   ]
  },
  {
   "cell_type": "code",
   "execution_count": 11,
   "id": "07c8d897",
   "metadata": {},
   "outputs": [],
   "source": [
    "#one_hot_encoded_lists\n",
    "o_h_el = ['FIN', 'SYN', 'RST', 'PSH', 'ACK', 'URG', 'ECE',\n",
    "       'CWR', 'UNK', 'source_docker_bridge', 'source_dns', 'source_service',\n",
    "       'source_pod', 'source_external', 'destination_docker_bridge',\n",
    "       'destination_dns', 'destination_service', 'destination_pod',\n",
    "       'destination_external']\n",
    "\n",
    "for col in o_h_el:\n",
    "    synthetic_data[col] = [int(random.uniform(0,2)) for _ in range(VECTOR_LENGTH)]"
   ]
  },
  {
   "cell_type": "code",
   "execution_count": 12,
   "id": "93f2dac7",
   "metadata": {},
   "outputs": [],
   "source": [
    "#load_cols\n",
    "load_cols = [f'load_{i}' for i in range(20)]\n",
    "\n",
    "for col in load_cols:\n",
    "    synthetic_data[col] = [int(random.uniform(0,16)) for _ in range(VECTOR_LENGTH)]"
   ]
  },
  {
   "cell_type": "code",
   "execution_count": 13,
   "id": "52b5883f",
   "metadata": {},
   "outputs": [
    {
     "data": {
      "text/plain": [
       "0         8\n",
       "1        10\n",
       "2        11\n",
       "3         0\n",
       "4         6\n",
       "         ..\n",
       "19995    15\n",
       "19996    13\n",
       "19997     1\n",
       "19998     8\n",
       "19999    15\n",
       "Name: load_1, Length: 20000, dtype: int64"
      ]
     },
     "execution_count": 13,
     "metadata": {},
     "output_type": "execute_result"
    }
   ],
   "source": [
    "synthetic_data['load_1']"
   ]
  },
  {
   "cell_type": "code",
   "execution_count": 14,
   "id": "2c72a2cd",
   "metadata": {},
   "outputs": [],
   "source": [
    "#protocols\n",
    "synthetic_data['protocol'] = [random.choice(['TCP','UDP']) for _ in range(VECTOR_LENGTH)]\n",
    "synthetic_data['protocol.sport'] = rand_func(0,65536,VECTOR_LENGTH)\n",
    "synthetic_data['protocol.dport'] = rand_func(0,65536,VECTOR_LENGTH)\n"
   ]
  },
  {
   "cell_type": "code",
   "execution_count": 15,
   "id": "d64a0a50",
   "metadata": {},
   "outputs": [
    {
     "data": {
      "text/html": [
       "<div>\n",
       "<style scoped>\n",
       "    .dataframe tbody tr th:only-of-type {\n",
       "        vertical-align: middle;\n",
       "    }\n",
       "\n",
       "    .dataframe tbody tr th {\n",
       "        vertical-align: top;\n",
       "    }\n",
       "\n",
       "    .dataframe thead th {\n",
       "        text-align: right;\n",
       "    }\n",
       "</style>\n",
       "<table border=\"1\" class=\"dataframe\">\n",
       "  <thead>\n",
       "    <tr style=\"text-align: right;\">\n",
       "      <th></th>\n",
       "      <th>length</th>\n",
       "      <th>timestamp</th>\n",
       "      <th>eth.src</th>\n",
       "      <th>eth.dst</th>\n",
       "      <th>eth.type</th>\n",
       "      <th>ip.src</th>\n",
       "      <th>ip.dst</th>\n",
       "      <th>ip.version</th>\n",
       "      <th>ip.proto</th>\n",
       "      <th>ip.len</th>\n",
       "      <th>...</th>\n",
       "      <th>load_13</th>\n",
       "      <th>load_14</th>\n",
       "      <th>load_15</th>\n",
       "      <th>load_16</th>\n",
       "      <th>load_17</th>\n",
       "      <th>load_18</th>\n",
       "      <th>load_19</th>\n",
       "      <th>protocol</th>\n",
       "      <th>protocol.sport</th>\n",
       "      <th>protocol.dport</th>\n",
       "    </tr>\n",
       "  </thead>\n",
       "  <tbody>\n",
       "    <tr>\n",
       "      <th>0</th>\n",
       "      <td>335243</td>\n",
       "      <td>8215789</td>\n",
       "      <td>70:46:d8:3d:7d:6a</td>\n",
       "      <td>94:47:d4:74:e7:a9</td>\n",
       "      <td>2048</td>\n",
       "      <td>225.153.131.198</td>\n",
       "      <td>71.86.225.115</td>\n",
       "      <td>1</td>\n",
       "      <td>9</td>\n",
       "      <td>16570</td>\n",
       "      <td>...</td>\n",
       "      <td>6</td>\n",
       "      <td>2</td>\n",
       "      <td>0</td>\n",
       "      <td>15</td>\n",
       "      <td>9</td>\n",
       "      <td>8</td>\n",
       "      <td>6</td>\n",
       "      <td>UDP</td>\n",
       "      <td>21668</td>\n",
       "      <td>51142</td>\n",
       "    </tr>\n",
       "    <tr>\n",
       "      <th>1</th>\n",
       "      <td>58369</td>\n",
       "      <td>8306984</td>\n",
       "      <td>2d:ed:80:74:72:75</td>\n",
       "      <td>59:8d:e1:db:44:d0</td>\n",
       "      <td>2048</td>\n",
       "      <td>170.150.230.54</td>\n",
       "      <td>64.37.189.235</td>\n",
       "      <td>8</td>\n",
       "      <td>3</td>\n",
       "      <td>7813</td>\n",
       "      <td>...</td>\n",
       "      <td>11</td>\n",
       "      <td>2</td>\n",
       "      <td>14</td>\n",
       "      <td>4</td>\n",
       "      <td>14</td>\n",
       "      <td>8</td>\n",
       "      <td>7</td>\n",
       "      <td>UDP</td>\n",
       "      <td>18526</td>\n",
       "      <td>57894</td>\n",
       "    </tr>\n",
       "    <tr>\n",
       "      <th>2</th>\n",
       "      <td>13112</td>\n",
       "      <td>7012261</td>\n",
       "      <td>a4:4c:e3:5c:7e:8a</td>\n",
       "      <td>e7:0e:c7:91:a1:82</td>\n",
       "      <td>2048</td>\n",
       "      <td>100.194.172.204</td>\n",
       "      <td>30.241.183.206</td>\n",
       "      <td>2</td>\n",
       "      <td>9</td>\n",
       "      <td>92702</td>\n",
       "      <td>...</td>\n",
       "      <td>6</td>\n",
       "      <td>3</td>\n",
       "      <td>5</td>\n",
       "      <td>4</td>\n",
       "      <td>6</td>\n",
       "      <td>14</td>\n",
       "      <td>4</td>\n",
       "      <td>UDP</td>\n",
       "      <td>31582</td>\n",
       "      <td>41773</td>\n",
       "    </tr>\n",
       "    <tr>\n",
       "      <th>3</th>\n",
       "      <td>388786</td>\n",
       "      <td>4040297</td>\n",
       "      <td>55:a5:d8:89:87:dd</td>\n",
       "      <td>eb:6d:e6:0b:75:61</td>\n",
       "      <td>2048</td>\n",
       "      <td>96.65.113.239</td>\n",
       "      <td>254.117.160.123</td>\n",
       "      <td>3</td>\n",
       "      <td>5</td>\n",
       "      <td>87862</td>\n",
       "      <td>...</td>\n",
       "      <td>5</td>\n",
       "      <td>2</td>\n",
       "      <td>6</td>\n",
       "      <td>1</td>\n",
       "      <td>8</td>\n",
       "      <td>11</td>\n",
       "      <td>7</td>\n",
       "      <td>TCP</td>\n",
       "      <td>17336</td>\n",
       "      <td>57785</td>\n",
       "    </tr>\n",
       "    <tr>\n",
       "      <th>4</th>\n",
       "      <td>144194</td>\n",
       "      <td>585910</td>\n",
       "      <td>33:29:77:1d:80:0a</td>\n",
       "      <td>6a:50:b3:35:b8:4c</td>\n",
       "      <td>2048</td>\n",
       "      <td>103.187.237.29</td>\n",
       "      <td>90.30.57.109</td>\n",
       "      <td>6</td>\n",
       "      <td>5</td>\n",
       "      <td>11091</td>\n",
       "      <td>...</td>\n",
       "      <td>9</td>\n",
       "      <td>11</td>\n",
       "      <td>5</td>\n",
       "      <td>4</td>\n",
       "      <td>1</td>\n",
       "      <td>3</td>\n",
       "      <td>6</td>\n",
       "      <td>UDP</td>\n",
       "      <td>36653</td>\n",
       "      <td>15953</td>\n",
       "    </tr>\n",
       "    <tr>\n",
       "      <th>...</th>\n",
       "      <td>...</td>\n",
       "      <td>...</td>\n",
       "      <td>...</td>\n",
       "      <td>...</td>\n",
       "      <td>...</td>\n",
       "      <td>...</td>\n",
       "      <td>...</td>\n",
       "      <td>...</td>\n",
       "      <td>...</td>\n",
       "      <td>...</td>\n",
       "      <td>...</td>\n",
       "      <td>...</td>\n",
       "      <td>...</td>\n",
       "      <td>...</td>\n",
       "      <td>...</td>\n",
       "      <td>...</td>\n",
       "      <td>...</td>\n",
       "      <td>...</td>\n",
       "      <td>...</td>\n",
       "      <td>...</td>\n",
       "      <td>...</td>\n",
       "    </tr>\n",
       "    <tr>\n",
       "      <th>19995</th>\n",
       "      <td>365412</td>\n",
       "      <td>4922224</td>\n",
       "      <td>ea:c9:5f:16:59:99</td>\n",
       "      <td>25:ff:02:36:73:26</td>\n",
       "      <td>2048</td>\n",
       "      <td>56.139.118.12</td>\n",
       "      <td>66.25.120.136</td>\n",
       "      <td>1</td>\n",
       "      <td>1</td>\n",
       "      <td>10729</td>\n",
       "      <td>...</td>\n",
       "      <td>14</td>\n",
       "      <td>7</td>\n",
       "      <td>1</td>\n",
       "      <td>9</td>\n",
       "      <td>4</td>\n",
       "      <td>5</td>\n",
       "      <td>5</td>\n",
       "      <td>UDP</td>\n",
       "      <td>36639</td>\n",
       "      <td>37307</td>\n",
       "    </tr>\n",
       "    <tr>\n",
       "      <th>19996</th>\n",
       "      <td>208713</td>\n",
       "      <td>2139509</td>\n",
       "      <td>a6:76:bd:02:09:d5</td>\n",
       "      <td>b2:82:ed:ef:90:6a</td>\n",
       "      <td>2048</td>\n",
       "      <td>215.132.53.44</td>\n",
       "      <td>47.151.151.51</td>\n",
       "      <td>2</td>\n",
       "      <td>5</td>\n",
       "      <td>44425</td>\n",
       "      <td>...</td>\n",
       "      <td>4</td>\n",
       "      <td>0</td>\n",
       "      <td>5</td>\n",
       "      <td>10</td>\n",
       "      <td>7</td>\n",
       "      <td>2</td>\n",
       "      <td>15</td>\n",
       "      <td>TCP</td>\n",
       "      <td>61144</td>\n",
       "      <td>148</td>\n",
       "    </tr>\n",
       "    <tr>\n",
       "      <th>19997</th>\n",
       "      <td>369528</td>\n",
       "      <td>8164677</td>\n",
       "      <td>ed:dd:de:23:b4:3e</td>\n",
       "      <td>ec:95:cf:2f:3a:d5</td>\n",
       "      <td>2048</td>\n",
       "      <td>243.169.164.138</td>\n",
       "      <td>56.100.17.2</td>\n",
       "      <td>6</td>\n",
       "      <td>7</td>\n",
       "      <td>10983</td>\n",
       "      <td>...</td>\n",
       "      <td>4</td>\n",
       "      <td>5</td>\n",
       "      <td>4</td>\n",
       "      <td>8</td>\n",
       "      <td>9</td>\n",
       "      <td>10</td>\n",
       "      <td>10</td>\n",
       "      <td>TCP</td>\n",
       "      <td>52022</td>\n",
       "      <td>14588</td>\n",
       "    </tr>\n",
       "    <tr>\n",
       "      <th>19998</th>\n",
       "      <td>67139</td>\n",
       "      <td>6549270</td>\n",
       "      <td>7a:1f:ee:bc:cd:03</td>\n",
       "      <td>80:39:17:af:1b:bb</td>\n",
       "      <td>2048</td>\n",
       "      <td>21.137.15.9</td>\n",
       "      <td>167.180.25.239</td>\n",
       "      <td>10</td>\n",
       "      <td>8</td>\n",
       "      <td>49559</td>\n",
       "      <td>...</td>\n",
       "      <td>12</td>\n",
       "      <td>4</td>\n",
       "      <td>2</td>\n",
       "      <td>15</td>\n",
       "      <td>6</td>\n",
       "      <td>15</td>\n",
       "      <td>11</td>\n",
       "      <td>UDP</td>\n",
       "      <td>24209</td>\n",
       "      <td>9162</td>\n",
       "    </tr>\n",
       "    <tr>\n",
       "      <th>19999</th>\n",
       "      <td>405632</td>\n",
       "      <td>1159154</td>\n",
       "      <td>29:f9:43:62:64:47</td>\n",
       "      <td>fc:43:df:03:88:1a</td>\n",
       "      <td>2048</td>\n",
       "      <td>231.208.247.50</td>\n",
       "      <td>27.90.72.216</td>\n",
       "      <td>8</td>\n",
       "      <td>6</td>\n",
       "      <td>80998</td>\n",
       "      <td>...</td>\n",
       "      <td>10</td>\n",
       "      <td>15</td>\n",
       "      <td>10</td>\n",
       "      <td>3</td>\n",
       "      <td>0</td>\n",
       "      <td>10</td>\n",
       "      <td>12</td>\n",
       "      <td>TCP</td>\n",
       "      <td>8909</td>\n",
       "      <td>2137</td>\n",
       "    </tr>\n",
       "  </tbody>\n",
       "</table>\n",
       "<p>20000 rows × 56 columns</p>\n",
       "</div>"
      ],
      "text/plain": [
       "       length  timestamp            eth.src            eth.dst  eth.type  \\\n",
       "0      335243    8215789  70:46:d8:3d:7d:6a  94:47:d4:74:e7:a9      2048   \n",
       "1       58369    8306984  2d:ed:80:74:72:75  59:8d:e1:db:44:d0      2048   \n",
       "2       13112    7012261  a4:4c:e3:5c:7e:8a  e7:0e:c7:91:a1:82      2048   \n",
       "3      388786    4040297  55:a5:d8:89:87:dd  eb:6d:e6:0b:75:61      2048   \n",
       "4      144194     585910  33:29:77:1d:80:0a  6a:50:b3:35:b8:4c      2048   \n",
       "...       ...        ...                ...                ...       ...   \n",
       "19995  365412    4922224  ea:c9:5f:16:59:99  25:ff:02:36:73:26      2048   \n",
       "19996  208713    2139509  a6:76:bd:02:09:d5  b2:82:ed:ef:90:6a      2048   \n",
       "19997  369528    8164677  ed:dd:de:23:b4:3e  ec:95:cf:2f:3a:d5      2048   \n",
       "19998   67139    6549270  7a:1f:ee:bc:cd:03  80:39:17:af:1b:bb      2048   \n",
       "19999  405632    1159154  29:f9:43:62:64:47  fc:43:df:03:88:1a      2048   \n",
       "\n",
       "                ip.src           ip.dst  ip.version  ip.proto  ip.len  ...  \\\n",
       "0      225.153.131.198    71.86.225.115           1         9   16570  ...   \n",
       "1       170.150.230.54    64.37.189.235           8         3    7813  ...   \n",
       "2      100.194.172.204   30.241.183.206           2         9   92702  ...   \n",
       "3        96.65.113.239  254.117.160.123           3         5   87862  ...   \n",
       "4       103.187.237.29     90.30.57.109           6         5   11091  ...   \n",
       "...                ...              ...         ...       ...     ...  ...   \n",
       "19995    56.139.118.12    66.25.120.136           1         1   10729  ...   \n",
       "19996    215.132.53.44    47.151.151.51           2         5   44425  ...   \n",
       "19997  243.169.164.138      56.100.17.2           6         7   10983  ...   \n",
       "19998      21.137.15.9   167.180.25.239          10         8   49559  ...   \n",
       "19999   231.208.247.50     27.90.72.216           8         6   80998  ...   \n",
       "\n",
       "       load_13  load_14  load_15  load_16  load_17  load_18  load_19  \\\n",
       "0            6        2        0       15        9        8        6   \n",
       "1           11        2       14        4       14        8        7   \n",
       "2            6        3        5        4        6       14        4   \n",
       "3            5        2        6        1        8       11        7   \n",
       "4            9       11        5        4        1        3        6   \n",
       "...        ...      ...      ...      ...      ...      ...      ...   \n",
       "19995       14        7        1        9        4        5        5   \n",
       "19996        4        0        5       10        7        2       15   \n",
       "19997        4        5        4        8        9       10       10   \n",
       "19998       12        4        2       15        6       15       11   \n",
       "19999       10       15       10        3        0       10       12   \n",
       "\n",
       "       protocol  protocol.sport  protocol.dport  \n",
       "0           UDP           21668           51142  \n",
       "1           UDP           18526           57894  \n",
       "2           UDP           31582           41773  \n",
       "3           TCP           17336           57785  \n",
       "4           UDP           36653           15953  \n",
       "...         ...             ...             ...  \n",
       "19995       UDP           36639           37307  \n",
       "19996       TCP           61144             148  \n",
       "19997       TCP           52022           14588  \n",
       "19998       UDP           24209            9162  \n",
       "19999       TCP            8909            2137  \n",
       "\n",
       "[20000 rows x 56 columns]"
      ]
     },
     "execution_count": 15,
     "metadata": {},
     "output_type": "execute_result"
    }
   ],
   "source": [
    "synthetic_data"
   ]
  },
  {
   "cell_type": "code",
   "execution_count": 16,
   "id": "05253393",
   "metadata": {},
   "outputs": [],
   "source": [
    "#synthetic_data.to_csv('./data/synthetic_data.csv')"
   ]
  },
  {
   "cell_type": "code",
   "execution_count": 17,
   "id": "f96cd0a7",
   "metadata": {},
   "outputs": [],
   "source": [
    "processed_syn = process_df(synthetic_data)"
   ]
  },
  {
   "cell_type": "code",
   "execution_count": 18,
   "id": "b5dfb243",
   "metadata": {},
   "outputs": [
    {
     "data": {
      "text/html": [
       "<div>\n",
       "<style scoped>\n",
       "    .dataframe tbody tr th:only-of-type {\n",
       "        vertical-align: middle;\n",
       "    }\n",
       "\n",
       "    .dataframe tbody tr th {\n",
       "        vertical-align: top;\n",
       "    }\n",
       "\n",
       "    .dataframe thead th {\n",
       "        text-align: right;\n",
       "    }\n",
       "</style>\n",
       "<table border=\"1\" class=\"dataframe\">\n",
       "  <thead>\n",
       "    <tr style=\"text-align: right;\">\n",
       "      <th></th>\n",
       "      <th>octet_1_eth_dst</th>\n",
       "      <th>octet_2_eth_dst</th>\n",
       "      <th>octet_3_eth_dst</th>\n",
       "      <th>octet_4_eth_dst</th>\n",
       "      <th>octet_5_eth_dst</th>\n",
       "      <th>octet_6_eth_dst</th>\n",
       "      <th>octet_1_eth_src</th>\n",
       "      <th>octet_2_eth_src</th>\n",
       "      <th>octet_3_eth_src</th>\n",
       "      <th>octet_4_eth_src</th>\n",
       "      <th>...</th>\n",
       "      <th>load_14</th>\n",
       "      <th>load_15</th>\n",
       "      <th>load_16</th>\n",
       "      <th>load_17</th>\n",
       "      <th>load_18</th>\n",
       "      <th>load_19</th>\n",
       "      <th>protocol.sport</th>\n",
       "      <th>protocol.dport</th>\n",
       "      <th>TCP</th>\n",
       "      <th>UDP</th>\n",
       "    </tr>\n",
       "  </thead>\n",
       "  <tbody>\n",
       "    <tr>\n",
       "      <th>0</th>\n",
       "      <td>0.271008</td>\n",
       "      <td>-0.756194</td>\n",
       "      <td>1.148720</td>\n",
       "      <td>-0.151370</td>\n",
       "      <td>1.408146</td>\n",
       "      <td>0.558858</td>\n",
       "      <td>-0.210637</td>\n",
       "      <td>-0.788925</td>\n",
       "      <td>1.191393</td>\n",
       "      <td>-0.885547</td>\n",
       "      <td>...</td>\n",
       "      <td>-1.187118</td>\n",
       "      <td>-1.626548</td>\n",
       "      <td>1.619993</td>\n",
       "      <td>0.325315</td>\n",
       "      <td>0.107235</td>\n",
       "      <td>-0.324252</td>\n",
       "      <td>-0.590462</td>\n",
       "      <td>0.971882</td>\n",
       "      <td>0</td>\n",
       "      <td>1</td>\n",
       "    </tr>\n",
       "    <tr>\n",
       "      <th>1</th>\n",
       "      <td>-0.523778</td>\n",
       "      <td>0.184827</td>\n",
       "      <td>1.324909</td>\n",
       "      <td>1.244261</td>\n",
       "      <td>-0.807132</td>\n",
       "      <td>1.086696</td>\n",
       "      <td>-1.117567</td>\n",
       "      <td>1.479902</td>\n",
       "      <td>0.005014</td>\n",
       "      <td>-0.143525</td>\n",
       "      <td>...</td>\n",
       "      <td>-1.187118</td>\n",
       "      <td>1.412370</td>\n",
       "      <td>-0.755015</td>\n",
       "      <td>1.412090</td>\n",
       "      <td>0.107235</td>\n",
       "      <td>-0.107136</td>\n",
       "      <td>-0.755133</td>\n",
       "      <td>1.328586</td>\n",
       "      <td>0</td>\n",
       "      <td>1</td>\n",
       "    </tr>\n",
       "    <tr>\n",
       "      <th>2</th>\n",
       "      <td>1.389096</td>\n",
       "      <td>-1.522454</td>\n",
       "      <td>0.972531</td>\n",
       "      <td>0.241574</td>\n",
       "      <td>0.456800</td>\n",
       "      <td>0.031019</td>\n",
       "      <td>0.493250</td>\n",
       "      <td>-0.707410</td>\n",
       "      <td>1.339691</td>\n",
       "      <td>-0.467316</td>\n",
       "      <td>...</td>\n",
       "      <td>-0.969162</td>\n",
       "      <td>-0.541220</td>\n",
       "      <td>-0.755015</td>\n",
       "      <td>-0.326750</td>\n",
       "      <td>1.410602</td>\n",
       "      <td>-0.758485</td>\n",
       "      <td>-0.070872</td>\n",
       "      <td>0.476923</td>\n",
       "      <td>0</td>\n",
       "      <td>1</td>\n",
       "    </tr>\n",
       "    <tr>\n",
       "      <th>3</th>\n",
       "      <td>1.442979</td>\n",
       "      <td>-0.245354</td>\n",
       "      <td>1.392674</td>\n",
       "      <td>-1.574101</td>\n",
       "      <td>-0.141189</td>\n",
       "      <td>-0.415613</td>\n",
       "      <td>-0.576116</td>\n",
       "      <td>0.501725</td>\n",
       "      <td>1.191393</td>\n",
       "      <td>0.139793</td>\n",
       "      <td>...</td>\n",
       "      <td>-1.187118</td>\n",
       "      <td>-0.324155</td>\n",
       "      <td>-1.402744</td>\n",
       "      <td>0.107960</td>\n",
       "      <td>0.758918</td>\n",
       "      <td>-0.107136</td>\n",
       "      <td>-0.817501</td>\n",
       "      <td>1.322827</td>\n",
       "      <td>1</td>\n",
       "      <td>0</td>\n",
       "    </tr>\n",
       "    <tr>\n",
       "      <th>4</th>\n",
       "      <td>-0.294772</td>\n",
       "      <td>-0.635206</td>\n",
       "      <td>0.701472</td>\n",
       "      <td>-1.005009</td>\n",
       "      <td>0.769385</td>\n",
       "      <td>-0.699834</td>\n",
       "      <td>-1.036350</td>\n",
       "      <td>-1.182912</td>\n",
       "      <td>-0.116320</td>\n",
       "      <td>-1.317268</td>\n",
       "      <td>...</td>\n",
       "      <td>0.774484</td>\n",
       "      <td>-0.541220</td>\n",
       "      <td>-0.755015</td>\n",
       "      <td>-1.413524</td>\n",
       "      <td>-0.978905</td>\n",
       "      <td>-0.324252</td>\n",
       "      <td>0.194898</td>\n",
       "      <td>-0.887131</td>\n",
       "      <td>0</td>\n",
       "      <td>1</td>\n",
       "    </tr>\n",
       "    <tr>\n",
       "      <th>...</th>\n",
       "      <td>...</td>\n",
       "      <td>...</td>\n",
       "      <td>...</td>\n",
       "      <td>...</td>\n",
       "      <td>...</td>\n",
       "      <td>...</td>\n",
       "      <td>...</td>\n",
       "      <td>...</td>\n",
       "      <td>...</td>\n",
       "      <td>...</td>\n",
       "      <td>...</td>\n",
       "      <td>...</td>\n",
       "      <td>...</td>\n",
       "      <td>...</td>\n",
       "      <td>...</td>\n",
       "      <td>...</td>\n",
       "      <td>...</td>\n",
       "      <td>...</td>\n",
       "      <td>...</td>\n",
       "      <td>...</td>\n",
       "      <td>...</td>\n",
       "    </tr>\n",
       "    <tr>\n",
       "      <th>19995</th>\n",
       "      <td>-1.224266</td>\n",
       "      <td>1.717346</td>\n",
       "      <td>-1.697404</td>\n",
       "      <td>-0.991459</td>\n",
       "      <td>-0.168371</td>\n",
       "      <td>-1.214138</td>\n",
       "      <td>1.440789</td>\n",
       "      <td>0.990813</td>\n",
       "      <td>-0.439879</td>\n",
       "      <td>-1.411708</td>\n",
       "      <td>...</td>\n",
       "      <td>-0.097339</td>\n",
       "      <td>-1.409483</td>\n",
       "      <td>0.324534</td>\n",
       "      <td>-0.761459</td>\n",
       "      <td>-0.544449</td>\n",
       "      <td>-0.541368</td>\n",
       "      <td>0.194165</td>\n",
       "      <td>0.240987</td>\n",
       "      <td>0</td>\n",
       "      <td>1</td>\n",
       "    </tr>\n",
       "    <tr>\n",
       "      <th>19996</th>\n",
       "      <td>0.675136</td>\n",
       "      <td>0.036952</td>\n",
       "      <td>1.487544</td>\n",
       "      <td>1.515257</td>\n",
       "      <td>0.225759</td>\n",
       "      <td>-0.293804</td>\n",
       "      <td>0.520322</td>\n",
       "      <td>-0.136807</td>\n",
       "      <td>0.827391</td>\n",
       "      <td>-1.681534</td>\n",
       "      <td>...</td>\n",
       "      <td>-1.623029</td>\n",
       "      <td>-0.541220</td>\n",
       "      <td>0.540444</td>\n",
       "      <td>-0.109395</td>\n",
       "      <td>-1.196132</td>\n",
       "      <td>1.629794</td>\n",
       "      <td>1.478466</td>\n",
       "      <td>-1.722099</td>\n",
       "      <td>1</td>\n",
       "      <td>0</td>\n",
       "    </tr>\n",
       "    <tr>\n",
       "      <th>19997</th>\n",
       "      <td>1.456450</td>\n",
       "      <td>0.292372</td>\n",
       "      <td>1.080955</td>\n",
       "      <td>-1.086308</td>\n",
       "      <td>-0.943038</td>\n",
       "      <td>1.154367</td>\n",
       "      <td>1.481398</td>\n",
       "      <td>1.262529</td>\n",
       "      <td>1.272283</td>\n",
       "      <td>-1.236321</td>\n",
       "      <td>...</td>\n",
       "      <td>-0.533250</td>\n",
       "      <td>-0.758286</td>\n",
       "      <td>0.108624</td>\n",
       "      <td>0.325315</td>\n",
       "      <td>0.541690</td>\n",
       "      <td>0.544213</td>\n",
       "      <td>1.000384</td>\n",
       "      <td>-0.959243</td>\n",
       "      <td>1</td>\n",
       "      <td>0</td>\n",
       "    </tr>\n",
       "    <tr>\n",
       "      <th>19998</th>\n",
       "      <td>0.001589</td>\n",
       "      <td>-0.944399</td>\n",
       "      <td>-1.412792</td>\n",
       "      <td>0.648069</td>\n",
       "      <td>-1.364349</td>\n",
       "      <td>0.802475</td>\n",
       "      <td>-0.075274</td>\n",
       "      <td>-1.318770</td>\n",
       "      <td>1.487988</td>\n",
       "      <td>0.827850</td>\n",
       "      <td>...</td>\n",
       "      <td>-0.751206</td>\n",
       "      <td>-1.192417</td>\n",
       "      <td>1.619993</td>\n",
       "      <td>-0.326750</td>\n",
       "      <td>1.627829</td>\n",
       "      <td>0.761329</td>\n",
       "      <td>-0.457289</td>\n",
       "      <td>-1.245895</td>\n",
       "      <td>0</td>\n",
       "      <td>1</td>\n",
       "    </tr>\n",
       "    <tr>\n",
       "      <th>19999</th>\n",
       "      <td>1.671985</td>\n",
       "      <td>-0.809967</td>\n",
       "      <td>1.297803</td>\n",
       "      <td>-1.682500</td>\n",
       "      <td>0.117033</td>\n",
       "      <td>-1.376550</td>\n",
       "      <td>-1.171713</td>\n",
       "      <td>1.642931</td>\n",
       "      <td>-0.817363</td>\n",
       "      <td>-0.386368</td>\n",
       "      <td>...</td>\n",
       "      <td>1.646307</td>\n",
       "      <td>0.544107</td>\n",
       "      <td>-0.970925</td>\n",
       "      <td>-1.630879</td>\n",
       "      <td>0.541690</td>\n",
       "      <td>0.978445</td>\n",
       "      <td>-1.259158</td>\n",
       "      <td>-1.617022</td>\n",
       "      <td>1</td>\n",
       "      <td>0</td>\n",
       "    </tr>\n",
       "  </tbody>\n",
       "</table>\n",
       "<p>20000 rows × 72 columns</p>\n",
       "</div>"
      ],
      "text/plain": [
       "       octet_1_eth_dst  octet_2_eth_dst  octet_3_eth_dst  octet_4_eth_dst  \\\n",
       "0             0.271008        -0.756194         1.148720        -0.151370   \n",
       "1            -0.523778         0.184827         1.324909         1.244261   \n",
       "2             1.389096        -1.522454         0.972531         0.241574   \n",
       "3             1.442979        -0.245354         1.392674        -1.574101   \n",
       "4            -0.294772        -0.635206         0.701472        -1.005009   \n",
       "...                ...              ...              ...              ...   \n",
       "19995        -1.224266         1.717346        -1.697404        -0.991459   \n",
       "19996         0.675136         0.036952         1.487544         1.515257   \n",
       "19997         1.456450         0.292372         1.080955        -1.086308   \n",
       "19998         0.001589        -0.944399        -1.412792         0.648069   \n",
       "19999         1.671985        -0.809967         1.297803        -1.682500   \n",
       "\n",
       "       octet_5_eth_dst  octet_6_eth_dst  octet_1_eth_src  octet_2_eth_src  \\\n",
       "0             1.408146         0.558858        -0.210637        -0.788925   \n",
       "1            -0.807132         1.086696        -1.117567         1.479902   \n",
       "2             0.456800         0.031019         0.493250        -0.707410   \n",
       "3            -0.141189        -0.415613        -0.576116         0.501725   \n",
       "4             0.769385        -0.699834        -1.036350        -1.182912   \n",
       "...                ...              ...              ...              ...   \n",
       "19995        -0.168371        -1.214138         1.440789         0.990813   \n",
       "19996         0.225759        -0.293804         0.520322        -0.136807   \n",
       "19997        -0.943038         1.154367         1.481398         1.262529   \n",
       "19998        -1.364349         0.802475        -0.075274        -1.318770   \n",
       "19999         0.117033        -1.376550        -1.171713         1.642931   \n",
       "\n",
       "       octet_3_eth_src  octet_4_eth_src  ...   load_14   load_15   load_16  \\\n",
       "0             1.191393        -0.885547  ... -1.187118 -1.626548  1.619993   \n",
       "1             0.005014        -0.143525  ... -1.187118  1.412370 -0.755015   \n",
       "2             1.339691        -0.467316  ... -0.969162 -0.541220 -0.755015   \n",
       "3             1.191393         0.139793  ... -1.187118 -0.324155 -1.402744   \n",
       "4            -0.116320        -1.317268  ...  0.774484 -0.541220 -0.755015   \n",
       "...                ...              ...  ...       ...       ...       ...   \n",
       "19995        -0.439879        -1.411708  ... -0.097339 -1.409483  0.324534   \n",
       "19996         0.827391        -1.681534  ... -1.623029 -0.541220  0.540444   \n",
       "19997         1.272283        -1.236321  ... -0.533250 -0.758286  0.108624   \n",
       "19998         1.487988         0.827850  ... -0.751206 -1.192417  1.619993   \n",
       "19999        -0.817363        -0.386368  ...  1.646307  0.544107 -0.970925   \n",
       "\n",
       "        load_17   load_18   load_19  protocol.sport  protocol.dport  TCP  UDP  \n",
       "0      0.325315  0.107235 -0.324252       -0.590462        0.971882    0    1  \n",
       "1      1.412090  0.107235 -0.107136       -0.755133        1.328586    0    1  \n",
       "2     -0.326750  1.410602 -0.758485       -0.070872        0.476923    0    1  \n",
       "3      0.107960  0.758918 -0.107136       -0.817501        1.322827    1    0  \n",
       "4     -1.413524 -0.978905 -0.324252        0.194898       -0.887131    0    1  \n",
       "...         ...       ...       ...             ...             ...  ...  ...  \n",
       "19995 -0.761459 -0.544449 -0.541368        0.194165        0.240987    0    1  \n",
       "19996 -0.109395 -1.196132  1.629794        1.478466       -1.722099    1    0  \n",
       "19997  0.325315  0.541690  0.544213        1.000384       -0.959243    1    0  \n",
       "19998 -0.326750  1.627829  0.761329       -0.457289       -1.245895    0    1  \n",
       "19999 -1.630879  0.541690  0.978445       -1.259158       -1.617022    1    0  \n",
       "\n",
       "[20000 rows x 72 columns]"
      ]
     },
     "execution_count": 18,
     "metadata": {},
     "output_type": "execute_result"
    }
   ],
   "source": [
    "processed_syn"
   ]
  },
  {
   "cell_type": "code",
   "execution_count": 19,
   "id": "cc6c51c9",
   "metadata": {},
   "outputs": [
    {
     "name": "stdout",
     "output_type": "stream",
     "text": [
      "Metal device set to: Apple M1 Pro\n"
     ]
    },
    {
     "name": "stderr",
     "output_type": "stream",
     "text": [
      "2022-03-18 11:59:22.044230: I tensorflow/core/common_runtime/pluggable_device/pluggable_device_factory.cc:305] Could not identify NUMA node of platform GPU ID 0, defaulting to 0. Your kernel may not have been built with NUMA support.\n",
      "2022-03-18 11:59:22.044338: I tensorflow/core/common_runtime/pluggable_device/pluggable_device_factory.cc:271] Created TensorFlow device (/job:localhost/replica:0/task:0/device:GPU:0 with 0 MB memory) -> physical PluggableDevice (device: 0, name: METAL, pci bus id: <undefined>)\n"
     ]
    }
   ],
   "source": [
    "import keras\n",
    "loaded_model = keras.models.load_model(\"model_1\")"
   ]
  },
  {
   "cell_type": "code",
   "execution_count": 20,
   "id": "11884538",
   "metadata": {},
   "outputs": [
    {
     "name": "stderr",
     "output_type": "stream",
     "text": [
      "2022-03-18 11:59:22.247506: W tensorflow/core/platform/profile_utils/cpu_utils.cc:128] Failed to get CPU frequency: 0 Hz\n",
      "2022-03-18 11:59:22.274429: I tensorflow/core/grappler/optimizers/custom_graph_optimizer_registry.cc:113] Plugin optimizer for device_type GPU is enabled.\n"
     ]
    }
   ],
   "source": [
    "from sklearn import metrics\n",
    "data_vector = processed_syn.values\n",
    "pred = loaded_model.predict(data_vector)\n",
    "\n",
    "score_list = []\n",
    "for index, x in enumerate(pred):\n",
    "    score_list.append(np.sqrt(metrics.mean_squared_error(pred[index],data_vector[index])))\n",
    "        \n",
    "synthetic_data[\"score\"] = score_list"
   ]
  },
  {
   "cell_type": "code",
   "execution_count": 21,
   "id": "ee8653a0",
   "metadata": {},
   "outputs": [
    {
     "data": {
      "text/plain": [
       "1.0934502303494493"
      ]
     },
     "execution_count": 21,
     "metadata": {},
     "output_type": "execute_result"
    }
   ],
   "source": [
    "synthetic_data[\"score\"].mean()"
   ]
  },
  {
   "cell_type": "code",
   "execution_count": 22,
   "id": "ffaeb42b",
   "metadata": {},
   "outputs": [],
   "source": [
    "processed_normal = process_df(normal_df)"
   ]
  },
  {
   "cell_type": "code",
   "execution_count": 23,
   "id": "1fc0c491",
   "metadata": {},
   "outputs": [
    {
     "name": "stderr",
     "output_type": "stream",
     "text": [
      "2022-03-18 11:59:26.326531: I tensorflow/core/grappler/optimizers/custom_graph_optimizer_registry.cc:113] Plugin optimizer for device_type GPU is enabled.\n"
     ]
    }
   ],
   "source": [
    "data_vector = processed_normal.values\n",
    "pred = loaded_model.predict(data_vector)\n",
    "\n",
    "score_list = []\n",
    "for index, x in enumerate(pred):\n",
    "    score_list.append(np.sqrt(metrics.mean_squared_error(pred[index],data_vector[index])))\n",
    "        \n",
    "normal_df[\"score\"] = score_list"
   ]
  },
  {
   "cell_type": "code",
   "execution_count": 24,
   "id": "b3123204",
   "metadata": {},
   "outputs": [
    {
     "data": {
      "text/plain": [
       "0.22282508091483177"
      ]
     },
     "execution_count": 24,
     "metadata": {},
     "output_type": "execute_result"
    }
   ],
   "source": [
    "normal_df[\"score\"].mean()"
   ]
  },
  {
   "cell_type": "code",
   "execution_count": 25,
   "id": "c26898c8",
   "metadata": {},
   "outputs": [
    {
     "data": {
      "text/plain": [
       "0.033386198390340086"
      ]
     },
     "execution_count": 25,
     "metadata": {},
     "output_type": "execute_result"
    }
   ],
   "source": [
    "normal_df[\"score\"].min()"
   ]
  },
  {
   "cell_type": "code",
   "execution_count": 26,
   "id": "3d4a505f",
   "metadata": {},
   "outputs": [
    {
     "data": {
      "text/plain": [
       "1.4360386389362416"
      ]
     },
     "execution_count": 26,
     "metadata": {},
     "output_type": "execute_result"
    }
   ],
   "source": [
    "normal_df[\"score\"].max()"
   ]
  },
  {
   "cell_type": "code",
   "execution_count": 27,
   "id": "68823eb5",
   "metadata": {},
   "outputs": [
    {
     "data": {
      "text/plain": [
       "<AxesSubplot:>"
      ]
     },
     "execution_count": 27,
     "metadata": {},
     "output_type": "execute_result"
    },
    {
     "data": {
      "image/png": "[encoded data removed]",
      "text/plain": [
       "<Figure size 432x288 with 1 Axes>"
      ]
     },
     "metadata": {
      "needs_background": "light"
     },
     "output_type": "display_data"
    }
   ],
   "source": [
    "normal_df[\"score\"].hist(bins = 100)"
   ]
  },
  {
   "cell_type": "code",
   "execution_count": 28,
   "id": "4c95c8b0",
   "metadata": {},
   "outputs": [
    {
     "data": {
      "text/plain": [
       "<AxesSubplot:>"
      ]
     },
     "execution_count": 28,
     "metadata": {},
     "output_type": "execute_result"
    },
    {
     "data": {
      "image/png": "[encoded data removed]",
      "text/plain": [
       "<Figure size 432x288 with 1 Axes>"
      ]
     },
     "metadata": {
      "needs_background": "light"
     },
     "output_type": "display_data"
    }
   ],
   "source": [
    "synthetic_data[\"score\"].hist(bins = 100)"
   ]
  },
  {
   "cell_type": "code",
   "execution_count": 30,
   "id": "2586ea19",
   "metadata": {},
   "outputs": [],
   "source": [
    "attack_df = pd.read_csv('data/attack1.csv')\n",
    "processed_attack = process_df(attack_df)"
   ]
  },
  {
   "cell_type": "code",
   "execution_count": 31,
   "id": "2061bd63",
   "metadata": {},
   "outputs": [],
   "source": [
    "data_vector = processed_attack.values\n",
    "pred = loaded_model.predict(data_vector)\n",
    "\n",
    "score_list = []\n",
    "for index, x in enumerate(pred):\n",
    "    score_list.append(np.sqrt(metrics.mean_squared_error(pred[index],data_vector[index])))\n",
    "        \n",
    "attack_df[\"score\"] = score_list"
   ]
  },
  {
   "cell_type": "code",
   "execution_count": 33,
   "id": "b057c38a",
   "metadata": {},
   "outputs": [
    {
     "data": {
      "text/plain": [
       "<AxesSubplot:>"
      ]
     },
     "execution_count": 33,
     "metadata": {},
     "output_type": "execute_result"
    },
    {
     "data": {
      "image/png": "[encoded data removed]",
      "text/plain": [
       "<Figure size 432x288 with 1 Axes>"
      ]
     },
     "metadata": {
      "needs_background": "light"
     },
     "output_type": "display_data"
    }
   ],
   "source": [
    "nmap_df = attack_df[attack_df[\"ip.dst\"] == '89.100.107.148']\n",
    "nmap_df[\"score\"].hist(bins=100)"
   ]
  },
  {
   "cell_type": "code",
   "execution_count": 34,
   "id": "d7e891d1",
   "metadata": {},
   "outputs": [
    {
     "data": {
      "text/plain": [
       "<AxesSubplot:>"
      ]
     },
     "execution_count": 34,
     "metadata": {},
     "output_type": "execute_result"
    },
    {
     "data": {
      "image/png": "[encoded data removed]",
      "text/plain": [
       "<Figure size 432x288 with 1 Axes>"
      ]
     },
     "metadata": {
      "needs_background": "light"
     },
     "output_type": "display_data"
    }
   ],
   "source": [
    "attack_word_df = attack_df[attack_df[\"ip.dst\"] == '89.100.107.147']\n",
    "attack_word_df[\"score\"].hist(bins=100)"
   ]
  },
  {
   "cell_type": "code",
   "execution_count": 92,
   "id": "0588cb94",
   "metadata": {},
   "outputs": [],
   "source": [
    "new_df = attack_df.copy()"
   ]
  },
  {
   "cell_type": "code",
   "execution_count": 93,
   "id": "aed56276",
   "metadata": {},
   "outputs": [],
   "source": [
    "from datetime import datetime\n",
    "resampled_time = new_df['timestamp'].apply(lambda x:datetime.fromtimestamp(x))"
   ]
  },
  {
   "cell_type": "code",
   "execution_count": 94,
   "id": "1b01ab51",
   "metadata": {},
   "outputs": [],
   "source": [
    "resampled_time_series = pd.to_datetime(resampled_time, format='%Y-%m-%d %H:%M:%S')"
   ]
  },
  {
   "cell_type": "code",
   "execution_count": 95,
   "id": "45e24a80",
   "metadata": {},
   "outputs": [],
   "source": [
    "df = pd.DataFrame(resampled_time_series)\n",
    "df['packet'] = 1"
   ]
  },
  {
   "cell_type": "code",
   "execution_count": 96,
   "id": "5a2dabfc",
   "metadata": {},
   "outputs": [],
   "source": [
    "df = df.set_index('timestamp')"
   ]
  },
  {
   "cell_type": "code",
   "execution_count": 103,
   "id": "d6505792",
   "metadata": {},
   "outputs": [],
   "source": [
    "df = df.resample('10S').sum()"
   ]
  },
  {
   "cell_type": "code",
   "execution_count": 104,
   "id": "5d4969f7",
   "metadata": {},
   "outputs": [
    {
     "data": {
      "text/plain": [
       "[<matplotlib.lines.Line2D at 0x2c98093d0>]"
      ]
     },
     "execution_count": 104,
     "metadata": {},
     "output_type": "execute_result"
    },
    {
     "data": {
      "image/png": "[encoded data removed]",
      "text/plain": [
       "<Figure size 432x288 with 1 Axes>"
      ]
     },
     "metadata": {
      "needs_background": "light"
     },
     "output_type": "display_data"
    }
   ],
   "source": [
    "import matplotlib.pyplot as plt\n",
    "\n",
    "plt.plot(df['packet'])"
   ]
  },
  {
   "cell_type": "code",
   "execution_count": 90,
   "id": "d874951a",
   "metadata": {},
   "outputs": [],
   "source": [
    "new_normal = normal_df.copy()"
   ]
  },
  {
   "cell_type": "code",
   "execution_count": 109,
   "id": "aa59f734",
   "metadata": {},
   "outputs": [],
   "source": [
    "from datetime import datetime\n",
    "resampled_time_normal = new_normal['timestamp'].apply(lambda x:datetime.fromtimestamp(x))\n",
    "resampled_time_series_normal = pd.to_datetime(resampled_time_normal, format='%Y-%m-%d %H:%M:%S')\n",
    "df_nor = pd.DataFrame(resampled_time_series_normal)\n",
    "df_nor['packet'] = 1\n",
    "df_nor = df_nor.set_index('timestamp')\n",
    "df_nor = df_nor.resample('10S').sum()"
   ]
  },
  {
   "cell_type": "code",
   "execution_count": 115,
   "id": "52329504",
   "metadata": {},
   "outputs": [
    {
     "data": {
      "text/html": [
       "<div>\n",
       "<style scoped>\n",
       "    .dataframe tbody tr th:only-of-type {\n",
       "        vertical-align: middle;\n",
       "    }\n",
       "\n",
       "    .dataframe tbody tr th {\n",
       "        vertical-align: top;\n",
       "    }\n",
       "\n",
       "    .dataframe thead th {\n",
       "        text-align: right;\n",
       "    }\n",
       "</style>\n",
       "<table border=\"1\" class=\"dataframe\">\n",
       "  <thead>\n",
       "    <tr style=\"text-align: right;\">\n",
       "      <th></th>\n",
       "      <th>packet</th>\n",
       "    </tr>\n",
       "  </thead>\n",
       "  <tbody>\n",
       "    <tr>\n",
       "      <th>0</th>\n",
       "      <td>1828</td>\n",
       "    </tr>\n",
       "    <tr>\n",
       "      <th>1</th>\n",
       "      <td>2139</td>\n",
       "    </tr>\n",
       "    <tr>\n",
       "      <th>2</th>\n",
       "      <td>2498</td>\n",
       "    </tr>\n",
       "    <tr>\n",
       "      <th>3</th>\n",
       "      <td>4954</td>\n",
       "    </tr>\n",
       "    <tr>\n",
       "      <th>4</th>\n",
       "      <td>2233</td>\n",
       "    </tr>\n",
       "    <tr>\n",
       "      <th>...</th>\n",
       "      <td>...</td>\n",
       "    </tr>\n",
       "    <tr>\n",
       "      <th>56</th>\n",
       "      <td>2629</td>\n",
       "    </tr>\n",
       "    <tr>\n",
       "      <th>57</th>\n",
       "      <td>2984</td>\n",
       "    </tr>\n",
       "    <tr>\n",
       "      <th>58</th>\n",
       "      <td>1618</td>\n",
       "    </tr>\n",
       "    <tr>\n",
       "      <th>59</th>\n",
       "      <td>2737</td>\n",
       "    </tr>\n",
       "    <tr>\n",
       "      <th>60</th>\n",
       "      <td>73</td>\n",
       "    </tr>\n",
       "  </tbody>\n",
       "</table>\n",
       "<p>61 rows × 1 columns</p>\n",
       "</div>"
      ],
      "text/plain": [
       "    packet\n",
       "0     1828\n",
       "1     2139\n",
       "2     2498\n",
       "3     4954\n",
       "4     2233\n",
       "..     ...\n",
       "56    2629\n",
       "57    2984\n",
       "58    1618\n",
       "59    2737\n",
       "60      73\n",
       "\n",
       "[61 rows x 1 columns]"
      ]
     },
     "execution_count": 115,
     "metadata": {},
     "output_type": "execute_result"
    }
   ],
   "source": [
    "df_nor = df_nor.reset_index(drop=True)"
   ]
  },
  {
   "cell_type": "code",
   "execution_count": 116,
   "id": "cc41d336",
   "metadata": {},
   "outputs": [],
   "source": [
    "df = df.reset_index(drop = True)"
   ]
  },
  {
   "cell_type": "code",
   "execution_count": 120,
   "id": "8fa23b9e",
   "metadata": {},
   "outputs": [
    {
     "data": {
      "image/png": "[encoded data removed]",
      "text/plain": [
       "<Figure size 432x288 with 1 Axes>"
      ]
     },
     "metadata": {
      "needs_background": "light"
     },
     "output_type": "display_data"
    }
   ],
   "source": [
    "plt.plot(list(df['packet']))\n",
    "plt.plot(list(df_nor['packet']))\n",
    "plt.show()"
   ]
  },
  {
   "cell_type": "code",
   "execution_count": null,
   "id": "945d7de8",
   "metadata": {},
   "outputs": [],
   "source": []
  },
  {
   "cell_type": "code",
   "execution_count": null,
   "id": "dac2d543",
   "metadata": {},
   "outputs": [],
   "source": []
  },
  {
   "cell_type": "code",
   "execution_count": null,
   "id": "8f69d938",
   "metadata": {},
   "outputs": [],
   "source": []
  }
 ],
 "metadata": {
  "kernelspec": {
   "display_name": "Python 3 (ipykernel)",
   "language": "python",
   "name": "python3"
  },
  "language_info": {
   "codemirror_mode": {
    "name": "ipython",
    "version": 3
   },
   "file_extension": ".py",
   "mimetype": "text/x-python",
   "name": "python",
   "nbconvert_exporter": "python",
   "pygments_lexer": "ipython3",
   "version": "3.9.10"
  }
 },
 "nbformat": 4,
 "nbformat_minor": 5
}

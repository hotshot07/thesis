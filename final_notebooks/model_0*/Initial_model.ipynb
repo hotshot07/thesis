{
 "cells": [
  {
   "cell_type": "markdown",
   "id": "fb4b6970",
   "metadata": {},
   "source": [
    "# First model"
   ]
  },
  {
   "cell_type": "markdown",
   "id": "0fa674d0",
   "metadata": {},
   "source": [
    "## Autoencoder\n",
    "\n",
    "Features:\n",
    "\n",
    "* eth_source\n",
    "* eth_dst \n",
    "* ip_src \n",
    "* ip_dst\n",
    "* ip.len\n",
    "* ip.tos \n",
    "* ip.ttl\n",
    "* length\n",
    "* load.count\n",
    "* protocol\n",
    "* protocol.dport\n",
    "* protocol.sport\n",
    "\n",
    "Scaling: Standard Scalar\n"
   ]
  },
  {
   "cell_type": "code",
   "execution_count": 1,
   "id": "a6bafbb5",
   "metadata": {},
   "outputs": [],
   "source": [
    "import pandas as pd\n",
    "import numpy as np\n",
    "import random\n",
    "from preprocess_df import process_df\n",
    "import matplotlib.pyplot as plt\n",
    "from sklearn.model_selection import train_test_split\n",
    "plt.rcParams[\"figure.figsize\"] = (16,9)\n",
    "\n",
    "normal_df = pd.read_csv('../data/normal1.csv')\n",
    "processed_normal = process_df(normal_df)\n",
    "\n",
    "attack_df = pd.read_csv('../data/attack1.csv')\n",
    "processed_attack = process_df(attack_df)"
   ]
  },
  {
   "cell_type": "code",
   "execution_count": 2,
   "id": "7bea54ba",
   "metadata": {},
   "outputs": [
    {
     "data": {
      "text/plain": [
       "Index(['octet_1_eth_dst', 'octet_2_eth_dst', 'octet_3_eth_dst',\n",
       "       'octet_4_eth_dst', 'octet_5_eth_dst', 'octet_6_eth_dst',\n",
       "       'octet_1_eth_src', 'octet_2_eth_src', 'octet_3_eth_src',\n",
       "       'octet_4_eth_src', 'octet_5_eth_src', 'octet_6_eth_src',\n",
       "       'octet_1_ip_src', 'octet_2_ip_src', 'octet_3_ip_src', 'octet_4_ip_src',\n",
       "       'octet_1_ip_dst', 'octet_2_ip_dst', 'octet_3_ip_dst', 'octet_4_ip_dst',\n",
       "       'ip.len', 'ip.tos', 'ip.ttl', 'length', 'load.count', 'TCP', 'UDP',\n",
       "       'protocol.dport', 'protocol.sport'],\n",
       "      dtype='object')"
      ]
     },
     "execution_count": 2,
     "metadata": {},
     "output_type": "execute_result"
    }
   ],
   "source": [
    "processed_normal.columns"
   ]
  },
  {
   "cell_type": "code",
   "execution_count": 3,
   "id": "40c22594",
   "metadata": {},
   "outputs": [
    {
     "data": {
      "text/plain": [
       "Index(['octet_1_eth_dst', 'octet_2_eth_dst', 'octet_3_eth_dst',\n",
       "       'octet_4_eth_dst', 'octet_5_eth_dst', 'octet_6_eth_dst',\n",
       "       'octet_1_eth_src', 'octet_2_eth_src', 'octet_3_eth_src',\n",
       "       'octet_4_eth_src', 'octet_5_eth_src', 'octet_6_eth_src',\n",
       "       'octet_1_ip_src', 'octet_2_ip_src', 'octet_3_ip_src', 'octet_4_ip_src',\n",
       "       'octet_1_ip_dst', 'octet_2_ip_dst', 'octet_3_ip_dst', 'octet_4_ip_dst',\n",
       "       'ip.len', 'ip.tos', 'ip.ttl', 'length', 'load.count', 'TCP', 'UDP',\n",
       "       'protocol.dport', 'protocol.sport'],\n",
       "      dtype='object')"
      ]
     },
     "execution_count": 3,
     "metadata": {},
     "output_type": "execute_result"
    }
   ],
   "source": [
    "processed_attack.columns"
   ]
  },
  {
   "cell_type": "code",
   "execution_count": 4,
   "id": "485b1c6e",
   "metadata": {},
   "outputs": [],
   "source": [
    "x_normal_train, x_normal_test = train_test_split(processed_normal.values, test_size=0.2, random_state=42)"
   ]
  },
  {
   "cell_type": "code",
   "execution_count": 6,
   "id": "3d6c9bc6",
   "metadata": {},
   "outputs": [
    {
     "name": "stdout",
     "output_type": "stream",
     "text": [
      "Metal device set to: Apple M1 Pro\n"
     ]
    },
    {
     "name": "stderr",
     "output_type": "stream",
     "text": [
      "2022-04-12 13:10:10.396869: I tensorflow/core/common_runtime/pluggable_device/pluggable_device_factory.cc:305] Could not identify NUMA node of platform GPU ID 0, defaulting to 0. Your kernel may not have been built with NUMA support.\n",
      "2022-04-12 13:10:10.397204: I tensorflow/core/common_runtime/pluggable_device/pluggable_device_factory.cc:271] Created TensorFlow device (/job:localhost/replica:0/task:0/device:GPU:0 with 0 MB memory) -> physical PluggableDevice (device: 0, name: METAL, pci bus id: <undefined>)\n"
     ]
    }
   ],
   "source": [
    "# from tensorflow.keras.models import Sequential\n",
    "# from tensorflow.keras.layers import Dense, Activation\n",
    "\n",
    "# model = Sequential()\n",
    "# model.add(Dense(10, input_dim=processed_normal.values.shape[1], activation='ReLU'))\n",
    "# model.add(Dense(3, activation='ReLU'))\n",
    "# model.add(Dense(10, activation='ReLU'))\n",
    "# model.add(Dense(processed_normal.values.shape[1]))\n",
    "# model.compile(loss='mean_squared_error', optimizer='adam')\n",
    "# model.fit(x_normal_train,x_normal_train,verbose=1,epochs=20)\n",
    "import keras\n",
    "model = keras.models.load_model(\"inital_model\")"
   ]
  },
  {
   "cell_type": "code",
   "execution_count": 7,
   "id": "8b0c5bef",
   "metadata": {},
   "outputs": [
    {
     "name": "stderr",
     "output_type": "stream",
     "text": [
      "2022-04-12 13:10:15.767308: W tensorflow/core/platform/profile_utils/cpu_utils.cc:128] Failed to get CPU frequency: 0 Hz\n",
      "2022-04-12 13:10:15.808699: I tensorflow/core/grappler/optimizers/custom_graph_optimizer_registry.cc:113] Plugin optimizer for device_type GPU is enabled.\n"
     ]
    },
    {
     "name": "stdout",
     "output_type": "stream",
     "text": [
      "1.3048381901257229\n",
      "1.2974815665012933\n"
     ]
    }
   ],
   "source": [
    "from sklearn import metrics\n",
    "pred_normal_train = model.predict(x_normal_train)\n",
    "print(np.sqrt(metrics.mean_squared_error(pred_normal_train,x_normal_train)))\n",
    "\n",
    "pred_normal_test = model.predict(x_normal_test)\n",
    "print(np.sqrt(metrics.mean_squared_error(pred_normal_test,x_normal_test)))"
   ]
  },
  {
   "cell_type": "code",
   "execution_count": 8,
   "id": "e2b2509b",
   "metadata": {},
   "outputs": [],
   "source": [
    "pred_normal = model.predict(processed_normal.values)\n",
    "normal_score_list = []\n",
    "#RMSE\n",
    "for index, x in enumerate(pred_normal):\n",
    "    normal_score_list.append(np.sqrt(metrics.mean_squared_error(pred_normal[index],processed_normal.values[index])))\n",
    "\n",
    "normal_df['score'] = normal_score_list"
   ]
  },
  {
   "cell_type": "code",
   "execution_count": 10,
   "id": "0c5333f0",
   "metadata": {},
   "outputs": [
    {
     "data": {
      "image/png": "[encoded data removed]",
      "text/plain": [
       "<Figure size 1152x648 with 1 Axes>"
      ]
     },
     "metadata": {
      "needs_background": "light"
     },
     "output_type": "display_data"
    }
   ],
   "source": [
    "plt.hist(normal_score_list,bins = 100)\n",
    "plt.xlabel(\"Score\", fontsize = 16)\n",
    "plt.ylabel(\"Number of packets\",fontsize = 16)\n",
    "plt.title(\"Score distribution of normal packets\",fontsize = 18)\n",
    "plt.savefig(\"score_distribution_normal_model0.png\", dpi = 300, bbox_inches = \"tight\")"
   ]
  },
  {
   "cell_type": "code",
   "execution_count": 12,
   "id": "e08cfca2",
   "metadata": {},
   "outputs": [
    {
     "data": {
      "text/plain": [
       "count    140538.000000\n",
       "mean          1.157059\n",
       "std           0.599993\n",
       "min           0.206880\n",
       "25%           1.062798\n",
       "50%           1.113349\n",
       "75%           1.307993\n",
       "max          24.797188\n",
       "Name: score, dtype: object"
      ]
     },
     "execution_count": 12,
     "metadata": {},
     "output_type": "execute_result"
    }
   ],
   "source": [
    "normal_df['score'].describe().apply(lambda x: format(x, 'f'))"
   ]
  },
  {
   "cell_type": "code",
   "execution_count": 29,
   "id": "4e2feb04",
   "metadata": {},
   "outputs": [
    {
     "data": {
      "text/plain": [
       "3.268015902907077"
      ]
     },
     "execution_count": 29,
     "metadata": {},
     "output_type": "execute_result"
    }
   ],
   "source": [
    "normal_df['score'].quantile(0.995)"
   ]
  },
  {
   "cell_type": "code",
   "execution_count": 17,
   "id": "76adde13",
   "metadata": {},
   "outputs": [],
   "source": [
    "pred_attack = model.predict(processed_attack.values)"
   ]
  },
  {
   "cell_type": "code",
   "execution_count": 18,
   "id": "f51114f6",
   "metadata": {},
   "outputs": [],
   "source": [
    "from sklearn import metrics\n",
    "score_list = []\n",
    "for index, x in enumerate(pred_attack):\n",
    "    score_list.append(np.sqrt(metrics.mean_squared_error(pred_attack[index],processed_attack.values[index])))"
   ]
  },
  {
   "cell_type": "code",
   "execution_count": 19,
   "id": "40f7e063",
   "metadata": {},
   "outputs": [],
   "source": [
    "attack_df['score'] = score_list"
   ]
  },
  {
   "cell_type": "code",
   "execution_count": 20,
   "id": "753e7be6",
   "metadata": {},
   "outputs": [
    {
     "data": {
      "image/png": "[encoded data removed]",
      "text/plain": [
       "<Figure size 1152x648 with 1 Axes>"
      ]
     },
     "metadata": {
      "needs_background": "light"
     },
     "output_type": "display_data"
    }
   ],
   "source": [
    "plt.hist(score_list,bins = 100)\n",
    "plt.xlabel(\"Score\", fontsize = 16)\n",
    "plt.ylabel(\"Number of packets\",fontsize = 16)\n",
    "plt.title(\"Score distribution of packets during attack\",fontsize = 18)\n",
    "plt.savefig(\"score_distribution_attack_model0.png\", dpi = 300, bbox_inches = \"tight\")"
   ]
  },
  {
   "cell_type": "code",
   "execution_count": 21,
   "id": "9cc5a5d7",
   "metadata": {},
   "outputs": [
    {
     "data": {
      "text/plain": [
       "count    1070554.000000\n",
       "mean           1.256844\n",
       "std            0.647847\n",
       "min            0.591792\n",
       "25%            1.045178\n",
       "50%            1.107527\n",
       "75%            1.158677\n",
       "max           35.773061\n",
       "Name: score, dtype: object"
      ]
     },
     "execution_count": 21,
     "metadata": {},
     "output_type": "execute_result"
    }
   ],
   "source": [
    "attack_df['score'].describe().apply(lambda x: format(x, 'f'))"
   ]
  },
  {
   "cell_type": "code",
   "execution_count": 22,
   "id": "e08fe89a",
   "metadata": {},
   "outputs": [
    {
     "data": {
      "image/png": "[encoded data removed]",
      "text/plain": [
       "<Figure size 1152x648 with 1 Axes>"
      ]
     },
     "metadata": {
      "needs_background": "light"
     },
     "output_type": "display_data"
    }
   ],
   "source": [
    "nmap_df = attack_df[attack_df[\"ip.dst\"] == '89.100.107.148']\n",
    "\n",
    "plt.hist(nmap_df['score'].to_list(),bins = 100)\n",
    "plt.xlabel(\"Score\", fontsize = 16)\n",
    "plt.ylabel(\"Number of packets\",fontsize = 16)\n",
    "plt.title(\"Score distribution of packets from attacker's IP\",fontsize = 18)\n",
    "plt.savefig(\"score_distribution_ip_model0.png\", dpi = 300, bbox_inches = \"tight\")"
   ]
  },
  {
   "cell_type": "code",
   "execution_count": 23,
   "id": "43b8359f",
   "metadata": {},
   "outputs": [
    {
     "data": {
      "text/plain": [
       "count    41824.000000\n",
       "mean         1.984307\n",
       "std          0.022716\n",
       "min          1.966818\n",
       "25%          1.970655\n",
       "50%          1.978975\n",
       "75%          1.994362\n",
       "max          2.181238\n",
       "Name: score, dtype: object"
      ]
     },
     "execution_count": 23,
     "metadata": {},
     "output_type": "execute_result"
    }
   ],
   "source": [
    "nmap_df['score'].describe().apply(lambda x: format(x, 'f'))"
   ]
  },
  {
   "cell_type": "code",
   "execution_count": 31,
   "id": "71a837ef",
   "metadata": {},
   "outputs": [
    {
     "data": {
      "text/plain": [
       "1.9818578370395465"
      ]
     },
     "execution_count": 31,
     "metadata": {},
     "output_type": "execute_result"
    }
   ],
   "source": [
    "attack_df['score'].quantile(0.95)  "
   ]
  },
  {
   "cell_type": "code",
   "execution_count": 24,
   "id": "94cad991",
   "metadata": {},
   "outputs": [
    {
     "data": {
      "text/plain": [
       "1.1490501984855284"
      ]
     },
     "execution_count": 24,
     "metadata": {},
     "output_type": "execute_result"
    }
   ],
   "source": [
    "attack_df['score'].quantile(0.71)"
   ]
  },
  {
   "cell_type": "code",
   "execution_count": 2,
   "id": "9f891edf",
   "metadata": {},
   "outputs": [],
   "source": [
    "nmap_df = attack_df[attack_df[\"ip.dst\"] == '89.100.107.148']"
   ]
  },
  {
   "cell_type": "code",
   "execution_count": 3,
   "id": "e7248f3f",
   "metadata": {},
   "outputs": [
    {
     "data": {
      "text/plain": [
       "(41824, 56)"
      ]
     },
     "execution_count": 3,
     "metadata": {},
     "output_type": "execute_result"
    }
   ],
   "source": [
    "nmap_df.shape"
   ]
  },
  {
   "cell_type": "code",
   "execution_count": null,
   "id": "1a902a85",
   "metadata": {},
   "outputs": [],
   "source": []
  }
 ],
 "metadata": {
  "kernelspec": {
   "display_name": "Python 3 (ipykernel)",
   "language": "python",
   "name": "python3"
  },
  "language_info": {
   "codemirror_mode": {
    "name": "ipython",
    "version": 3
   },
   "file_extension": ".py",
   "mimetype": "text/x-python",
   "name": "python",
   "nbconvert_exporter": "python",
   "pygments_lexer": "ipython3",
   "version": "3.9.10"
  }
 },
 "nbformat": 4,
 "nbformat_minor": 5
}

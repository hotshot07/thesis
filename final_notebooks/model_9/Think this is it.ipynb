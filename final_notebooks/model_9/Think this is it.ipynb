{
 "cells": [
  {
   "cell_type": "code",
   "execution_count": 2,
   "id": "66751da0",
   "metadata": {},
   "outputs": [],
   "source": [
    "import pandas as pd\n",
    "import numpy as np\n",
    "import random\n",
    "from preprocess_no_eth_ip_classification import process_df\n",
    "import matplotlib.pyplot as plt\n",
    "from sklearn.model_selection import train_test_split\n",
    "import keras\n",
    "\n",
    "normal_df = pd.read_csv('../data/normal1.csv')\n",
    "processed_normal = process_df(normal_df)\n",
    "\n",
    "attack_df = pd.read_csv('../data/attack1.csv')\n",
    "processed_attack = process_df(attack_df)"
   ]
  },
  {
   "cell_type": "code",
   "execution_count": 3,
   "id": "5a0a1bd9",
   "metadata": {},
   "outputs": [],
   "source": [
    "x_normal_train, x_normal_test = train_test_split(processed_normal.values, test_size=0.2, random_state=42)"
   ]
  },
  {
   "cell_type": "code",
   "execution_count": 4,
   "id": "a449c77a",
   "metadata": {},
   "outputs": [
    {
     "data": {
      "text/html": [
       "<div>\n",
       "<style scoped>\n",
       "    .dataframe tbody tr th:only-of-type {\n",
       "        vertical-align: middle;\n",
       "    }\n",
       "\n",
       "    .dataframe tbody tr th {\n",
       "        vertical-align: top;\n",
       "    }\n",
       "\n",
       "    .dataframe thead th {\n",
       "        text-align: right;\n",
       "    }\n",
       "</style>\n",
       "<table border=\"1\" class=\"dataframe\">\n",
       "  <thead>\n",
       "    <tr style=\"text-align: right;\">\n",
       "      <th></th>\n",
       "      <th>octet_1_ip_src</th>\n",
       "      <th>octet_2_ip_src</th>\n",
       "      <th>octet_3_ip_src</th>\n",
       "      <th>octet_4_ip_src</th>\n",
       "      <th>octet_1_ip_dst</th>\n",
       "      <th>octet_2_ip_dst</th>\n",
       "      <th>octet_3_ip_dst</th>\n",
       "      <th>octet_4_ip_dst</th>\n",
       "      <th>length</th>\n",
       "      <th>protocol.sport</th>\n",
       "      <th>protocol.dport</th>\n",
       "      <th>source_pod</th>\n",
       "      <th>source_external</th>\n",
       "      <th>destination_pod</th>\n",
       "      <th>destination_external</th>\n",
       "      <th>TCP</th>\n",
       "      <th>UDP</th>\n",
       "      <th>packet_flow</th>\n",
       "    </tr>\n",
       "  </thead>\n",
       "  <tbody>\n",
       "    <tr>\n",
       "      <th>0</th>\n",
       "      <td>-0.056227</td>\n",
       "      <td>-0.147327</td>\n",
       "      <td>-0.114570</td>\n",
       "      <td>-0.670627</td>\n",
       "      <td>-0.215435</td>\n",
       "      <td>0.247127</td>\n",
       "      <td>-0.236432</td>\n",
       "      <td>-0.456078</td>\n",
       "      <td>-0.122614</td>\n",
       "      <td>-0.711639</td>\n",
       "      <td>1.467484</td>\n",
       "      <td>0.0</td>\n",
       "      <td>1.0</td>\n",
       "      <td>1.0</td>\n",
       "      <td>0.0</td>\n",
       "      <td>1.0</td>\n",
       "      <td>0.0</td>\n",
       "      <td>-2.885447</td>\n",
       "    </tr>\n",
       "    <tr>\n",
       "      <th>1</th>\n",
       "      <td>-0.056227</td>\n",
       "      <td>0.116468</td>\n",
       "      <td>-0.114570</td>\n",
       "      <td>-0.487903</td>\n",
       "      <td>0.375614</td>\n",
       "      <td>-3.334647</td>\n",
       "      <td>6.111377</td>\n",
       "      <td>4.519372</td>\n",
       "      <td>-0.005414</td>\n",
       "      <td>0.570995</td>\n",
       "      <td>-0.634366</td>\n",
       "      <td>1.0</td>\n",
       "      <td>0.0</td>\n",
       "      <td>0.0</td>\n",
       "      <td>1.0</td>\n",
       "      <td>1.0</td>\n",
       "      <td>0.0</td>\n",
       "      <td>-2.885447</td>\n",
       "    </tr>\n",
       "    <tr>\n",
       "      <th>2</th>\n",
       "      <td>1.648743</td>\n",
       "      <td>-7.665477</td>\n",
       "      <td>9.166199</td>\n",
       "      <td>9.074635</td>\n",
       "      <td>-0.215435</td>\n",
       "      <td>0.247127</td>\n",
       "      <td>-0.236432</td>\n",
       "      <td>-0.456078</td>\n",
       "      <td>-0.106387</td>\n",
       "      <td>-0.771593</td>\n",
       "      <td>0.701942</td>\n",
       "      <td>0.0</td>\n",
       "      <td>1.0</td>\n",
       "      <td>1.0</td>\n",
       "      <td>0.0</td>\n",
       "      <td>1.0</td>\n",
       "      <td>0.0</td>\n",
       "      <td>-2.885447</td>\n",
       "    </tr>\n",
       "    <tr>\n",
       "      <th>3</th>\n",
       "      <td>-0.056227</td>\n",
       "      <td>0.116468</td>\n",
       "      <td>-0.114570</td>\n",
       "      <td>-0.487903</td>\n",
       "      <td>0.375614</td>\n",
       "      <td>-3.334647</td>\n",
       "      <td>6.111377</td>\n",
       "      <td>4.519372</td>\n",
       "      <td>-0.225390</td>\n",
       "      <td>0.570995</td>\n",
       "      <td>-0.634366</td>\n",
       "      <td>1.0</td>\n",
       "      <td>0.0</td>\n",
       "      <td>0.0</td>\n",
       "      <td>1.0</td>\n",
       "      <td>1.0</td>\n",
       "      <td>0.0</td>\n",
       "      <td>-2.885447</td>\n",
       "    </tr>\n",
       "    <tr>\n",
       "      <th>4</th>\n",
       "      <td>-0.056227</td>\n",
       "      <td>0.116468</td>\n",
       "      <td>-0.114570</td>\n",
       "      <td>-0.487903</td>\n",
       "      <td>-0.215435</td>\n",
       "      <td>0.125711</td>\n",
       "      <td>-0.236432</td>\n",
       "      <td>-0.551151</td>\n",
       "      <td>-0.225390</td>\n",
       "      <td>1.340134</td>\n",
       "      <td>-0.574692</td>\n",
       "      <td>1.0</td>\n",
       "      <td>0.0</td>\n",
       "      <td>0.0</td>\n",
       "      <td>1.0</td>\n",
       "      <td>1.0</td>\n",
       "      <td>0.0</td>\n",
       "      <td>-2.885447</td>\n",
       "    </tr>\n",
       "    <tr>\n",
       "      <th>...</th>\n",
       "      <td>...</td>\n",
       "      <td>...</td>\n",
       "      <td>...</td>\n",
       "      <td>...</td>\n",
       "      <td>...</td>\n",
       "      <td>...</td>\n",
       "      <td>...</td>\n",
       "      <td>...</td>\n",
       "      <td>...</td>\n",
       "      <td>...</td>\n",
       "      <td>...</td>\n",
       "      <td>...</td>\n",
       "      <td>...</td>\n",
       "      <td>...</td>\n",
       "      <td>...</td>\n",
       "      <td>...</td>\n",
       "      <td>...</td>\n",
       "      <td>...</td>\n",
       "    </tr>\n",
       "    <tr>\n",
       "      <th>1070549</th>\n",
       "      <td>26.882303</td>\n",
       "      <td>-11.820245</td>\n",
       "      <td>5.901607</td>\n",
       "      <td>0.060267</td>\n",
       "      <td>-0.215435</td>\n",
       "      <td>0.247127</td>\n",
       "      <td>-0.236432</td>\n",
       "      <td>-0.392697</td>\n",
       "      <td>-0.074833</td>\n",
       "      <td>-1.200721</td>\n",
       "      <td>1.605593</td>\n",
       "      <td>0.0</td>\n",
       "      <td>1.0</td>\n",
       "      <td>1.0</td>\n",
       "      <td>0.0</td>\n",
       "      <td>0.0</td>\n",
       "      <td>1.0</td>\n",
       "      <td>-2.998014</td>\n",
       "    </tr>\n",
       "    <tr>\n",
       "      <th>1070550</th>\n",
       "      <td>-0.056227</td>\n",
       "      <td>0.116468</td>\n",
       "      <td>-0.114570</td>\n",
       "      <td>-0.366088</td>\n",
       "      <td>-0.215435</td>\n",
       "      <td>0.247127</td>\n",
       "      <td>-0.236432</td>\n",
       "      <td>-0.329315</td>\n",
       "      <td>0.027041</td>\n",
       "      <td>-1.200721</td>\n",
       "      <td>1.315722</td>\n",
       "      <td>1.0</td>\n",
       "      <td>0.0</td>\n",
       "      <td>1.0</td>\n",
       "      <td>0.0</td>\n",
       "      <td>0.0</td>\n",
       "      <td>1.0</td>\n",
       "      <td>-2.998014</td>\n",
       "    </tr>\n",
       "    <tr>\n",
       "      <th>1070551</th>\n",
       "      <td>0.455264</td>\n",
       "      <td>-11.424553</td>\n",
       "      <td>3.010111</td>\n",
       "      <td>2.801122</td>\n",
       "      <td>-0.215435</td>\n",
       "      <td>0.247127</td>\n",
       "      <td>-0.236432</td>\n",
       "      <td>-0.329315</td>\n",
       "      <td>-0.225390</td>\n",
       "      <td>-1.182015</td>\n",
       "      <td>1.184583</td>\n",
       "      <td>0.0</td>\n",
       "      <td>1.0</td>\n",
       "      <td>1.0</td>\n",
       "      <td>0.0</td>\n",
       "      <td>1.0</td>\n",
       "      <td>0.0</td>\n",
       "      <td>-2.998014</td>\n",
       "    </tr>\n",
       "    <tr>\n",
       "      <th>1070552</th>\n",
       "      <td>-0.056227</td>\n",
       "      <td>0.116468</td>\n",
       "      <td>-0.114570</td>\n",
       "      <td>-0.244272</td>\n",
       "      <td>-0.038121</td>\n",
       "      <td>-5.064825</td>\n",
       "      <td>1.900770</td>\n",
       "      <td>1.255223</td>\n",
       "      <td>-0.236208</td>\n",
       "      <td>1.055904</td>\n",
       "      <td>-1.042868</td>\n",
       "      <td>1.0</td>\n",
       "      <td>0.0</td>\n",
       "      <td>0.0</td>\n",
       "      <td>1.0</td>\n",
       "      <td>1.0</td>\n",
       "      <td>0.0</td>\n",
       "      <td>-2.998014</td>\n",
       "    </tr>\n",
       "    <tr>\n",
       "      <th>1070553</th>\n",
       "      <td>-0.056227</td>\n",
       "      <td>0.116468</td>\n",
       "      <td>-0.114570</td>\n",
       "      <td>-0.244272</td>\n",
       "      <td>-0.038121</td>\n",
       "      <td>-5.064825</td>\n",
       "      <td>1.900770</td>\n",
       "      <td>1.255223</td>\n",
       "      <td>0.229888</td>\n",
       "      <td>1.055904</td>\n",
       "      <td>-1.042868</td>\n",
       "      <td>1.0</td>\n",
       "      <td>0.0</td>\n",
       "      <td>0.0</td>\n",
       "      <td>1.0</td>\n",
       "      <td>1.0</td>\n",
       "      <td>0.0</td>\n",
       "      <td>-2.998014</td>\n",
       "    </tr>\n",
       "  </tbody>\n",
       "</table>\n",
       "<p>1070554 rows × 18 columns</p>\n",
       "</div>"
      ],
      "text/plain": [
       "         octet_1_ip_src  octet_2_ip_src  octet_3_ip_src  octet_4_ip_src  \\\n",
       "0             -0.056227       -0.147327       -0.114570       -0.670627   \n",
       "1             -0.056227        0.116468       -0.114570       -0.487903   \n",
       "2              1.648743       -7.665477        9.166199        9.074635   \n",
       "3             -0.056227        0.116468       -0.114570       -0.487903   \n",
       "4             -0.056227        0.116468       -0.114570       -0.487903   \n",
       "...                 ...             ...             ...             ...   \n",
       "1070549       26.882303      -11.820245        5.901607        0.060267   \n",
       "1070550       -0.056227        0.116468       -0.114570       -0.366088   \n",
       "1070551        0.455264      -11.424553        3.010111        2.801122   \n",
       "1070552       -0.056227        0.116468       -0.114570       -0.244272   \n",
       "1070553       -0.056227        0.116468       -0.114570       -0.244272   \n",
       "\n",
       "         octet_1_ip_dst  octet_2_ip_dst  octet_3_ip_dst  octet_4_ip_dst  \\\n",
       "0             -0.215435        0.247127       -0.236432       -0.456078   \n",
       "1              0.375614       -3.334647        6.111377        4.519372   \n",
       "2             -0.215435        0.247127       -0.236432       -0.456078   \n",
       "3              0.375614       -3.334647        6.111377        4.519372   \n",
       "4             -0.215435        0.125711       -0.236432       -0.551151   \n",
       "...                 ...             ...             ...             ...   \n",
       "1070549       -0.215435        0.247127       -0.236432       -0.392697   \n",
       "1070550       -0.215435        0.247127       -0.236432       -0.329315   \n",
       "1070551       -0.215435        0.247127       -0.236432       -0.329315   \n",
       "1070552       -0.038121       -5.064825        1.900770        1.255223   \n",
       "1070553       -0.038121       -5.064825        1.900770        1.255223   \n",
       "\n",
       "           length  protocol.sport  protocol.dport  source_pod  \\\n",
       "0       -0.122614       -0.711639        1.467484         0.0   \n",
       "1       -0.005414        0.570995       -0.634366         1.0   \n",
       "2       -0.106387       -0.771593        0.701942         0.0   \n",
       "3       -0.225390        0.570995       -0.634366         1.0   \n",
       "4       -0.225390        1.340134       -0.574692         1.0   \n",
       "...           ...             ...             ...         ...   \n",
       "1070549 -0.074833       -1.200721        1.605593         0.0   \n",
       "1070550  0.027041       -1.200721        1.315722         1.0   \n",
       "1070551 -0.225390       -1.182015        1.184583         0.0   \n",
       "1070552 -0.236208        1.055904       -1.042868         1.0   \n",
       "1070553  0.229888        1.055904       -1.042868         1.0   \n",
       "\n",
       "         source_external  destination_pod  destination_external  TCP  UDP  \\\n",
       "0                    1.0              1.0                   0.0  1.0  0.0   \n",
       "1                    0.0              0.0                   1.0  1.0  0.0   \n",
       "2                    1.0              1.0                   0.0  1.0  0.0   \n",
       "3                    0.0              0.0                   1.0  1.0  0.0   \n",
       "4                    0.0              0.0                   1.0  1.0  0.0   \n",
       "...                  ...              ...                   ...  ...  ...   \n",
       "1070549              1.0              1.0                   0.0  0.0  1.0   \n",
       "1070550              0.0              1.0                   0.0  0.0  1.0   \n",
       "1070551              1.0              1.0                   0.0  1.0  0.0   \n",
       "1070552              0.0              0.0                   1.0  1.0  0.0   \n",
       "1070553              0.0              0.0                   1.0  1.0  0.0   \n",
       "\n",
       "         packet_flow  \n",
       "0          -2.885447  \n",
       "1          -2.885447  \n",
       "2          -2.885447  \n",
       "3          -2.885447  \n",
       "4          -2.885447  \n",
       "...              ...  \n",
       "1070549    -2.998014  \n",
       "1070550    -2.998014  \n",
       "1070551    -2.998014  \n",
       "1070552    -2.998014  \n",
       "1070553    -2.998014  \n",
       "\n",
       "[1070554 rows x 18 columns]"
      ]
     },
     "execution_count": 4,
     "metadata": {},
     "output_type": "execute_result"
    }
   ],
   "source": [
    "processed_attack"
   ]
  },
  {
   "cell_type": "code",
   "execution_count": 5,
   "id": "4ed54ac0",
   "metadata": {},
   "outputs": [
    {
     "name": "stdout",
     "output_type": "stream",
     "text": [
      "Metal device set to: Apple M1 Pro\n"
     ]
    },
    {
     "name": "stderr",
     "output_type": "stream",
     "text": [
      "2022-03-27 02:41:04.806994: I tensorflow/core/common_runtime/pluggable_device/pluggable_device_factory.cc:305] Could not identify NUMA node of platform GPU ID 0, defaulting to 0. Your kernel may not have been built with NUMA support.\n",
      "2022-03-27 02:41:04.807118: I tensorflow/core/common_runtime/pluggable_device/pluggable_device_factory.cc:271] Created TensorFlow device (/job:localhost/replica:0/task:0/device:GPU:0 with 0 MB memory) -> physical PluggableDevice (device: 0, name: METAL, pci bus id: <undefined>)\n"
     ]
    }
   ],
   "source": [
    "# from tensorflow.keras.models import Sequential\n",
    "# from tensorflow.keras.layers import Dense, Activation\n",
    "\n",
    "# model = Sequential()\n",
    "# model.add(Dense(10, input_dim=processed_normal.values.shape[1], activation='LeakyReLU'))\n",
    "# model.add(Dense(3, activation='LeakyReLU')) # size to compress to\n",
    "# model.add(Dense(10, activation='LeakyReLU'))\n",
    "# model.add(Dense(processed_normal.values.shape[1])) # Multiple output neurons\n",
    "# model.compile(loss='mean_squared_error', optimizer='adam')\n",
    "# model.fit(x_normal_train,x_normal_train,verbose=1,epochs=20)\n",
    "# model.save(\"now_not_so_basic_model_v2\")\n",
    "model = keras.models.load_model('now_not_so_basic_model_v2')"
   ]
  },
  {
   "cell_type": "code",
   "execution_count": 6,
   "id": "6f1c1edd",
   "metadata": {},
   "outputs": [
    {
     "name": "stderr",
     "output_type": "stream",
     "text": [
      "2022-03-27 02:41:04.979177: W tensorflow/core/platform/profile_utils/cpu_utils.cc:128] Failed to get CPU frequency: 0 Hz\n",
      "2022-03-27 02:41:05.010586: I tensorflow/core/grappler/optimizers/custom_graph_optimizer_registry.cc:113] Plugin optimizer for device_type GPU is enabled.\n"
     ]
    },
    {
     "name": "stdout",
     "output_type": "stream",
     "text": [
      "0.1809087058156798\n",
      "0.18007366740210773\n"
     ]
    }
   ],
   "source": [
    "from sklearn import metrics\n",
    "pred_normal_train = model.predict(x_normal_train)\n",
    "print(np.sqrt(metrics.mean_squared_error(pred_normal_train,x_normal_train)))\n",
    "\n",
    "pred_normal_test = model.predict(x_normal_test)\n",
    "print(np.sqrt(metrics.mean_squared_error(pred_normal_test,x_normal_test)))"
   ]
  },
  {
   "cell_type": "code",
   "execution_count": 7,
   "id": "7e83d512",
   "metadata": {},
   "outputs": [],
   "source": [
    "pro_values = processed_attack.values\n",
    "pred_attack = model.predict(pro_values)"
   ]
  },
  {
   "cell_type": "code",
   "execution_count": 8,
   "id": "d356e84f",
   "metadata": {},
   "outputs": [
    {
     "data": {
      "text/plain": [
       "<AxesSubplot:>"
      ]
     },
     "execution_count": 8,
     "metadata": {},
     "output_type": "execute_result"
    },
    {
     "data": {
      "image/png": "[encoded data removed]",
      "text/plain": [
       "<Figure size 432x288 with 1 Axes>"
      ]
     },
     "metadata": {
      "needs_background": "light"
     },
     "output_type": "display_data"
    }
   ],
   "source": [
    "score_list = []\n",
    "for index, x in enumerate(pred_attack):\n",
    "    score_list.append(np.sqrt(metrics.mean_squared_error(pred_attack[index],pro_values[index])))\n",
    "\n",
    "attack_df['score'] = score_list\n",
    "attack_df['score'].hist(bins = 100)"
   ]
  },
  {
   "cell_type": "code",
   "execution_count": 9,
   "id": "9cf8dc50",
   "metadata": {},
   "outputs": [
    {
     "data": {
      "text/plain": [
       "1.36579963032951"
      ]
     },
     "execution_count": 9,
     "metadata": {},
     "output_type": "execute_result"
    },
    {
     "data": {
      "image/png": "[encoded data removed]",
      "text/plain": [
       "<Figure size 432x288 with 1 Axes>"
      ]
     },
     "metadata": {
      "needs_background": "light"
     },
     "output_type": "display_data"
    }
   ],
   "source": [
    "nmap_df = attack_df[attack_df[\"ip.dst\"] == '89.100.107.148']\n",
    "\n",
    "\n",
    "# In[15]:\n",
    "\n",
    "\n",
    "nmap_df['score'].hist(bins = 100)\n",
    "\n",
    "\n",
    "# In[20]:\n",
    "\n",
    "\n",
    "nmap_df['score'].median()"
   ]
  },
  {
   "cell_type": "code",
   "execution_count": 10,
   "id": "b74d5821",
   "metadata": {},
   "outputs": [
    {
     "data": {
      "text/plain": [
       "1.44412149629757"
      ]
     },
     "execution_count": 10,
     "metadata": {},
     "output_type": "execute_result"
    },
    {
     "data": {
      "image/png": "[encoded data removed]",
      "text/plain": [
       "<Figure size 432x288 with 1 Axes>"
      ]
     },
     "metadata": {
      "needs_background": "light"
     },
     "output_type": "display_data"
    }
   ],
   "source": [
    "wordpress = attack_df[attack_df[\"ip.dst\"] == '89.100.107.147']\n",
    "\n",
    "\n",
    "# In[15]:\n",
    "wordpress['score'].hist(bins = 100)\n",
    "\n",
    "\n",
    "# In[20]:\n",
    "wordpress['score'].median()"
   ]
  },
  {
   "cell_type": "code",
   "execution_count": 12,
   "id": "2cc52e7b",
   "metadata": {},
   "outputs": [
    {
     "data": {
      "text/plain": [
       "count    1070554.000000\n",
       "mean           0.488171\n",
       "std            0.230004\n",
       "min            0.274564\n",
       "25%            0.404716\n",
       "50%            0.426432\n",
       "75%            0.447615\n",
       "max            6.573879\n",
       "Name: score, dtype: object"
      ]
     },
     "execution_count": 12,
     "metadata": {},
     "output_type": "execute_result"
    }
   ],
   "source": [
    "attack_df['score'].describe().apply(lambda x: format(x, 'f'))"
   ]
  },
  {
   "cell_type": "code",
   "execution_count": 13,
   "id": "1143ab0a",
   "metadata": {},
   "outputs": [
    {
     "data": {
      "text/plain": [
       "count    41824.000000\n",
       "mean         1.380329\n",
       "std          0.053284\n",
       "min          1.176635\n",
       "25%          1.354040\n",
       "50%          1.365800\n",
       "75%          1.437380\n",
       "max          1.463493\n",
       "Name: score, dtype: object"
      ]
     },
     "execution_count": 13,
     "metadata": {},
     "output_type": "execute_result"
    }
   ],
   "source": [
    "nmap_df['score'].describe().apply(lambda x: format(x, 'f'))"
   ]
  },
  {
   "cell_type": "code",
   "execution_count": 14,
   "id": "d6bf9766",
   "metadata": {},
   "outputs": [
    {
     "data": {
      "text/plain": [
       "1.3551917937906417"
      ]
     },
     "execution_count": 14,
     "metadata": {},
     "output_type": "execute_result"
    }
   ],
   "source": [
    "attack_df['score'].quantile(0.97)"
   ]
  },
  {
   "cell_type": "code",
   "execution_count": 15,
   "id": "dc5719e9",
   "metadata": {},
   "outputs": [
    {
     "data": {
      "text/plain": [
       "0.03906762293167836"
      ]
     },
     "execution_count": 15,
     "metadata": {},
     "output_type": "execute_result"
    }
   ],
   "source": [
    "41824/1070554"
   ]
  },
  {
   "cell_type": "code",
   "execution_count": 16,
   "id": "658cc325",
   "metadata": {},
   "outputs": [],
   "source": [
    "anomalous_dict = attack_df[attack_df['score'] > 1.355]"
   ]
  },
  {
   "cell_type": "code",
   "execution_count": 17,
   "id": "eea8e90c",
   "metadata": {},
   "outputs": [
    {
     "data": {
      "text/plain": [
       "89.100.107.148     28977\n",
       "89.100.107.147       990\n",
       "10.244.0.2           777\n",
       "168.63.129.16        646\n",
       "10.244.0.11          600\n",
       "10.244.0.15          199\n",
       "142.250.179.138       57\n",
       "10.244.0.6            51\n",
       "66.249.81.204         45\n",
       "198.143.164.251       38\n",
       "20.126.199.164        29\n",
       "52.236.186.218        29\n",
       "198.143.164.243       24\n",
       "66.249.81.206         15\n",
       "169.254.169.254       12\n",
       "172.217.168.234        9\n",
       "216.58.214.14          8\n",
       "45.83.65.187           8\n",
       "142.250.179.142        6\n",
       "13.69.65.27            4\n",
       "40.113.176.128         3\n",
       "13.69.65.29            2\n",
       "13.69.65.31            2\n",
       "Name: ip.dst, dtype: int64"
      ]
     },
     "execution_count": 17,
     "metadata": {},
     "output_type": "execute_result"
    }
   ],
   "source": [
    "anomalous_dict['ip.dst'].value_counts()"
   ]
  },
  {
   "cell_type": "code",
   "execution_count": 18,
   "id": "4eb83506",
   "metadata": {},
   "outputs": [
    {
     "data": {
      "text/plain": [
       "0.6928318668706962"
      ]
     },
     "execution_count": 18,
     "metadata": {},
     "output_type": "execute_result"
    }
   ],
   "source": [
    "28977/41824"
   ]
  },
  {
   "cell_type": "code",
   "execution_count": 19,
   "id": "286c42df",
   "metadata": {},
   "outputs": [
    {
     "data": {
      "text/plain": [
       "32531"
      ]
     },
     "execution_count": 19,
     "metadata": {},
     "output_type": "execute_result"
    }
   ],
   "source": [
    "len(anomalous_dict)"
   ]
  },
  {
   "cell_type": "code",
   "execution_count": 20,
   "id": "bae7bfa7",
   "metadata": {},
   "outputs": [
    {
     "data": {
      "text/plain": [
       "<AxesSubplot:>"
      ]
     },
     "execution_count": 20,
     "metadata": {},
     "output_type": "execute_result"
    },
    {
     "data": {
      "image/png": "[encoded data removed]",
      "text/plain": [
       "<Figure size 432x288 with 1 Axes>"
      ]
     },
     "metadata": {
      "needs_background": "light"
     },
     "output_type": "display_data"
    }
   ],
   "source": [
    "anomalous_dict['score'].hist(bins = 100)"
   ]
  },
  {
   "cell_type": "code",
   "execution_count": 21,
   "id": "eb8055b3",
   "metadata": {},
   "outputs": [
    {
     "data": {
      "text/plain": [
       "<AxesSubplot:>"
      ]
     },
     "execution_count": 21,
     "metadata": {},
     "output_type": "execute_result"
    },
    {
     "data": {
      "image/png": "[encoded data removed]",
      "text/plain": [
       "<Figure size 432x288 with 1 Axes>"
      ]
     },
     "metadata": {
      "needs_background": "light"
     },
     "output_type": "display_data"
    }
   ],
   "source": [
    "anomalous_dict['score'].hist(bins = 100)"
   ]
  },
  {
   "cell_type": "code",
   "execution_count": 23,
   "id": "e9d198d9",
   "metadata": {},
   "outputs": [],
   "source": [
    "time_analysis = normal_df.copy()"
   ]
  },
  {
   "cell_type": "code",
   "execution_count": 28,
   "id": "f7937d5d",
   "metadata": {},
   "outputs": [
    {
     "data": {
      "text/plain": [
       "count        140538.000000\n",
       "mean     1647531756.040059\n",
       "std             178.428050\n",
       "min      1647531462.379940\n",
       "25%      1647531589.512600\n",
       "50%      1647531759.449429\n",
       "75%      1647531912.643675\n",
       "max      1647532060.965540\n",
       "Name: timestamp, dtype: object"
      ]
     },
     "execution_count": 28,
     "metadata": {},
     "output_type": "execute_result"
    }
   ],
   "source": [
    "time_analysis['timestamp'].describe().apply(lambda x: format(x, 'f'))"
   ]
  },
  {
   "cell_type": "code",
   "execution_count": 33,
   "id": "15a71f52",
   "metadata": {},
   "outputs": [],
   "source": [
    "time_analysis['timestamp_int'] = time_analysis['timestamp'].astype('int') #this is in seconds"
   ]
  },
  {
   "cell_type": "code",
   "execution_count": 37,
   "id": "cd9178ea",
   "metadata": {},
   "outputs": [],
   "source": [
    "min_timestamp = time_analysis['timestamp_int'].min()\n",
    "max_timestamp = time_analysis['timestamp_int'].max()"
   ]
  },
  {
   "cell_type": "code",
   "execution_count": 35,
   "id": "17268fd3",
   "metadata": {},
   "outputs": [
    {
     "data": {
      "text/plain": [
       "1647531462"
      ]
     },
     "execution_count": 35,
     "metadata": {},
     "output_type": "execute_result"
    }
   ],
   "source": [
    "min_timestamp"
   ]
  },
  {
   "cell_type": "code",
   "execution_count": 36,
   "id": "e407a264",
   "metadata": {},
   "outputs": [],
   "source": [
    "interval = 10 # ten seconds"
   ]
  },
  {
   "cell_type": "code",
   "execution_count": 38,
   "id": "b31cee8d",
   "metadata": {},
   "outputs": [
    {
     "data": {
      "text/plain": [
       "1647532060"
      ]
     },
     "execution_count": 38,
     "metadata": {},
     "output_type": "execute_result"
    }
   ],
   "source": [
    "max_timestamp"
   ]
  },
  {
   "cell_type": "code",
   "execution_count": 39,
   "id": "3e08046d",
   "metadata": {},
   "outputs": [
    {
     "data": {
      "text/plain": [
       "598"
      ]
     },
     "execution_count": 39,
     "metadata": {},
     "output_type": "execute_result"
    }
   ],
   "source": [
    "max_timestamp - min_timestamp"
   ]
  },
  {
   "cell_type": "code",
   "execution_count": 42,
   "id": "69ad4573",
   "metadata": {},
   "outputs": [],
   "source": [
    "time_analysis['packet_flow_10_s'] = 0"
   ]
  },
  {
   "cell_type": "code",
   "execution_count": 43,
   "id": "09d1e344",
   "metadata": {},
   "outputs": [
    {
     "data": {
      "text/html": [
       "<div>\n",
       "<style scoped>\n",
       "    .dataframe tbody tr th:only-of-type {\n",
       "        vertical-align: middle;\n",
       "    }\n",
       "\n",
       "    .dataframe tbody tr th {\n",
       "        vertical-align: top;\n",
       "    }\n",
       "\n",
       "    .dataframe thead th {\n",
       "        text-align: right;\n",
       "    }\n",
       "</style>\n",
       "<table border=\"1\" class=\"dataframe\">\n",
       "  <thead>\n",
       "    <tr style=\"text-align: right;\">\n",
       "      <th></th>\n",
       "      <th>length</th>\n",
       "      <th>timestamp</th>\n",
       "      <th>eth.src</th>\n",
       "      <th>eth.dst</th>\n",
       "      <th>eth.type</th>\n",
       "      <th>ip.src</th>\n",
       "      <th>ip.dst</th>\n",
       "      <th>ip.version</th>\n",
       "      <th>ip.proto</th>\n",
       "      <th>ip.len</th>\n",
       "      <th>...</th>\n",
       "      <th>load_15</th>\n",
       "      <th>load_16</th>\n",
       "      <th>load_17</th>\n",
       "      <th>load_18</th>\n",
       "      <th>load_19</th>\n",
       "      <th>protocol</th>\n",
       "      <th>protocol.sport</th>\n",
       "      <th>protocol.dport</th>\n",
       "      <th>timestamp_int</th>\n",
       "      <th>packet_flow_10_s</th>\n",
       "    </tr>\n",
       "  </thead>\n",
       "  <tbody>\n",
       "    <tr>\n",
       "      <th>0</th>\n",
       "      <td>144</td>\n",
       "      <td>1.647531e+09</td>\n",
       "      <td>6a:77:c0:85:72:c3</td>\n",
       "      <td>ce:4c:77:6b:35:fc</td>\n",
       "      <td>2048</td>\n",
       "      <td>10.244.0.15</td>\n",
       "      <td>10.244.0.14</td>\n",
       "      <td>4</td>\n",
       "      <td>6</td>\n",
       "      <td>130</td>\n",
       "      <td>...</td>\n",
       "      <td>12</td>\n",
       "      <td>4</td>\n",
       "      <td>5</td>\n",
       "      <td>4</td>\n",
       "      <td>3</td>\n",
       "      <td>TCP</td>\n",
       "      <td>52866</td>\n",
       "      <td>3306</td>\n",
       "      <td>1647531462</td>\n",
       "      <td>0</td>\n",
       "    </tr>\n",
       "    <tr>\n",
       "      <th>1</th>\n",
       "      <td>144</td>\n",
       "      <td>1.647531e+09</td>\n",
       "      <td>ba:c6:5f:04:4f:62</td>\n",
       "      <td>ce:4c:77:6b:35:fc</td>\n",
       "      <td>2048</td>\n",
       "      <td>10.244.0.15</td>\n",
       "      <td>10.244.0.14</td>\n",
       "      <td>4</td>\n",
       "      <td>6</td>\n",
       "      <td>130</td>\n",
       "      <td>...</td>\n",
       "      <td>12</td>\n",
       "      <td>4</td>\n",
       "      <td>5</td>\n",
       "      <td>4</td>\n",
       "      <td>3</td>\n",
       "      <td>TCP</td>\n",
       "      <td>52866</td>\n",
       "      <td>3306</td>\n",
       "      <td>1647531462</td>\n",
       "      <td>0</td>\n",
       "    </tr>\n",
       "    <tr>\n",
       "      <th>2</th>\n",
       "      <td>66</td>\n",
       "      <td>1.647531e+09</td>\n",
       "      <td>ce:4c:77:6b:35:fc</td>\n",
       "      <td>6a:77:c0:85:72:c3</td>\n",
       "      <td>2048</td>\n",
       "      <td>10.244.0.14</td>\n",
       "      <td>10.244.0.15</td>\n",
       "      <td>4</td>\n",
       "      <td>6</td>\n",
       "      <td>52</td>\n",
       "      <td>...</td>\n",
       "      <td>0</td>\n",
       "      <td>0</td>\n",
       "      <td>0</td>\n",
       "      <td>0</td>\n",
       "      <td>0</td>\n",
       "      <td>TCP</td>\n",
       "      <td>3306</td>\n",
       "      <td>52866</td>\n",
       "      <td>1647531462</td>\n",
       "      <td>0</td>\n",
       "    </tr>\n",
       "    <tr>\n",
       "      <th>3</th>\n",
       "      <td>78</td>\n",
       "      <td>1.647531e+09</td>\n",
       "      <td>ce:4c:77:6b:35:fc</td>\n",
       "      <td>6a:77:c0:85:72:c3</td>\n",
       "      <td>2048</td>\n",
       "      <td>10.244.0.14</td>\n",
       "      <td>10.244.0.15</td>\n",
       "      <td>4</td>\n",
       "      <td>6</td>\n",
       "      <td>64</td>\n",
       "      <td>...</td>\n",
       "      <td>0</td>\n",
       "      <td>0</td>\n",
       "      <td>0</td>\n",
       "      <td>0</td>\n",
       "      <td>0</td>\n",
       "      <td>TCP</td>\n",
       "      <td>3306</td>\n",
       "      <td>52866</td>\n",
       "      <td>1647531462</td>\n",
       "      <td>0</td>\n",
       "    </tr>\n",
       "    <tr>\n",
       "      <th>4</th>\n",
       "      <td>186</td>\n",
       "      <td>1.647531e+09</td>\n",
       "      <td>ce:4c:77:6b:35:fc</td>\n",
       "      <td>6a:77:c0:85:72:c3</td>\n",
       "      <td>2048</td>\n",
       "      <td>10.244.0.14</td>\n",
       "      <td>10.244.0.15</td>\n",
       "      <td>4</td>\n",
       "      <td>6</td>\n",
       "      <td>172</td>\n",
       "      <td>...</td>\n",
       "      <td>0</td>\n",
       "      <td>0</td>\n",
       "      <td>2</td>\n",
       "      <td>0</td>\n",
       "      <td>3</td>\n",
       "      <td>TCP</td>\n",
       "      <td>3306</td>\n",
       "      <td>52866</td>\n",
       "      <td>1647531462</td>\n",
       "      <td>0</td>\n",
       "    </tr>\n",
       "    <tr>\n",
       "      <th>...</th>\n",
       "      <td>...</td>\n",
       "      <td>...</td>\n",
       "      <td>...</td>\n",
       "      <td>...</td>\n",
       "      <td>...</td>\n",
       "      <td>...</td>\n",
       "      <td>...</td>\n",
       "      <td>...</td>\n",
       "      <td>...</td>\n",
       "      <td>...</td>\n",
       "      <td>...</td>\n",
       "      <td>...</td>\n",
       "      <td>...</td>\n",
       "      <td>...</td>\n",
       "      <td>...</td>\n",
       "      <td>...</td>\n",
       "      <td>...</td>\n",
       "      <td>...</td>\n",
       "      <td>...</td>\n",
       "      <td>...</td>\n",
       "      <td>...</td>\n",
       "    </tr>\n",
       "    <tr>\n",
       "      <th>140533</th>\n",
       "      <td>203</td>\n",
       "      <td>1.647532e+09</td>\n",
       "      <td>3a:e0:26:66:ba:06</td>\n",
       "      <td>ba:c6:5f:04:4f:62</td>\n",
       "      <td>2048</td>\n",
       "      <td>10.244.0.9</td>\n",
       "      <td>10.244.0.1</td>\n",
       "      <td>4</td>\n",
       "      <td>6</td>\n",
       "      <td>189</td>\n",
       "      <td>...</td>\n",
       "      <td>1</td>\n",
       "      <td>2</td>\n",
       "      <td>0</td>\n",
       "      <td>3</td>\n",
       "      <td>2</td>\n",
       "      <td>TCP</td>\n",
       "      <td>8080</td>\n",
       "      <td>50410</td>\n",
       "      <td>1647532060</td>\n",
       "      <td>0</td>\n",
       "    </tr>\n",
       "    <tr>\n",
       "      <th>140534</th>\n",
       "      <td>66</td>\n",
       "      <td>1.647532e+09</td>\n",
       "      <td>ba:c6:5f:04:4f:62</td>\n",
       "      <td>3a:e0:26:66:ba:06</td>\n",
       "      <td>2048</td>\n",
       "      <td>10.244.0.1</td>\n",
       "      <td>10.244.0.9</td>\n",
       "      <td>4</td>\n",
       "      <td>6</td>\n",
       "      <td>52</td>\n",
       "      <td>...</td>\n",
       "      <td>0</td>\n",
       "      <td>0</td>\n",
       "      <td>0</td>\n",
       "      <td>0</td>\n",
       "      <td>0</td>\n",
       "      <td>TCP</td>\n",
       "      <td>50410</td>\n",
       "      <td>8080</td>\n",
       "      <td>1647532060</td>\n",
       "      <td>0</td>\n",
       "    </tr>\n",
       "    <tr>\n",
       "      <th>140535</th>\n",
       "      <td>66</td>\n",
       "      <td>1.647532e+09</td>\n",
       "      <td>3a:e0:26:66:ba:06</td>\n",
       "      <td>ba:c6:5f:04:4f:62</td>\n",
       "      <td>2048</td>\n",
       "      <td>10.244.0.9</td>\n",
       "      <td>10.244.0.1</td>\n",
       "      <td>4</td>\n",
       "      <td>6</td>\n",
       "      <td>52</td>\n",
       "      <td>...</td>\n",
       "      <td>0</td>\n",
       "      <td>0</td>\n",
       "      <td>0</td>\n",
       "      <td>0</td>\n",
       "      <td>0</td>\n",
       "      <td>TCP</td>\n",
       "      <td>8080</td>\n",
       "      <td>50410</td>\n",
       "      <td>1647532060</td>\n",
       "      <td>0</td>\n",
       "    </tr>\n",
       "    <tr>\n",
       "      <th>140536</th>\n",
       "      <td>66</td>\n",
       "      <td>1.647532e+09</td>\n",
       "      <td>ba:c6:5f:04:4f:62</td>\n",
       "      <td>3a:e0:26:66:ba:06</td>\n",
       "      <td>2048</td>\n",
       "      <td>10.244.0.1</td>\n",
       "      <td>10.244.0.9</td>\n",
       "      <td>4</td>\n",
       "      <td>6</td>\n",
       "      <td>52</td>\n",
       "      <td>...</td>\n",
       "      <td>0</td>\n",
       "      <td>0</td>\n",
       "      <td>0</td>\n",
       "      <td>0</td>\n",
       "      <td>0</td>\n",
       "      <td>TCP</td>\n",
       "      <td>50410</td>\n",
       "      <td>8080</td>\n",
       "      <td>1647532060</td>\n",
       "      <td>0</td>\n",
       "    </tr>\n",
       "    <tr>\n",
       "      <th>140537</th>\n",
       "      <td>66</td>\n",
       "      <td>1.647532e+09</td>\n",
       "      <td>3a:e0:26:66:ba:06</td>\n",
       "      <td>ba:c6:5f:04:4f:62</td>\n",
       "      <td>2048</td>\n",
       "      <td>10.244.0.9</td>\n",
       "      <td>10.244.0.1</td>\n",
       "      <td>4</td>\n",
       "      <td>6</td>\n",
       "      <td>52</td>\n",
       "      <td>...</td>\n",
       "      <td>0</td>\n",
       "      <td>0</td>\n",
       "      <td>0</td>\n",
       "      <td>0</td>\n",
       "      <td>0</td>\n",
       "      <td>TCP</td>\n",
       "      <td>8080</td>\n",
       "      <td>50410</td>\n",
       "      <td>1647532060</td>\n",
       "      <td>0</td>\n",
       "    </tr>\n",
       "  </tbody>\n",
       "</table>\n",
       "<p>140538 rows × 58 columns</p>\n",
       "</div>"
      ],
      "text/plain": [
       "        length     timestamp            eth.src            eth.dst  eth.type  \\\n",
       "0          144  1.647531e+09  6a:77:c0:85:72:c3  ce:4c:77:6b:35:fc      2048   \n",
       "1          144  1.647531e+09  ba:c6:5f:04:4f:62  ce:4c:77:6b:35:fc      2048   \n",
       "2           66  1.647531e+09  ce:4c:77:6b:35:fc  6a:77:c0:85:72:c3      2048   \n",
       "3           78  1.647531e+09  ce:4c:77:6b:35:fc  6a:77:c0:85:72:c3      2048   \n",
       "4          186  1.647531e+09  ce:4c:77:6b:35:fc  6a:77:c0:85:72:c3      2048   \n",
       "...        ...           ...                ...                ...       ...   \n",
       "140533     203  1.647532e+09  3a:e0:26:66:ba:06  ba:c6:5f:04:4f:62      2048   \n",
       "140534      66  1.647532e+09  ba:c6:5f:04:4f:62  3a:e0:26:66:ba:06      2048   \n",
       "140535      66  1.647532e+09  3a:e0:26:66:ba:06  ba:c6:5f:04:4f:62      2048   \n",
       "140536      66  1.647532e+09  ba:c6:5f:04:4f:62  3a:e0:26:66:ba:06      2048   \n",
       "140537      66  1.647532e+09  3a:e0:26:66:ba:06  ba:c6:5f:04:4f:62      2048   \n",
       "\n",
       "             ip.src       ip.dst  ip.version  ip.proto  ip.len  ...  load_15  \\\n",
       "0       10.244.0.15  10.244.0.14           4         6     130  ...       12   \n",
       "1       10.244.0.15  10.244.0.14           4         6     130  ...       12   \n",
       "2       10.244.0.14  10.244.0.15           4         6      52  ...        0   \n",
       "3       10.244.0.14  10.244.0.15           4         6      64  ...        0   \n",
       "4       10.244.0.14  10.244.0.15           4         6     172  ...        0   \n",
       "...             ...          ...         ...       ...     ...  ...      ...   \n",
       "140533   10.244.0.9   10.244.0.1           4         6     189  ...        1   \n",
       "140534   10.244.0.1   10.244.0.9           4         6      52  ...        0   \n",
       "140535   10.244.0.9   10.244.0.1           4         6      52  ...        0   \n",
       "140536   10.244.0.1   10.244.0.9           4         6      52  ...        0   \n",
       "140537   10.244.0.9   10.244.0.1           4         6      52  ...        0   \n",
       "\n",
       "        load_16  load_17  load_18  load_19  protocol  protocol.sport  \\\n",
       "0             4        5        4        3       TCP           52866   \n",
       "1             4        5        4        3       TCP           52866   \n",
       "2             0        0        0        0       TCP            3306   \n",
       "3             0        0        0        0       TCP            3306   \n",
       "4             0        2        0        3       TCP            3306   \n",
       "...         ...      ...      ...      ...       ...             ...   \n",
       "140533        2        0        3        2       TCP            8080   \n",
       "140534        0        0        0        0       TCP           50410   \n",
       "140535        0        0        0        0       TCP            8080   \n",
       "140536        0        0        0        0       TCP           50410   \n",
       "140537        0        0        0        0       TCP            8080   \n",
       "\n",
       "        protocol.dport  timestamp_int  packet_flow_10_s  \n",
       "0                 3306     1647531462                 0  \n",
       "1                 3306     1647531462                 0  \n",
       "2                52866     1647531462                 0  \n",
       "3                52866     1647531462                 0  \n",
       "4                52866     1647531462                 0  \n",
       "...                ...            ...               ...  \n",
       "140533           50410     1647532060                 0  \n",
       "140534            8080     1647532060                 0  \n",
       "140535           50410     1647532060                 0  \n",
       "140536            8080     1647532060                 0  \n",
       "140537           50410     1647532060                 0  \n",
       "\n",
       "[140538 rows x 58 columns]"
      ]
     },
     "execution_count": 43,
     "metadata": {},
     "output_type": "execute_result"
    }
   ],
   "source": [
    "time_analysis"
   ]
  },
  {
   "cell_type": "code",
   "execution_count": 102,
   "id": "7f3b1669",
   "metadata": {},
   "outputs": [],
   "source": [
    "total_packet_list = []\n",
    "\n",
    "for ts in range(min_timestamp, max_timestamp , 10):\n",
    "    \n",
    "    interval = 9\n",
    "    if ts + interval > max_timestamp:\n",
    "        interval = max_timestamp - ts\n",
    "    \n",
    "    time_df = time_analysis[time_analysis['timestamp_int'].between(ts, ts+interval)].copy()\n",
    "    sum_ts+=len(time_df)\n",
    "    \n",
    "    ip_value_count_dict = time_df['ip.dst'].value_counts().to_dict()\n",
    "    \n",
    "    time_df['packet_flow_10_s'] = time_df['ip.dst'].apply(lambda x: ip_value_count_dict[str(x)])\n",
    "\n",
    "    for x in list(time_df['packet_flow_10_s']):\n",
    "        total_packet_list.append(x)\n",
    "    \n",
    "    \n",
    "    \n",
    "    "
   ]
  },
  {
   "cell_type": "code",
   "execution_count": 103,
   "id": "c0f03b6d",
   "metadata": {},
   "outputs": [
    {
     "data": {
      "text/plain": [
       "140538"
      ]
     },
     "execution_count": 103,
     "metadata": {},
     "output_type": "execute_result"
    }
   ],
   "source": [
    "len(total_packet_list)"
   ]
  },
  {
   "cell_type": "code",
   "execution_count": 105,
   "id": "9cf9d294",
   "metadata": {},
   "outputs": [],
   "source": [
    "time_analysis['packet_flow_10_s'] = total_packet_list"
   ]
  },
  {
   "cell_type": "code",
   "execution_count": 106,
   "id": "ab7e9487",
   "metadata": {},
   "outputs": [
    {
     "data": {
      "text/plain": [
       "0         252\n",
       "1         252\n",
       "2         337\n",
       "3         337\n",
       "4         337\n",
       "         ... \n",
       "140533     72\n",
       "140534     50\n",
       "140535     72\n",
       "140536     50\n",
       "140537     72\n",
       "Name: packet_flow_10_s, Length: 140538, dtype: int64"
      ]
     },
     "execution_count": 106,
     "metadata": {},
     "output_type": "execute_result"
    }
   ],
   "source": [
    "time_analysis['packet_flow_10_s']"
   ]
  },
  {
   "cell_type": "code",
   "execution_count": 101,
   "id": "7f6e1342",
   "metadata": {},
   "outputs": [
    {
     "data": {
      "text/html": [
       "<div>\n",
       "<style scoped>\n",
       "    .dataframe tbody tr th:only-of-type {\n",
       "        vertical-align: middle;\n",
       "    }\n",
       "\n",
       "    .dataframe tbody tr th {\n",
       "        vertical-align: top;\n",
       "    }\n",
       "\n",
       "    .dataframe thead th {\n",
       "        text-align: right;\n",
       "    }\n",
       "</style>\n",
       "<table border=\"1\" class=\"dataframe\">\n",
       "  <thead>\n",
       "    <tr style=\"text-align: right;\">\n",
       "      <th></th>\n",
       "      <th>length</th>\n",
       "      <th>timestamp</th>\n",
       "      <th>eth.src</th>\n",
       "      <th>eth.dst</th>\n",
       "      <th>eth.type</th>\n",
       "      <th>ip.src</th>\n",
       "      <th>ip.dst</th>\n",
       "      <th>ip.version</th>\n",
       "      <th>ip.proto</th>\n",
       "      <th>ip.len</th>\n",
       "      <th>...</th>\n",
       "      <th>load_15</th>\n",
       "      <th>load_16</th>\n",
       "      <th>load_17</th>\n",
       "      <th>load_18</th>\n",
       "      <th>load_19</th>\n",
       "      <th>protocol</th>\n",
       "      <th>protocol.sport</th>\n",
       "      <th>protocol.dport</th>\n",
       "      <th>timestamp_int</th>\n",
       "      <th>packet_flow_10_s</th>\n",
       "    </tr>\n",
       "  </thead>\n",
       "  <tbody>\n",
       "    <tr>\n",
       "      <th>137899</th>\n",
       "      <td>121</td>\n",
       "      <td>1.647532e+09</td>\n",
       "      <td>e2:04:5c:48:e6:48</td>\n",
       "      <td>3a:e0:26:66:ba:06</td>\n",
       "      <td>2048</td>\n",
       "      <td>10.244.0.2</td>\n",
       "      <td>10.244.0.9</td>\n",
       "      <td>4</td>\n",
       "      <td>17</td>\n",
       "      <td>107</td>\n",
       "      <td>...</td>\n",
       "      <td>0</td>\n",
       "      <td>0</td>\n",
       "      <td>0</td>\n",
       "      <td>0</td>\n",
       "      <td>0</td>\n",
       "      <td>UDP</td>\n",
       "      <td>45390</td>\n",
       "      <td>53</td>\n",
       "      <td>1647532052</td>\n",
       "      <td>0</td>\n",
       "    </tr>\n",
       "    <tr>\n",
       "      <th>137900</th>\n",
       "      <td>121</td>\n",
       "      <td>1.647532e+09</td>\n",
       "      <td>ba:c6:5f:04:4f:62</td>\n",
       "      <td>3a:e0:26:66:ba:06</td>\n",
       "      <td>2048</td>\n",
       "      <td>10.244.0.2</td>\n",
       "      <td>10.244.0.9</td>\n",
       "      <td>4</td>\n",
       "      <td>17</td>\n",
       "      <td>107</td>\n",
       "      <td>...</td>\n",
       "      <td>0</td>\n",
       "      <td>0</td>\n",
       "      <td>0</td>\n",
       "      <td>0</td>\n",
       "      <td>0</td>\n",
       "      <td>UDP</td>\n",
       "      <td>45390</td>\n",
       "      <td>53</td>\n",
       "      <td>1647532052</td>\n",
       "      <td>0</td>\n",
       "    </tr>\n",
       "    <tr>\n",
       "      <th>137901</th>\n",
       "      <td>121</td>\n",
       "      <td>1.647532e+09</td>\n",
       "      <td>e2:04:5c:48:e6:48</td>\n",
       "      <td>3a:e0:26:66:ba:06</td>\n",
       "      <td>2048</td>\n",
       "      <td>10.244.0.2</td>\n",
       "      <td>10.244.0.9</td>\n",
       "      <td>4</td>\n",
       "      <td>17</td>\n",
       "      <td>107</td>\n",
       "      <td>...</td>\n",
       "      <td>0</td>\n",
       "      <td>0</td>\n",
       "      <td>0</td>\n",
       "      <td>0</td>\n",
       "      <td>0</td>\n",
       "      <td>UDP</td>\n",
       "      <td>45390</td>\n",
       "      <td>53</td>\n",
       "      <td>1647532052</td>\n",
       "      <td>0</td>\n",
       "    </tr>\n",
       "    <tr>\n",
       "      <th>137902</th>\n",
       "      <td>121</td>\n",
       "      <td>1.647532e+09</td>\n",
       "      <td>ba:c6:5f:04:4f:62</td>\n",
       "      <td>3a:e0:26:66:ba:06</td>\n",
       "      <td>2048</td>\n",
       "      <td>10.244.0.2</td>\n",
       "      <td>10.244.0.9</td>\n",
       "      <td>4</td>\n",
       "      <td>17</td>\n",
       "      <td>107</td>\n",
       "      <td>...</td>\n",
       "      <td>0</td>\n",
       "      <td>0</td>\n",
       "      <td>0</td>\n",
       "      <td>0</td>\n",
       "      <td>0</td>\n",
       "      <td>UDP</td>\n",
       "      <td>45390</td>\n",
       "      <td>53</td>\n",
       "      <td>1647532052</td>\n",
       "      <td>0</td>\n",
       "    </tr>\n",
       "    <tr>\n",
       "      <th>137903</th>\n",
       "      <td>394</td>\n",
       "      <td>1.647532e+09</td>\n",
       "      <td>3a:e0:26:66:ba:06</td>\n",
       "      <td>e2:04:5c:48:e6:48</td>\n",
       "      <td>2048</td>\n",
       "      <td>10.244.0.9</td>\n",
       "      <td>10.244.0.2</td>\n",
       "      <td>4</td>\n",
       "      <td>17</td>\n",
       "      <td>380</td>\n",
       "      <td>...</td>\n",
       "      <td>0</td>\n",
       "      <td>0</td>\n",
       "      <td>0</td>\n",
       "      <td>0</td>\n",
       "      <td>0</td>\n",
       "      <td>UDP</td>\n",
       "      <td>53</td>\n",
       "      <td>45390</td>\n",
       "      <td>1647532052</td>\n",
       "      <td>0</td>\n",
       "    </tr>\n",
       "    <tr>\n",
       "      <th>...</th>\n",
       "      <td>...</td>\n",
       "      <td>...</td>\n",
       "      <td>...</td>\n",
       "      <td>...</td>\n",
       "      <td>...</td>\n",
       "      <td>...</td>\n",
       "      <td>...</td>\n",
       "      <td>...</td>\n",
       "      <td>...</td>\n",
       "      <td>...</td>\n",
       "      <td>...</td>\n",
       "      <td>...</td>\n",
       "      <td>...</td>\n",
       "      <td>...</td>\n",
       "      <td>...</td>\n",
       "      <td>...</td>\n",
       "      <td>...</td>\n",
       "      <td>...</td>\n",
       "      <td>...</td>\n",
       "      <td>...</td>\n",
       "      <td>...</td>\n",
       "    </tr>\n",
       "    <tr>\n",
       "      <th>140533</th>\n",
       "      <td>203</td>\n",
       "      <td>1.647532e+09</td>\n",
       "      <td>3a:e0:26:66:ba:06</td>\n",
       "      <td>ba:c6:5f:04:4f:62</td>\n",
       "      <td>2048</td>\n",
       "      <td>10.244.0.9</td>\n",
       "      <td>10.244.0.1</td>\n",
       "      <td>4</td>\n",
       "      <td>6</td>\n",
       "      <td>189</td>\n",
       "      <td>...</td>\n",
       "      <td>1</td>\n",
       "      <td>2</td>\n",
       "      <td>0</td>\n",
       "      <td>3</td>\n",
       "      <td>2</td>\n",
       "      <td>TCP</td>\n",
       "      <td>8080</td>\n",
       "      <td>50410</td>\n",
       "      <td>1647532060</td>\n",
       "      <td>0</td>\n",
       "    </tr>\n",
       "    <tr>\n",
       "      <th>140534</th>\n",
       "      <td>66</td>\n",
       "      <td>1.647532e+09</td>\n",
       "      <td>ba:c6:5f:04:4f:62</td>\n",
       "      <td>3a:e0:26:66:ba:06</td>\n",
       "      <td>2048</td>\n",
       "      <td>10.244.0.1</td>\n",
       "      <td>10.244.0.9</td>\n",
       "      <td>4</td>\n",
       "      <td>6</td>\n",
       "      <td>52</td>\n",
       "      <td>...</td>\n",
       "      <td>0</td>\n",
       "      <td>0</td>\n",
       "      <td>0</td>\n",
       "      <td>0</td>\n",
       "      <td>0</td>\n",
       "      <td>TCP</td>\n",
       "      <td>50410</td>\n",
       "      <td>8080</td>\n",
       "      <td>1647532060</td>\n",
       "      <td>0</td>\n",
       "    </tr>\n",
       "    <tr>\n",
       "      <th>140535</th>\n",
       "      <td>66</td>\n",
       "      <td>1.647532e+09</td>\n",
       "      <td>3a:e0:26:66:ba:06</td>\n",
       "      <td>ba:c6:5f:04:4f:62</td>\n",
       "      <td>2048</td>\n",
       "      <td>10.244.0.9</td>\n",
       "      <td>10.244.0.1</td>\n",
       "      <td>4</td>\n",
       "      <td>6</td>\n",
       "      <td>52</td>\n",
       "      <td>...</td>\n",
       "      <td>0</td>\n",
       "      <td>0</td>\n",
       "      <td>0</td>\n",
       "      <td>0</td>\n",
       "      <td>0</td>\n",
       "      <td>TCP</td>\n",
       "      <td>8080</td>\n",
       "      <td>50410</td>\n",
       "      <td>1647532060</td>\n",
       "      <td>0</td>\n",
       "    </tr>\n",
       "    <tr>\n",
       "      <th>140536</th>\n",
       "      <td>66</td>\n",
       "      <td>1.647532e+09</td>\n",
       "      <td>ba:c6:5f:04:4f:62</td>\n",
       "      <td>3a:e0:26:66:ba:06</td>\n",
       "      <td>2048</td>\n",
       "      <td>10.244.0.1</td>\n",
       "      <td>10.244.0.9</td>\n",
       "      <td>4</td>\n",
       "      <td>6</td>\n",
       "      <td>52</td>\n",
       "      <td>...</td>\n",
       "      <td>0</td>\n",
       "      <td>0</td>\n",
       "      <td>0</td>\n",
       "      <td>0</td>\n",
       "      <td>0</td>\n",
       "      <td>TCP</td>\n",
       "      <td>50410</td>\n",
       "      <td>8080</td>\n",
       "      <td>1647532060</td>\n",
       "      <td>0</td>\n",
       "    </tr>\n",
       "    <tr>\n",
       "      <th>140537</th>\n",
       "      <td>66</td>\n",
       "      <td>1.647532e+09</td>\n",
       "      <td>3a:e0:26:66:ba:06</td>\n",
       "      <td>ba:c6:5f:04:4f:62</td>\n",
       "      <td>2048</td>\n",
       "      <td>10.244.0.9</td>\n",
       "      <td>10.244.0.1</td>\n",
       "      <td>4</td>\n",
       "      <td>6</td>\n",
       "      <td>52</td>\n",
       "      <td>...</td>\n",
       "      <td>0</td>\n",
       "      <td>0</td>\n",
       "      <td>0</td>\n",
       "      <td>0</td>\n",
       "      <td>0</td>\n",
       "      <td>TCP</td>\n",
       "      <td>8080</td>\n",
       "      <td>50410</td>\n",
       "      <td>1647532060</td>\n",
       "      <td>0</td>\n",
       "    </tr>\n",
       "  </tbody>\n",
       "</table>\n",
       "<p>2639 rows × 58 columns</p>\n",
       "</div>"
      ],
      "text/plain": [
       "        length     timestamp            eth.src            eth.dst  eth.type  \\\n",
       "137899     121  1.647532e+09  e2:04:5c:48:e6:48  3a:e0:26:66:ba:06      2048   \n",
       "137900     121  1.647532e+09  ba:c6:5f:04:4f:62  3a:e0:26:66:ba:06      2048   \n",
       "137901     121  1.647532e+09  e2:04:5c:48:e6:48  3a:e0:26:66:ba:06      2048   \n",
       "137902     121  1.647532e+09  ba:c6:5f:04:4f:62  3a:e0:26:66:ba:06      2048   \n",
       "137903     394  1.647532e+09  3a:e0:26:66:ba:06  e2:04:5c:48:e6:48      2048   \n",
       "...        ...           ...                ...                ...       ...   \n",
       "140533     203  1.647532e+09  3a:e0:26:66:ba:06  ba:c6:5f:04:4f:62      2048   \n",
       "140534      66  1.647532e+09  ba:c6:5f:04:4f:62  3a:e0:26:66:ba:06      2048   \n",
       "140535      66  1.647532e+09  3a:e0:26:66:ba:06  ba:c6:5f:04:4f:62      2048   \n",
       "140536      66  1.647532e+09  ba:c6:5f:04:4f:62  3a:e0:26:66:ba:06      2048   \n",
       "140537      66  1.647532e+09  3a:e0:26:66:ba:06  ba:c6:5f:04:4f:62      2048   \n",
       "\n",
       "            ip.src      ip.dst  ip.version  ip.proto  ip.len  ...  load_15  \\\n",
       "137899  10.244.0.2  10.244.0.9           4        17     107  ...        0   \n",
       "137900  10.244.0.2  10.244.0.9           4        17     107  ...        0   \n",
       "137901  10.244.0.2  10.244.0.9           4        17     107  ...        0   \n",
       "137902  10.244.0.2  10.244.0.9           4        17     107  ...        0   \n",
       "137903  10.244.0.9  10.244.0.2           4        17     380  ...        0   \n",
       "...            ...         ...         ...       ...     ...  ...      ...   \n",
       "140533  10.244.0.9  10.244.0.1           4         6     189  ...        1   \n",
       "140534  10.244.0.1  10.244.0.9           4         6      52  ...        0   \n",
       "140535  10.244.0.9  10.244.0.1           4         6      52  ...        0   \n",
       "140536  10.244.0.1  10.244.0.9           4         6      52  ...        0   \n",
       "140537  10.244.0.9  10.244.0.1           4         6      52  ...        0   \n",
       "\n",
       "        load_16  load_17  load_18  load_19  protocol  protocol.sport  \\\n",
       "137899        0        0        0        0       UDP           45390   \n",
       "137900        0        0        0        0       UDP           45390   \n",
       "137901        0        0        0        0       UDP           45390   \n",
       "137902        0        0        0        0       UDP           45390   \n",
       "137903        0        0        0        0       UDP              53   \n",
       "...         ...      ...      ...      ...       ...             ...   \n",
       "140533        2        0        3        2       TCP            8080   \n",
       "140534        0        0        0        0       TCP           50410   \n",
       "140535        0        0        0        0       TCP            8080   \n",
       "140536        0        0        0        0       TCP           50410   \n",
       "140537        0        0        0        0       TCP            8080   \n",
       "\n",
       "        protocol.dport  timestamp_int  packet_flow_10_s  \n",
       "137899              53     1647532052                 0  \n",
       "137900              53     1647532052                 0  \n",
       "137901              53     1647532052                 0  \n",
       "137902              53     1647532052                 0  \n",
       "137903           45390     1647532052                 0  \n",
       "...                ...            ...               ...  \n",
       "140533           50410     1647532060                 0  \n",
       "140534            8080     1647532060                 0  \n",
       "140535           50410     1647532060                 0  \n",
       "140536            8080     1647532060                 0  \n",
       "140537           50410     1647532060                 0  \n",
       "\n",
       "[2639 rows x 58 columns]"
      ]
     },
     "execution_count": 101,
     "metadata": {},
     "output_type": "execute_result"
    }
   ],
   "source": [
    "time_analysis[time_analysis['timestamp_int'].between(ts, ts+interval+1)]"
   ]
  },
  {
   "cell_type": "code",
   "execution_count": 110,
   "id": "393624f1",
   "metadata": {},
   "outputs": [],
   "source": [
    "normal_df['timestamp'] = normal_df['timestamp'].apply(lambda x: int(x))"
   ]
  },
  {
   "cell_type": "code",
   "execution_count": 111,
   "id": "c3fab51d",
   "metadata": {},
   "outputs": [
    {
     "data": {
      "text/plain": [
       "0         1647531462\n",
       "1         1647531462\n",
       "2         1647531462\n",
       "3         1647531462\n",
       "4         1647531462\n",
       "             ...    \n",
       "140533    1647532060\n",
       "140534    1647532060\n",
       "140535    1647532060\n",
       "140536    1647532060\n",
       "140537    1647532060\n",
       "Name: timestamp, Length: 140538, dtype: int64"
      ]
     },
     "execution_count": 111,
     "metadata": {},
     "output_type": "execute_result"
    }
   ],
   "source": [
    "normal_df['timestamp']"
   ]
  },
  {
   "cell_type": "code",
   "execution_count": null,
   "id": "d2526c7f",
   "metadata": {},
   "outputs": [],
   "source": []
  }
 ],
 "metadata": {
  "kernelspec": {
   "display_name": "Python 3 (ipykernel)",
   "language": "python",
   "name": "python3"
  },
  "language_info": {
   "codemirror_mode": {
    "name": "ipython",
    "version": 3
   },
   "file_extension": ".py",
   "mimetype": "text/x-python",
   "name": "python",
   "nbconvert_exporter": "python",
   "pygments_lexer": "ipython3",
   "version": "3.9.10"
  }
 },
 "nbformat": 4,
 "nbformat_minor": 5
}

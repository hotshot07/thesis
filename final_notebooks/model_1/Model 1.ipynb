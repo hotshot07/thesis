{
 "cells": [
  {
   "cell_type": "markdown",
   "id": "a3413f81",
   "metadata": {},
   "source": [
    "# First model"
   ]
  },
  {
   "cell_type": "markdown",
   "id": "ce5f8f42",
   "metadata": {},
   "source": [
    "## Autoencoder\n",
    "\n",
    "Features:\n",
    "\n",
    "* eth_source\n",
    "* eth_dst \n",
    "* ip_src \n",
    "* ip_dst\n",
    "* ip.len\n",
    "* ip.tos \n",
    "* ip.ttl\n",
    "* ip.version\n",
    "* flag_type ('FIN', 'SYN', 'RST', 'PSH', 'ACK', 'URG', 'ECE','CWR', 'UNK')\n",
    "* length\n",
    "* load (first 20 bytes)\n",
    "* load.count\n",
    "* type of ip.src\n",
    "* type of ip.dst\n",
    "* protocol (tcp/udp)\n",
    "* protocol.dport\n",
    "* protocol.sport\n",
    "\n",
    "Scaling: Standard Scalar"
   ]
  },
  {
   "cell_type": "code",
   "execution_count": 1,
   "id": "46a04aca",
   "metadata": {},
   "outputs": [],
   "source": [
    "import pandas as pd\n",
    "import numpy as np\n",
    "import random\n",
    "from preprocess_df import process_df\n",
    "import matplotlib.pyplot as plt\n",
    "from sklearn.model_selection import train_test_split\n",
    "\n",
    "normal_df = pd.read_csv('../data/normal1.csv')\n",
    "processed_normal = process_df(normal_df)\n",
    "\n",
    "attack_df = pd.read_csv('../data/attack1.csv')\n",
    "processed_attack = process_df(attack_df)"
   ]
  },
  {
   "cell_type": "code",
   "execution_count": 2,
   "id": "6be82db8",
   "metadata": {},
   "outputs": [
    {
     "data": {
      "text/plain": [
       "Index(['octet_1_eth_dst', 'octet_2_eth_dst', 'octet_3_eth_dst',\n",
       "       'octet_4_eth_dst', 'octet_5_eth_dst', 'octet_6_eth_dst',\n",
       "       'octet_1_eth_src', 'octet_2_eth_src', 'octet_3_eth_src',\n",
       "       'octet_4_eth_src', 'octet_5_eth_src', 'octet_6_eth_src',\n",
       "       'octet_1_ip_src', 'octet_2_ip_src', 'octet_3_ip_src', 'octet_4_ip_src',\n",
       "       'octet_1_ip_dst', 'octet_2_ip_dst', 'octet_3_ip_dst', 'octet_4_ip_dst',\n",
       "       'length', 'eth.type', 'ip.version', 'ip.proto', 'ip.len', 'ip.ihl',\n",
       "       'ip.tos', 'ip.ttl', 'load.count', 'FIN', 'SYN', 'RST', 'PSH', 'ACK',\n",
       "       'URG', 'ECE', 'CWR', 'UNK', 'source_docker_bridge', 'source_dns',\n",
       "       'source_service', 'source_pod', 'source_external',\n",
       "       'destination_docker_bridge', 'destination_dns', 'destination_service',\n",
       "       'destination_pod', 'destination_external', 'load_0', 'load_1', 'load_2',\n",
       "       'load_3', 'load_4', 'load_5', 'load_6', 'load_7', 'load_8', 'load_9',\n",
       "       'load_10', 'load_11', 'load_12', 'load_13', 'load_14', 'load_15',\n",
       "       'load_16', 'load_17', 'load_18', 'load_19', 'protocol.sport',\n",
       "       'protocol.dport', 'TCP', 'UDP'],\n",
       "      dtype='object')"
      ]
     },
     "execution_count": 2,
     "metadata": {},
     "output_type": "execute_result"
    }
   ],
   "source": [
    "processed_normal.columns"
   ]
  },
  {
   "cell_type": "code",
   "execution_count": 3,
   "id": "636b7564",
   "metadata": {},
   "outputs": [],
   "source": [
    "x_normal_train, x_normal_test = train_test_split(processed_normal.values, test_size=0.2, random_state=42)"
   ]
  },
  {
   "cell_type": "code",
   "execution_count": 4,
   "id": "0f551eb3",
   "metadata": {},
   "outputs": [],
   "source": [
    "# from tensorflow.keras.models import Sequential\n",
    "# from tensorflow.keras.layers import Dense, Activation\n",
    "\n",
    "# model = Sequential()\n",
    "# model.add(Dense(40, input_dim=processed_normal.values.shape[1], activation='ReLU'))\n",
    "# model.add(Dense(4, activation='ReLU'))\n",
    "# model.add(Dense(40, activation='ReLU'))\n",
    "# model.add(Dense(processed_normal.values.shape[1]))\n",
    "# model.compile(loss='mean_squared_error', optimizer='adam')\n",
    "# model.fit(x_normal_train,x_normal_train,verbose=1,epochs=30)\n",
    "# model.save(\"model_1_new\")"
   ]
  },
  {
   "cell_type": "code",
   "execution_count": 6,
   "id": "a7827f0c",
   "metadata": {},
   "outputs": [
    {
     "name": "stdout",
     "output_type": "stream",
     "text": [
      "Metal device set to: Apple M1 Pro\n"
     ]
    },
    {
     "name": "stderr",
     "output_type": "stream",
     "text": [
      "2022-03-26 19:02:06.842806: I tensorflow/core/common_runtime/pluggable_device/pluggable_device_factory.cc:305] Could not identify NUMA node of platform GPU ID 0, defaulting to 0. Your kernel may not have been built with NUMA support.\n",
      "2022-03-26 19:02:06.843067: I tensorflow/core/common_runtime/pluggable_device/pluggable_device_factory.cc:271] Created TensorFlow device (/job:localhost/replica:0/task:0/device:GPU:0 with 0 MB memory) -> physical PluggableDevice (device: 0, name: METAL, pci bus id: <undefined>)\n"
     ]
    }
   ],
   "source": [
    "import keras\n",
    "model = keras.models.load_model('model_1_new')"
   ]
  },
  {
   "cell_type": "code",
   "execution_count": 7,
   "id": "f60ad0e6",
   "metadata": {},
   "outputs": [
    {
     "name": "stderr",
     "output_type": "stream",
     "text": [
      "2022-03-26 19:02:15.438991: W tensorflow/core/platform/profile_utils/cpu_utils.cc:128] Failed to get CPU frequency: 0 Hz\n",
      "2022-03-26 19:02:15.493473: I tensorflow/core/grappler/optimizers/custom_graph_optimizer_registry.cc:113] Plugin optimizer for device_type GPU is enabled.\n"
     ]
    },
    {
     "name": "stdout",
     "output_type": "stream",
     "text": [
      "0.32354723251546713\n",
      "0.3248214245621417\n"
     ]
    }
   ],
   "source": [
    "# from sklearn import metrics\n",
    "# pred_normal_train = model.predict(x_normal_train)\n",
    "# print(np.sqrt(metrics.mean_squared_error(pred_normal_train,x_normal_train)))\n",
    "\n",
    "# pred_normal_test = model.predict(x_normal_test)\n",
    "# print(np.sqrt(metrics.mean_squared_error(pred_normal_test,x_normal_test)))"
   ]
  },
  {
   "cell_type": "code",
   "execution_count": 8,
   "id": "30fb935b",
   "metadata": {},
   "outputs": [],
   "source": [
    "pred_normal = model.predict(processed_normal.values)"
   ]
  },
  {
   "cell_type": "code",
   "execution_count": 9,
   "id": "9d3ea7fd",
   "metadata": {},
   "outputs": [
    {
     "data": {
      "text/plain": [
       "<AxesSubplot:>"
      ]
     },
     "execution_count": 9,
     "metadata": {},
     "output_type": "execute_result"
    },
    {
     "data": {
      "image/png": "[encoded data removed]",
      "text/plain": [
       "<Figure size 432x288 with 1 Axes>"
      ]
     },
     "metadata": {
      "needs_background": "light"
     },
     "output_type": "display_data"
    }
   ],
   "source": [
    "normal_score_list = [0]*pred_normal.shape[0]\n",
    "\n",
    "normal_df['score'] = 0\n",
    "\n",
    "random_index = [random.randint(0, pred_normal.shape[0]) for x in range(20000)]\n",
    "\n",
    "for index in random_index:\n",
    "    normal_score_list[index]= (metrics.mean_squared_error(pred_normal[index],processed_normal.values[index], squared=False))\n",
    "\n",
    "normal_df['score'] = normal_score_list\n",
    "\n",
    "copy_normal_df = normal_df[normal_df['score'] !=0]\n",
    "\n",
    "copy_normal_df['score'].hist(bins = 100)"
   ]
  },
  {
   "cell_type": "code",
   "execution_count": 10,
   "id": "73b44478",
   "metadata": {},
   "outputs": [
    {
     "data": {
      "text/plain": [
       "<AxesSubplot:>"
      ]
     },
     "execution_count": 10,
     "metadata": {},
     "output_type": "execute_result"
    },
    {
     "data": {
      "image/png": "[encoded data removed]",
      "text/plain": [
       "<Figure size 432x288 with 1 Axes>"
      ]
     },
     "metadata": {
      "needs_background": "light"
     },
     "output_type": "display_data"
    }
   ],
   "source": [
    "pred_attack = model.predict(processed_attack.values)\n",
    "attack_score_list = [0]*pred_attack.shape[0]\n",
    "\n",
    "attack_df['score'] = 0\n",
    "\n",
    "random_index = [random.randint(0, pred_attack.shape[0]) for x in range(40000)]\n",
    "\n",
    "\n",
    "for index in random_index:\n",
    "    attack_score_list[index] = metrics.mean_squared_error(processed_attack.values[index],pred_attack[index],squared=False)\n",
    "\n",
    "attack_df['score'] = attack_score_list\n",
    "\n",
    "copy_attack_df = attack_df[attack_df['score'] !=0]\n",
    "\n",
    "copy_attack_df['score'].hist(bins = 100)"
   ]
  },
  {
   "cell_type": "code",
   "execution_count": 11,
   "id": "992392d5",
   "metadata": {},
   "outputs": [
    {
     "data": {
      "text/plain": [
       "<AxesSubplot:>"
      ]
     },
     "execution_count": 11,
     "metadata": {},
     "output_type": "execute_result"
    },
    {
     "data": {
      "image/png": "[encoded data removed]",
      "text/plain": [
       "<Figure size 432x288 with 1 Axes>"
      ]
     },
     "metadata": {
      "needs_background": "light"
     },
     "output_type": "display_data"
    }
   ],
   "source": [
    "nmap_df = attack_df[attack_df[\"ip.dst\"] == '89.100.107.148']\n",
    "nmap_df['score'].hist(bins = 100)"
   ]
  }
 ],
 "metadata": {
  "kernelspec": {
   "display_name": "Python 3 (ipykernel)",
   "language": "python",
   "name": "python3"
  },
  "language_info": {
   "codemirror_mode": {
    "name": "ipython",
    "version": 3
   },
   "file_extension": ".py",
   "mimetype": "text/x-python",
   "name": "python",
   "nbconvert_exporter": "python",
   "pygments_lexer": "ipython3",
   "version": "3.9.10"
  }
 },
 "nbformat": 4,
 "nbformat_minor": 5
}

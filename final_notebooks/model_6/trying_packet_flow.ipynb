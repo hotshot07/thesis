{
 "cells": [
  {
   "cell_type": "code",
   "execution_count": 1,
   "id": "7cc94562",
   "metadata": {},
   "outputs": [],
   "source": [
    "import pandas as pd\n",
    "import numpy as np\n",
    "import random\n",
    "from preprocess_with_packet_flow import process_df\n",
    "import matplotlib.pyplot as plt\n",
    "from sklearn.model_selection import train_test_split\n",
    "\n",
    "\n",
    "\n",
    "normal_df = pd.read_csv('data/normal1.csv')\n",
    "processed_normal = process_df(normal_df)"
   ]
  },
  {
   "cell_type": "code",
   "execution_count": 3,
   "id": "b88b3475",
   "metadata": {},
   "outputs": [],
   "source": [
    "attack_df = pd.read_csv('data/attack1.csv')\n",
    "processed_attack = process_df(attack_df)"
   ]
  },
  {
   "cell_type": "code",
   "execution_count": 4,
   "id": "cfd482eb",
   "metadata": {},
   "outputs": [],
   "source": [
    "from sklearn.decomposition import TruncatedSVD\n",
    "svd = TruncatedSVD(n_components=30, n_iter=5)\n",
    "svd_normal = svd.fit_transform(processed_normal.values)\n",
    "svd_attack = svd.fit_transform(processed_attack.values)\n",
    "\n",
    "\n",
    "# In[4]:\n",
    "\n",
    "\n",
    "from sklearn.model_selection import train_test_split\n",
    "\n",
    "x_normal_train, x_normal_test = train_test_split(\n",
    "    svd_normal, test_size=0.2, random_state=42)"
   ]
  },
  {
   "cell_type": "code",
   "execution_count": 9,
   "id": "f94ae9ae",
   "metadata": {},
   "outputs": [
    {
     "name": "stdout",
     "output_type": "stream",
     "text": [
      "Epoch 1/50\n",
      "  28/3514 [..............................] - ETA: 13s - loss: 0.3883"
     ]
    },
    {
     "name": "stderr",
     "output_type": "stream",
     "text": [
      "2022-03-19 10:56:10.928819: I tensorflow/core/grappler/optimizers/custom_graph_optimizer_registry.cc:113] Plugin optimizer for device_type GPU is enabled.\n"
     ]
    },
    {
     "name": "stdout",
     "output_type": "stream",
     "text": [
      "3514/3514 [==============================] - 13s 4ms/step - loss: 0.0541\n",
      "Epoch 2/50\n",
      "3514/3514 [==============================] - 13s 4ms/step - loss: 0.0303\n",
      "Epoch 3/50\n",
      "3514/3514 [==============================] - 13s 4ms/step - loss: 0.0266\n",
      "Epoch 4/50\n",
      "3514/3514 [==============================] - 13s 4ms/step - loss: 0.0250\n",
      "Epoch 5/50\n",
      "3514/3514 [==============================] - 15s 4ms/step - loss: 0.0241\n",
      "Epoch 6/50\n",
      "3514/3514 [==============================] - 13s 4ms/step - loss: 0.0231\n",
      "Epoch 7/50\n",
      "3514/3514 [==============================] - 13s 4ms/step - loss: 0.0223\n",
      "Epoch 8/50\n",
      "3514/3514 [==============================] - 13s 4ms/step - loss: 0.0219\n",
      "Epoch 9/50\n",
      "3514/3514 [==============================] - 13s 4ms/step - loss: 0.0216\n",
      "Epoch 10/50\n",
      "3514/3514 [==============================] - 13s 4ms/step - loss: 0.0214\n",
      "Epoch 11/50\n",
      "3514/3514 [==============================] - 14s 4ms/step - loss: 0.0212\n",
      "Epoch 12/50\n",
      "3514/3514 [==============================] - 14s 4ms/step - loss: 0.0210\n",
      "Epoch 13/50\n",
      "3514/3514 [==============================] - 14s 4ms/step - loss: 0.0208\n",
      "Epoch 14/50\n",
      "3514/3514 [==============================] - 14s 4ms/step - loss: 0.0207\n",
      "Epoch 15/50\n",
      "3514/3514 [==============================] - 13s 4ms/step - loss: 0.0205\n",
      "Epoch 16/50\n",
      "3514/3514 [==============================] - 14s 4ms/step - loss: 0.0203\n",
      "Epoch 17/50\n",
      "3514/3514 [==============================] - 13s 4ms/step - loss: 0.0201\n",
      "Epoch 18/50\n",
      "3514/3514 [==============================] - 13s 4ms/step - loss: 0.0199\n",
      "Epoch 19/50\n",
      "3514/3514 [==============================] - 13s 4ms/step - loss: 0.0197\n",
      "Epoch 20/50\n",
      "3514/3514 [==============================] - 14s 4ms/step - loss: 0.0196\n",
      "Epoch 21/50\n",
      "3514/3514 [==============================] - 14s 4ms/step - loss: 0.0194\n",
      "Epoch 22/50\n",
      "3514/3514 [==============================] - 27s 8ms/step - loss: 0.0192\n",
      "Epoch 23/50\n",
      "3514/3514 [==============================] - 18s 5ms/step - loss: 0.0191\n",
      "Epoch 24/50\n",
      "3514/3514 [==============================] - 15s 4ms/step - loss: 0.0190\n",
      "Epoch 25/50\n",
      "3514/3514 [==============================] - 15s 4ms/step - loss: 0.0189\n",
      "Epoch 26/50\n",
      "3514/3514 [==============================] - 15s 4ms/step - loss: 0.0188\n",
      "Epoch 27/50\n",
      "3514/3514 [==============================] - 15s 4ms/step - loss: 0.0186\n",
      "Epoch 28/50\n",
      "3514/3514 [==============================] - 15s 4ms/step - loss: 0.0185\n",
      "Epoch 29/50\n",
      "3514/3514 [==============================] - 15s 4ms/step - loss: 0.0185\n",
      "Epoch 30/50\n",
      "3514/3514 [==============================] - 15s 4ms/step - loss: 0.0184\n",
      "Epoch 31/50\n",
      "3514/3514 [==============================] - 15s 4ms/step - loss: 0.0183\n",
      "Epoch 32/50\n",
      "3514/3514 [==============================] - 15s 4ms/step - loss: 0.0183\n",
      "Epoch 33/50\n",
      "3514/3514 [==============================] - 15s 4ms/step - loss: 0.0182\n",
      "Epoch 34/50\n",
      "3514/3514 [==============================] - 15s 4ms/step - loss: 0.0182\n",
      "Epoch 35/50\n",
      "3514/3514 [==============================] - 15s 4ms/step - loss: 0.0181\n",
      "Epoch 36/50\n",
      "3514/3514 [==============================] - 15s 4ms/step - loss: 0.0181\n",
      "Epoch 37/50\n",
      "3514/3514 [==============================] - 15s 4ms/step - loss: 0.0180\n",
      "Epoch 38/50\n",
      "3514/3514 [==============================] - 15s 4ms/step - loss: 0.0180\n",
      "Epoch 39/50\n",
      "3514/3514 [==============================] - 15s 4ms/step - loss: 0.0180\n",
      "Epoch 40/50\n",
      "3514/3514 [==============================] - 15s 4ms/step - loss: 0.0179\n",
      "Epoch 41/50\n",
      "3514/3514 [==============================] - 15s 4ms/step - loss: 0.0179\n",
      "Epoch 42/50\n",
      "3514/3514 [==============================] - 15s 4ms/step - loss: 0.0179\n",
      "Epoch 43/50\n",
      "3514/3514 [==============================] - 15s 4ms/step - loss: 0.0178\n",
      "Epoch 44/50\n",
      "3514/3514 [==============================] - 15s 4ms/step - loss: 0.0178\n",
      "Epoch 45/50\n",
      "3514/3514 [==============================] - 15s 4ms/step - loss: 0.0177\n",
      "Epoch 46/50\n",
      "3514/3514 [==============================] - 15s 4ms/step - loss: 0.0177\n",
      "Epoch 47/50\n",
      "3514/3514 [==============================] - 15s 4ms/step - loss: 0.0177\n",
      "Epoch 48/50\n",
      "3514/3514 [==============================] - 15s 4ms/step - loss: 0.0177\n",
      "Epoch 49/50\n",
      "3514/3514 [==============================] - 15s 4ms/step - loss: 0.0177\n",
      "Epoch 50/50\n",
      "3514/3514 [==============================] - 15s 4ms/step - loss: 0.0176\n"
     ]
    },
    {
     "name": "stderr",
     "output_type": "stream",
     "text": [
      "WARNING:absl:Found untraced functions such as leaky_re_lu_3_layer_call_fn, leaky_re_lu_3_layer_call_and_return_conditional_losses, leaky_re_lu_4_layer_call_fn, leaky_re_lu_4_layer_call_and_return_conditional_losses, leaky_re_lu_5_layer_call_fn while saving (showing 5 of 6). These functions will not be directly callable after loading.\n"
     ]
    },
    {
     "name": "stdout",
     "output_type": "stream",
     "text": [
      "INFO:tensorflow:Assets written to: svd_auto_packet_flow/assets\n"
     ]
    },
    {
     "name": "stderr",
     "output_type": "stream",
     "text": [
      "INFO:tensorflow:Assets written to: svd_auto_packet_flow/assets\n"
     ]
    }
   ],
   "source": [
    "from tensorflow.keras.models import Sequential\n",
    "from tensorflow.keras.layers import Dense, Activation\n",
    "\n",
    "model = Sequential()\n",
    "model.add(Dense(20, input_dim=svd_normal.shape[1], activation='LeakyReLU'))\n",
    "model.add(Dense(3, activation='LeakyReLU')) # size to compress to\n",
    "model.add(Dense(20, activation='LeakyReLU'))\n",
    "model.add(Dense(svd_normal.shape[1])) # Multiple output neurons\n",
    "model.compile(loss='mean_squared_error', optimizer='adam')\n",
    "model.fit(x_normal_train,x_normal_train,verbose=1,epochs=50)\n",
    "model.save(\"svd_auto_packet_flow\")"
   ]
  },
  {
   "cell_type": "code",
   "execution_count": 10,
   "id": "30034268",
   "metadata": {},
   "outputs": [
    {
     "name": "stderr",
     "output_type": "stream",
     "text": [
      "2022-03-19 11:19:50.282512: I tensorflow/core/grappler/optimizers/custom_graph_optimizer_registry.cc:113] Plugin optimizer for device_type GPU is enabled.\n"
     ]
    },
    {
     "name": "stdout",
     "output_type": "stream",
     "text": [
      "0.1330763414888839\n",
      "0.13304333290492898\n"
     ]
    },
    {
     "data": {
      "text/plain": [
       "<AxesSubplot:>"
      ]
     },
     "execution_count": 10,
     "metadata": {},
     "output_type": "execute_result"
    },
    {
     "data": {
      "image/png": "[encoded data removed]",
      "text/plain": [
       "<Figure size 432x288 with 1 Axes>"
      ]
     },
     "metadata": {
      "needs_background": "light"
     },
     "output_type": "display_data"
    }
   ],
   "source": [
    "from sklearn import metrics\n",
    "pred_normal_train = model.predict(x_normal_train)\n",
    "print(np.sqrt(metrics.mean_squared_error(pred_normal_train,x_normal_train)))\n",
    "\n",
    "\n",
    "# In[10]:\n",
    "\n",
    "\n",
    "pred_normal_test = model.predict(x_normal_test)\n",
    "print(np.sqrt(metrics.mean_squared_error(pred_normal_test,x_normal_test)))\n",
    "\n",
    "\n",
    "# In[12]:\n",
    "\n",
    "\n",
    "pred_attack = model.predict(svd_attack)\n",
    "\n",
    "score_list = []\n",
    "for index, x in enumerate(pred_attack):\n",
    "    score_list.append(np.sqrt(metrics.mean_squared_error(pred_attack[index],svd_attack[index])))\n",
    "\n",
    "attack_df['score'] = score_list\n",
    "\n",
    "\n",
    "# In[13]:\n",
    "\n",
    "\n",
    "attack_df['score'].hist(bins = 100)"
   ]
  },
  {
   "cell_type": "code",
   "execution_count": 7,
   "id": "9702194b",
   "metadata": {},
   "outputs": [
    {
     "data": {
      "text/plain": [
       "0.2877381292183095"
      ]
     },
     "execution_count": 7,
     "metadata": {},
     "output_type": "execute_result"
    },
    {
     "data": {
      "image/png": "[encoded data removed]",
      "text/plain": [
       "<Figure size 432x288 with 1 Axes>"
      ]
     },
     "metadata": {
      "needs_background": "light"
     },
     "output_type": "display_data"
    }
   ],
   "source": [
    "nmap_df = attack_df[attack_df[\"ip.dst\"] == '89.100.107.148']\n",
    "\n",
    "\n",
    "# In[15]:\n",
    "\n",
    "\n",
    "nmap_df['score'].hist(bins = 100)\n",
    "\n",
    "\n",
    "# In[20]:\n",
    "\n",
    "\n",
    "nmap_df['score'].min()"
   ]
  },
  {
   "cell_type": "code",
   "execution_count": 8,
   "id": "0c176301",
   "metadata": {},
   "outputs": [
    {
     "data": {
      "text/plain": [
       "<AxesSubplot:>"
      ]
     },
     "execution_count": 8,
     "metadata": {},
     "output_type": "execute_result"
    },
    {
     "data": {
      "image/png": "[encoded data removed]",
      "text/plain": [
       "<Figure size 432x288 with 1 Axes>"
      ]
     },
     "metadata": {
      "needs_background": "light"
     },
     "output_type": "display_data"
    }
   ],
   "source": [
    "\n",
    "normal_wordpress = attack_df[attack_df[\"ip.dst\"] == '89.100.107.147']\n",
    "\n",
    "\n",
    "# In[23]:\n",
    "\n",
    "\n",
    "normal_wordpress['score'].hist(bins=100)"
   ]
  },
  {
   "cell_type": "code",
   "execution_count": null,
   "id": "db9da146",
   "metadata": {},
   "outputs": [],
   "source": []
  }
 ],
 "metadata": {
  "kernelspec": {
   "display_name": "Python 3 (ipykernel)",
   "language": "python",
   "name": "python3"
  },
  "language_info": {
   "codemirror_mode": {
    "name": "ipython",
    "version": 3
   },
   "file_extension": ".py",
   "mimetype": "text/x-python",
   "name": "python",
   "nbconvert_exporter": "python",
   "pygments_lexer": "ipython3",
   "version": "3.9.10"
  }
 },
 "nbformat": 4,
 "nbformat_minor": 5
}

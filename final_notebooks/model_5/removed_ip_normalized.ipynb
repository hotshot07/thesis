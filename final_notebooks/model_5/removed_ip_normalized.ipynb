{
 "cells": [
  {
   "cell_type": "code",
   "execution_count": 1,
   "id": "465e2518",
   "metadata": {},
   "outputs": [],
   "source": [
    "import pandas as pd\n",
    "import numpy as np\n",
    "import random\n",
    "from pre_no_ip_normalize import process_df\n",
    "import matplotlib.pyplot as plt\n",
    "from sklearn.model_selection import train_test_split\n",
    "\n",
    "\n",
    "# In[2]:\n",
    "\n",
    "\n",
    "#normal_data\n",
    "normal_df = pd.read_csv('data/normal1.csv')\n",
    "processed_normal = process_df(normal_df)\n",
    "\n",
    "# # attack_data\n",
    "attack_df = pd.read_csv('data/attack1.csv')\n",
    "processed_attack = process_df(attack_df)"
   ]
  },
  {
   "cell_type": "code",
   "execution_count": 3,
   "id": "2e625a92",
   "metadata": {},
   "outputs": [],
   "source": [
    "from sklearn.decomposition import TruncatedSVD\n",
    "svd = TruncatedSVD(n_components=30, n_iter=5)\n",
    "svd_normal = svd.fit_transform(processed_normal.values)\n",
    "svd_attack = svd.fit_transform(processed_attack.values)\n",
    "\n",
    "from sklearn.model_selection import train_test_split\n",
    "\n",
    "x_normal_train, x_normal_test = train_test_split(\n",
    "    svd_normal, test_size=0.2, random_state=42)"
   ]
  },
  {
   "cell_type": "code",
   "execution_count": 4,
   "id": "ff9a9822",
   "metadata": {},
   "outputs": [
    {
     "name": "stderr",
     "output_type": "stream",
     "text": [
      "2022-03-18 21:43:00.054290: I tensorflow/core/common_runtime/pluggable_device/pluggable_device_factory.cc:305] Could not identify NUMA node of platform GPU ID 0, defaulting to 0. Your kernel may not have been built with NUMA support.\n",
      "2022-03-18 21:43:00.054383: I tensorflow/core/common_runtime/pluggable_device/pluggable_device_factory.cc:271] Created TensorFlow device (/job:localhost/replica:0/task:0/device:GPU:0 with 0 MB memory) -> physical PluggableDevice (device: 0, name: METAL, pci bus id: <undefined>)\n"
     ]
    },
    {
     "name": "stdout",
     "output_type": "stream",
     "text": [
      "Metal device set to: Apple M1 Pro\n",
      "Epoch 1/20\n"
     ]
    },
    {
     "name": "stderr",
     "output_type": "stream",
     "text": [
      "2022-03-18 21:43:00.463325: W tensorflow/core/platform/profile_utils/cpu_utils.cc:128] Failed to get CPU frequency: 0 Hz\n",
      "2022-03-18 21:43:00.591538: I tensorflow/core/grappler/optimizers/custom_graph_optimizer_registry.cc:113] Plugin optimizer for device_type GPU is enabled.\n"
     ]
    },
    {
     "name": "stdout",
     "output_type": "stream",
     "text": [
      "3514/3514 [==============================] - 15s 4ms/step - loss: 0.0573\n",
      "Epoch 2/20\n",
      "3514/3514 [==============================] - 14s 4ms/step - loss: 0.0474\n",
      "Epoch 3/20\n",
      "3514/3514 [==============================] - 13s 4ms/step - loss: 0.0226\n",
      "Epoch 4/20\n",
      "3514/3514 [==============================] - 14s 4ms/step - loss: 0.0177\n",
      "Epoch 5/20\n",
      "3514/3514 [==============================] - 14s 4ms/step - loss: 0.0165\n",
      "Epoch 6/20\n",
      "3514/3514 [==============================] - 15s 4ms/step - loss: 0.0161\n",
      "Epoch 7/20\n",
      "3514/3514 [==============================] - 13s 4ms/step - loss: 0.0159\n",
      "Epoch 8/20\n",
      "3514/3514 [==============================] - 13s 4ms/step - loss: 0.0158\n",
      "Epoch 9/20\n",
      "3514/3514 [==============================] - 13s 4ms/step - loss: 0.0158\n",
      "Epoch 10/20\n",
      "3514/3514 [==============================] - 13s 4ms/step - loss: 0.0157\n",
      "Epoch 11/20\n",
      "3514/3514 [==============================] - 13s 4ms/step - loss: 0.0155\n",
      "Epoch 12/20\n",
      "3514/3514 [==============================] - 13s 4ms/step - loss: 0.0154\n",
      "Epoch 13/20\n",
      "3514/3514 [==============================] - 14s 4ms/step - loss: 0.0152\n",
      "Epoch 14/20\n",
      "3514/3514 [==============================] - 13s 4ms/step - loss: 0.0151\n",
      "Epoch 15/20\n",
      "3514/3514 [==============================] - 13s 4ms/step - loss: 0.0151\n",
      "Epoch 16/20\n",
      "3514/3514 [==============================] - 13s 4ms/step - loss: 0.0150\n",
      "Epoch 17/20\n",
      "3514/3514 [==============================] - 13s 4ms/step - loss: 0.0150\n",
      "Epoch 18/20\n",
      "3514/3514 [==============================] - 13s 4ms/step - loss: 0.0149\n",
      "Epoch 19/20\n",
      "3514/3514 [==============================] - 13s 4ms/step - loss: 0.0149\n",
      "Epoch 20/20\n",
      "3514/3514 [==============================] - 13s 4ms/step - loss: 0.0149\n",
      "INFO:tensorflow:Assets written to: svd_normalized_no_ip_5/assets\n"
     ]
    },
    {
     "name": "stderr",
     "output_type": "stream",
     "text": [
      "2022-03-18 21:47:32.218731: W tensorflow/python/util/util.cc:368] Sets are not currently considered sequences, but this may change in the future, so consider avoiding using them.\n"
     ]
    }
   ],
   "source": [
    "from tensorflow.keras.models import Sequential\n",
    "from tensorflow.keras.layers import Dense, Activation\n",
    "\n",
    "model = Sequential()\n",
    "model.add(Dense(20, input_dim=svd_normal.shape[1], activation='relu'))\n",
    "model.add(Dense(3, activation='relu')) # size to compress to\n",
    "model.add(Dense(20, activation='relu'))\n",
    "model.add(Dense(svd_normal.shape[1])) # Multiple output neurons\n",
    "model.compile(loss='mean_squared_error', optimizer='adam')\n",
    "model.fit(x_normal_train,x_normal_train,verbose=1,epochs=20)\n",
    "model.save(\"svd_normalized_no_ip_5\")"
   ]
  },
  {
   "cell_type": "code",
   "execution_count": 5,
   "id": "dd8d5333",
   "metadata": {},
   "outputs": [
    {
     "name": "stderr",
     "output_type": "stream",
     "text": [
      "2022-03-18 21:47:42.767446: I tensorflow/core/grappler/optimizers/custom_graph_optimizer_registry.cc:113] Plugin optimizer for device_type GPU is enabled.\n"
     ]
    },
    {
     "name": "stdout",
     "output_type": "stream",
     "text": [
      "0.1215450480812873\n",
      "0.12167092074854874\n"
     ]
    },
    {
     "data": {
      "text/plain": [
       "<AxesSubplot:>"
      ]
     },
     "execution_count": 5,
     "metadata": {},
     "output_type": "execute_result"
    },
    {
     "data": {
      "image/png": "[encoded data removed]",
      "text/plain": [
       "<Figure size 432x288 with 1 Axes>"
      ]
     },
     "metadata": {
      "needs_background": "light"
     },
     "output_type": "display_data"
    }
   ],
   "source": [
    "from sklearn import metrics\n",
    "pred_normal_train = model.predict(x_normal_train)\n",
    "print(np.sqrt(metrics.mean_squared_error(pred_normal_train,x_normal_train)))\n",
    "\n",
    "\n",
    "# In[10]:\n",
    "\n",
    "\n",
    "pred_normal_test = model.predict(x_normal_test)\n",
    "print(np.sqrt(metrics.mean_squared_error(pred_normal_test,x_normal_test)))\n",
    "\n",
    "\n",
    "# In[12]:\n",
    "\n",
    "\n",
    "pred_attack = model.predict(svd_attack)\n",
    "\n",
    "score_list = []\n",
    "for index, x in enumerate(pred_attack):\n",
    "    score_list.append(np.sqrt(metrics.mean_squared_error(pred_attack[index],svd_attack[index])))\n",
    "\n",
    "attack_df['score'] = score_list\n",
    "\n",
    "\n",
    "# In[13]:\n",
    "\n",
    "\n",
    "attack_df['score'].hist(bins = 100)"
   ]
  },
  {
   "cell_type": "code",
   "execution_count": 6,
   "id": "d8e6f4b7",
   "metadata": {},
   "outputs": [
    {
     "data": {
      "text/plain": [
       "0.2506760759512562"
      ]
     },
     "execution_count": 6,
     "metadata": {},
     "output_type": "execute_result"
    },
    {
     "data": {
      "image/png": "[encoded data removed]",
      "text/plain": [
       "<Figure size 432x288 with 1 Axes>"
      ]
     },
     "metadata": {
      "needs_background": "light"
     },
     "output_type": "display_data"
    }
   ],
   "source": [
    "nmap_df = attack_df[attack_df[\"ip.dst\"] == '89.100.107.148']\n",
    "\n",
    "\n",
    "# In[15]:\n",
    "\n",
    "\n",
    "nmap_df['score'].hist(bins = 100)\n",
    "\n",
    "\n",
    "# In[20]:\n",
    "\n",
    "\n",
    "nmap_df['score'].min()"
   ]
  },
  {
   "cell_type": "code",
   "execution_count": 7,
   "id": "c16c1790",
   "metadata": {},
   "outputs": [
    {
     "data": {
      "text/plain": [
       "<AxesSubplot:>"
      ]
     },
     "execution_count": 7,
     "metadata": {},
     "output_type": "execute_result"
    },
    {
     "data": {
      "image/png": "[encoded data removed]",
      "text/plain": [
       "<Figure size 432x288 with 1 Axes>"
      ]
     },
     "metadata": {
      "needs_background": "light"
     },
     "output_type": "display_data"
    }
   ],
   "source": [
    "\n",
    "# In[21]:\n",
    "\n",
    "\n",
    "normal_wordpress = attack_df[attack_df[\"ip.dst\"] == '89.100.107.147']\n",
    "\n",
    "\n",
    "# In[23]:\n",
    "\n",
    "\n",
    "normal_wordpress['score'].hist(bins=100)"
   ]
  },
  {
   "cell_type": "code",
   "execution_count": null,
   "id": "54522836",
   "metadata": {},
   "outputs": [],
   "source": []
  }
 ],
 "metadata": {
  "kernelspec": {
   "display_name": "Python 3 (ipykernel)",
   "language": "python",
   "name": "python3"
  },
  "language_info": {
   "codemirror_mode": {
    "name": "ipython",
    "version": 3
   },
   "file_extension": ".py",
   "mimetype": "text/x-python",
   "name": "python",
   "nbconvert_exporter": "python",
   "pygments_lexer": "ipython3",
   "version": "3.9.10"
  }
 },
 "nbformat": 4,
 "nbformat_minor": 5
}

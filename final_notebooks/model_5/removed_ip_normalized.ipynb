{
 "cells": [
  {
   "cell_type": "code",
   "execution_count": 1,
   "id": "465e2518",
   "metadata": {},
   "outputs": [],
   "source": [
    "import pandas as pd\n",
    "import numpy as np\n",
    "import random\n",
    "from pre_no_ip_normalize import process_df\n",
    "import matplotlib.pyplot as plt\n",
    "from sklearn.model_selection import train_test_split\n",
    "\n",
    "\n",
    "# In[2]:\n",
    "\n",
    "\n",
    "#normal_data\n",
    "normal_df = pd.read_csv('../data/normal1.csv')\n",
    "processed_normal = process_df(normal_df)\n",
    "\n",
    "# # attack_data\n",
    "attack_df = pd.read_csv('../data/attack1.csv')\n",
    "processed_attack = process_df(attack_df)"
   ]
  },
  {
   "cell_type": "code",
   "execution_count": 2,
   "id": "2e625a92",
   "metadata": {},
   "outputs": [],
   "source": [
    "from sklearn.decomposition import TruncatedSVD\n",
    "svd = TruncatedSVD(n_components=30, n_iter=5)\n",
    "svd_normal = svd.fit_transform(processed_normal.values)\n",
    "svd_attack = svd.fit_transform(processed_attack.values)\n",
    "\n",
    "from sklearn.model_selection import train_test_split\n",
    "\n",
    "x_normal_train, x_normal_test = train_test_split(\n",
    "    svd_normal, test_size=0.2, random_state=42)"
   ]
  },
  {
   "cell_type": "code",
   "execution_count": 3,
   "id": "ff9a9822",
   "metadata": {},
   "outputs": [
    {
     "name": "stdout",
     "output_type": "stream",
     "text": [
      "Metal device set to: Apple M1 Pro\n"
     ]
    },
    {
     "name": "stderr",
     "output_type": "stream",
     "text": [
      "2022-03-27 18:39:19.268028: I tensorflow/core/common_runtime/pluggable_device/pluggable_device_factory.cc:305] Could not identify NUMA node of platform GPU ID 0, defaulting to 0. Your kernel may not have been built with NUMA support.\n",
      "2022-03-27 18:39:19.268139: I tensorflow/core/common_runtime/pluggable_device/pluggable_device_factory.cc:271] Created TensorFlow device (/job:localhost/replica:0/task:0/device:GPU:0 with 0 MB memory) -> physical PluggableDevice (device: 0, name: METAL, pci bus id: <undefined>)\n"
     ]
    }
   ],
   "source": [
    "# from tensorflow.keras.models import Sequential\n",
    "# from tensorflow.keras.layers import Dense, Activation\n",
    "\n",
    "# model = Sequential()\n",
    "# model.add(Dense(20, input_dim=svd_normal.shape[1], activation='relu'))\n",
    "# model.add(Dense(3, activation='relu')) # size to compress to\n",
    "# model.add(Dense(20, activation='relu'))\n",
    "# model.add(Dense(svd_normal.shape[1])) # Multiple output neurons\n",
    "# model.compile(loss='mean_squared_error', optimizer='adam')\n",
    "# model.fit(x_normal_train,x_normal_train,verbose=1,epochs=20)\n",
    "# model.save(\"svd_normalized_no_ip_5\")\n",
    "\n",
    "import keras\n",
    "model = keras.models.load_model('svd_normalized_no_ip_5')"
   ]
  },
  {
   "cell_type": "code",
   "execution_count": 4,
   "id": "dd8d5333",
   "metadata": {},
   "outputs": [
    {
     "name": "stderr",
     "output_type": "stream",
     "text": [
      "2022-03-27 18:39:19.448501: W tensorflow/core/platform/profile_utils/cpu_utils.cc:128] Failed to get CPU frequency: 0 Hz\n",
      "2022-03-27 18:39:19.479007: I tensorflow/core/grappler/optimizers/custom_graph_optimizer_registry.cc:113] Plugin optimizer for device_type GPU is enabled.\n"
     ]
    },
    {
     "name": "stdout",
     "output_type": "stream",
     "text": [
      "0.12154504808120192\n",
      "0.12167092074854853\n"
     ]
    },
    {
     "data": {
      "text/plain": [
       "<AxesSubplot:>"
      ]
     },
     "execution_count": 4,
     "metadata": {},
     "output_type": "execute_result"
    },
    {
     "data": {
      "image/png": "[encoded data removed]",
      "text/plain": [
       "<Figure size 432x288 with 1 Axes>"
      ]
     },
     "metadata": {
      "needs_background": "light"
     },
     "output_type": "display_data"
    }
   ],
   "source": [
    "from sklearn import metrics\n",
    "pred_normal_train = model.predict(x_normal_train)\n",
    "print(np.sqrt(metrics.mean_squared_error(pred_normal_train,x_normal_train)))\n",
    "\n",
    "\n",
    "# In[10]:\n",
    "\n",
    "\n",
    "pred_normal_test = model.predict(x_normal_test)\n",
    "print(np.sqrt(metrics.mean_squared_error(pred_normal_test,x_normal_test)))\n",
    "\n",
    "\n",
    "# In[12]:\n",
    "\n",
    "\n",
    "pred_attack = model.predict(svd_attack)\n",
    "\n",
    "score_list = []\n",
    "for index, x in enumerate(pred_attack):\n",
    "    score_list.append(np.sqrt(metrics.mean_squared_error(pred_attack[index],svd_attack[index])))\n",
    "\n",
    "attack_df['score'] = score_list\n",
    "\n",
    "\n",
    "# In[13]:\n",
    "\n",
    "\n",
    "attack_df['score'].hist(bins = 100)"
   ]
  },
  {
   "cell_type": "code",
   "execution_count": 5,
   "id": "d8e6f4b7",
   "metadata": {},
   "outputs": [
    {
     "data": {
      "text/plain": [
       "0.2506760759512774"
      ]
     },
     "execution_count": 5,
     "metadata": {},
     "output_type": "execute_result"
    },
    {
     "data": {
      "image/png": "[encoded data removed]",
      "text/plain": [
       "<Figure size 432x288 with 1 Axes>"
      ]
     },
     "metadata": {
      "needs_background": "light"
     },
     "output_type": "display_data"
    }
   ],
   "source": [
    "nmap_df = attack_df[attack_df[\"ip.dst\"] == '89.100.107.148']\n",
    "\n",
    "\n",
    "# In[15]:\n",
    "\n",
    "\n",
    "nmap_df['score'].hist(bins = 100)\n",
    "\n",
    "\n",
    "# In[20]:\n",
    "\n",
    "\n",
    "nmap_df['score'].min()"
   ]
  },
  {
   "cell_type": "code",
   "execution_count": 6,
   "id": "c16c1790",
   "metadata": {},
   "outputs": [
    {
     "data": {
      "text/plain": [
       "<AxesSubplot:>"
      ]
     },
     "execution_count": 6,
     "metadata": {},
     "output_type": "execute_result"
    },
    {
     "data": {
      "image/png": "[encoded data removed]",
      "text/plain": [
       "<Figure size 432x288 with 1 Axes>"
      ]
     },
     "metadata": {
      "needs_background": "light"
     },
     "output_type": "display_data"
    }
   ],
   "source": [
    "\n",
    "# In[21]:\n",
    "\n",
    "\n",
    "normal_wordpress = attack_df[attack_df[\"ip.dst\"] == '89.100.107.147']\n",
    "\n",
    "\n",
    "# In[23]:\n",
    "\n",
    "\n",
    "normal_wordpress['score'].hist(bins=100)"
   ]
  },
  {
   "cell_type": "code",
   "execution_count": 7,
   "id": "54522836",
   "metadata": {},
   "outputs": [
    {
     "data": {
      "text/plain": [
       "Text(0, 0.5, 'Number of packets')"
      ]
     },
     "execution_count": 7,
     "metadata": {},
     "output_type": "execute_result"
    },
    {
     "data": {
      "image/png": "[encoded data removed]",
      "text/plain": [
       "<Figure size 1152x648 with 1 Axes>"
      ]
     },
     "metadata": {
      "needs_background": "light"
     },
     "output_type": "display_data"
    }
   ],
   "source": [
    "plt.figure(figsize=(16,9))\n",
    "plt.hist(score_list,bins = 100)\n",
    "plt.xlabel(\"Score\", fontsize = 16)\n",
    "plt.ylabel(\"Number of packets\",fontsize = 16)"
   ]
  },
  {
   "cell_type": "code",
   "execution_count": 8,
   "id": "92c492ac",
   "metadata": {},
   "outputs": [
    {
     "data": {
      "text/plain": [
       "Text(0, 0.5, 'Number of packets')"
      ]
     },
     "execution_count": 8,
     "metadata": {},
     "output_type": "execute_result"
    },
    {
     "data": {
      "image/png": "[encoded data removed]",
      "text/plain": [
       "<Figure size 1152x648 with 1 Axes>"
      ]
     },
     "metadata": {
      "needs_background": "light"
     },
     "output_type": "display_data"
    }
   ],
   "source": [
    "plt.figure(figsize=(16,9))\n",
    "plt.hist(list(nmap_df['score']),bins = 100)\n",
    "plt.xlabel(\"Score\", fontsize = 16)\n",
    "plt.ylabel(\"Number of packets\",fontsize = 16)"
   ]
  },
  {
   "cell_type": "code",
   "execution_count": null,
   "id": "73afcbe7",
   "metadata": {},
   "outputs": [],
   "source": []
  }
 ],
 "metadata": {
  "kernelspec": {
   "display_name": "Python 3 (ipykernel)",
   "language": "python",
   "name": "python3"
  },
  "language_info": {
   "codemirror_mode": {
    "name": "ipython",
    "version": 3
   },
   "file_extension": ".py",
   "mimetype": "text/x-python",
   "name": "python",
   "nbconvert_exporter": "python",
   "pygments_lexer": "ipython3",
   "version": "3.9.10"
  }
 },
 "nbformat": 4,
 "nbformat_minor": 5
}

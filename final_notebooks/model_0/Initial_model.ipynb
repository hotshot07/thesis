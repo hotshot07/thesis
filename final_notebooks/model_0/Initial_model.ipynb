{
 "cells": [
  {
   "cell_type": "markdown",
   "id": "fb4b6970",
   "metadata": {},
   "source": [
    "# First model"
   ]
  },
  {
   "cell_type": "markdown",
   "id": "0fa674d0",
   "metadata": {},
   "source": [
    "## Autoencoder\n",
    "\n",
    "Features:\n",
    "\n",
    "* eth_source\n",
    "* eth_dst \n",
    "* ip_src \n",
    "* ip_dst\n",
    "* ip.len\n",
    "* ip.tos \n",
    "* ip.ttl\n",
    "* length\n",
    "* load.count\n",
    "* protocol\n",
    "* protocol.dport\n",
    "* protocol.sport\n",
    "\n",
    "Scaling: Standard Scalar\n"
   ]
  },
  {
   "cell_type": "code",
   "execution_count": 1,
   "id": "a6bafbb5",
   "metadata": {},
   "outputs": [],
   "source": [
    "import pandas as pd\n",
    "import numpy as np\n",
    "import random\n",
    "from preprocess_df import process_df\n",
    "import matplotlib.pyplot as plt\n",
    "from sklearn.model_selection import train_test_split\n",
    "\n",
    "normal_df = pd.read_csv('../data/normal1.csv')\n",
    "processed_normal = process_df(normal_df)\n",
    "\n",
    "attack_df = pd.read_csv('../data/attack1.csv')\n",
    "processed_attack = process_df(attack_df)"
   ]
  },
  {
   "cell_type": "code",
   "execution_count": 4,
   "id": "7bea54ba",
   "metadata": {},
   "outputs": [
    {
     "data": {
      "text/plain": [
       "Index(['octet_1_eth_dst', 'octet_2_eth_dst', 'octet_3_eth_dst',\n",
       "       'octet_4_eth_dst', 'octet_5_eth_dst', 'octet_6_eth_dst',\n",
       "       'octet_1_eth_src', 'octet_2_eth_src', 'octet_3_eth_src',\n",
       "       'octet_4_eth_src', 'octet_5_eth_src', 'octet_6_eth_src',\n",
       "       'octet_1_ip_src', 'octet_2_ip_src', 'octet_3_ip_src', 'octet_4_ip_src',\n",
       "       'octet_1_ip_dst', 'octet_2_ip_dst', 'octet_3_ip_dst', 'octet_4_ip_dst',\n",
       "       'ip.len', 'ip.tos', 'ip.ttl', 'length', 'load.count', 'TCP', 'UDP',\n",
       "       'protocol.dport', 'protocol.sport'],\n",
       "      dtype='object')"
      ]
     },
     "execution_count": 4,
     "metadata": {},
     "output_type": "execute_result"
    }
   ],
   "source": [
    "processed_normal.columns"
   ]
  },
  {
   "cell_type": "code",
   "execution_count": 5,
   "id": "40c22594",
   "metadata": {},
   "outputs": [
    {
     "data": {
      "text/plain": [
       "Index(['octet_1_eth_dst', 'octet_2_eth_dst', 'octet_3_eth_dst',\n",
       "       'octet_4_eth_dst', 'octet_5_eth_dst', 'octet_6_eth_dst',\n",
       "       'octet_1_eth_src', 'octet_2_eth_src', 'octet_3_eth_src',\n",
       "       'octet_4_eth_src', 'octet_5_eth_src', 'octet_6_eth_src',\n",
       "       'octet_1_ip_src', 'octet_2_ip_src', 'octet_3_ip_src', 'octet_4_ip_src',\n",
       "       'octet_1_ip_dst', 'octet_2_ip_dst', 'octet_3_ip_dst', 'octet_4_ip_dst',\n",
       "       'ip.len', 'ip.tos', 'ip.ttl', 'length', 'load.count', 'TCP', 'UDP',\n",
       "       'protocol.dport', 'protocol.sport'],\n",
       "      dtype='object')"
      ]
     },
     "execution_count": 5,
     "metadata": {},
     "output_type": "execute_result"
    }
   ],
   "source": [
    "processed_attack.columns"
   ]
  },
  {
   "cell_type": "code",
   "execution_count": 6,
   "id": "485b1c6e",
   "metadata": {},
   "outputs": [],
   "source": [
    "x_normal_train, x_normal_test = train_test_split(processed_normal.values, test_size=0.2, random_state=42)"
   ]
  },
  {
   "cell_type": "code",
   "execution_count": 10,
   "id": "3d6c9bc6",
   "metadata": {},
   "outputs": [
    {
     "name": "stdout",
     "output_type": "stream",
     "text": [
      "Epoch 1/20\n",
      "  28/3514 [..............................] - ETA: 13s - loss: 2101.5105"
     ]
    },
    {
     "name": "stderr",
     "output_type": "stream",
     "text": [
      "2022-03-26 14:13:08.132409: I tensorflow/core/grappler/optimizers/custom_graph_optimizer_registry.cc:113] Plugin optimizer for device_type GPU is enabled.\n"
     ]
    },
    {
     "name": "stdout",
     "output_type": "stream",
     "text": [
      "3514/3514 [==============================] - 14s 4ms/step - loss: 293.4198\n",
      "Epoch 2/20\n",
      "3514/3514 [==============================] - 14s 4ms/step - loss: 216.5764\n",
      "Epoch 3/20\n",
      "3514/3514 [==============================] - 13s 4ms/step - loss: 210.8119\n",
      "Epoch 4/20\n",
      "3514/3514 [==============================] - 13s 4ms/step - loss: 188.3361\n",
      "Epoch 5/20\n",
      "3514/3514 [==============================] - 13s 4ms/step - loss: 69.3468\n",
      "Epoch 6/20\n",
      "3514/3514 [==============================] - 13s 4ms/step - loss: 6.6371\n",
      "Epoch 7/20\n",
      "3514/3514 [==============================] - 13s 4ms/step - loss: 3.8653\n",
      "Epoch 8/20\n",
      "3514/3514 [==============================] - 13s 4ms/step - loss: 3.1404\n",
      "Epoch 9/20\n",
      "3514/3514 [==============================] - 13s 4ms/step - loss: 2.6567\n",
      "Epoch 10/20\n",
      "3514/3514 [==============================] - 13s 4ms/step - loss: 2.2001\n",
      "Epoch 11/20\n",
      "3514/3514 [==============================] - 13s 4ms/step - loss: 1.9707\n",
      "Epoch 12/20\n",
      "3514/3514 [==============================] - 13s 4ms/step - loss: 1.8897\n",
      "Epoch 13/20\n",
      "3514/3514 [==============================] - 13s 4ms/step - loss: 1.8771\n",
      "Epoch 14/20\n",
      "3514/3514 [==============================] - 13s 4ms/step - loss: 1.8370\n",
      "Epoch 15/20\n",
      "3514/3514 [==============================] - 13s 4ms/step - loss: 1.8112\n",
      "Epoch 16/20\n",
      "3514/3514 [==============================] - 13s 4ms/step - loss: 1.8059\n",
      "Epoch 17/20\n",
      "3514/3514 [==============================] - 13s 4ms/step - loss: 1.7887\n",
      "Epoch 18/20\n",
      "3514/3514 [==============================] - 13s 4ms/step - loss: 1.8174\n",
      "Epoch 19/20\n",
      "3514/3514 [==============================] - 13s 4ms/step - loss: 1.7433\n",
      "Epoch 20/20\n",
      "3514/3514 [==============================] - 13s 4ms/step - loss: 1.7183\n"
     ]
    },
    {
     "name": "stderr",
     "output_type": "stream",
     "text": [
      "2022-03-26 14:17:29.189475: W tensorflow/python/util/util.cc:368] Sets are not currently considered sequences, but this may change in the future, so consider avoiding using them.\n",
      "WARNING:absl:Found untraced functions such as re_lu_3_layer_call_fn, re_lu_3_layer_call_and_return_conditional_losses, re_lu_4_layer_call_fn, re_lu_4_layer_call_and_return_conditional_losses, re_lu_5_layer_call_fn while saving (showing 5 of 6). These functions will not be directly callable after loading.\n"
     ]
    },
    {
     "name": "stdout",
     "output_type": "stream",
     "text": [
      "INFO:tensorflow:Assets written to: inital_model/assets\n"
     ]
    },
    {
     "name": "stderr",
     "output_type": "stream",
     "text": [
      "INFO:tensorflow:Assets written to: inital_model/assets\n"
     ]
    }
   ],
   "source": [
    "from tensorflow.keras.models import Sequential\n",
    "from tensorflow.keras.layers import Dense, Activation\n",
    "\n",
    "model = Sequential()\n",
    "model.add(Dense(10, input_dim=processed_normal.values.shape[1], activation='ReLU'))\n",
    "model.add(Dense(3, activation='ReLU'))\n",
    "model.add(Dense(10, activation='ReLU'))\n",
    "model.add(Dense(processed_normal.values.shape[1]))\n",
    "model.compile(loss='mean_squared_error', optimizer='adam')\n",
    "model.fit(x_normal_train,x_normal_train,verbose=1,epochs=20)\n",
    "model.save(\"inital_model\")"
   ]
  },
  {
   "cell_type": "code",
   "execution_count": 11,
   "id": "8b0c5bef",
   "metadata": {},
   "outputs": [
    {
     "name": "stderr",
     "output_type": "stream",
     "text": [
      "2022-03-26 14:19:36.014763: I tensorflow/core/grappler/optimizers/custom_graph_optimizer_registry.cc:113] Plugin optimizer for device_type GPU is enabled.\n"
     ]
    },
    {
     "name": "stdout",
     "output_type": "stream",
     "text": [
      "1.3048381901257229\n",
      "1.2974815665012933\n"
     ]
    }
   ],
   "source": [
    "from sklearn import metrics\n",
    "pred_normal_train = model.predict(x_normal_train)\n",
    "print(np.sqrt(metrics.mean_squared_error(pred_normal_train,x_normal_train)))\n",
    "\n",
    "pred_normal_test = model.predict(x_normal_test)\n",
    "print(np.sqrt(metrics.mean_squared_error(pred_normal_test,x_normal_test)))"
   ]
  },
  {
   "cell_type": "code",
   "execution_count": 14,
   "id": "e2b2509b",
   "metadata": {},
   "outputs": [
    {
     "data": {
      "text/plain": [
       "<AxesSubplot:>"
      ]
     },
     "execution_count": 14,
     "metadata": {},
     "output_type": "execute_result"
    },
    {
     "data": {
      "image/png": "[encoded data removed]",
      "text/plain": [
       "<Figure size 432x288 with 1 Axes>"
      ]
     },
     "metadata": {
      "needs_background": "light"
     },
     "output_type": "display_data"
    }
   ],
   "source": [
    "pred_normal = model.predict(processed_normal.values)\n",
    "normal_score_list = []\n",
    "#RMSE\n",
    "for index, x in enumerate(pred_normal):\n",
    "    normal_score_list.append(np.sqrt(metrics.mean_squared_error(pred_normal[index],processed_normal.values[index])))\n",
    "\n",
    "normal_df['score'] = normal_score_list\n",
    "normal_df['score'].hist(bins = 100)"
   ]
  },
  {
   "cell_type": "code",
   "execution_count": 15,
   "id": "4e2feb04",
   "metadata": {},
   "outputs": [
    {
     "data": {
      "text/plain": [
       "<AxesSubplot:>"
      ]
     },
     "execution_count": 15,
     "metadata": {},
     "output_type": "execute_result"
    },
    {
     "data": {
      "image/png": "[encoded data removed]",
      "text/plain": [
       "<Figure size 432x288 with 1 Axes>"
      ]
     },
     "metadata": {
      "needs_background": "light"
     },
     "output_type": "display_data"
    }
   ],
   "source": [
    "pred_attack = model.predict(processed_attack.values)\n",
    "\n",
    "score_list = []\n",
    "for index, x in enumerate(pred_attack):\n",
    "    score_list.append(np.sqrt(metrics.mean_squared_error(pred_attack[index],processed_attack.values[index])))\n",
    "\n",
    "attack_df['score'] = score_list\n",
    "attack_df['score'].hist(bins = 100)"
   ]
  },
  {
   "cell_type": "code",
   "execution_count": 16,
   "id": "e08fe89a",
   "metadata": {},
   "outputs": [
    {
     "data": {
      "text/plain": [
       "<AxesSubplot:>"
      ]
     },
     "execution_count": 16,
     "metadata": {},
     "output_type": "execute_result"
    },
    {
     "data": {
      "image/png": "[encoded data removed]",
      "text/plain": [
       "<Figure size 432x288 with 1 Axes>"
      ]
     },
     "metadata": {
      "needs_background": "light"
     },
     "output_type": "display_data"
    }
   ],
   "source": [
    "nmap_df = attack_df[attack_df[\"ip.dst\"] == '89.100.107.148']\n",
    "nmap_df['score'].hist(bins = 100)"
   ]
  },
  {
   "cell_type": "code",
   "execution_count": 17,
   "id": "43b8359f",
   "metadata": {},
   "outputs": [
    {
     "data": {
      "text/plain": [
       "count    140538.000000\n",
       "mean          1.157059\n",
       "std           0.599993\n",
       "min           0.206880\n",
       "25%           1.062798\n",
       "50%           1.113349\n",
       "75%           1.307993\n",
       "max          24.797188\n",
       "Name: score, dtype: object"
      ]
     },
     "execution_count": 17,
     "metadata": {},
     "output_type": "execute_result"
    }
   ],
   "source": [
    "normal_df['score'].describe().apply(lambda x: format(x, 'f'))"
   ]
  },
  {
   "cell_type": "code",
   "execution_count": 18,
   "id": "71a837ef",
   "metadata": {},
   "outputs": [
    {
     "data": {
      "text/plain": [
       "count    1070554.000000\n",
       "mean           1.256844\n",
       "std            0.647847\n",
       "min            0.591792\n",
       "25%            1.045178\n",
       "50%            1.107527\n",
       "75%            1.158677\n",
       "max           35.773061\n",
       "Name: score, dtype: object"
      ]
     },
     "execution_count": 18,
     "metadata": {},
     "output_type": "execute_result"
    }
   ],
   "source": [
    "attack_df['score'].describe().apply(lambda x: format(x, 'f'))"
   ]
  },
  {
   "cell_type": "code",
   "execution_count": 24,
   "id": "94cad991",
   "metadata": {},
   "outputs": [
    {
     "data": {
      "text/plain": [
       "1.1490501984855284"
      ]
     },
     "execution_count": 24,
     "metadata": {},
     "output_type": "execute_result"
    }
   ],
   "source": [
    "attack_df['score'].quantile(0.71)"
   ]
  },
  {
   "cell_type": "code",
   "execution_count": null,
   "id": "9f891edf",
   "metadata": {},
   "outputs": [],
   "source": []
  },
  {
   "cell_type": "code",
   "execution_count": null,
   "id": "e7248f3f",
   "metadata": {},
   "outputs": [],
   "source": []
  }
 ],
 "metadata": {
  "kernelspec": {
   "display_name": "Python 3 (ipykernel)",
   "language": "python",
   "name": "python3"
  },
  "language_info": {
   "codemirror_mode": {
    "name": "ipython",
    "version": 3
   },
   "file_extension": ".py",
   "mimetype": "text/x-python",
   "name": "python",
   "nbconvert_exporter": "python",
   "pygments_lexer": "ipython3",
   "version": "3.9.10"
  }
 },
 "nbformat": 4,
 "nbformat_minor": 5
}

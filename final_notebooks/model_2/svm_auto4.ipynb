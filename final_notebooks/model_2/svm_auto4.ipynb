{
 "cells": [
  {
   "cell_type": "code",
   "execution_count": 1,
   "id": "b815643b",
   "metadata": {},
   "outputs": [],
   "source": [
    "import pandas as pd\n",
    "import numpy as np\n",
    "import random\n",
    "from preprocess_df import process_df\n",
    "import matplotlib.pyplot as plt\n",
    "from sklearn.model_selection import train_test_split\n",
    "from sklearn.manifold import LocallyLinearEmbedding"
   ]
  },
  {
   "cell_type": "code",
   "execution_count": 2,
   "id": "52b31491",
   "metadata": {},
   "outputs": [],
   "source": [
    "#normal_data\n",
    "normal_df = pd.read_csv('../data/normal1.csv')\n",
    "processed_normal = process_df(normal_df)\n",
    "\n",
    "# attack_data\n",
    "attack_df = pd.read_csv('../data/attack1.csv')\n",
    "processed_attack = process_df(attack_df)"
   ]
  },
  {
   "cell_type": "code",
   "execution_count": 3,
   "id": "3ba4ae41",
   "metadata": {},
   "outputs": [],
   "source": [
    "from sklearn.decomposition import TruncatedSVD\n",
    "svd = TruncatedSVD(n_components=30, n_iter=5)\n",
    "svd_normal = svd.fit_transform(processed_normal.values)\n",
    "svd_attack = svd.fit_transform(processed_attack.values)"
   ]
  },
  {
   "cell_type": "code",
   "execution_count": 4,
   "id": "6a998c7f",
   "metadata": {},
   "outputs": [],
   "source": [
    "from sklearn.model_selection import train_test_split\n",
    "\n",
    "x_normal_train, x_normal_test = train_test_split(\n",
    "    svd_normal, test_size=0.2, random_state=42)"
   ]
  },
  {
   "cell_type": "code",
   "execution_count": 6,
   "id": "7b86eadd",
   "metadata": {},
   "outputs": [
    {
     "name": "stdout",
     "output_type": "stream",
     "text": [
      "Epoch 1/30\n"
     ]
    },
    {
     "name": "stderr",
     "output_type": "stream",
     "text": [
      "2022-03-18 19:59:25.858255: W tensorflow/core/platform/profile_utils/cpu_utils.cc:128] Failed to get CPU frequency: 0 Hz\n",
      "2022-03-18 19:59:26.002919: I tensorflow/core/grappler/optimizers/custom_graph_optimizer_registry.cc:113] Plugin optimizer for device_type GPU is enabled.\n"
     ]
    },
    {
     "name": "stdout",
     "output_type": "stream",
     "text": [
      "3514/3514 [==============================] - 19s 5ms/step - loss: 0.6283\n",
      "Epoch 2/30\n",
      "3514/3514 [==============================] - 16s 5ms/step - loss: 0.4308\n",
      "Epoch 3/30\n",
      "3514/3514 [==============================] - 16s 5ms/step - loss: 0.3889\n",
      "Epoch 4/30\n",
      "3514/3514 [==============================] - 17s 5ms/step - loss: 0.3689\n",
      "Epoch 5/30\n",
      "3514/3514 [==============================] - 17s 5ms/step - loss: 0.3551\n",
      "Epoch 6/30\n",
      "3514/3514 [==============================] - 16s 5ms/step - loss: 0.3453\n",
      "Epoch 7/30\n",
      "3514/3514 [==============================] - 16s 5ms/step - loss: 0.3376\n",
      "Epoch 8/30\n",
      "3514/3514 [==============================] - 17s 5ms/step - loss: 0.3299\n",
      "Epoch 9/30\n",
      "3514/3514 [==============================] - 17s 5ms/step - loss: 0.3233\n",
      "Epoch 10/30\n",
      "3514/3514 [==============================] - 16s 5ms/step - loss: 0.3186\n",
      "Epoch 11/30\n",
      "3514/3514 [==============================] - 17s 5ms/step - loss: 0.3156\n",
      "Epoch 12/30\n",
      "3514/3514 [==============================] - 17s 5ms/step - loss: 0.3134\n",
      "Epoch 13/30\n",
      "3514/3514 [==============================] - 17s 5ms/step - loss: 0.3118\n",
      "Epoch 14/30\n",
      "3514/3514 [==============================] - 16s 5ms/step - loss: 0.3099\n",
      "Epoch 15/30\n",
      "3514/3514 [==============================] - 17s 5ms/step - loss: 0.3079\n",
      "Epoch 16/30\n",
      "3514/3514 [==============================] - 17s 5ms/step - loss: 0.3065\n",
      "Epoch 17/30\n",
      "3514/3514 [==============================] - 17s 5ms/step - loss: 0.3057\n",
      "Epoch 18/30\n",
      "3514/3514 [==============================] - 17s 5ms/step - loss: 0.3043\n",
      "Epoch 19/30\n",
      "3514/3514 [==============================] - 17s 5ms/step - loss: 0.3036\n",
      "Epoch 20/30\n",
      "3514/3514 [==============================] - 16s 5ms/step - loss: 0.3021\n",
      "Epoch 21/30\n",
      "3514/3514 [==============================] - 16s 5ms/step - loss: 0.3018\n",
      "Epoch 22/30\n",
      "3514/3514 [==============================] - 18s 5ms/step - loss: 0.3005\n",
      "Epoch 23/30\n",
      "3514/3514 [==============================] - 17s 5ms/step - loss: 0.2994\n",
      "Epoch 24/30\n",
      "3514/3514 [==============================] - 17s 5ms/step - loss: 0.2987\n",
      "Epoch 25/30\n",
      "3514/3514 [==============================] - 16s 5ms/step - loss: 0.2978\n",
      "Epoch 26/30\n",
      "3514/3514 [==============================] - 17s 5ms/step - loss: 0.2976\n",
      "Epoch 27/30\n",
      "3514/3514 [==============================] - 17s 5ms/step - loss: 0.2967\n",
      "Epoch 28/30\n",
      "3514/3514 [==============================] - 17s 5ms/step - loss: 0.2960\n",
      "Epoch 29/30\n",
      "3514/3514 [==============================] - 16s 5ms/step - loss: 0.2958\n",
      "Epoch 30/30\n",
      "3514/3514 [==============================] - 17s 5ms/step - loss: 0.2953\n"
     ]
    },
    {
     "data": {
      "text/plain": [
       "<keras.callbacks.History at 0x2a35d7f40>"
      ]
     },
     "execution_count": 6,
     "metadata": {},
     "output_type": "execute_result"
    }
   ],
   "source": [
    "# from tensorflow.keras.models import Sequential\n",
    "# from tensorflow.keras.layers import Dense, Activation\n",
    "\n",
    "# model = Sequential()\n",
    "# model.add(Dense(20, input_dim=svd_normal.shape[1], activation='relu'))\n",
    "# model.add(Dense(10, activation='relu'))\n",
    "# model.add(Dense(3, activation='relu')) # size to compress to\n",
    "# model.add(Dense(10, activation='relu'))\n",
    "# model.add(Dense(20, activation='relu'))\n",
    "# model.add(Dense(svd_normal.shape[1])) # Multiple output neurons\n",
    "# model.compile(loss='mean_squared_error', optimizer='adam')\n",
    "# model.fit(x_normal_train,x_normal_train,verbose=1,epochs=30)"
   ]
  },
  {
   "cell_type": "code",
   "execution_count": 6,
   "id": "613df462",
   "metadata": {},
   "outputs": [
    {
     "name": "stdout",
     "output_type": "stream",
     "text": [
      "Metal device set to: Apple M1 Pro\n",
      "\n",
      "systemMemory: 32.00 GB\n",
      "maxCacheSize: 10.67 GB\n",
      "\n"
     ]
    },
    {
     "name": "stderr",
     "output_type": "stream",
     "text": [
      "2022-03-26 19:18:45.833580: I tensorflow/core/common_runtime/pluggable_device/pluggable_device_factory.cc:305] Could not identify NUMA node of platform GPU ID 0, defaulting to 0. Your kernel may not have been built with NUMA support.\n",
      "2022-03-26 19:18:45.833951: I tensorflow/core/common_runtime/pluggable_device/pluggable_device_factory.cc:271] Created TensorFlow device (/job:localhost/replica:0/task:0/device:GPU:0 with 0 MB memory) -> physical PluggableDevice (device: 0, name: METAL, pci bus id: <undefined>)\n"
     ]
    }
   ],
   "source": [
    "# model.save('svd_auto4')\n",
    "import keras\n",
    "model = keras.models.load_model('svd_auto4')"
   ]
  },
  {
   "cell_type": "code",
   "execution_count": 7,
   "id": "fad288a3",
   "metadata": {},
   "outputs": [
    {
     "name": "stderr",
     "output_type": "stream",
     "text": [
      "2022-03-26 19:20:09.620941: W tensorflow/core/platform/profile_utils/cpu_utils.cc:128] Failed to get CPU frequency: 0 Hz\n",
      "2022-03-26 19:20:09.654547: I tensorflow/core/grappler/optimizers/custom_graph_optimizer_registry.cc:113] Plugin optimizer for device_type GPU is enabled.\n"
     ]
    },
    {
     "name": "stdout",
     "output_type": "stream",
     "text": [
      "0.5421778560038705\n"
     ]
    }
   ],
   "source": [
    "from sklearn import metrics\n",
    "pred_normal_train = model.predict(x_normal_train)\n",
    "print(np.sqrt(metrics.mean_squared_error(pred_normal_train,x_normal_train)))"
   ]
  },
  {
   "cell_type": "code",
   "execution_count": 8,
   "id": "5db3c7f7",
   "metadata": {},
   "outputs": [
    {
     "name": "stdout",
     "output_type": "stream",
     "text": [
      "0.54433974868041\n"
     ]
    }
   ],
   "source": [
    "pred_normal_test = model.predict(x_normal_test)\n",
    "print(np.sqrt(metrics.mean_squared_error(pred_normal_test,x_normal_test)))"
   ]
  },
  {
   "cell_type": "code",
   "execution_count": 17,
   "id": "6423a92d",
   "metadata": {},
   "outputs": [],
   "source": [
    "pred_attack = model.predict(svd_attack)\n",
    "\n",
    "score_list = []\n",
    "for index, x in enumerate(pred_attack):\n",
    "    score_list.append(np.sqrt(metrics.mean_squared_error(svd_attack[index],pred_attack[index])))\n",
    "\n",
    "attack_df['score'] = score_list"
   ]
  },
  {
   "cell_type": "code",
   "execution_count": 18,
   "id": "5b1c03c3",
   "metadata": {},
   "outputs": [
    {
     "data": {
      "text/plain": [
       "<AxesSubplot:>"
      ]
     },
     "execution_count": 18,
     "metadata": {},
     "output_type": "execute_result"
    },
    {
     "data": {
      "image/png": "[encoded data removed]",
      "text/plain": [
       "<Figure size 432x288 with 1 Axes>"
      ]
     },
     "metadata": {
      "needs_background": "light"
     },
     "output_type": "display_data"
    }
   ],
   "source": [
    "attack_df['score'].hist(bins = 100)"
   ]
  },
  {
   "cell_type": "code",
   "execution_count": 20,
   "id": "e9a26aec",
   "metadata": {},
   "outputs": [],
   "source": [
    "nmap_df = attack_df[attack_df[\"ip.dst\"] == '89.100.107.148']"
   ]
  },
  {
   "cell_type": "code",
   "execution_count": 21,
   "id": "2b0b3f32",
   "metadata": {},
   "outputs": [
    {
     "data": {
      "text/plain": [
       "<AxesSubplot:>"
      ]
     },
     "execution_count": 21,
     "metadata": {},
     "output_type": "execute_result"
    },
    {
     "data": {
      "image/png": "[encoded data removed]",
      "text/plain": [
       "<Figure size 432x288 with 1 Axes>"
      ]
     },
     "metadata": {
      "needs_background": "light"
     },
     "output_type": "display_data"
    }
   ],
   "source": [
    "nmap_df['score'].hist(bins = 100)"
   ]
  },
  {
   "cell_type": "code",
   "execution_count": 22,
   "id": "899b3023",
   "metadata": {},
   "outputs": [
    {
     "data": {
      "text/plain": [
       "1.655222442863755"
      ]
     },
     "execution_count": 22,
     "metadata": {},
     "output_type": "execute_result"
    }
   ],
   "source": [
    "nmap_df['score'].min()"
   ]
  },
  {
   "cell_type": "code",
   "execution_count": 16,
   "id": "ce247819",
   "metadata": {},
   "outputs": [
    {
     "data": {
      "text/plain": [
       "<AxesSubplot:>"
      ]
     },
     "execution_count": 16,
     "metadata": {},
     "output_type": "execute_result"
    },
    {
     "data": {
      "image/png": "[encoded data removed]",
      "text/plain": [
       "<Figure size 432x288 with 1 Axes>"
      ]
     },
     "metadata": {
      "needs_background": "light"
     },
     "output_type": "display_data"
    }
   ],
   "source": [
    "pred_normal = model.predict(svd_normal)\n",
    "normal_score_list = []\n",
    "#RMSE\n",
    "for index, x in enumerate(pred_normal):\n",
    "    normal_score_list.append(np.sqrt(metrics.mean_squared_error(svd_normal[index], pred_normal[index])))\n",
    "\n",
    "normal_df['score'] = normal_score_list\n",
    "normal_df['score'].hist(bins = 100)"
   ]
  },
  {
   "cell_type": "code",
   "execution_count": 23,
   "id": "3abd22c7",
   "metadata": {},
   "outputs": [
    {
     "data": {
      "text/plain": [
       "count    1070554.000000\n",
       "mean           1.167237\n",
       "std            0.607322\n",
       "min            0.652446\n",
       "25%            0.863757\n",
       "50%            0.949816\n",
       "75%            1.235730\n",
       "max           10.422043\n",
       "Name: score, dtype: object"
      ]
     },
     "execution_count": 23,
     "metadata": {},
     "output_type": "execute_result"
    }
   ],
   "source": [
    "attack_df['score'].describe().apply(lambda x: format(x, 'f'))"
   ]
  },
  {
   "cell_type": "code",
   "execution_count": 24,
   "id": "b0053cf1",
   "metadata": {},
   "outputs": [
    {
     "data": {
      "text/plain": [
       "count    41824.000000\n",
       "mean         1.834342\n",
       "std          0.342682\n",
       "min          1.655222\n",
       "25%          1.658488\n",
       "50%          1.666269\n",
       "75%          1.671602\n",
       "max          5.833397\n",
       "Name: score, dtype: object"
      ]
     },
     "execution_count": 24,
     "metadata": {},
     "output_type": "execute_result"
    }
   ],
   "source": [
    "nmap_df['score'].describe().apply(lambda x: format(x, 'f'))"
   ]
  },
  {
   "cell_type": "code",
   "execution_count": 26,
   "id": "c3f01268",
   "metadata": {},
   "outputs": [],
   "source": [
    "normal_wordpress = attack_df[attack_df[\"ip.dst\"] == '89.100.107.147']"
   ]
  },
  {
   "cell_type": "code",
   "execution_count": 27,
   "id": "c8992726",
   "metadata": {},
   "outputs": [
    {
     "data": {
      "text/plain": [
       "<AxesSubplot:>"
      ]
     },
     "execution_count": 27,
     "metadata": {},
     "output_type": "execute_result"
    },
    {
     "data": {
      "image/png": "[encoded data removed]",
      "text/plain": [
       "<Figure size 432x288 with 1 Axes>"
      ]
     },
     "metadata": {
      "needs_background": "light"
     },
     "output_type": "display_data"
    }
   ],
   "source": [
    "normal_wordpress['score'].hist(bins=100)"
   ]
  },
  {
   "cell_type": "code",
   "execution_count": null,
   "id": "806d39b8",
   "metadata": {},
   "outputs": [],
   "source": [
    "\n"
   ]
  },
  {
   "cell_type": "code",
   "execution_count": null,
   "id": "1a475ff2",
   "metadata": {},
   "outputs": [],
   "source": []
  }
 ],
 "metadata": {
  "kernelspec": {
   "display_name": "Python 3 (ipykernel)",
   "language": "python",
   "name": "python3"
  },
  "language_info": {
   "codemirror_mode": {
    "name": "ipython",
    "version": 3
   },
   "file_extension": ".py",
   "mimetype": "text/x-python",
   "name": "python",
   "nbconvert_exporter": "python",
   "pygments_lexer": "ipython3",
   "version": "3.9.10"
  }
 },
 "nbformat": 4,
 "nbformat_minor": 5
}
